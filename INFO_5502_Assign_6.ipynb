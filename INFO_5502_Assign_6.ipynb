{
  "nbformat": 4,
  "nbformat_minor": 0,
  "metadata": {
    "colab": {
      "name": "INFO 5502_Assign_6.ipynb",
      "provenance": [],
      "collapsed_sections": [],
      "authorship_tag": "ABX9TyP59zjwSFmsq1uyTXgu285z",
      "include_colab_link": true
    },
    "kernelspec": {
      "name": "python3",
      "display_name": "Python 3"
    },
    "language_info": {
      "name": "python"
    }
  },
  "cells": [
    {
      "cell_type": "markdown",
      "metadata": {
        "id": "view-in-github",
        "colab_type": "text"
      },
      "source": [
        "<a href=\"https://colab.research.google.com/github/Kate5-7-2021/INFO-5502-SU2021/blob/main/INFO_5502_Assign_6.ipynb\" target=\"_parent\"><img src=\"https://colab.research.google.com/assets/colab-badge.svg\" alt=\"Open In Colab\"/></a>"
      ]
    },
    {
      "cell_type": "markdown",
      "metadata": {
        "id": "qkEmL9FVhZe5"
      },
      "source": [
        "#**Homework 10: Central Limit Theorem**"
      ]
    },
    {
      "cell_type": "code",
      "metadata": {
        "id": "eBlRoxLHBEka"
      },
      "source": [
        " #Don't change this cell; just run it. \n",
        "\n",
        "import numpy as np\n",
        "from datascience import *\n",
        "\n",
        "# These lines do some fancy plotting magic.\n",
        "import matplotlib\n",
        "%matplotlib inline\n",
        "import matplotlib.pyplot as plt\n",
        "plt.style.use('fivethirtyeight')\n",
        "import warnings\n",
        "warnings.simplefilter('ignore', FutureWarning)\n",
        "\n",
        "from client.api.notebook import Notebook\n",
        "ok = Notebook('hw10.ok')"
      ],
      "execution_count": 13,
      "outputs": []
    },
    {
      "cell_type": "code",
      "metadata": {
        "id": "1BFDotWQg4eX"
      },
      "source": [
        "import pandas as pd"
      ],
      "execution_count": 14,
      "outputs": []
    },
    {
      "cell_type": "code",
      "metadata": {
        "id": "rPRlf7X2BEhN",
        "colab": {
          "base_uri": "https://localhost:8080/",
          "height": 642
        },
        "outputId": "e68b1479-65ff-4d1d-c9b9-e54d23bbee30"
      },
      "source": [
        "#df = pd.read_csv (r'/content/restaurant_inspection_scores.txt')\n",
        "df = pd.read_csv (r'/content/restaurant_inspection_scores.csv')\n",
        "df"
      ],
      "execution_count": 15,
      "outputs": [
        {
          "output_type": "execute_result",
          "data": {
            "text/html": [
              "<div>\n",
              "<style scoped>\n",
              "    .dataframe tbody tr th:only-of-type {\n",
              "        vertical-align: middle;\n",
              "    }\n",
              "\n",
              "    .dataframe tbody tr th {\n",
              "        vertical-align: top;\n",
              "    }\n",
              "\n",
              "    .dataframe thead th {\n",
              "        text-align: right;\n",
              "    }\n",
              "</style>\n",
              "<table border=\"1\" class=\"dataframe\">\n",
              "  <thead>\n",
              "    <tr style=\"text-align: right;\">\n",
              "      <th></th>\n",
              "      <th>Restaurant Name</th>\n",
              "      <th>Zip Code</th>\n",
              "      <th>Inspection Date</th>\n",
              "      <th>Score</th>\n",
              "      <th>Address</th>\n",
              "      <th>Facility ID</th>\n",
              "      <th>Process Description</th>\n",
              "    </tr>\n",
              "  </thead>\n",
              "  <tbody>\n",
              "    <tr>\n",
              "      <th>0</th>\n",
              "      <td>6M Grocery</td>\n",
              "      <td>78652</td>\n",
              "      <td>01/17/2014</td>\n",
              "      <td>90</td>\n",
              "      <td>805 W FM 1626 RD\\nAUSTIN, TX 78652\\n</td>\n",
              "      <td>2803436</td>\n",
              "      <td>Routine Inspection</td>\n",
              "    </tr>\n",
              "    <tr>\n",
              "      <th>1</th>\n",
              "      <td>6M Grocery</td>\n",
              "      <td>78652</td>\n",
              "      <td>04/27/2015</td>\n",
              "      <td>93</td>\n",
              "      <td>805 W FM 1626 RD\\nAUSTIN, TX 78652\\n</td>\n",
              "      <td>2803436</td>\n",
              "      <td>Routine Inspection</td>\n",
              "    </tr>\n",
              "    <tr>\n",
              "      <th>2</th>\n",
              "      <td>6M Grocery</td>\n",
              "      <td>78652</td>\n",
              "      <td>05/02/2016</td>\n",
              "      <td>88</td>\n",
              "      <td>805 W FM 1626 RD\\nAUSTIN, TX 78652\\n</td>\n",
              "      <td>2803436</td>\n",
              "      <td>Routine Inspection</td>\n",
              "    </tr>\n",
              "    <tr>\n",
              "      <th>3</th>\n",
              "      <td>6M Grocery</td>\n",
              "      <td>78652</td>\n",
              "      <td>07/25/2014</td>\n",
              "      <td>100</td>\n",
              "      <td>805 W FM 1626 RD\\nAUSTIN, TX 78652\\n</td>\n",
              "      <td>2803436</td>\n",
              "      <td>Routine Inspection</td>\n",
              "    </tr>\n",
              "    <tr>\n",
              "      <th>4</th>\n",
              "      <td>6M Grocery</td>\n",
              "      <td>78652</td>\n",
              "      <td>10/21/2015</td>\n",
              "      <td>87</td>\n",
              "      <td>805 W FM 1626 RD\\nAUSTIN, TX 78652\\n</td>\n",
              "      <td>2803436</td>\n",
              "      <td>Routine Inspection</td>\n",
              "    </tr>\n",
              "    <tr>\n",
              "      <th>...</th>\n",
              "      <td>...</td>\n",
              "      <td>...</td>\n",
              "      <td>...</td>\n",
              "      <td>...</td>\n",
              "      <td>...</td>\n",
              "      <td>...</td>\n",
              "      <td>...</td>\n",
              "    </tr>\n",
              "    <tr>\n",
              "      <th>24362</th>\n",
              "      <td>Yogurt Planet</td>\n",
              "      <td>78758</td>\n",
              "      <td>02/23/2016</td>\n",
              "      <td>97</td>\n",
              "      <td>3220 FEATHERGRASS CT\\nAUSTIN, TX 78758\\n(30.39...</td>\n",
              "      <td>10363369</td>\n",
              "      <td>Routine Inspection</td>\n",
              "    </tr>\n",
              "    <tr>\n",
              "      <th>24363</th>\n",
              "      <td>Zavala Elementary</td>\n",
              "      <td>78702</td>\n",
              "      <td>09/02/2015</td>\n",
              "      <td>97</td>\n",
              "      <td>310 ROBERT T MARTINEZ JR ST\\nAUSTIN, TX 78702\\...</td>\n",
              "      <td>2800300</td>\n",
              "      <td>Routine Inspection</td>\n",
              "    </tr>\n",
              "    <tr>\n",
              "      <th>24364</th>\n",
              "      <td>Yogurt Planet, LLC</td>\n",
              "      <td>78751</td>\n",
              "      <td>08/24/2015</td>\n",
              "      <td>100</td>\n",
              "      <td>4601 N LAMAR BLVD Bunit 502\\nAUSTIN, TX 78751\\...</td>\n",
              "      <td>10197585</td>\n",
              "      <td>Routine Inspection</td>\n",
              "    </tr>\n",
              "    <tr>\n",
              "      <th>24365</th>\n",
              "      <td>Zen Restaurant</td>\n",
              "      <td>78705</td>\n",
              "      <td>02/01/2016</td>\n",
              "      <td>87</td>\n",
              "      <td>3423 GUADALUPE ST\\nAUSTIN, TX 78705\\n(30.30109...</td>\n",
              "      <td>2802179</td>\n",
              "      <td>Routine Inspection</td>\n",
              "    </tr>\n",
              "    <tr>\n",
              "      <th>24366</th>\n",
              "      <td>Xian Sushi and Noodle</td>\n",
              "      <td>78723</td>\n",
              "      <td>11/05/2015</td>\n",
              "      <td>74</td>\n",
              "      <td>1801 E 51ST ST Bldg C\\nAUSTIN, TX 78723\\n(30.3...</td>\n",
              "      <td>11061849</td>\n",
              "      <td>Routine Inspection</td>\n",
              "    </tr>\n",
              "  </tbody>\n",
              "</table>\n",
              "<p>24367 rows × 7 columns</p>\n",
              "</div>"
            ],
            "text/plain": [
              "             Restaurant Name Zip Code  ... Facility ID  Process Description\n",
              "0                 6M Grocery    78652  ...     2803436   Routine Inspection\n",
              "1                 6M Grocery    78652  ...     2803436   Routine Inspection\n",
              "2                 6M Grocery    78652  ...     2803436   Routine Inspection\n",
              "3                 6M Grocery    78652  ...     2803436   Routine Inspection\n",
              "4                 6M Grocery    78652  ...     2803436   Routine Inspection\n",
              "...                      ...      ...  ...         ...                  ...\n",
              "24362          Yogurt Planet    78758  ...    10363369   Routine Inspection\n",
              "24363      Zavala Elementary    78702  ...     2800300   Routine Inspection\n",
              "24364     Yogurt Planet, LLC    78751  ...    10197585   Routine Inspection\n",
              "24365         Zen Restaurant    78705  ...     2802179   Routine Inspection\n",
              "24366  Xian Sushi and Noodle    78723  ...    11061849   Routine Inspection\n",
              "\n",
              "[24367 rows x 7 columns]"
            ]
          },
          "metadata": {
            "tags": []
          },
          "execution_count": 15
        }
      ]
    },
    {
      "cell_type": "code",
      "metadata": {
        "id": "Q5xQ4EGPBEdQ",
        "colab": {
          "base_uri": "https://localhost:8080/",
          "height": 420
        },
        "outputId": "33409dde-cb00-437e-e11a-2e2ee1359e12"
      },
      "source": [
        "#df_united = pd.read_csv (r'/content/united_summer2015.txt')\n",
        "df_united = pd.read_csv (r'/content/united_summer2015.csv')\n",
        "df_united"
      ],
      "execution_count": 16,
      "outputs": [
        {
          "output_type": "execute_result",
          "data": {
            "text/html": [
              "<div>\n",
              "<style scoped>\n",
              "    .dataframe tbody tr th:only-of-type {\n",
              "        vertical-align: middle;\n",
              "    }\n",
              "\n",
              "    .dataframe tbody tr th {\n",
              "        vertical-align: top;\n",
              "    }\n",
              "\n",
              "    .dataframe thead th {\n",
              "        text-align: right;\n",
              "    }\n",
              "</style>\n",
              "<table border=\"1\" class=\"dataframe\">\n",
              "  <thead>\n",
              "    <tr style=\"text-align: right;\">\n",
              "      <th></th>\n",
              "      <th>Date</th>\n",
              "      <th>Flight Number</th>\n",
              "      <th>Destination</th>\n",
              "      <th>Delay</th>\n",
              "    </tr>\n",
              "  </thead>\n",
              "  <tbody>\n",
              "    <tr>\n",
              "      <th>0</th>\n",
              "      <td>6/1/15</td>\n",
              "      <td>73</td>\n",
              "      <td>HNL</td>\n",
              "      <td>257</td>\n",
              "    </tr>\n",
              "    <tr>\n",
              "      <th>1</th>\n",
              "      <td>6/1/15</td>\n",
              "      <td>217</td>\n",
              "      <td>EWR</td>\n",
              "      <td>28</td>\n",
              "    </tr>\n",
              "    <tr>\n",
              "      <th>2</th>\n",
              "      <td>6/1/15</td>\n",
              "      <td>237</td>\n",
              "      <td>STL</td>\n",
              "      <td>-3</td>\n",
              "    </tr>\n",
              "    <tr>\n",
              "      <th>3</th>\n",
              "      <td>6/1/15</td>\n",
              "      <td>250</td>\n",
              "      <td>SAN</td>\n",
              "      <td>0</td>\n",
              "    </tr>\n",
              "    <tr>\n",
              "      <th>4</th>\n",
              "      <td>6/1/15</td>\n",
              "      <td>267</td>\n",
              "      <td>PHL</td>\n",
              "      <td>64</td>\n",
              "    </tr>\n",
              "    <tr>\n",
              "      <th>...</th>\n",
              "      <td>...</td>\n",
              "      <td>...</td>\n",
              "      <td>...</td>\n",
              "      <td>...</td>\n",
              "    </tr>\n",
              "    <tr>\n",
              "      <th>13820</th>\n",
              "      <td>8/31/15</td>\n",
              "      <td>1978</td>\n",
              "      <td>LAS</td>\n",
              "      <td>-4</td>\n",
              "    </tr>\n",
              "    <tr>\n",
              "      <th>13821</th>\n",
              "      <td>8/31/15</td>\n",
              "      <td>1993</td>\n",
              "      <td>IAD</td>\n",
              "      <td>8</td>\n",
              "    </tr>\n",
              "    <tr>\n",
              "      <th>13822</th>\n",
              "      <td>8/31/15</td>\n",
              "      <td>1994</td>\n",
              "      <td>ORD</td>\n",
              "      <td>3</td>\n",
              "    </tr>\n",
              "    <tr>\n",
              "      <th>13823</th>\n",
              "      <td>8/31/15</td>\n",
              "      <td>2000</td>\n",
              "      <td>PHX</td>\n",
              "      <td>-1</td>\n",
              "    </tr>\n",
              "    <tr>\n",
              "      <th>13824</th>\n",
              "      <td>8/31/15</td>\n",
              "      <td>2013</td>\n",
              "      <td>EWR</td>\n",
              "      <td>-2</td>\n",
              "    </tr>\n",
              "  </tbody>\n",
              "</table>\n",
              "<p>13825 rows × 4 columns</p>\n",
              "</div>"
            ],
            "text/plain": [
              "          Date  Flight Number Destination  Delay\n",
              "0       6/1/15             73         HNL    257\n",
              "1       6/1/15            217         EWR     28\n",
              "2       6/1/15            237         STL     -3\n",
              "3       6/1/15            250         SAN      0\n",
              "4       6/1/15            267         PHL     64\n",
              "...        ...            ...         ...    ...\n",
              "13820  8/31/15           1978         LAS     -4\n",
              "13821  8/31/15           1993         IAD      8\n",
              "13822  8/31/15           1994         ORD      3\n",
              "13823  8/31/15           2000         PHX     -1\n",
              "13824  8/31/15           2013         EWR     -2\n",
              "\n",
              "[13825 rows x 4 columns]"
            ]
          },
          "metadata": {
            "tags": []
          },
          "execution_count": 16
        }
      ]
    },
    {
      "cell_type": "code",
      "metadata": {
        "id": "KmmUzjaHjAIS"
      },
      "source": [
        "#df.to_csv (r'/content/restaurant_inspection_scores.csv', index=None)"
      ],
      "execution_count": 17,
      "outputs": []
    },
    {
      "cell_type": "code",
      "metadata": {
        "id": "6hF3fpAvjbpD"
      },
      "source": [
        "#df_united.to_csv (r'/content/united_summer2015.csv', index=None)"
      ],
      "execution_count": 18,
      "outputs": []
    },
    {
      "cell_type": "markdown",
      "metadata": {
        "id": "_GpvLfJiiLkY"
      },
      "source": [
        "##**1. The Bootstrap and The Normal Curve**"
      ]
    },
    {
      "cell_type": "markdown",
      "metadata": {
        "id": "YNICMTYjiRr9"
      },
      "source": [
        "In this exercise, we will explore a dataset that includes the safety inspection scores for restaurants in the city of Austin, Texas. We will be interested in determining the average restaurant score for the city from a random sample of the scores; the average restaurant score is out of 100. We'll compare two methods for computing a confidence interval for that quantity: the bootstrap resampling method, and an approximation based on the Central Limit Theorem."
      ]
    },
    {
      "cell_type": "code",
      "metadata": {
        "id": "XGTK3GbsBEZ1",
        "colab": {
          "base_uri": "https://localhost:8080/",
          "height": 389
        },
        "outputId": "6639b30f-3839-433f-86e0-cb5c12d594c9"
      },
      "source": [
        "# Just run this cell.\n",
        "pop_restaurants = Table.read_table('/content/restaurant_inspection_scores.csv').drop('Facility ID','Process Description')\n",
        "pop_restaurants\n"
      ],
      "execution_count": 19,
      "outputs": [
        {
          "output_type": "execute_result",
          "data": {
            "text/html": [
              "<table border=\"1\" class=\"dataframe\">\n",
              "    <thead>\n",
              "        <tr>\n",
              "            <th>Restaurant Name</th> <th>Zip Code</th> <th>Inspection Date</th> <th>Score</th> <th>Address</th>\n",
              "        </tr>\n",
              "    </thead>\n",
              "    <tbody>\n",
              "        <tr>\n",
              "            <td>6M Grocery     </td> <td>78652   </td> <td>01/17/2014     </td> <td>90   </td> <td>805 W FM 1626 RD\n",
              "AUSTIN, TX 78652\n",
              "     </td>\n",
              "        </tr>\n",
              "        <tr>\n",
              "            <td>6M Grocery     </td> <td>78652   </td> <td>04/27/2015     </td> <td>93   </td> <td>805 W FM 1626 RD\n",
              "AUSTIN, TX 78652\n",
              "     </td>\n",
              "        </tr>\n",
              "        <tr>\n",
              "            <td>6M Grocery     </td> <td>78652   </td> <td>05/02/2016     </td> <td>88   </td> <td>805 W FM 1626 RD\n",
              "AUSTIN, TX 78652\n",
              "     </td>\n",
              "        </tr>\n",
              "        <tr>\n",
              "            <td>6M Grocery     </td> <td>78652   </td> <td>07/25/2014     </td> <td>100  </td> <td>805 W FM 1626 RD\n",
              "AUSTIN, TX 78652\n",
              "     </td>\n",
              "        </tr>\n",
              "        <tr>\n",
              "            <td>6M Grocery     </td> <td>78652   </td> <td>10/21/2015     </td> <td>87   </td> <td>805 W FM 1626 RD\n",
              "AUSTIN, TX 78652\n",
              "     </td>\n",
              "        </tr>\n",
              "        <tr>\n",
              "            <td>6M Grocery     </td> <td>78652   </td> <td>12/15/2014     </td> <td>93   </td> <td>805 W FM 1626 RD\n",
              "AUSTIN, TX 78652\n",
              "     </td>\n",
              "        </tr>\n",
              "        <tr>\n",
              "            <td>7 Eleven #36575</td> <td>78660   </td> <td>01/25/2016     </td> <td>92   </td> <td>15829 N IH 35 SVRD NB\n",
              "AUSTIN, TX 78660\n",
              "</td>\n",
              "        </tr>\n",
              "        <tr>\n",
              "            <td>7 Eleven #36575</td> <td>78660   </td> <td>03/05/2015     </td> <td>86   </td> <td>15829 N IH 35 SVRD NB\n",
              "AUSTIN, TX 78660\n",
              "</td>\n",
              "        </tr>\n",
              "        <tr>\n",
              "            <td>7 Eleven #36575</td> <td>78660   </td> <td>03/14/2014     </td> <td>93   </td> <td>15829 N IH 35 SVRD NB\n",
              "AUSTIN, TX 78660\n",
              "</td>\n",
              "        </tr>\n",
              "        <tr>\n",
              "            <td>7 Eleven #36575</td> <td>78660   </td> <td>07/27/2015     </td> <td>97   </td> <td>15829 N IH 35 SVRD NB\n",
              "AUSTIN, TX 78660\n",
              "</td>\n",
              "        </tr>\n",
              "    </tbody>\n",
              "</table>\n",
              "<p>... (24357 rows omitted)</p>"
            ],
            "text/plain": [
              "Restaurant Name | Zip Code | Inspection Date | Score | Address\n",
              "6M Grocery      | 78652    | 01/17/2014      | 90    | 805 W FM 1626 RD\n",
              "AUSTIN, TX 78652\n",
              "6M Grocery      | 78652    | 04/27/2015      | 93    | 805 W FM 1626 RD\n",
              "AUSTIN, TX 78652\n",
              "6M Grocery      | 78652    | 05/02/2016      | 88    | 805 W FM 1626 RD\n",
              "AUSTIN, TX 78652\n",
              "6M Grocery      | 78652    | 07/25/2014      | 100   | 805 W FM 1626 RD\n",
              "AUSTIN, TX 78652\n",
              "6M Grocery      | 78652    | 10/21/2015      | 87    | 805 W FM 1626 RD\n",
              "AUSTIN, TX 78652\n",
              "6M Grocery      | 78652    | 12/15/2014      | 93    | 805 W FM 1626 RD\n",
              "AUSTIN, TX 78652\n",
              "7 Eleven #36575 | 78660    | 01/25/2016      | 92    | 15829 N IH 35 SVRD NB\n",
              "AUSTIN, TX 78660\n",
              "7 Eleven #36575 | 78660    | 03/05/2015      | 86    | 15829 N IH 35 SVRD NB\n",
              "AUSTIN, TX 78660\n",
              "7 Eleven #36575 | 78660    | 03/14/2014      | 93    | 15829 N IH 35 SVRD NB\n",
              "AUSTIN, TX 78660\n",
              "7 Eleven #36575 | 78660    | 07/27/2015      | 97    | 15829 N IH 35 SVRD NB\n",
              "AUSTIN, TX 78660\n",
              "... (24357 rows omitted)"
            ]
          },
          "metadata": {
            "tags": []
          },
          "execution_count": 19
        }
      ]
    },
    {
      "cell_type": "code",
      "metadata": {
        "id": "Lti_tLsTBEV9",
        "colab": {
          "base_uri": "https://localhost:8080/",
          "height": 301
        },
        "outputId": "c645052e-5339-46a8-8030-f8d435d3cd99"
      },
      "source": [
        "#plot a histogram of the scores from pop_restaurants\n",
        "pop_restaurants.hist('Score')"
      ],
      "execution_count": 20,
      "outputs": [
        {
          "output_type": "display_data",
          "data": {
            "image/png": "[encoded data removed]",
            "text/plain": [
              "<Figure size 432x288 with 1 Axes>"
            ]
          },
          "metadata": {
            "tags": []
          }
        }
      ]
    },
    {
      "cell_type": "code",
      "metadata": {
        "colab": {
          "base_uri": "https://localhost:8080/",
          "height": 0
        },
        "id": "3N5gv1ylknob",
        "outputId": "5227647a-efa8-4407-c45b-0807562b2046"
      },
      "source": [
        "#population mean\n",
        "pop_mean = np.mean(pop_restaurants.column('Score'))\n",
        "pop_mean"
      ],
      "execution_count": 21,
      "outputs": [
        {
          "output_type": "execute_result",
          "data": {
            "text/plain": [
              "91.40706693478886"
            ]
          },
          "metadata": {
            "tags": []
          },
          "execution_count": 21
        }
      ]
    },
    {
      "cell_type": "code",
      "metadata": {
        "colab": {
          "base_uri": "https://localhost:8080/",
          "height": 577
        },
        "id": "Wdp0O-NMknjh",
        "outputId": "bbca9ed7-a34d-49a9-aa0a-b3fc403bd551"
      },
      "source": [
        "#random sample of 100 restaurant inspections, called restaurant_sample\n",
        "#using this sample to estimate the population mean\n",
        "restaurant_sample = pop_restaurants.sample(100, with_replacement=False)\n",
        "restaurant_sample"
      ],
      "execution_count": 22,
      "outputs": [
        {
          "output_type": "execute_result",
          "data": {
            "text/html": [
              "<table border=\"1\" class=\"dataframe\">\n",
              "    <thead>\n",
              "        <tr>\n",
              "            <th>Restaurant Name</th> <th>Zip Code</th> <th>Inspection Date</th> <th>Score</th> <th>Address</th>\n",
              "        </tr>\n",
              "    </thead>\n",
              "    <tbody>\n",
              "        <tr>\n",
              "            <td>Popeye's Chicken and Biscuits         </td> <td>78745   </td> <td>02/24/2015     </td> <td>97   </td> <td>111 W WILLIAM CANNON DR\n",
              "AUSTIN, TX 78745\n",
              "(30.193122, -97 ...</td>\n",
              "        </tr>\n",
              "        <tr>\n",
              "            <td>Floyd's Coffee, Market, Cafe          </td> <td>78704   </td> <td>08/28/2014     </td> <td>82   </td> <td>301 S CONGRESS AVE Unit 105\n",
              "AUSTIN, TX 78704\n",
              "(30.259037, ...</td>\n",
              "        </tr>\n",
              "        <tr>\n",
              "            <td>Dragon Mart                           </td> <td>78705   </td> <td>06/29/2016     </td> <td>91   </td> <td>3201 N LAMAR BLVD\n",
              "AUSTIN, TX 78705\n",
              "(30.301701, -97.74533)   </td>\n",
              "        </tr>\n",
              "        <tr>\n",
              "            <td>JR's Tacos                            </td> <td>78758   </td> <td>04/29/2015     </td> <td>97   </td> <td>1921 CEDAR BEND DR Bldg C\n",
              "AUSTIN, TX 78758\n",
              "(30.408523, - ...</td>\n",
              "        </tr>\n",
              "        <tr>\n",
              "            <td>Americas Best Value Inn - South Austin</td> <td>78741   </td> <td>12/22/2015     </td> <td>97   </td> <td>2915 S IH 35 SVRD NB\n",
              "AUSTIN, TX 78741\n",
              "(30.227177, -97.74 ...</td>\n",
              "        </tr>\n",
              "        <tr>\n",
              "            <td>Austin's Pizza #23                    </td> <td>78731   </td> <td>09/06/2016     </td> <td>91   </td> <td>3637 FAR WEST BLVD\n",
              "AUSTIN, TX 78731\n",
              "(30.354762, -97.756107) </td>\n",
              "        </tr>\n",
              "        <tr>\n",
              "            <td>Dunkin Donuts                         </td> <td>78748   </td> <td>09/30/2016     </td> <td>98   </td> <td>401 W SLAUGHTER LN\n",
              "AUSTIN, TX 78748\n",
              "(30.169511, -97.796192) </td>\n",
              "        </tr>\n",
              "        <tr>\n",
              "            <td>Lake Travis High School               </td> <td>78738   </td> <td>08/26/2014     </td> <td>100  </td> <td>3322 S FM 620 RD\n",
              "LAKEWAY, TX 78738\n",
              "(30.327505, -97.964304)  </td>\n",
              "        </tr>\n",
              "        <tr>\n",
              "            <td>Open Door Preschool-East              </td> <td>78722   </td> <td>06/29/2016     </td> <td>93   </td> <td>3804 CHERRYWOOD RD\n",
              "AUSTIN, TX 78722\n",
              "(30.291414, -97.713805) </td>\n",
              "        </tr>\n",
              "        <tr>\n",
              "            <td>Little China Restaurant               </td> <td>78758   </td> <td>03/12/2014     </td> <td>96   </td> <td>1921 CEDAR BEND DR Bunit 101\n",
              "AUSTIN, TX 78758\n",
              "(30.408523 ...</td>\n",
              "        </tr>\n",
              "    </tbody>\n",
              "</table>\n",
              "<p>... (90 rows omitted)</p>"
            ],
            "text/plain": [
              "Restaurant Name                        | Zip Code | Inspection Date | Score | Address\n",
              "Popeye's Chicken and Biscuits          | 78745    | 02/24/2015      | 97    | 111 W WILLIAM CANNON DR\n",
              "AUSTIN, TX 78745\n",
              "(30.193122, -97 ...\n",
              "Floyd's Coffee, Market, Cafe           | 78704    | 08/28/2014      | 82    | 301 S CONGRESS AVE Unit 105\n",
              "AUSTIN, TX 78704\n",
              "(30.259037, ...\n",
              "Dragon Mart                            | 78705    | 06/29/2016      | 91    | 3201 N LAMAR BLVD\n",
              "AUSTIN, TX 78705\n",
              "(30.301701, -97.74533)\n",
              "JR's Tacos                             | 78758    | 04/29/2015      | 97    | 1921 CEDAR BEND DR Bldg C\n",
              "AUSTIN, TX 78758\n",
              "(30.408523, - ...\n",
              "Americas Best Value Inn - South Austin | 78741    | 12/22/2015      | 97    | 2915 S IH 35 SVRD NB\n",
              "AUSTIN, TX 78741\n",
              "(30.227177, -97.74 ...\n",
              "Austin's Pizza #23                     | 78731    | 09/06/2016      | 91    | 3637 FAR WEST BLVD\n",
              "AUSTIN, TX 78731\n",
              "(30.354762, -97.756107)\n",
              "Dunkin Donuts                          | 78748    | 09/30/2016      | 98    | 401 W SLAUGHTER LN\n",
              "AUSTIN, TX 78748\n",
              "(30.169511, -97.796192)\n",
              "Lake Travis High School                | 78738    | 08/26/2014      | 100   | 3322 S FM 620 RD\n",
              "LAKEWAY, TX 78738\n",
              "(30.327505, -97.964304)\n",
              "Open Door Preschool-East               | 78722    | 06/29/2016      | 93    | 3804 CHERRYWOOD RD\n",
              "AUSTIN, TX 78722\n",
              "(30.291414, -97.713805)\n",
              "Little China Restaurant                | 78758    | 03/12/2014      | 96    | 1921 CEDAR BEND DR Bunit 101\n",
              "AUSTIN, TX 78758\n",
              "(30.408523 ...\n",
              "... (90 rows omitted)"
            ]
          },
          "metadata": {
            "tags": []
          },
          "execution_count": 22
        }
      ]
    },
    {
      "cell_type": "code",
      "metadata": {
        "colab": {
          "base_uri": "https://localhost:8080/",
          "height": 301
        },
        "id": "Z9XD026fkngk",
        "outputId": "f60f3b17-5e67-4176-db09-4a761f062870"
      },
      "source": [
        "#plot a histogram of the sample scores from restaurant_sample\n",
        "restaurant_sample.hist('Score')"
      ],
      "execution_count": 23,
      "outputs": [
        {
          "output_type": "display_data",
          "data": {
            "image/png": "[encoded data removed]",
            "text/plain": [
              "<Figure size 432x288 with 1 Axes>"
            ]
          },
          "metadata": {
            "tags": []
          }
        }
      ]
    },
    {
      "cell_type": "code",
      "metadata": {
        "colab": {
          "base_uri": "https://localhost:8080/",
          "height": 0
        },
        "id": "lBJzz7AykndN",
        "outputId": "a6db827c-f745-47d8-d54e-f73aeaa5ba6d"
      },
      "source": [
        "#sample mean\n",
        "sample_mean = np.mean(restaurant_sample.column('Score'))\n",
        "sample_mean"
      ],
      "execution_count": 24,
      "outputs": [
        {
          "output_type": "execute_result",
          "data": {
            "text/plain": [
              "91.98"
            ]
          },
          "metadata": {
            "tags": []
          },
          "execution_count": 24
        }
      ]
    },
    {
      "cell_type": "markdown",
      "metadata": {
        "id": "id0hMoHhluT2"
      },
      "source": [
        "###**1.1 Question 1**\n",
        "\n",
        "Complete the function one_resampled_mean below. It should take in an original table data, with a column Score, and return the mean score of one resampling from data.\n",
        "\n",
        "Remember to call your function and check the output before moving on to autograder tests."
      ]
    },
    {
      "cell_type": "code",
      "metadata": {
        "id": "R7g5qanAknZi",
        "colab": {
          "base_uri": "https://localhost:8080/",
          "height": 0
        },
        "outputId": "94936f24-0af4-4af5-d88e-3e2f7629a8c3"
      },
      "source": [
        "def one_resampled_mean(data):\n",
        "    resampled_data=data.select('Score').sample().column(0)\n",
        "    return np.mean(resampled_data)\n",
        "this_mean=one_resampled_mean(restaurant_sample)\n",
        "this_mean"
      ],
      "execution_count": 25,
      "outputs": [
        {
          "output_type": "execute_result",
          "data": {
            "text/plain": [
              "92.58"
            ]
          },
          "metadata": {
            "tags": []
          },
          "execution_count": 25
        }
      ]
    },
    {
      "cell_type": "code",
      "metadata": {
        "colab": {
          "base_uri": "https://localhost:8080/",
          "height": 319
        },
        "id": "i68ke1H8R65j",
        "outputId": "cf7ddfa7-f3f9-43b3-902b-378de5b5b902"
      },
      "source": [
        "import matplotlib.pyplot as plots\n",
        "restaurant_sample.select('Score',).hist(bins=10)\n",
        "observed_statistic = 91.26 \n",
        "plots.scatter(observed_statistic, 0, color='red', s=200)"
      ],
      "execution_count": 26,
      "outputs": [
        {
          "output_type": "execute_result",
          "data": {
            "text/plain": [
              "<matplotlib.collections.PathCollection at 0x7fdcf360e1d0>"
            ]
          },
          "metadata": {
            "tags": []
          },
          "execution_count": 26
        },
        {
          "output_type": "display_data",
          "data": {
            "image/png": "[encoded data removed]",
            "text/plain": [
              "<Figure size 432x288 with 1 Axes>"
            ]
          },
          "metadata": {
            "tags": []
          }
        }
      ]
    },
    {
      "cell_type": "markdown",
      "metadata": {
        "id": "JTKAoOd4obmO"
      },
      "source": [
        "###**1.2 Question 2**\n",
        "Complete the function bootstrap_scores below. It should take no arguments. It should simulate drawing 5000 resamples from restaurant_sample and compute the mean restaurant score in each resample. It should return an array of those 5000 resample means."
      ]
    },
    {
      "cell_type": "code",
      "metadata": {
        "id": "-LTu5_FOoa1q",
        "colab": {
          "base_uri": "https://localhost:8080/",
          "height": 0
        },
        "outputId": "ab41291c-ca68-4690-a3d6-4eb4a5d31a0d"
      },
      "source": [
        "def bootstrap_scores():\n",
        "    #main_sample=restaurant_sample.select('Score')\n",
        "    resampled_means = make_array()\n",
        "    for i in range(5000):\n",
        "        resampled_mean =np.mean(restaurant_sample.select('Score').sample().column(0))\n",
        "        resampled_means =np.append(resampled_means,resampled_mean)\n",
        "    return resampled_means\n",
        "\n",
        "resampled_means = bootstrap_scores()\n",
        "resampled_means"
      ],
      "execution_count": 27,
      "outputs": [
        {
          "output_type": "execute_result",
          "data": {
            "text/plain": [
              "array([92.51, 91.38, 90.83, ..., 93.54, 91.93, 92.51])"
            ]
          },
          "metadata": {
            "tags": []
          },
          "execution_count": 27
        }
      ]
    },
    {
      "cell_type": "markdown",
      "metadata": {
        "id": "XlFes2bSpSWR"
      },
      "source": [
        "###**1.3 Question 3**\n",
        "Compute a 95 percent confidence interval for the average restaurant score using the array resampled_means."
      ]
    },
    {
      "cell_type": "code",
      "metadata": {
        "id": "qxxbMewIknSO",
        "colab": {
          "base_uri": "https://localhost:8080/",
          "height": 0
        },
        "outputId": "bd939e38-0fa7-427c-8656-62de511b368a"
      },
      "source": [
        "\n",
        "lower_bound = percentile(2.5, resampled_means)\n",
        "upper_bound = percentile(97.5, resampled_means)\n",
        "print(\"95% confidence interval for the average restaurant score, computed by bootstrapping:\\n(\",lower_bound, \",\", upper_bound, \")\")"
      ],
      "execution_count": 28,
      "outputs": [
        {
          "output_type": "stream",
          "text": [
            "95% confidence interval for the average restaurant score, computed by bootstrapping:\n",
            "( 90.45 , 93.45 )\n"
          ],
          "name": "stdout"
        }
      ]
    },
    {
      "cell_type": "code",
      "metadata": {
        "id": "Sb_SWYw9knV6",
        "colab": {
          "base_uri": "https://localhost:8080/",
          "height": 319
        },
        "outputId": "3d947432-7d29-40a2-cde7-5966f95473fc"
      },
      "source": [
        "#histogram of the resampled means\n",
        "Table().with_column('Resampled Means', resampled_means).hist()\n",
        "#plots.scatter(lower_bound, 0, color='red', s=100)\n",
        "#plots.scatter(upper_bound, 0, color='red', s=100)\n",
        "plots.plot(make_array(lower_bound, upper_bound), make_array(0, 0), color='yellow', lw=8)\n"
      ],
      "execution_count": 29,
      "outputs": [
        {
          "output_type": "execute_result",
          "data": {
            "text/plain": [
              "[<matplotlib.lines.Line2D at 0x7fdcf3485e50>]"
            ]
          },
          "metadata": {
            "tags": []
          },
          "execution_count": 29
        },
        {
          "output_type": "display_data",
          "data": {
            "image/png": "[encoded data removed]",
            "text/plain": [
              "<Figure size 432x288 with 1 Axes>"
            ]
          },
          "metadata": {
            "tags": []
          }
        }
      ]
    },
    {
      "cell_type": "markdown",
      "metadata": {
        "id": "JqdjDO64qxO7"
      },
      "source": [
        "###**1.4 Question 4**\n",
        "What distribution is the histogram between question 2 and 3 displaying (that is, what data are plotted), and why does it have that shape?"
      ]
    },
    {
      "cell_type": "markdown",
      "metadata": {
        "id": "g9qGoFw7ktnC"
      },
      "source": [
        "The data that are plotted are the mean of all resampling that are the outcome of the bootstrapping the sample and then based on the 95% confidence interval the yellow line indicate the range between the lower bond and upper bond of the confidence interval.The histogram is very close to the normal distribution shape which means almost all the sample can represent the main dataset."
      ]
    },
    {
      "cell_type": "markdown",
      "metadata": {
        "id": "hzFY2Wrpq55I"
      },
      "source": [
        "###**1.5 Question 5**\n",
        "\n",
        "Does the distribution of the sampled scores look normally distributed? State \"yes\" or \"no\" and describe in one sentence why you should expect this result.\n",
        "\n",
        "Hint: Remember that we are no longer talking about the resampled means!\n",
        "\n",
        "\n",
        "\n",
        "For the last question, you'll need to recall two facts.\n",
        "\n",
        "If a group of numbers has a normal distribution, around 95% of them lie within 2 standard deviations of their mean.\n",
        "\n",
        "The Central Limit Theorem tells us the quantitative relationship between the following:\n",
        "\n",
        "the standard deviation of an array of numbers.\n",
        "\n",
        "the standard deviation of an array of means of samples taken from those numbers.\n",
        "\n",
        "Also recall the standard deviation of sample means:\n",
        "\n",
        "$\\texttt{sd of sample means from many samples from a distribution}  =   $$\\frac{\\texttt{sd of the original distribution}}{\\sqrt{\\texttt{sample size}}}$$ $\n"
      ]
    },
    {
      "cell_type": "markdown",
      "metadata": {
        "id": "LfUviN3RmAlN"
      },
      "source": [
        "I think 'yes', but it is not the completely symmetric.It is approximately follows the normal distribution, because the shape of the histogram is very close to the normal distribution and it shows that in the range of the 95% confidence interval with consideration of the 2 standard diviation the distribution is almost symmetric. Also, when we consider the sd of the sample mean and the confidence interval around that they prove the claim of having almost normal distribution."
      ]
    },
    {
      "cell_type": "markdown",
      "metadata": {
        "id": "n1lWzomQro6_"
      },
      "source": [
        "###**1.6 Question 6**\n",
        "Without referencing the array resampled_means or performing any new simulations, calculate an interval around the sample_mean that covers approximately 95% of the numbers in the resampled_means array. You may use the following values to compute your result, but you should not perform additional resampling - think about how you can use the CLT to accomplish this."
      ]
    },
    {
      "cell_type": "code",
      "metadata": {
        "colab": {
          "base_uri": "https://localhost:8080/",
          "height": 0
        },
        "id": "wNWTQffUXTej",
        "outputId": "7508adde-a62f-4da2-dcad-c9ba6495f632"
      },
      "source": [
        "np.std(pop_restaurants.column('Score'))"
      ],
      "execution_count": 30,
      "outputs": [
        {
          "output_type": "execute_result",
          "data": {
            "text/plain": [
              "7.669083646194807"
            ]
          },
          "metadata": {
            "tags": []
          },
          "execution_count": 30
        }
      ]
    },
    {
      "cell_type": "code",
      "metadata": {
        "id": "amQHBjsQrxHM",
        "colab": {
          "base_uri": "https://localhost:8080/",
          "height": 0
        },
        "outputId": "cb847016-88af-4efd-a217-e1caf3a8fba0"
      },
      "source": [
        "import math\n",
        "sample_mean = np.mean(restaurant_sample.column('Score'))\n",
        "sample_sd = np.std(restaurant_sample.column('Score'))\n",
        "sample_size = restaurant_sample.num_rows\n",
        "pop_sd=np.std(pop_restaurants.column('Score'))\n",
        "\n",
        "sd_of_means = pop_sd/math.sqrt(sample_size)\n",
        "sd_of_means"
      ],
      "execution_count": 31,
      "outputs": [
        {
          "output_type": "execute_result",
          "data": {
            "text/plain": [
              "0.7669083646194806"
            ]
          },
          "metadata": {
            "tags": []
          },
          "execution_count": 31
        }
      ]
    },
    {
      "cell_type": "code",
      "metadata": {
        "colab": {
          "base_uri": "https://localhost:8080/",
          "height": 0
        },
        "id": "lrJRFqNfYxbr",
        "outputId": "80f0c1c6-1470-44b0-fba5-4281e9538dcc"
      },
      "source": [
        "lower_bound_normal =np.mean(restaurant_sample.column('Score')) - (2*sd_of_means) \n",
        "upper_bound_normal = np.mean(restaurant_sample.column('Score')) + (2*sd_of_means)\n",
        "print(\"95% confidence interval for the average restaurant score, computed by a normal approximation:\\n(\",lower_bound_normal, \",\", upper_bound_normal, \")\")"
      ],
      "execution_count": 32,
      "outputs": [
        {
          "output_type": "stream",
          "text": [
            "95% confidence interval for the average restaurant score, computed by a normal approximation:\n",
            "( 90.44618327076104 , 93.51381672923897 )\n"
          ],
          "name": "stdout"
        }
      ]
    },
    {
      "cell_type": "markdown",
      "metadata": {
        "id": "95wa8aukr5gS"
      },
      "source": [
        "This confidence interval should look very similar to the one you computed in Question 3."
      ]
    },
    {
      "cell_type": "markdown",
      "metadata": {
        "id": "NMsNvySiroxH"
      },
      "source": [
        "##**2. Testing the Central Limit Theorem**"
      ]
    },
    {
      "cell_type": "markdown",
      "metadata": {
        "id": "04WTLpVpsPX4"
      },
      "source": [
        "To recap the properties we just saw: The Central Limit Theorem tells us that the probability distribution of the sum or average of a large random sample drawn with replacement will be roughly normal, regardless of the distribution of the population from which the sample is drawn.\n",
        "\n",
        "That's a pretty big claim, but the theorem doesn't stop there. It further states that the standard deviation of this normal distribution is given by\n",
        "\n",
        "$$\\frac{\\texttt{sd of the original distribution}}{\\sqrt{\\texttt{sample size}}}$$\n",
        "\n",
        "In other words, suppose we start with any distribution that has standard deviation $x$, take a sample of size $n$ (where $n$ is a large number) from that distribution with replacement, and compute the mean of that sample. If we repeat this procedure many times, then those sample means will have a normal distribution with standard deviation $\\frac{x}{\\sqrt{n}}$.\n",
        "\n",
        "That's an even bigger claim than the first one! The proof of the theorem is beyond the scope of this class, but in this exercise, we will be exploring some data to see the CLT in action."
      ]
    },
    {
      "cell_type": "markdown",
      "metadata": {
        "id": "2KJoiCM7sceQ"
      },
      "source": [
        "###**2.1 Question 1**. \n",
        "\n",
        "Define the function one_statistic_prop_heads which should return exactly one simulated statistic of the proportion of heads from $n$ coin flips."
      ]
    },
    {
      "cell_type": "code",
      "metadata": {
        "colab": {
          "base_uri": "https://localhost:8080/",
          "height": 0
        },
        "id": "XsMtAkU-93ry",
        "outputId": "10c0e167-5b3b-4ae8-cd10-f1b975e78478"
      },
      "source": [
        "coin_proportions = make_array('Heads', 'Tails') # our coin is fair\n",
        "\n",
        "def one_statistic_prop_heads(n):\n",
        "    simulated_proportions = np.random.choice(coin_proportions, 100)\n",
        "    prop_heads = np.count_nonzero(simulated_proportions == 'Heads')\n",
        "    return prop_heads\n",
        "one_statistic_prop_heads(100)"
      ],
      "execution_count": 33,
      "outputs": [
        {
          "output_type": "execute_result",
          "data": {
            "text/plain": [
              "49"
            ]
          },
          "metadata": {
            "tags": []
          },
          "execution_count": 33
        }
      ]
    },
    {
      "cell_type": "markdown",
      "metadata": {
        "id": "g_pfRu1uwgrZ"
      },
      "source": [
        "###**2.2 Question 2.**\n",
        "\n",
        "The CLT only applies when sample sizes are \"sufficiently large.\" This isn't a very precise statement. Is 10 large? How about 50? The truth is that it depends both on the original population distribution and just how \"normal\" you want the result to look. Let's use a simulation to get a feel for how the distribution of the sample mean changes as sample size goes up.\n",
        "\n",
        "Consider a coin flip. If we say Heads is $1$ and Tails is $0$, then there's a 50% chance of getting a 1 and a 50% chance of getting a 0, which definitely doesn't match our definition of a normal distribution. The average of several coin tosses, where Heads is 1 and Tails is 0, is equal to the proportion of heads in those coin tosses (which is equivalent to the mean value of the coin tosses), so the CLT should hold true if we compute the sample proportion of heads many times.\n",
        "\n",
        "Write a function called sample_size_n that takes in a sample size $n$. It should return an array that contains 5000 sample proportions of heads, each from $n$ coin flips."
      ]
    },
    {
      "cell_type": "code",
      "metadata": {
        "colab": {
          "base_uri": "https://localhost:8080/",
          "height": 0
        },
        "id": "Rx5jgyuR_PkW",
        "outputId": "83a50bef-36b1-4bbc-df04-dd49beea9944"
      },
      "source": [
        "def sample_size_n(n):\n",
        "    coin_proportions = make_array('Heads', 'Tails') # our coin is fair\n",
        "    heads_proportions = make_array()\n",
        "    for i in np.arange(5000):\n",
        "        prop_heads = np.count_nonzero(np.random.choice(coin_proportions, 100) == 'Heads')\n",
        "        heads_proportions =np.append(heads_proportions,prop_heads )\n",
        "    return heads_proportions\n",
        "#heads_proportions\n",
        "\n",
        "sample_size_n(100)\n"
      ],
      "execution_count": 34,
      "outputs": [
        {
          "output_type": "execute_result",
          "data": {
            "text/plain": [
              "array([46., 46., 58., ..., 51., 42., 50.])"
            ]
          },
          "metadata": {
            "tags": []
          },
          "execution_count": 34
        }
      ]
    },
    {
      "cell_type": "markdown",
      "metadata": {
        "id": "FKi0wjY0xNPE"
      },
      "source": [
        "Now we will test the second claim of the CLT: That the SD of the sample mean is the SD of the original distribution, divided by the square root of the sample size.\n",
        "\n",
        "We have imported the flight delay data and computed its standard deviation for you."
      ]
    },
    {
      "cell_type": "code",
      "metadata": {
        "colab": {
          "base_uri": "https://localhost:8080/",
          "height": 0
        },
        "id": "TAlBCMpAzZDm",
        "outputId": "196fb1c8-3ab8-4a71-c06f-e3abbaba9681"
      },
      "source": [
        "united = Table.read_table('/content/united_summer2015.csv')\n",
        "united_std = np.std(united.column('Delay'))\n",
        "united_std"
      ],
      "execution_count": 35,
      "outputs": [
        {
          "output_type": "execute_result",
          "data": {
            "text/plain": [
              "39.480199851609314"
            ]
          },
          "metadata": {
            "tags": []
          },
          "execution_count": 35
        }
      ]
    },
    {
      "cell_type": "markdown",
      "metadata": {
        "id": "PelhfMwTz7RU"
      },
      "source": [
        "###**2.3 Question 3** \n",
        "\n",
        "Write a function called empirical_sample_mean_sd that takes a sample size n as its argument. The function should simulate 500 samples with replacement of size n from the flight delays dataset, and it should return the standard deviation of the means of those 500 samples.\n"
      ]
    },
    {
      "cell_type": "code",
      "metadata": {
        "colab": {
          "base_uri": "https://localhost:8080/",
          "height": 0
        },
        "id": "gGptZCae0fKi",
        "outputId": "497773a7-5735-4baf-bbc4-5afd5f528dd1"
      },
      "source": [
        "def empirical_sample_mean_sd(n):\n",
        "    sample_means = make_array()\n",
        "    for i in np.arange(500):\n",
        "        sample = united.sample(100, with_replacement=False)\n",
        "        sample_mean = np.mean(sample.select('Delay').sample().column(0))\n",
        "        sample_means = np.append(sample_means,sample_mean)\n",
        "    return np.std(sample_means)\n",
        "\n",
        "empirical_sample_mean_sd(100)\n",
        "                         "
      ],
      "execution_count": 36,
      "outputs": [
        {
          "output_type": "execute_result",
          "data": {
            "text/plain": [
              "5.363279634701141"
            ]
          },
          "metadata": {
            "tags": []
          },
          "execution_count": 36
        }
      ]
    },
    {
      "cell_type": "markdown",
      "metadata": {
        "id": "KqUetf37Zr_l"
      },
      "source": [
        "##**2.4\tQuestion 4**\n",
        "\n",
        "Now, write a function called predict sample mean sd to find the predicted value of the standard deviation of means according to the relationship between the standard deviation of the sample mean and sample size that is discussed in the textbook. It takes a sample size n (a number) as its argument. It returns the predicted value of the standard deviation of the mean delay time for samples of size n from the flight delays (represented in the table united). \n"
      ]
    },
    {
      "cell_type": "code",
      "metadata": {
        "colab": {
          "base_uri": "https://localhost:8080/",
          "height": 0
        },
        "id": "JK4doHJMZjsh",
        "outputId": "e85026b0-6c62-4ade-a9ca-681aaee6cd37"
      },
      "source": [
        "def predict_sample_mean_sd(n):   \n",
        "   sd_of_means = united_std/math.sqrt(n)\n",
        "   return sd_of_means   \n",
        "predict_sample_mean_sd(10)"
      ],
      "execution_count": 40,
      "outputs": [
        {
          "output_type": "execute_result",
          "data": {
            "text/plain": [
              "12.484735400972708"
            ]
          },
          "metadata": {
            "tags": []
          },
          "execution_count": 40
        }
      ]
    },
    {
      "cell_type": "code",
      "metadata": {
        "colab": {
          "base_uri": "https://localhost:8080/",
          "height": 362
        },
        "id": "XkeP2bDpZje0",
        "outputId": "13806524-381d-4a87-a072-70e7d44bb9bc"
      },
      "source": [
        "sd_table = Table().with_column('Sample Size', np.arange(1,101))\n",
        "predicted = sd_table.apply(predict_sample_mean_sd, 'Sample Size')\n",
        "empirical = sd_table.apply(empirical_sample_mean_sd, 'Sample Size')\n",
        "sd_table = sd_table.with_columns('Predicted SD', predicted, 'Empirical SD', empirical)\n",
        "sd_table.scatter('Sample Size')"
      ],
      "execution_count": 12,
      "outputs": [
        {
          "output_type": "display_data",
          "data": {
            "image/png": "[encoded data removed]",
            "text/plain": [
              "<Figure size 360x360 with 1 Axes>"
            ]
          },
          "metadata": {
            "tags": []
          }
        }
      ]
    }
  ]
}