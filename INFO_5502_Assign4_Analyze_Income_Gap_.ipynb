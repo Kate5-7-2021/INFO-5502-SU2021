{
  "nbformat": 4,
  "nbformat_minor": 0,
  "metadata": {
    "colab": {
      "name": "INFO-5502_Assign4_Analyze_Income_Gap .ipynb",
      "provenance": [],
      "collapsed_sections": [],
      "authorship_tag": "ABX9TyPuklaO4GBEUNxK7ZgHseJF",
      "include_colab_link": true
    },
    "kernelspec": {
      "name": "python3",
      "display_name": "Python 3"
    },
    "language_info": {
      "name": "python"
    }
  },
  "cells": [
    {
      "cell_type": "markdown",
      "metadata": {
        "id": "view-in-github",
        "colab_type": "text"
      },
      "source": [
        "<a href=\"https://colab.research.google.com/github/Kate5-7-2021/INFO-5502-SU2021/blob/main/INFO_5502_Assign4_Analyze_Income_Gap_.ipynb\" target=\"_parent\"><img src=\"https://colab.research.google.com/assets/colab-badge.svg\" alt=\"Open In Colab\"/></a>"
      ]
    },
    {
      "cell_type": "markdown",
      "metadata": {
        "id": "jkah2qoILxxA"
      },
      "source": [
        "###**Data and Data Preprocessing**"
      ]
    },
    {
      "cell_type": "code",
      "metadata": {
        "id": "J664YX2JrNKN"
      },
      "source": [
        "import pandas as pd                                    #import necessary libraries\n",
        "import numpy as np\n",
        "import matplotlib.pyplot as plt\n",
        "import random"
      ],
      "execution_count": 172,
      "outputs": []
    },
    {
      "cell_type": "code",
      "metadata": {
        "colab": {
          "base_uri": "https://localhost:8080/",
          "height": 1346
        },
        "id": "kPcdBqfNtcmD",
        "outputId": "d63d46df-607f-4449-8fb2-e2537c7982e8"
      },
      "source": [
        "df1=pd.read_csv('/content/multipleChoiceResponses.csv', delimiter=',')  #read csv file                                                     \n",
        "df1"
      ],
      "execution_count": 173,
      "outputs": [
        {
          "output_type": "stream",
          "text": [
            "/usr/local/lib/python3.7/dist-packages/IPython/core/interactiveshell.py:2718: DtypeWarning: Columns (0,2,8,10,21,23,24,25,26,27,28,44,56,64,83,85,87,107,109,123,125,150,157,172,174,194,210,218,219,223,246,249,262,264,276,277,278,279,280,281,282,283,284,285,286,287,288,289,290,304,306,325,326,329,341,368,371,384,385,389,390,391,393,394) have mixed types.Specify dtype option on import or set low_memory=False.\n",
            "  interactivity=interactivity, compiler=compiler, result=result)\n"
          ],
          "name": "stderr"
        },
        {
          "output_type": "execute_result",
          "data": {
            "text/html": [
              "<div>\n",
              "<style scoped>\n",
              "    .dataframe tbody tr th:only-of-type {\n",
              "        vertical-align: middle;\n",
              "    }\n",
              "\n",
              "    .dataframe tbody tr th {\n",
              "        vertical-align: top;\n",
              "    }\n",
              "\n",
              "    .dataframe thead th {\n",
              "        text-align: right;\n",
              "    }\n",
              "</style>\n",
              "<table border=\"1\" class=\"dataframe\">\n",
              "  <thead>\n",
              "    <tr style=\"text-align: right;\">\n",
              "      <th></th>\n",
              "      <th>Time from Start to Finish (seconds)</th>\n",
              "      <th>Q1</th>\n",
              "      <th>Q1_OTHER_TEXT</th>\n",
              "      <th>Q2</th>\n",
              "      <th>Q3</th>\n",
              "      <th>Q4</th>\n",
              "      <th>Q5</th>\n",
              "      <th>Q6</th>\n",
              "      <th>Q6_OTHER_TEXT</th>\n",
              "      <th>Q7</th>\n",
              "      <th>Q7_OTHER_TEXT</th>\n",
              "      <th>Q8</th>\n",
              "      <th>Q9</th>\n",
              "      <th>Q10</th>\n",
              "      <th>Q11_Part_1</th>\n",
              "      <th>Q11_Part_2</th>\n",
              "      <th>Q11_Part_3</th>\n",
              "      <th>Q11_Part_4</th>\n",
              "      <th>Q11_Part_5</th>\n",
              "      <th>Q11_Part_6</th>\n",
              "      <th>Q11_Part_7</th>\n",
              "      <th>Q11_OTHER_TEXT</th>\n",
              "      <th>Q12_MULTIPLE_CHOICE</th>\n",
              "      <th>Q12_Part_1_TEXT</th>\n",
              "      <th>Q12_Part_2_TEXT</th>\n",
              "      <th>Q12_Part_3_TEXT</th>\n",
              "      <th>Q12_Part_4_TEXT</th>\n",
              "      <th>Q12_Part_5_TEXT</th>\n",
              "      <th>Q12_OTHER_TEXT</th>\n",
              "      <th>Q13_Part_1</th>\n",
              "      <th>Q13_Part_2</th>\n",
              "      <th>Q13_Part_3</th>\n",
              "      <th>Q13_Part_4</th>\n",
              "      <th>Q13_Part_5</th>\n",
              "      <th>Q13_Part_6</th>\n",
              "      <th>Q13_Part_7</th>\n",
              "      <th>Q13_Part_8</th>\n",
              "      <th>Q13_Part_9</th>\n",
              "      <th>Q13_Part_10</th>\n",
              "      <th>Q13_Part_11</th>\n",
              "      <th>...</th>\n",
              "      <th>Q46</th>\n",
              "      <th>Q47_Part_1</th>\n",
              "      <th>Q47_Part_2</th>\n",
              "      <th>Q47_Part_3</th>\n",
              "      <th>Q47_Part_4</th>\n",
              "      <th>Q47_Part_5</th>\n",
              "      <th>Q47_Part_6</th>\n",
              "      <th>Q47_Part_7</th>\n",
              "      <th>Q47_Part_8</th>\n",
              "      <th>Q47_Part_9</th>\n",
              "      <th>Q47_Part_10</th>\n",
              "      <th>Q47_Part_11</th>\n",
              "      <th>Q47_Part_12</th>\n",
              "      <th>Q47_Part_13</th>\n",
              "      <th>Q47_Part_14</th>\n",
              "      <th>Q47_Part_15</th>\n",
              "      <th>Q47_Part_16</th>\n",
              "      <th>Q48</th>\n",
              "      <th>Q49_Part_1</th>\n",
              "      <th>Q49_Part_2</th>\n",
              "      <th>Q49_Part_3</th>\n",
              "      <th>Q49_Part_4</th>\n",
              "      <th>Q49_Part_5</th>\n",
              "      <th>Q49_Part_6</th>\n",
              "      <th>Q49_Part_7</th>\n",
              "      <th>Q49_Part_8</th>\n",
              "      <th>Q49_Part_9</th>\n",
              "      <th>Q49_Part_10</th>\n",
              "      <th>Q49_Part_11</th>\n",
              "      <th>Q49_Part_12</th>\n",
              "      <th>Q49_OTHER_TEXT</th>\n",
              "      <th>Q50_Part_1</th>\n",
              "      <th>Q50_Part_2</th>\n",
              "      <th>Q50_Part_3</th>\n",
              "      <th>Q50_Part_4</th>\n",
              "      <th>Q50_Part_5</th>\n",
              "      <th>Q50_Part_6</th>\n",
              "      <th>Q50_Part_7</th>\n",
              "      <th>Q50_Part_8</th>\n",
              "      <th>Q50_OTHER_TEXT</th>\n",
              "    </tr>\n",
              "  </thead>\n",
              "  <tbody>\n",
              "    <tr>\n",
              "      <th>0</th>\n",
              "      <td>Duration (in seconds)</td>\n",
              "      <td>What is your gender? - Selected Choice</td>\n",
              "      <td>What is your gender? - Prefer to self-describe...</td>\n",
              "      <td>What is your age (# years)?</td>\n",
              "      <td>In which country do you currently reside?</td>\n",
              "      <td>What is the highest level of formal education ...</td>\n",
              "      <td>Which best describes your undergraduate major?...</td>\n",
              "      <td>Select the title most similar to your current ...</td>\n",
              "      <td>Select the title most similar to your current ...</td>\n",
              "      <td>In what industry is your current employer/cont...</td>\n",
              "      <td>In what industry is your current employer/cont...</td>\n",
              "      <td>How many years of experience do you have in yo...</td>\n",
              "      <td>What is your current yearly compensation (appr...</td>\n",
              "      <td>Does your current employer incorporate machine...</td>\n",
              "      <td>Select any activities that make up an importan...</td>\n",
              "      <td>Select any activities that make up an importan...</td>\n",
              "      <td>Select any activities that make up an importan...</td>\n",
              "      <td>Select any activities that make up an importan...</td>\n",
              "      <td>Select any activities that make up an importan...</td>\n",
              "      <td>Select any activities that make up an importan...</td>\n",
              "      <td>Select any activities that make up an importan...</td>\n",
              "      <td>Select any activities that make up an importan...</td>\n",
              "      <td>What is the primary tool that you use at work ...</td>\n",
              "      <td>What is the primary tool that you use at work ...</td>\n",
              "      <td>What is the primary tool that you use at work ...</td>\n",
              "      <td>What is the primary tool that you use at work ...</td>\n",
              "      <td>What is the primary tool that you use at work ...</td>\n",
              "      <td>What is the primary tool that you use at work ...</td>\n",
              "      <td>What is the primary tool that you use at work ...</td>\n",
              "      <td>Which of the following integrated development ...</td>\n",
              "      <td>Which of the following integrated development ...</td>\n",
              "      <td>Which of the following integrated development ...</td>\n",
              "      <td>Which of the following integrated development ...</td>\n",
              "      <td>Which of the following integrated development ...</td>\n",
              "      <td>Which of the following integrated development ...</td>\n",
              "      <td>Which of the following integrated development ...</td>\n",
              "      <td>Which of the following integrated development ...</td>\n",
              "      <td>Which of the following integrated development ...</td>\n",
              "      <td>Which of the following integrated development ...</td>\n",
              "      <td>Which of the following integrated development ...</td>\n",
              "      <td>...</td>\n",
              "      <td>Approximately what percent of your data projec...</td>\n",
              "      <td>What methods do you prefer for explaining and/...</td>\n",
              "      <td>What methods do you prefer for explaining and/...</td>\n",
              "      <td>What methods do you prefer for explaining and/...</td>\n",
              "      <td>What methods do you prefer for explaining and/...</td>\n",
              "      <td>What methods do you prefer for explaining and/...</td>\n",
              "      <td>What methods do you prefer for explaining and/...</td>\n",
              "      <td>What methods do you prefer for explaining and/...</td>\n",
              "      <td>What methods do you prefer for explaining and/...</td>\n",
              "      <td>What methods do you prefer for explaining and/...</td>\n",
              "      <td>What methods do you prefer for explaining and/...</td>\n",
              "      <td>What methods do you prefer for explaining and/...</td>\n",
              "      <td>What methods do you prefer for explaining and/...</td>\n",
              "      <td>What methods do you prefer for explaining and/...</td>\n",
              "      <td>What methods do you prefer for explaining and/...</td>\n",
              "      <td>What methods do you prefer for explaining and/...</td>\n",
              "      <td>What methods do you prefer for explaining and/...</td>\n",
              "      <td>Do you consider ML models to be \"black boxes\" ...</td>\n",
              "      <td>What tools and methods do you use to make your...</td>\n",
              "      <td>What tools and methods do you use to make your...</td>\n",
              "      <td>What tools and methods do you use to make your...</td>\n",
              "      <td>What tools and methods do you use to make your...</td>\n",
              "      <td>What tools and methods do you use to make your...</td>\n",
              "      <td>What tools and methods do you use to make your...</td>\n",
              "      <td>What tools and methods do you use to make your...</td>\n",
              "      <td>What tools and methods do you use to make your...</td>\n",
              "      <td>What tools and methods do you use to make your...</td>\n",
              "      <td>What tools and methods do you use to make your...</td>\n",
              "      <td>What tools and methods do you use to make your...</td>\n",
              "      <td>What tools and methods do you use to make your...</td>\n",
              "      <td>What tools and methods do you use to make your...</td>\n",
              "      <td>What barriers prevent you from making your wor...</td>\n",
              "      <td>What barriers prevent you from making your wor...</td>\n",
              "      <td>What barriers prevent you from making your wor...</td>\n",
              "      <td>What barriers prevent you from making your wor...</td>\n",
              "      <td>What barriers prevent you from making your wor...</td>\n",
              "      <td>What barriers prevent you from making your wor...</td>\n",
              "      <td>What barriers prevent you from making your wor...</td>\n",
              "      <td>What barriers prevent you from making your wor...</td>\n",
              "      <td>What barriers prevent you from making your wor...</td>\n",
              "    </tr>\n",
              "    <tr>\n",
              "      <th>1</th>\n",
              "      <td>710</td>\n",
              "      <td>Female</td>\n",
              "      <td>-1</td>\n",
              "      <td>45-49</td>\n",
              "      <td>United States of America</td>\n",
              "      <td>Doctoral degree</td>\n",
              "      <td>Other</td>\n",
              "      <td>Consultant</td>\n",
              "      <td>-1</td>\n",
              "      <td>Other</td>\n",
              "      <td>0</td>\n",
              "      <td>NaN</td>\n",
              "      <td>NaN</td>\n",
              "      <td>I do not know</td>\n",
              "      <td>Analyze and understand data to influence produ...</td>\n",
              "      <td>Build and/or run a machine learning service th...</td>\n",
              "      <td>Build and/or run the data infrastructure that ...</td>\n",
              "      <td>NaN</td>\n",
              "      <td>Do research that advances the state of the art...</td>\n",
              "      <td>NaN</td>\n",
              "      <td>NaN</td>\n",
              "      <td>-1</td>\n",
              "      <td>Cloud-based data software &amp; APIs (AWS, GCP, Az...</td>\n",
              "      <td>-1</td>\n",
              "      <td>-1</td>\n",
              "      <td>-1</td>\n",
              "      <td>-1</td>\n",
              "      <td>0</td>\n",
              "      <td>-1</td>\n",
              "      <td>Jupyter/IPython</td>\n",
              "      <td>NaN</td>\n",
              "      <td>NaN</td>\n",
              "      <td>NaN</td>\n",
              "      <td>NaN</td>\n",
              "      <td>NaN</td>\n",
              "      <td>NaN</td>\n",
              "      <td>NaN</td>\n",
              "      <td>NaN</td>\n",
              "      <td>NaN</td>\n",
              "      <td>NaN</td>\n",
              "      <td>...</td>\n",
              "      <td>NaN</td>\n",
              "      <td>NaN</td>\n",
              "      <td>NaN</td>\n",
              "      <td>NaN</td>\n",
              "      <td>NaN</td>\n",
              "      <td>NaN</td>\n",
              "      <td>NaN</td>\n",
              "      <td>NaN</td>\n",
              "      <td>NaN</td>\n",
              "      <td>NaN</td>\n",
              "      <td>NaN</td>\n",
              "      <td>NaN</td>\n",
              "      <td>NaN</td>\n",
              "      <td>NaN</td>\n",
              "      <td>NaN</td>\n",
              "      <td>NaN</td>\n",
              "      <td>NaN</td>\n",
              "      <td>NaN</td>\n",
              "      <td>NaN</td>\n",
              "      <td>NaN</td>\n",
              "      <td>NaN</td>\n",
              "      <td>NaN</td>\n",
              "      <td>NaN</td>\n",
              "      <td>NaN</td>\n",
              "      <td>NaN</td>\n",
              "      <td>NaN</td>\n",
              "      <td>NaN</td>\n",
              "      <td>NaN</td>\n",
              "      <td>NaN</td>\n",
              "      <td>NaN</td>\n",
              "      <td>-1</td>\n",
              "      <td>NaN</td>\n",
              "      <td>NaN</td>\n",
              "      <td>NaN</td>\n",
              "      <td>NaN</td>\n",
              "      <td>NaN</td>\n",
              "      <td>NaN</td>\n",
              "      <td>NaN</td>\n",
              "      <td>NaN</td>\n",
              "      <td>-1</td>\n",
              "    </tr>\n",
              "    <tr>\n",
              "      <th>2</th>\n",
              "      <td>434</td>\n",
              "      <td>Male</td>\n",
              "      <td>-1</td>\n",
              "      <td>30-34</td>\n",
              "      <td>Indonesia</td>\n",
              "      <td>Bachelor’s degree</td>\n",
              "      <td>Engineering (non-computer focused)</td>\n",
              "      <td>Other</td>\n",
              "      <td>0</td>\n",
              "      <td>Manufacturing/Fabrication</td>\n",
              "      <td>-1</td>\n",
              "      <td>5-10</td>\n",
              "      <td>10-20,000</td>\n",
              "      <td>No (we do not use ML methods)</td>\n",
              "      <td>NaN</td>\n",
              "      <td>NaN</td>\n",
              "      <td>NaN</td>\n",
              "      <td>NaN</td>\n",
              "      <td>NaN</td>\n",
              "      <td>None of these activities are an important part...</td>\n",
              "      <td>NaN</td>\n",
              "      <td>-1</td>\n",
              "      <td>Basic statistical software (Microsoft Excel, G...</td>\n",
              "      <td>1</td>\n",
              "      <td>-1</td>\n",
              "      <td>-1</td>\n",
              "      <td>-1</td>\n",
              "      <td>-1</td>\n",
              "      <td>-1</td>\n",
              "      <td>NaN</td>\n",
              "      <td>NaN</td>\n",
              "      <td>NaN</td>\n",
              "      <td>NaN</td>\n",
              "      <td>NaN</td>\n",
              "      <td>NaN</td>\n",
              "      <td>NaN</td>\n",
              "      <td>NaN</td>\n",
              "      <td>NaN</td>\n",
              "      <td>NaN</td>\n",
              "      <td>NaN</td>\n",
              "      <td>...</td>\n",
              "      <td>NaN</td>\n",
              "      <td>NaN</td>\n",
              "      <td>NaN</td>\n",
              "      <td>NaN</td>\n",
              "      <td>NaN</td>\n",
              "      <td>NaN</td>\n",
              "      <td>NaN</td>\n",
              "      <td>NaN</td>\n",
              "      <td>NaN</td>\n",
              "      <td>NaN</td>\n",
              "      <td>NaN</td>\n",
              "      <td>NaN</td>\n",
              "      <td>NaN</td>\n",
              "      <td>NaN</td>\n",
              "      <td>NaN</td>\n",
              "      <td>NaN</td>\n",
              "      <td>NaN</td>\n",
              "      <td>NaN</td>\n",
              "      <td>NaN</td>\n",
              "      <td>NaN</td>\n",
              "      <td>NaN</td>\n",
              "      <td>NaN</td>\n",
              "      <td>NaN</td>\n",
              "      <td>NaN</td>\n",
              "      <td>NaN</td>\n",
              "      <td>NaN</td>\n",
              "      <td>NaN</td>\n",
              "      <td>NaN</td>\n",
              "      <td>NaN</td>\n",
              "      <td>NaN</td>\n",
              "      <td>-1</td>\n",
              "      <td>NaN</td>\n",
              "      <td>NaN</td>\n",
              "      <td>NaN</td>\n",
              "      <td>NaN</td>\n",
              "      <td>NaN</td>\n",
              "      <td>NaN</td>\n",
              "      <td>NaN</td>\n",
              "      <td>NaN</td>\n",
              "      <td>-1</td>\n",
              "    </tr>\n",
              "    <tr>\n",
              "      <th>3</th>\n",
              "      <td>718</td>\n",
              "      <td>Female</td>\n",
              "      <td>-1</td>\n",
              "      <td>30-34</td>\n",
              "      <td>United States of America</td>\n",
              "      <td>Master’s degree</td>\n",
              "      <td>Computer science (software engineering, etc.)</td>\n",
              "      <td>Data Scientist</td>\n",
              "      <td>-1</td>\n",
              "      <td>I am a student</td>\n",
              "      <td>-1</td>\n",
              "      <td>0-1</td>\n",
              "      <td>0-10,000</td>\n",
              "      <td>I do not know</td>\n",
              "      <td>Analyze and understand data to influence produ...</td>\n",
              "      <td>NaN</td>\n",
              "      <td>NaN</td>\n",
              "      <td>NaN</td>\n",
              "      <td>NaN</td>\n",
              "      <td>NaN</td>\n",
              "      <td>NaN</td>\n",
              "      <td>-1</td>\n",
              "      <td>Local or hosted development environments (RStu...</td>\n",
              "      <td>-1</td>\n",
              "      <td>-1</td>\n",
              "      <td>-1</td>\n",
              "      <td>0</td>\n",
              "      <td>-1</td>\n",
              "      <td>-1</td>\n",
              "      <td>NaN</td>\n",
              "      <td>NaN</td>\n",
              "      <td>NaN</td>\n",
              "      <td>NaN</td>\n",
              "      <td>NaN</td>\n",
              "      <td>NaN</td>\n",
              "      <td>MATLAB</td>\n",
              "      <td>NaN</td>\n",
              "      <td>NaN</td>\n",
              "      <td>NaN</td>\n",
              "      <td>NaN</td>\n",
              "      <td>...</td>\n",
              "      <td>10-20</td>\n",
              "      <td>NaN</td>\n",
              "      <td>Examine feature correlations</td>\n",
              "      <td>Examine feature importances</td>\n",
              "      <td>NaN</td>\n",
              "      <td>NaN</td>\n",
              "      <td>NaN</td>\n",
              "      <td>NaN</td>\n",
              "      <td>Plot predicted vs. actual results</td>\n",
              "      <td>NaN</td>\n",
              "      <td>NaN</td>\n",
              "      <td>NaN</td>\n",
              "      <td>NaN</td>\n",
              "      <td>NaN</td>\n",
              "      <td>NaN</td>\n",
              "      <td>NaN</td>\n",
              "      <td>NaN</td>\n",
              "      <td>I am confident that I can explain the outputs ...</td>\n",
              "      <td>NaN</td>\n",
              "      <td>NaN</td>\n",
              "      <td>NaN</td>\n",
              "      <td>NaN</td>\n",
              "      <td>NaN</td>\n",
              "      <td>NaN</td>\n",
              "      <td>Make sure the code is human-readable</td>\n",
              "      <td>Define all random seeds</td>\n",
              "      <td>NaN</td>\n",
              "      <td>Include a text file describing all dependencies</td>\n",
              "      <td>NaN</td>\n",
              "      <td>NaN</td>\n",
              "      <td>-1</td>\n",
              "      <td>NaN</td>\n",
              "      <td>Too time-consuming</td>\n",
              "      <td>NaN</td>\n",
              "      <td>NaN</td>\n",
              "      <td>NaN</td>\n",
              "      <td>NaN</td>\n",
              "      <td>NaN</td>\n",
              "      <td>NaN</td>\n",
              "      <td>-1</td>\n",
              "    </tr>\n",
              "    <tr>\n",
              "      <th>4</th>\n",
              "      <td>621</td>\n",
              "      <td>Male</td>\n",
              "      <td>-1</td>\n",
              "      <td>35-39</td>\n",
              "      <td>United States of America</td>\n",
              "      <td>Master’s degree</td>\n",
              "      <td>Social sciences (anthropology, psychology, soc...</td>\n",
              "      <td>Not employed</td>\n",
              "      <td>-1</td>\n",
              "      <td>NaN</td>\n",
              "      <td>-1</td>\n",
              "      <td>NaN</td>\n",
              "      <td>NaN</td>\n",
              "      <td>NaN</td>\n",
              "      <td>NaN</td>\n",
              "      <td>NaN</td>\n",
              "      <td>NaN</td>\n",
              "      <td>NaN</td>\n",
              "      <td>NaN</td>\n",
              "      <td>NaN</td>\n",
              "      <td>NaN</td>\n",
              "      <td>-1</td>\n",
              "      <td>Local or hosted development environments (RStu...</td>\n",
              "      <td>-1</td>\n",
              "      <td>-1</td>\n",
              "      <td>-1</td>\n",
              "      <td>1</td>\n",
              "      <td>-1</td>\n",
              "      <td>-1</td>\n",
              "      <td>Jupyter/IPython</td>\n",
              "      <td>RStudio</td>\n",
              "      <td>PyCharm</td>\n",
              "      <td>NaN</td>\n",
              "      <td>NaN</td>\n",
              "      <td>NaN</td>\n",
              "      <td>NaN</td>\n",
              "      <td>Visual Studio</td>\n",
              "      <td>NaN</td>\n",
              "      <td>NaN</td>\n",
              "      <td>Vim</td>\n",
              "      <td>...</td>\n",
              "      <td>20-30</td>\n",
              "      <td>NaN</td>\n",
              "      <td>Examine feature correlations</td>\n",
              "      <td>Examine feature importances</td>\n",
              "      <td>Plot decision boundaries</td>\n",
              "      <td>NaN</td>\n",
              "      <td>NaN</td>\n",
              "      <td>NaN</td>\n",
              "      <td>Plot predicted vs. actual results</td>\n",
              "      <td>NaN</td>\n",
              "      <td>Sensitivity analysis/perturbation importance</td>\n",
              "      <td>NaN</td>\n",
              "      <td>NaN</td>\n",
              "      <td>NaN</td>\n",
              "      <td>NaN</td>\n",
              "      <td>NaN</td>\n",
              "      <td>NaN</td>\n",
              "      <td>Yes, most ML models are \"black boxes\"</td>\n",
              "      <td>NaN</td>\n",
              "      <td>NaN</td>\n",
              "      <td>Share data, code, and environment using a host...</td>\n",
              "      <td>NaN</td>\n",
              "      <td>NaN</td>\n",
              "      <td>NaN</td>\n",
              "      <td>Make sure the code is human-readable</td>\n",
              "      <td>NaN</td>\n",
              "      <td>Define relative rather than absolute file paths</td>\n",
              "      <td>NaN</td>\n",
              "      <td>NaN</td>\n",
              "      <td>NaN</td>\n",
              "      <td>-1</td>\n",
              "      <td>NaN</td>\n",
              "      <td>NaN</td>\n",
              "      <td>Requires too much technical knowledge</td>\n",
              "      <td>NaN</td>\n",
              "      <td>Not enough incentives to share my work</td>\n",
              "      <td>NaN</td>\n",
              "      <td>NaN</td>\n",
              "      <td>NaN</td>\n",
              "      <td>-1</td>\n",
              "    </tr>\n",
              "    <tr>\n",
              "      <th>...</th>\n",
              "      <td>...</td>\n",
              "      <td>...</td>\n",
              "      <td>...</td>\n",
              "      <td>...</td>\n",
              "      <td>...</td>\n",
              "      <td>...</td>\n",
              "      <td>...</td>\n",
              "      <td>...</td>\n",
              "      <td>...</td>\n",
              "      <td>...</td>\n",
              "      <td>...</td>\n",
              "      <td>...</td>\n",
              "      <td>...</td>\n",
              "      <td>...</td>\n",
              "      <td>...</td>\n",
              "      <td>...</td>\n",
              "      <td>...</td>\n",
              "      <td>...</td>\n",
              "      <td>...</td>\n",
              "      <td>...</td>\n",
              "      <td>...</td>\n",
              "      <td>...</td>\n",
              "      <td>...</td>\n",
              "      <td>...</td>\n",
              "      <td>...</td>\n",
              "      <td>...</td>\n",
              "      <td>...</td>\n",
              "      <td>...</td>\n",
              "      <td>...</td>\n",
              "      <td>...</td>\n",
              "      <td>...</td>\n",
              "      <td>...</td>\n",
              "      <td>...</td>\n",
              "      <td>...</td>\n",
              "      <td>...</td>\n",
              "      <td>...</td>\n",
              "      <td>...</td>\n",
              "      <td>...</td>\n",
              "      <td>...</td>\n",
              "      <td>...</td>\n",
              "      <td>...</td>\n",
              "      <td>...</td>\n",
              "      <td>...</td>\n",
              "      <td>...</td>\n",
              "      <td>...</td>\n",
              "      <td>...</td>\n",
              "      <td>...</td>\n",
              "      <td>...</td>\n",
              "      <td>...</td>\n",
              "      <td>...</td>\n",
              "      <td>...</td>\n",
              "      <td>...</td>\n",
              "      <td>...</td>\n",
              "      <td>...</td>\n",
              "      <td>...</td>\n",
              "      <td>...</td>\n",
              "      <td>...</td>\n",
              "      <td>...</td>\n",
              "      <td>...</td>\n",
              "      <td>...</td>\n",
              "      <td>...</td>\n",
              "      <td>...</td>\n",
              "      <td>...</td>\n",
              "      <td>...</td>\n",
              "      <td>...</td>\n",
              "      <td>...</td>\n",
              "      <td>...</td>\n",
              "      <td>...</td>\n",
              "      <td>...</td>\n",
              "      <td>...</td>\n",
              "      <td>...</td>\n",
              "      <td>...</td>\n",
              "      <td>...</td>\n",
              "      <td>...</td>\n",
              "      <td>...</td>\n",
              "      <td>...</td>\n",
              "      <td>...</td>\n",
              "      <td>...</td>\n",
              "      <td>...</td>\n",
              "      <td>...</td>\n",
              "      <td>...</td>\n",
              "    </tr>\n",
              "    <tr>\n",
              "      <th>23855</th>\n",
              "      <td>575</td>\n",
              "      <td>Male</td>\n",
              "      <td>-1</td>\n",
              "      <td>45-49</td>\n",
              "      <td>France</td>\n",
              "      <td>Doctoral degree</td>\n",
              "      <td>Computer science (software engineering, etc.)</td>\n",
              "      <td>Chief Officer</td>\n",
              "      <td>-1</td>\n",
              "      <td>Computers/Technology</td>\n",
              "      <td>-1</td>\n",
              "      <td>5-10</td>\n",
              "      <td>250-300,000</td>\n",
              "      <td>We recently started using ML methods (i.e., mo...</td>\n",
              "      <td>NaN</td>\n",
              "      <td>Build and/or run a machine learning service th...</td>\n",
              "      <td>NaN</td>\n",
              "      <td>Build prototypes to explore applying machine l...</td>\n",
              "      <td>Do research that advances the state of the art...</td>\n",
              "      <td>NaN</td>\n",
              "      <td>NaN</td>\n",
              "      <td>-1</td>\n",
              "      <td>Local or hosted development environments (RStu...</td>\n",
              "      <td>-1</td>\n",
              "      <td>-1</td>\n",
              "      <td>-1</td>\n",
              "      <td>21</td>\n",
              "      <td>-1</td>\n",
              "      <td>-1</td>\n",
              "      <td>Jupyter/IPython</td>\n",
              "      <td>RStudio</td>\n",
              "      <td>PyCharm</td>\n",
              "      <td>NaN</td>\n",
              "      <td>NaN</td>\n",
              "      <td>NaN</td>\n",
              "      <td>MATLAB</td>\n",
              "      <td>NaN</td>\n",
              "      <td>NaN</td>\n",
              "      <td>Sublime Text</td>\n",
              "      <td>NaN</td>\n",
              "      <td>...</td>\n",
              "      <td>NaN</td>\n",
              "      <td>NaN</td>\n",
              "      <td>NaN</td>\n",
              "      <td>NaN</td>\n",
              "      <td>NaN</td>\n",
              "      <td>NaN</td>\n",
              "      <td>NaN</td>\n",
              "      <td>NaN</td>\n",
              "      <td>NaN</td>\n",
              "      <td>NaN</td>\n",
              "      <td>NaN</td>\n",
              "      <td>NaN</td>\n",
              "      <td>NaN</td>\n",
              "      <td>NaN</td>\n",
              "      <td>NaN</td>\n",
              "      <td>NaN</td>\n",
              "      <td>NaN</td>\n",
              "      <td>NaN</td>\n",
              "      <td>NaN</td>\n",
              "      <td>NaN</td>\n",
              "      <td>NaN</td>\n",
              "      <td>NaN</td>\n",
              "      <td>NaN</td>\n",
              "      <td>NaN</td>\n",
              "      <td>NaN</td>\n",
              "      <td>NaN</td>\n",
              "      <td>NaN</td>\n",
              "      <td>NaN</td>\n",
              "      <td>NaN</td>\n",
              "      <td>NaN</td>\n",
              "      <td>-1</td>\n",
              "      <td>NaN</td>\n",
              "      <td>NaN</td>\n",
              "      <td>NaN</td>\n",
              "      <td>NaN</td>\n",
              "      <td>NaN</td>\n",
              "      <td>NaN</td>\n",
              "      <td>NaN</td>\n",
              "      <td>NaN</td>\n",
              "      <td>-1</td>\n",
              "    </tr>\n",
              "    <tr>\n",
              "      <th>23856</th>\n",
              "      <td>131</td>\n",
              "      <td>Female</td>\n",
              "      <td>-1</td>\n",
              "      <td>25-29</td>\n",
              "      <td>Turkey</td>\n",
              "      <td>Master’s degree</td>\n",
              "      <td>Engineering (non-computer focused)</td>\n",
              "      <td>NaN</td>\n",
              "      <td>-1</td>\n",
              "      <td>NaN</td>\n",
              "      <td>-1</td>\n",
              "      <td>NaN</td>\n",
              "      <td>NaN</td>\n",
              "      <td>NaN</td>\n",
              "      <td>NaN</td>\n",
              "      <td>NaN</td>\n",
              "      <td>NaN</td>\n",
              "      <td>NaN</td>\n",
              "      <td>NaN</td>\n",
              "      <td>NaN</td>\n",
              "      <td>NaN</td>\n",
              "      <td>-1</td>\n",
              "      <td>NaN</td>\n",
              "      <td>-1</td>\n",
              "      <td>-1</td>\n",
              "      <td>-1</td>\n",
              "      <td>-1</td>\n",
              "      <td>-1</td>\n",
              "      <td>-1</td>\n",
              "      <td>NaN</td>\n",
              "      <td>NaN</td>\n",
              "      <td>NaN</td>\n",
              "      <td>NaN</td>\n",
              "      <td>NaN</td>\n",
              "      <td>NaN</td>\n",
              "      <td>NaN</td>\n",
              "      <td>NaN</td>\n",
              "      <td>NaN</td>\n",
              "      <td>NaN</td>\n",
              "      <td>NaN</td>\n",
              "      <td>...</td>\n",
              "      <td>NaN</td>\n",
              "      <td>NaN</td>\n",
              "      <td>NaN</td>\n",
              "      <td>NaN</td>\n",
              "      <td>NaN</td>\n",
              "      <td>NaN</td>\n",
              "      <td>NaN</td>\n",
              "      <td>NaN</td>\n",
              "      <td>NaN</td>\n",
              "      <td>NaN</td>\n",
              "      <td>NaN</td>\n",
              "      <td>NaN</td>\n",
              "      <td>NaN</td>\n",
              "      <td>NaN</td>\n",
              "      <td>NaN</td>\n",
              "      <td>NaN</td>\n",
              "      <td>NaN</td>\n",
              "      <td>NaN</td>\n",
              "      <td>NaN</td>\n",
              "      <td>NaN</td>\n",
              "      <td>NaN</td>\n",
              "      <td>NaN</td>\n",
              "      <td>NaN</td>\n",
              "      <td>NaN</td>\n",
              "      <td>NaN</td>\n",
              "      <td>NaN</td>\n",
              "      <td>NaN</td>\n",
              "      <td>NaN</td>\n",
              "      <td>NaN</td>\n",
              "      <td>NaN</td>\n",
              "      <td>-1</td>\n",
              "      <td>NaN</td>\n",
              "      <td>NaN</td>\n",
              "      <td>NaN</td>\n",
              "      <td>NaN</td>\n",
              "      <td>NaN</td>\n",
              "      <td>NaN</td>\n",
              "      <td>NaN</td>\n",
              "      <td>NaN</td>\n",
              "      <td>-1</td>\n",
              "    </tr>\n",
              "    <tr>\n",
              "      <th>23857</th>\n",
              "      <td>370</td>\n",
              "      <td>Male</td>\n",
              "      <td>-1</td>\n",
              "      <td>22-24</td>\n",
              "      <td>Turkey</td>\n",
              "      <td>Master’s degree</td>\n",
              "      <td>Computer science (software engineering, etc.)</td>\n",
              "      <td>Software Engineer</td>\n",
              "      <td>-1</td>\n",
              "      <td>Computers/Technology</td>\n",
              "      <td>-1</td>\n",
              "      <td>0-1</td>\n",
              "      <td>10-20,000</td>\n",
              "      <td>We recently started using ML methods (i.e., mo...</td>\n",
              "      <td>Analyze and understand data to influence produ...</td>\n",
              "      <td>Build and/or run a machine learning service th...</td>\n",
              "      <td>Build and/or run the data infrastructure that ...</td>\n",
              "      <td>Build prototypes to explore applying machine l...</td>\n",
              "      <td>NaN</td>\n",
              "      <td>NaN</td>\n",
              "      <td>NaN</td>\n",
              "      <td>-1</td>\n",
              "      <td>Local or hosted development environments (RStu...</td>\n",
              "      <td>-1</td>\n",
              "      <td>-1</td>\n",
              "      <td>-1</td>\n",
              "      <td>10</td>\n",
              "      <td>-1</td>\n",
              "      <td>-1</td>\n",
              "      <td>NaN</td>\n",
              "      <td>NaN</td>\n",
              "      <td>NaN</td>\n",
              "      <td>NaN</td>\n",
              "      <td>NaN</td>\n",
              "      <td>NaN</td>\n",
              "      <td>NaN</td>\n",
              "      <td>NaN</td>\n",
              "      <td>NaN</td>\n",
              "      <td>NaN</td>\n",
              "      <td>NaN</td>\n",
              "      <td>...</td>\n",
              "      <td>NaN</td>\n",
              "      <td>NaN</td>\n",
              "      <td>NaN</td>\n",
              "      <td>NaN</td>\n",
              "      <td>NaN</td>\n",
              "      <td>NaN</td>\n",
              "      <td>NaN</td>\n",
              "      <td>NaN</td>\n",
              "      <td>NaN</td>\n",
              "      <td>NaN</td>\n",
              "      <td>NaN</td>\n",
              "      <td>NaN</td>\n",
              "      <td>NaN</td>\n",
              "      <td>NaN</td>\n",
              "      <td>NaN</td>\n",
              "      <td>NaN</td>\n",
              "      <td>NaN</td>\n",
              "      <td>NaN</td>\n",
              "      <td>NaN</td>\n",
              "      <td>NaN</td>\n",
              "      <td>NaN</td>\n",
              "      <td>NaN</td>\n",
              "      <td>NaN</td>\n",
              "      <td>NaN</td>\n",
              "      <td>NaN</td>\n",
              "      <td>NaN</td>\n",
              "      <td>NaN</td>\n",
              "      <td>NaN</td>\n",
              "      <td>NaN</td>\n",
              "      <td>NaN</td>\n",
              "      <td>-1</td>\n",
              "      <td>NaN</td>\n",
              "      <td>NaN</td>\n",
              "      <td>NaN</td>\n",
              "      <td>NaN</td>\n",
              "      <td>NaN</td>\n",
              "      <td>NaN</td>\n",
              "      <td>NaN</td>\n",
              "      <td>NaN</td>\n",
              "      <td>-1</td>\n",
              "    </tr>\n",
              "    <tr>\n",
              "      <th>23858</th>\n",
              "      <td>36</td>\n",
              "      <td>Male</td>\n",
              "      <td>-1</td>\n",
              "      <td>25-29</td>\n",
              "      <td>United Kingdom of Great Britain and Northern I...</td>\n",
              "      <td>NaN</td>\n",
              "      <td>NaN</td>\n",
              "      <td>NaN</td>\n",
              "      <td>-1</td>\n",
              "      <td>NaN</td>\n",
              "      <td>-1</td>\n",
              "      <td>NaN</td>\n",
              "      <td>NaN</td>\n",
              "      <td>NaN</td>\n",
              "      <td>NaN</td>\n",
              "      <td>NaN</td>\n",
              "      <td>NaN</td>\n",
              "      <td>NaN</td>\n",
              "      <td>NaN</td>\n",
              "      <td>NaN</td>\n",
              "      <td>NaN</td>\n",
              "      <td>-1</td>\n",
              "      <td>NaN</td>\n",
              "      <td>-1</td>\n",
              "      <td>-1</td>\n",
              "      <td>-1</td>\n",
              "      <td>-1</td>\n",
              "      <td>-1</td>\n",
              "      <td>-1</td>\n",
              "      <td>NaN</td>\n",
              "      <td>NaN</td>\n",
              "      <td>NaN</td>\n",
              "      <td>NaN</td>\n",
              "      <td>NaN</td>\n",
              "      <td>NaN</td>\n",
              "      <td>NaN</td>\n",
              "      <td>NaN</td>\n",
              "      <td>NaN</td>\n",
              "      <td>NaN</td>\n",
              "      <td>NaN</td>\n",
              "      <td>...</td>\n",
              "      <td>NaN</td>\n",
              "      <td>NaN</td>\n",
              "      <td>NaN</td>\n",
              "      <td>NaN</td>\n",
              "      <td>NaN</td>\n",
              "      <td>NaN</td>\n",
              "      <td>NaN</td>\n",
              "      <td>NaN</td>\n",
              "      <td>NaN</td>\n",
              "      <td>NaN</td>\n",
              "      <td>NaN</td>\n",
              "      <td>NaN</td>\n",
              "      <td>NaN</td>\n",
              "      <td>NaN</td>\n",
              "      <td>NaN</td>\n",
              "      <td>NaN</td>\n",
              "      <td>NaN</td>\n",
              "      <td>NaN</td>\n",
              "      <td>NaN</td>\n",
              "      <td>NaN</td>\n",
              "      <td>NaN</td>\n",
              "      <td>NaN</td>\n",
              "      <td>NaN</td>\n",
              "      <td>NaN</td>\n",
              "      <td>NaN</td>\n",
              "      <td>NaN</td>\n",
              "      <td>NaN</td>\n",
              "      <td>NaN</td>\n",
              "      <td>NaN</td>\n",
              "      <td>NaN</td>\n",
              "      <td>-1</td>\n",
              "      <td>NaN</td>\n",
              "      <td>NaN</td>\n",
              "      <td>NaN</td>\n",
              "      <td>NaN</td>\n",
              "      <td>NaN</td>\n",
              "      <td>NaN</td>\n",
              "      <td>NaN</td>\n",
              "      <td>NaN</td>\n",
              "      <td>-1</td>\n",
              "    </tr>\n",
              "    <tr>\n",
              "      <th>23859</th>\n",
              "      <td>502</td>\n",
              "      <td>Male</td>\n",
              "      <td>-1</td>\n",
              "      <td>25-29</td>\n",
              "      <td>Spain</td>\n",
              "      <td>Master’s degree</td>\n",
              "      <td>Mathematics or statistics</td>\n",
              "      <td>NaN</td>\n",
              "      <td>-1</td>\n",
              "      <td>NaN</td>\n",
              "      <td>-1</td>\n",
              "      <td>NaN</td>\n",
              "      <td>NaN</td>\n",
              "      <td>NaN</td>\n",
              "      <td>NaN</td>\n",
              "      <td>NaN</td>\n",
              "      <td>NaN</td>\n",
              "      <td>NaN</td>\n",
              "      <td>NaN</td>\n",
              "      <td>NaN</td>\n",
              "      <td>NaN</td>\n",
              "      <td>-1</td>\n",
              "      <td>NaN</td>\n",
              "      <td>-1</td>\n",
              "      <td>-1</td>\n",
              "      <td>-1</td>\n",
              "      <td>-1</td>\n",
              "      <td>-1</td>\n",
              "      <td>-1</td>\n",
              "      <td>NaN</td>\n",
              "      <td>NaN</td>\n",
              "      <td>NaN</td>\n",
              "      <td>NaN</td>\n",
              "      <td>NaN</td>\n",
              "      <td>NaN</td>\n",
              "      <td>NaN</td>\n",
              "      <td>NaN</td>\n",
              "      <td>NaN</td>\n",
              "      <td>NaN</td>\n",
              "      <td>NaN</td>\n",
              "      <td>...</td>\n",
              "      <td>NaN</td>\n",
              "      <td>NaN</td>\n",
              "      <td>NaN</td>\n",
              "      <td>NaN</td>\n",
              "      <td>NaN</td>\n",
              "      <td>NaN</td>\n",
              "      <td>NaN</td>\n",
              "      <td>NaN</td>\n",
              "      <td>NaN</td>\n",
              "      <td>NaN</td>\n",
              "      <td>NaN</td>\n",
              "      <td>NaN</td>\n",
              "      <td>NaN</td>\n",
              "      <td>NaN</td>\n",
              "      <td>NaN</td>\n",
              "      <td>NaN</td>\n",
              "      <td>NaN</td>\n",
              "      <td>NaN</td>\n",
              "      <td>NaN</td>\n",
              "      <td>NaN</td>\n",
              "      <td>NaN</td>\n",
              "      <td>NaN</td>\n",
              "      <td>NaN</td>\n",
              "      <td>NaN</td>\n",
              "      <td>NaN</td>\n",
              "      <td>NaN</td>\n",
              "      <td>NaN</td>\n",
              "      <td>NaN</td>\n",
              "      <td>NaN</td>\n",
              "      <td>NaN</td>\n",
              "      <td>-1</td>\n",
              "      <td>NaN</td>\n",
              "      <td>NaN</td>\n",
              "      <td>NaN</td>\n",
              "      <td>NaN</td>\n",
              "      <td>NaN</td>\n",
              "      <td>NaN</td>\n",
              "      <td>NaN</td>\n",
              "      <td>NaN</td>\n",
              "      <td>-1</td>\n",
              "    </tr>\n",
              "  </tbody>\n",
              "</table>\n",
              "<p>23860 rows × 395 columns</p>\n",
              "</div>"
            ],
            "text/plain": [
              "      Time from Start to Finish (seconds)  ...                                     Q50_OTHER_TEXT\n",
              "0                   Duration (in seconds)  ...  What barriers prevent you from making your wor...\n",
              "1                                     710  ...                                                 -1\n",
              "2                                     434  ...                                                 -1\n",
              "3                                     718  ...                                                 -1\n",
              "4                                     621  ...                                                 -1\n",
              "...                                   ...  ...                                                ...\n",
              "23855                                 575  ...                                                 -1\n",
              "23856                                 131  ...                                                 -1\n",
              "23857                                 370  ...                                                 -1\n",
              "23858                                  36  ...                                                 -1\n",
              "23859                                 502  ...                                                 -1\n",
              "\n",
              "[23860 rows x 395 columns]"
            ]
          },
          "metadata": {
            "tags": []
          },
          "execution_count": 173
        }
      ]
    },
    {
      "cell_type": "code",
      "metadata": {
        "colab": {
          "base_uri": "https://localhost:8080/",
          "height": 1311
        },
        "id": "vsSWYaY11Hyo",
        "outputId": "705e989c-de72-4153-e697-e006311a6303"
      },
      "source": [
        "df=df1.drop_duplicates()                  #remove duplicate rows\n",
        "df"
      ],
      "execution_count": 174,
      "outputs": [
        {
          "output_type": "execute_result",
          "data": {
            "text/html": [
              "<div>\n",
              "<style scoped>\n",
              "    .dataframe tbody tr th:only-of-type {\n",
              "        vertical-align: middle;\n",
              "    }\n",
              "\n",
              "    .dataframe tbody tr th {\n",
              "        vertical-align: top;\n",
              "    }\n",
              "\n",
              "    .dataframe thead th {\n",
              "        text-align: right;\n",
              "    }\n",
              "</style>\n",
              "<table border=\"1\" class=\"dataframe\">\n",
              "  <thead>\n",
              "    <tr style=\"text-align: right;\">\n",
              "      <th></th>\n",
              "      <th>Time from Start to Finish (seconds)</th>\n",
              "      <th>Q1</th>\n",
              "      <th>Q1_OTHER_TEXT</th>\n",
              "      <th>Q2</th>\n",
              "      <th>Q3</th>\n",
              "      <th>Q4</th>\n",
              "      <th>Q5</th>\n",
              "      <th>Q6</th>\n",
              "      <th>Q6_OTHER_TEXT</th>\n",
              "      <th>Q7</th>\n",
              "      <th>Q7_OTHER_TEXT</th>\n",
              "      <th>Q8</th>\n",
              "      <th>Q9</th>\n",
              "      <th>Q10</th>\n",
              "      <th>Q11_Part_1</th>\n",
              "      <th>Q11_Part_2</th>\n",
              "      <th>Q11_Part_3</th>\n",
              "      <th>Q11_Part_4</th>\n",
              "      <th>Q11_Part_5</th>\n",
              "      <th>Q11_Part_6</th>\n",
              "      <th>Q11_Part_7</th>\n",
              "      <th>Q11_OTHER_TEXT</th>\n",
              "      <th>Q12_MULTIPLE_CHOICE</th>\n",
              "      <th>Q12_Part_1_TEXT</th>\n",
              "      <th>Q12_Part_2_TEXT</th>\n",
              "      <th>Q12_Part_3_TEXT</th>\n",
              "      <th>Q12_Part_4_TEXT</th>\n",
              "      <th>Q12_Part_5_TEXT</th>\n",
              "      <th>Q12_OTHER_TEXT</th>\n",
              "      <th>Q13_Part_1</th>\n",
              "      <th>Q13_Part_2</th>\n",
              "      <th>Q13_Part_3</th>\n",
              "      <th>Q13_Part_4</th>\n",
              "      <th>Q13_Part_5</th>\n",
              "      <th>Q13_Part_6</th>\n",
              "      <th>Q13_Part_7</th>\n",
              "      <th>Q13_Part_8</th>\n",
              "      <th>Q13_Part_9</th>\n",
              "      <th>Q13_Part_10</th>\n",
              "      <th>Q13_Part_11</th>\n",
              "      <th>...</th>\n",
              "      <th>Q46</th>\n",
              "      <th>Q47_Part_1</th>\n",
              "      <th>Q47_Part_2</th>\n",
              "      <th>Q47_Part_3</th>\n",
              "      <th>Q47_Part_4</th>\n",
              "      <th>Q47_Part_5</th>\n",
              "      <th>Q47_Part_6</th>\n",
              "      <th>Q47_Part_7</th>\n",
              "      <th>Q47_Part_8</th>\n",
              "      <th>Q47_Part_9</th>\n",
              "      <th>Q47_Part_10</th>\n",
              "      <th>Q47_Part_11</th>\n",
              "      <th>Q47_Part_12</th>\n",
              "      <th>Q47_Part_13</th>\n",
              "      <th>Q47_Part_14</th>\n",
              "      <th>Q47_Part_15</th>\n",
              "      <th>Q47_Part_16</th>\n",
              "      <th>Q48</th>\n",
              "      <th>Q49_Part_1</th>\n",
              "      <th>Q49_Part_2</th>\n",
              "      <th>Q49_Part_3</th>\n",
              "      <th>Q49_Part_4</th>\n",
              "      <th>Q49_Part_5</th>\n",
              "      <th>Q49_Part_6</th>\n",
              "      <th>Q49_Part_7</th>\n",
              "      <th>Q49_Part_8</th>\n",
              "      <th>Q49_Part_9</th>\n",
              "      <th>Q49_Part_10</th>\n",
              "      <th>Q49_Part_11</th>\n",
              "      <th>Q49_Part_12</th>\n",
              "      <th>Q49_OTHER_TEXT</th>\n",
              "      <th>Q50_Part_1</th>\n",
              "      <th>Q50_Part_2</th>\n",
              "      <th>Q50_Part_3</th>\n",
              "      <th>Q50_Part_4</th>\n",
              "      <th>Q50_Part_5</th>\n",
              "      <th>Q50_Part_6</th>\n",
              "      <th>Q50_Part_7</th>\n",
              "      <th>Q50_Part_8</th>\n",
              "      <th>Q50_OTHER_TEXT</th>\n",
              "    </tr>\n",
              "  </thead>\n",
              "  <tbody>\n",
              "    <tr>\n",
              "      <th>0</th>\n",
              "      <td>Duration (in seconds)</td>\n",
              "      <td>What is your gender? - Selected Choice</td>\n",
              "      <td>What is your gender? - Prefer to self-describe...</td>\n",
              "      <td>What is your age (# years)?</td>\n",
              "      <td>In which country do you currently reside?</td>\n",
              "      <td>What is the highest level of formal education ...</td>\n",
              "      <td>Which best describes your undergraduate major?...</td>\n",
              "      <td>Select the title most similar to your current ...</td>\n",
              "      <td>Select the title most similar to your current ...</td>\n",
              "      <td>In what industry is your current employer/cont...</td>\n",
              "      <td>In what industry is your current employer/cont...</td>\n",
              "      <td>How many years of experience do you have in yo...</td>\n",
              "      <td>What is your current yearly compensation (appr...</td>\n",
              "      <td>Does your current employer incorporate machine...</td>\n",
              "      <td>Select any activities that make up an importan...</td>\n",
              "      <td>Select any activities that make up an importan...</td>\n",
              "      <td>Select any activities that make up an importan...</td>\n",
              "      <td>Select any activities that make up an importan...</td>\n",
              "      <td>Select any activities that make up an importan...</td>\n",
              "      <td>Select any activities that make up an importan...</td>\n",
              "      <td>Select any activities that make up an importan...</td>\n",
              "      <td>Select any activities that make up an importan...</td>\n",
              "      <td>What is the primary tool that you use at work ...</td>\n",
              "      <td>What is the primary tool that you use at work ...</td>\n",
              "      <td>What is the primary tool that you use at work ...</td>\n",
              "      <td>What is the primary tool that you use at work ...</td>\n",
              "      <td>What is the primary tool that you use at work ...</td>\n",
              "      <td>What is the primary tool that you use at work ...</td>\n",
              "      <td>What is the primary tool that you use at work ...</td>\n",
              "      <td>Which of the following integrated development ...</td>\n",
              "      <td>Which of the following integrated development ...</td>\n",
              "      <td>Which of the following integrated development ...</td>\n",
              "      <td>Which of the following integrated development ...</td>\n",
              "      <td>Which of the following integrated development ...</td>\n",
              "      <td>Which of the following integrated development ...</td>\n",
              "      <td>Which of the following integrated development ...</td>\n",
              "      <td>Which of the following integrated development ...</td>\n",
              "      <td>Which of the following integrated development ...</td>\n",
              "      <td>Which of the following integrated development ...</td>\n",
              "      <td>Which of the following integrated development ...</td>\n",
              "      <td>...</td>\n",
              "      <td>Approximately what percent of your data projec...</td>\n",
              "      <td>What methods do you prefer for explaining and/...</td>\n",
              "      <td>What methods do you prefer for explaining and/...</td>\n",
              "      <td>What methods do you prefer for explaining and/...</td>\n",
              "      <td>What methods do you prefer for explaining and/...</td>\n",
              "      <td>What methods do you prefer for explaining and/...</td>\n",
              "      <td>What methods do you prefer for explaining and/...</td>\n",
              "      <td>What methods do you prefer for explaining and/...</td>\n",
              "      <td>What methods do you prefer for explaining and/...</td>\n",
              "      <td>What methods do you prefer for explaining and/...</td>\n",
              "      <td>What methods do you prefer for explaining and/...</td>\n",
              "      <td>What methods do you prefer for explaining and/...</td>\n",
              "      <td>What methods do you prefer for explaining and/...</td>\n",
              "      <td>What methods do you prefer for explaining and/...</td>\n",
              "      <td>What methods do you prefer for explaining and/...</td>\n",
              "      <td>What methods do you prefer for explaining and/...</td>\n",
              "      <td>What methods do you prefer for explaining and/...</td>\n",
              "      <td>Do you consider ML models to be \"black boxes\" ...</td>\n",
              "      <td>What tools and methods do you use to make your...</td>\n",
              "      <td>What tools and methods do you use to make your...</td>\n",
              "      <td>What tools and methods do you use to make your...</td>\n",
              "      <td>What tools and methods do you use to make your...</td>\n",
              "      <td>What tools and methods do you use to make your...</td>\n",
              "      <td>What tools and methods do you use to make your...</td>\n",
              "      <td>What tools and methods do you use to make your...</td>\n",
              "      <td>What tools and methods do you use to make your...</td>\n",
              "      <td>What tools and methods do you use to make your...</td>\n",
              "      <td>What tools and methods do you use to make your...</td>\n",
              "      <td>What tools and methods do you use to make your...</td>\n",
              "      <td>What tools and methods do you use to make your...</td>\n",
              "      <td>What tools and methods do you use to make your...</td>\n",
              "      <td>What barriers prevent you from making your wor...</td>\n",
              "      <td>What barriers prevent you from making your wor...</td>\n",
              "      <td>What barriers prevent you from making your wor...</td>\n",
              "      <td>What barriers prevent you from making your wor...</td>\n",
              "      <td>What barriers prevent you from making your wor...</td>\n",
              "      <td>What barriers prevent you from making your wor...</td>\n",
              "      <td>What barriers prevent you from making your wor...</td>\n",
              "      <td>What barriers prevent you from making your wor...</td>\n",
              "      <td>What barriers prevent you from making your wor...</td>\n",
              "    </tr>\n",
              "    <tr>\n",
              "      <th>1</th>\n",
              "      <td>710</td>\n",
              "      <td>Female</td>\n",
              "      <td>-1</td>\n",
              "      <td>45-49</td>\n",
              "      <td>United States of America</td>\n",
              "      <td>Doctoral degree</td>\n",
              "      <td>Other</td>\n",
              "      <td>Consultant</td>\n",
              "      <td>-1</td>\n",
              "      <td>Other</td>\n",
              "      <td>0</td>\n",
              "      <td>NaN</td>\n",
              "      <td>NaN</td>\n",
              "      <td>I do not know</td>\n",
              "      <td>Analyze and understand data to influence produ...</td>\n",
              "      <td>Build and/or run a machine learning service th...</td>\n",
              "      <td>Build and/or run the data infrastructure that ...</td>\n",
              "      <td>NaN</td>\n",
              "      <td>Do research that advances the state of the art...</td>\n",
              "      <td>NaN</td>\n",
              "      <td>NaN</td>\n",
              "      <td>-1</td>\n",
              "      <td>Cloud-based data software &amp; APIs (AWS, GCP, Az...</td>\n",
              "      <td>-1</td>\n",
              "      <td>-1</td>\n",
              "      <td>-1</td>\n",
              "      <td>-1</td>\n",
              "      <td>0</td>\n",
              "      <td>-1</td>\n",
              "      <td>Jupyter/IPython</td>\n",
              "      <td>NaN</td>\n",
              "      <td>NaN</td>\n",
              "      <td>NaN</td>\n",
              "      <td>NaN</td>\n",
              "      <td>NaN</td>\n",
              "      <td>NaN</td>\n",
              "      <td>NaN</td>\n",
              "      <td>NaN</td>\n",
              "      <td>NaN</td>\n",
              "      <td>NaN</td>\n",
              "      <td>...</td>\n",
              "      <td>NaN</td>\n",
              "      <td>NaN</td>\n",
              "      <td>NaN</td>\n",
              "      <td>NaN</td>\n",
              "      <td>NaN</td>\n",
              "      <td>NaN</td>\n",
              "      <td>NaN</td>\n",
              "      <td>NaN</td>\n",
              "      <td>NaN</td>\n",
              "      <td>NaN</td>\n",
              "      <td>NaN</td>\n",
              "      <td>NaN</td>\n",
              "      <td>NaN</td>\n",
              "      <td>NaN</td>\n",
              "      <td>NaN</td>\n",
              "      <td>NaN</td>\n",
              "      <td>NaN</td>\n",
              "      <td>NaN</td>\n",
              "      <td>NaN</td>\n",
              "      <td>NaN</td>\n",
              "      <td>NaN</td>\n",
              "      <td>NaN</td>\n",
              "      <td>NaN</td>\n",
              "      <td>NaN</td>\n",
              "      <td>NaN</td>\n",
              "      <td>NaN</td>\n",
              "      <td>NaN</td>\n",
              "      <td>NaN</td>\n",
              "      <td>NaN</td>\n",
              "      <td>NaN</td>\n",
              "      <td>-1</td>\n",
              "      <td>NaN</td>\n",
              "      <td>NaN</td>\n",
              "      <td>NaN</td>\n",
              "      <td>NaN</td>\n",
              "      <td>NaN</td>\n",
              "      <td>NaN</td>\n",
              "      <td>NaN</td>\n",
              "      <td>NaN</td>\n",
              "      <td>-1</td>\n",
              "    </tr>\n",
              "    <tr>\n",
              "      <th>2</th>\n",
              "      <td>434</td>\n",
              "      <td>Male</td>\n",
              "      <td>-1</td>\n",
              "      <td>30-34</td>\n",
              "      <td>Indonesia</td>\n",
              "      <td>Bachelor’s degree</td>\n",
              "      <td>Engineering (non-computer focused)</td>\n",
              "      <td>Other</td>\n",
              "      <td>0</td>\n",
              "      <td>Manufacturing/Fabrication</td>\n",
              "      <td>-1</td>\n",
              "      <td>5-10</td>\n",
              "      <td>10-20,000</td>\n",
              "      <td>No (we do not use ML methods)</td>\n",
              "      <td>NaN</td>\n",
              "      <td>NaN</td>\n",
              "      <td>NaN</td>\n",
              "      <td>NaN</td>\n",
              "      <td>NaN</td>\n",
              "      <td>None of these activities are an important part...</td>\n",
              "      <td>NaN</td>\n",
              "      <td>-1</td>\n",
              "      <td>Basic statistical software (Microsoft Excel, G...</td>\n",
              "      <td>1</td>\n",
              "      <td>-1</td>\n",
              "      <td>-1</td>\n",
              "      <td>-1</td>\n",
              "      <td>-1</td>\n",
              "      <td>-1</td>\n",
              "      <td>NaN</td>\n",
              "      <td>NaN</td>\n",
              "      <td>NaN</td>\n",
              "      <td>NaN</td>\n",
              "      <td>NaN</td>\n",
              "      <td>NaN</td>\n",
              "      <td>NaN</td>\n",
              "      <td>NaN</td>\n",
              "      <td>NaN</td>\n",
              "      <td>NaN</td>\n",
              "      <td>NaN</td>\n",
              "      <td>...</td>\n",
              "      <td>NaN</td>\n",
              "      <td>NaN</td>\n",
              "      <td>NaN</td>\n",
              "      <td>NaN</td>\n",
              "      <td>NaN</td>\n",
              "      <td>NaN</td>\n",
              "      <td>NaN</td>\n",
              "      <td>NaN</td>\n",
              "      <td>NaN</td>\n",
              "      <td>NaN</td>\n",
              "      <td>NaN</td>\n",
              "      <td>NaN</td>\n",
              "      <td>NaN</td>\n",
              "      <td>NaN</td>\n",
              "      <td>NaN</td>\n",
              "      <td>NaN</td>\n",
              "      <td>NaN</td>\n",
              "      <td>NaN</td>\n",
              "      <td>NaN</td>\n",
              "      <td>NaN</td>\n",
              "      <td>NaN</td>\n",
              "      <td>NaN</td>\n",
              "      <td>NaN</td>\n",
              "      <td>NaN</td>\n",
              "      <td>NaN</td>\n",
              "      <td>NaN</td>\n",
              "      <td>NaN</td>\n",
              "      <td>NaN</td>\n",
              "      <td>NaN</td>\n",
              "      <td>NaN</td>\n",
              "      <td>-1</td>\n",
              "      <td>NaN</td>\n",
              "      <td>NaN</td>\n",
              "      <td>NaN</td>\n",
              "      <td>NaN</td>\n",
              "      <td>NaN</td>\n",
              "      <td>NaN</td>\n",
              "      <td>NaN</td>\n",
              "      <td>NaN</td>\n",
              "      <td>-1</td>\n",
              "    </tr>\n",
              "    <tr>\n",
              "      <th>3</th>\n",
              "      <td>718</td>\n",
              "      <td>Female</td>\n",
              "      <td>-1</td>\n",
              "      <td>30-34</td>\n",
              "      <td>United States of America</td>\n",
              "      <td>Master’s degree</td>\n",
              "      <td>Computer science (software engineering, etc.)</td>\n",
              "      <td>Data Scientist</td>\n",
              "      <td>-1</td>\n",
              "      <td>I am a student</td>\n",
              "      <td>-1</td>\n",
              "      <td>0-1</td>\n",
              "      <td>0-10,000</td>\n",
              "      <td>I do not know</td>\n",
              "      <td>Analyze and understand data to influence produ...</td>\n",
              "      <td>NaN</td>\n",
              "      <td>NaN</td>\n",
              "      <td>NaN</td>\n",
              "      <td>NaN</td>\n",
              "      <td>NaN</td>\n",
              "      <td>NaN</td>\n",
              "      <td>-1</td>\n",
              "      <td>Local or hosted development environments (RStu...</td>\n",
              "      <td>-1</td>\n",
              "      <td>-1</td>\n",
              "      <td>-1</td>\n",
              "      <td>0</td>\n",
              "      <td>-1</td>\n",
              "      <td>-1</td>\n",
              "      <td>NaN</td>\n",
              "      <td>NaN</td>\n",
              "      <td>NaN</td>\n",
              "      <td>NaN</td>\n",
              "      <td>NaN</td>\n",
              "      <td>NaN</td>\n",
              "      <td>MATLAB</td>\n",
              "      <td>NaN</td>\n",
              "      <td>NaN</td>\n",
              "      <td>NaN</td>\n",
              "      <td>NaN</td>\n",
              "      <td>...</td>\n",
              "      <td>10-20</td>\n",
              "      <td>NaN</td>\n",
              "      <td>Examine feature correlations</td>\n",
              "      <td>Examine feature importances</td>\n",
              "      <td>NaN</td>\n",
              "      <td>NaN</td>\n",
              "      <td>NaN</td>\n",
              "      <td>NaN</td>\n",
              "      <td>Plot predicted vs. actual results</td>\n",
              "      <td>NaN</td>\n",
              "      <td>NaN</td>\n",
              "      <td>NaN</td>\n",
              "      <td>NaN</td>\n",
              "      <td>NaN</td>\n",
              "      <td>NaN</td>\n",
              "      <td>NaN</td>\n",
              "      <td>NaN</td>\n",
              "      <td>I am confident that I can explain the outputs ...</td>\n",
              "      <td>NaN</td>\n",
              "      <td>NaN</td>\n",
              "      <td>NaN</td>\n",
              "      <td>NaN</td>\n",
              "      <td>NaN</td>\n",
              "      <td>NaN</td>\n",
              "      <td>Make sure the code is human-readable</td>\n",
              "      <td>Define all random seeds</td>\n",
              "      <td>NaN</td>\n",
              "      <td>Include a text file describing all dependencies</td>\n",
              "      <td>NaN</td>\n",
              "      <td>NaN</td>\n",
              "      <td>-1</td>\n",
              "      <td>NaN</td>\n",
              "      <td>Too time-consuming</td>\n",
              "      <td>NaN</td>\n",
              "      <td>NaN</td>\n",
              "      <td>NaN</td>\n",
              "      <td>NaN</td>\n",
              "      <td>NaN</td>\n",
              "      <td>NaN</td>\n",
              "      <td>-1</td>\n",
              "    </tr>\n",
              "    <tr>\n",
              "      <th>4</th>\n",
              "      <td>621</td>\n",
              "      <td>Male</td>\n",
              "      <td>-1</td>\n",
              "      <td>35-39</td>\n",
              "      <td>United States of America</td>\n",
              "      <td>Master’s degree</td>\n",
              "      <td>Social sciences (anthropology, psychology, soc...</td>\n",
              "      <td>Not employed</td>\n",
              "      <td>-1</td>\n",
              "      <td>NaN</td>\n",
              "      <td>-1</td>\n",
              "      <td>NaN</td>\n",
              "      <td>NaN</td>\n",
              "      <td>NaN</td>\n",
              "      <td>NaN</td>\n",
              "      <td>NaN</td>\n",
              "      <td>NaN</td>\n",
              "      <td>NaN</td>\n",
              "      <td>NaN</td>\n",
              "      <td>NaN</td>\n",
              "      <td>NaN</td>\n",
              "      <td>-1</td>\n",
              "      <td>Local or hosted development environments (RStu...</td>\n",
              "      <td>-1</td>\n",
              "      <td>-1</td>\n",
              "      <td>-1</td>\n",
              "      <td>1</td>\n",
              "      <td>-1</td>\n",
              "      <td>-1</td>\n",
              "      <td>Jupyter/IPython</td>\n",
              "      <td>RStudio</td>\n",
              "      <td>PyCharm</td>\n",
              "      <td>NaN</td>\n",
              "      <td>NaN</td>\n",
              "      <td>NaN</td>\n",
              "      <td>NaN</td>\n",
              "      <td>Visual Studio</td>\n",
              "      <td>NaN</td>\n",
              "      <td>NaN</td>\n",
              "      <td>Vim</td>\n",
              "      <td>...</td>\n",
              "      <td>20-30</td>\n",
              "      <td>NaN</td>\n",
              "      <td>Examine feature correlations</td>\n",
              "      <td>Examine feature importances</td>\n",
              "      <td>Plot decision boundaries</td>\n",
              "      <td>NaN</td>\n",
              "      <td>NaN</td>\n",
              "      <td>NaN</td>\n",
              "      <td>Plot predicted vs. actual results</td>\n",
              "      <td>NaN</td>\n",
              "      <td>Sensitivity analysis/perturbation importance</td>\n",
              "      <td>NaN</td>\n",
              "      <td>NaN</td>\n",
              "      <td>NaN</td>\n",
              "      <td>NaN</td>\n",
              "      <td>NaN</td>\n",
              "      <td>NaN</td>\n",
              "      <td>Yes, most ML models are \"black boxes\"</td>\n",
              "      <td>NaN</td>\n",
              "      <td>NaN</td>\n",
              "      <td>Share data, code, and environment using a host...</td>\n",
              "      <td>NaN</td>\n",
              "      <td>NaN</td>\n",
              "      <td>NaN</td>\n",
              "      <td>Make sure the code is human-readable</td>\n",
              "      <td>NaN</td>\n",
              "      <td>Define relative rather than absolute file paths</td>\n",
              "      <td>NaN</td>\n",
              "      <td>NaN</td>\n",
              "      <td>NaN</td>\n",
              "      <td>-1</td>\n",
              "      <td>NaN</td>\n",
              "      <td>NaN</td>\n",
              "      <td>Requires too much technical knowledge</td>\n",
              "      <td>NaN</td>\n",
              "      <td>Not enough incentives to share my work</td>\n",
              "      <td>NaN</td>\n",
              "      <td>NaN</td>\n",
              "      <td>NaN</td>\n",
              "      <td>-1</td>\n",
              "    </tr>\n",
              "    <tr>\n",
              "      <th>...</th>\n",
              "      <td>...</td>\n",
              "      <td>...</td>\n",
              "      <td>...</td>\n",
              "      <td>...</td>\n",
              "      <td>...</td>\n",
              "      <td>...</td>\n",
              "      <td>...</td>\n",
              "      <td>...</td>\n",
              "      <td>...</td>\n",
              "      <td>...</td>\n",
              "      <td>...</td>\n",
              "      <td>...</td>\n",
              "      <td>...</td>\n",
              "      <td>...</td>\n",
              "      <td>...</td>\n",
              "      <td>...</td>\n",
              "      <td>...</td>\n",
              "      <td>...</td>\n",
              "      <td>...</td>\n",
              "      <td>...</td>\n",
              "      <td>...</td>\n",
              "      <td>...</td>\n",
              "      <td>...</td>\n",
              "      <td>...</td>\n",
              "      <td>...</td>\n",
              "      <td>...</td>\n",
              "      <td>...</td>\n",
              "      <td>...</td>\n",
              "      <td>...</td>\n",
              "      <td>...</td>\n",
              "      <td>...</td>\n",
              "      <td>...</td>\n",
              "      <td>...</td>\n",
              "      <td>...</td>\n",
              "      <td>...</td>\n",
              "      <td>...</td>\n",
              "      <td>...</td>\n",
              "      <td>...</td>\n",
              "      <td>...</td>\n",
              "      <td>...</td>\n",
              "      <td>...</td>\n",
              "      <td>...</td>\n",
              "      <td>...</td>\n",
              "      <td>...</td>\n",
              "      <td>...</td>\n",
              "      <td>...</td>\n",
              "      <td>...</td>\n",
              "      <td>...</td>\n",
              "      <td>...</td>\n",
              "      <td>...</td>\n",
              "      <td>...</td>\n",
              "      <td>...</td>\n",
              "      <td>...</td>\n",
              "      <td>...</td>\n",
              "      <td>...</td>\n",
              "      <td>...</td>\n",
              "      <td>...</td>\n",
              "      <td>...</td>\n",
              "      <td>...</td>\n",
              "      <td>...</td>\n",
              "      <td>...</td>\n",
              "      <td>...</td>\n",
              "      <td>...</td>\n",
              "      <td>...</td>\n",
              "      <td>...</td>\n",
              "      <td>...</td>\n",
              "      <td>...</td>\n",
              "      <td>...</td>\n",
              "      <td>...</td>\n",
              "      <td>...</td>\n",
              "      <td>...</td>\n",
              "      <td>...</td>\n",
              "      <td>...</td>\n",
              "      <td>...</td>\n",
              "      <td>...</td>\n",
              "      <td>...</td>\n",
              "      <td>...</td>\n",
              "      <td>...</td>\n",
              "      <td>...</td>\n",
              "      <td>...</td>\n",
              "      <td>...</td>\n",
              "    </tr>\n",
              "    <tr>\n",
              "      <th>23855</th>\n",
              "      <td>575</td>\n",
              "      <td>Male</td>\n",
              "      <td>-1</td>\n",
              "      <td>45-49</td>\n",
              "      <td>France</td>\n",
              "      <td>Doctoral degree</td>\n",
              "      <td>Computer science (software engineering, etc.)</td>\n",
              "      <td>Chief Officer</td>\n",
              "      <td>-1</td>\n",
              "      <td>Computers/Technology</td>\n",
              "      <td>-1</td>\n",
              "      <td>5-10</td>\n",
              "      <td>250-300,000</td>\n",
              "      <td>We recently started using ML methods (i.e., mo...</td>\n",
              "      <td>NaN</td>\n",
              "      <td>Build and/or run a machine learning service th...</td>\n",
              "      <td>NaN</td>\n",
              "      <td>Build prototypes to explore applying machine l...</td>\n",
              "      <td>Do research that advances the state of the art...</td>\n",
              "      <td>NaN</td>\n",
              "      <td>NaN</td>\n",
              "      <td>-1</td>\n",
              "      <td>Local or hosted development environments (RStu...</td>\n",
              "      <td>-1</td>\n",
              "      <td>-1</td>\n",
              "      <td>-1</td>\n",
              "      <td>21</td>\n",
              "      <td>-1</td>\n",
              "      <td>-1</td>\n",
              "      <td>Jupyter/IPython</td>\n",
              "      <td>RStudio</td>\n",
              "      <td>PyCharm</td>\n",
              "      <td>NaN</td>\n",
              "      <td>NaN</td>\n",
              "      <td>NaN</td>\n",
              "      <td>MATLAB</td>\n",
              "      <td>NaN</td>\n",
              "      <td>NaN</td>\n",
              "      <td>Sublime Text</td>\n",
              "      <td>NaN</td>\n",
              "      <td>...</td>\n",
              "      <td>NaN</td>\n",
              "      <td>NaN</td>\n",
              "      <td>NaN</td>\n",
              "      <td>NaN</td>\n",
              "      <td>NaN</td>\n",
              "      <td>NaN</td>\n",
              "      <td>NaN</td>\n",
              "      <td>NaN</td>\n",
              "      <td>NaN</td>\n",
              "      <td>NaN</td>\n",
              "      <td>NaN</td>\n",
              "      <td>NaN</td>\n",
              "      <td>NaN</td>\n",
              "      <td>NaN</td>\n",
              "      <td>NaN</td>\n",
              "      <td>NaN</td>\n",
              "      <td>NaN</td>\n",
              "      <td>NaN</td>\n",
              "      <td>NaN</td>\n",
              "      <td>NaN</td>\n",
              "      <td>NaN</td>\n",
              "      <td>NaN</td>\n",
              "      <td>NaN</td>\n",
              "      <td>NaN</td>\n",
              "      <td>NaN</td>\n",
              "      <td>NaN</td>\n",
              "      <td>NaN</td>\n",
              "      <td>NaN</td>\n",
              "      <td>NaN</td>\n",
              "      <td>NaN</td>\n",
              "      <td>-1</td>\n",
              "      <td>NaN</td>\n",
              "      <td>NaN</td>\n",
              "      <td>NaN</td>\n",
              "      <td>NaN</td>\n",
              "      <td>NaN</td>\n",
              "      <td>NaN</td>\n",
              "      <td>NaN</td>\n",
              "      <td>NaN</td>\n",
              "      <td>-1</td>\n",
              "    </tr>\n",
              "    <tr>\n",
              "      <th>23856</th>\n",
              "      <td>131</td>\n",
              "      <td>Female</td>\n",
              "      <td>-1</td>\n",
              "      <td>25-29</td>\n",
              "      <td>Turkey</td>\n",
              "      <td>Master’s degree</td>\n",
              "      <td>Engineering (non-computer focused)</td>\n",
              "      <td>NaN</td>\n",
              "      <td>-1</td>\n",
              "      <td>NaN</td>\n",
              "      <td>-1</td>\n",
              "      <td>NaN</td>\n",
              "      <td>NaN</td>\n",
              "      <td>NaN</td>\n",
              "      <td>NaN</td>\n",
              "      <td>NaN</td>\n",
              "      <td>NaN</td>\n",
              "      <td>NaN</td>\n",
              "      <td>NaN</td>\n",
              "      <td>NaN</td>\n",
              "      <td>NaN</td>\n",
              "      <td>-1</td>\n",
              "      <td>NaN</td>\n",
              "      <td>-1</td>\n",
              "      <td>-1</td>\n",
              "      <td>-1</td>\n",
              "      <td>-1</td>\n",
              "      <td>-1</td>\n",
              "      <td>-1</td>\n",
              "      <td>NaN</td>\n",
              "      <td>NaN</td>\n",
              "      <td>NaN</td>\n",
              "      <td>NaN</td>\n",
              "      <td>NaN</td>\n",
              "      <td>NaN</td>\n",
              "      <td>NaN</td>\n",
              "      <td>NaN</td>\n",
              "      <td>NaN</td>\n",
              "      <td>NaN</td>\n",
              "      <td>NaN</td>\n",
              "      <td>...</td>\n",
              "      <td>NaN</td>\n",
              "      <td>NaN</td>\n",
              "      <td>NaN</td>\n",
              "      <td>NaN</td>\n",
              "      <td>NaN</td>\n",
              "      <td>NaN</td>\n",
              "      <td>NaN</td>\n",
              "      <td>NaN</td>\n",
              "      <td>NaN</td>\n",
              "      <td>NaN</td>\n",
              "      <td>NaN</td>\n",
              "      <td>NaN</td>\n",
              "      <td>NaN</td>\n",
              "      <td>NaN</td>\n",
              "      <td>NaN</td>\n",
              "      <td>NaN</td>\n",
              "      <td>NaN</td>\n",
              "      <td>NaN</td>\n",
              "      <td>NaN</td>\n",
              "      <td>NaN</td>\n",
              "      <td>NaN</td>\n",
              "      <td>NaN</td>\n",
              "      <td>NaN</td>\n",
              "      <td>NaN</td>\n",
              "      <td>NaN</td>\n",
              "      <td>NaN</td>\n",
              "      <td>NaN</td>\n",
              "      <td>NaN</td>\n",
              "      <td>NaN</td>\n",
              "      <td>NaN</td>\n",
              "      <td>-1</td>\n",
              "      <td>NaN</td>\n",
              "      <td>NaN</td>\n",
              "      <td>NaN</td>\n",
              "      <td>NaN</td>\n",
              "      <td>NaN</td>\n",
              "      <td>NaN</td>\n",
              "      <td>NaN</td>\n",
              "      <td>NaN</td>\n",
              "      <td>-1</td>\n",
              "    </tr>\n",
              "    <tr>\n",
              "      <th>23857</th>\n",
              "      <td>370</td>\n",
              "      <td>Male</td>\n",
              "      <td>-1</td>\n",
              "      <td>22-24</td>\n",
              "      <td>Turkey</td>\n",
              "      <td>Master’s degree</td>\n",
              "      <td>Computer science (software engineering, etc.)</td>\n",
              "      <td>Software Engineer</td>\n",
              "      <td>-1</td>\n",
              "      <td>Computers/Technology</td>\n",
              "      <td>-1</td>\n",
              "      <td>0-1</td>\n",
              "      <td>10-20,000</td>\n",
              "      <td>We recently started using ML methods (i.e., mo...</td>\n",
              "      <td>Analyze and understand data to influence produ...</td>\n",
              "      <td>Build and/or run a machine learning service th...</td>\n",
              "      <td>Build and/or run the data infrastructure that ...</td>\n",
              "      <td>Build prototypes to explore applying machine l...</td>\n",
              "      <td>NaN</td>\n",
              "      <td>NaN</td>\n",
              "      <td>NaN</td>\n",
              "      <td>-1</td>\n",
              "      <td>Local or hosted development environments (RStu...</td>\n",
              "      <td>-1</td>\n",
              "      <td>-1</td>\n",
              "      <td>-1</td>\n",
              "      <td>10</td>\n",
              "      <td>-1</td>\n",
              "      <td>-1</td>\n",
              "      <td>NaN</td>\n",
              "      <td>NaN</td>\n",
              "      <td>NaN</td>\n",
              "      <td>NaN</td>\n",
              "      <td>NaN</td>\n",
              "      <td>NaN</td>\n",
              "      <td>NaN</td>\n",
              "      <td>NaN</td>\n",
              "      <td>NaN</td>\n",
              "      <td>NaN</td>\n",
              "      <td>NaN</td>\n",
              "      <td>...</td>\n",
              "      <td>NaN</td>\n",
              "      <td>NaN</td>\n",
              "      <td>NaN</td>\n",
              "      <td>NaN</td>\n",
              "      <td>NaN</td>\n",
              "      <td>NaN</td>\n",
              "      <td>NaN</td>\n",
              "      <td>NaN</td>\n",
              "      <td>NaN</td>\n",
              "      <td>NaN</td>\n",
              "      <td>NaN</td>\n",
              "      <td>NaN</td>\n",
              "      <td>NaN</td>\n",
              "      <td>NaN</td>\n",
              "      <td>NaN</td>\n",
              "      <td>NaN</td>\n",
              "      <td>NaN</td>\n",
              "      <td>NaN</td>\n",
              "      <td>NaN</td>\n",
              "      <td>NaN</td>\n",
              "      <td>NaN</td>\n",
              "      <td>NaN</td>\n",
              "      <td>NaN</td>\n",
              "      <td>NaN</td>\n",
              "      <td>NaN</td>\n",
              "      <td>NaN</td>\n",
              "      <td>NaN</td>\n",
              "      <td>NaN</td>\n",
              "      <td>NaN</td>\n",
              "      <td>NaN</td>\n",
              "      <td>-1</td>\n",
              "      <td>NaN</td>\n",
              "      <td>NaN</td>\n",
              "      <td>NaN</td>\n",
              "      <td>NaN</td>\n",
              "      <td>NaN</td>\n",
              "      <td>NaN</td>\n",
              "      <td>NaN</td>\n",
              "      <td>NaN</td>\n",
              "      <td>-1</td>\n",
              "    </tr>\n",
              "    <tr>\n",
              "      <th>23858</th>\n",
              "      <td>36</td>\n",
              "      <td>Male</td>\n",
              "      <td>-1</td>\n",
              "      <td>25-29</td>\n",
              "      <td>United Kingdom of Great Britain and Northern I...</td>\n",
              "      <td>NaN</td>\n",
              "      <td>NaN</td>\n",
              "      <td>NaN</td>\n",
              "      <td>-1</td>\n",
              "      <td>NaN</td>\n",
              "      <td>-1</td>\n",
              "      <td>NaN</td>\n",
              "      <td>NaN</td>\n",
              "      <td>NaN</td>\n",
              "      <td>NaN</td>\n",
              "      <td>NaN</td>\n",
              "      <td>NaN</td>\n",
              "      <td>NaN</td>\n",
              "      <td>NaN</td>\n",
              "      <td>NaN</td>\n",
              "      <td>NaN</td>\n",
              "      <td>-1</td>\n",
              "      <td>NaN</td>\n",
              "      <td>-1</td>\n",
              "      <td>-1</td>\n",
              "      <td>-1</td>\n",
              "      <td>-1</td>\n",
              "      <td>-1</td>\n",
              "      <td>-1</td>\n",
              "      <td>NaN</td>\n",
              "      <td>NaN</td>\n",
              "      <td>NaN</td>\n",
              "      <td>NaN</td>\n",
              "      <td>NaN</td>\n",
              "      <td>NaN</td>\n",
              "      <td>NaN</td>\n",
              "      <td>NaN</td>\n",
              "      <td>NaN</td>\n",
              "      <td>NaN</td>\n",
              "      <td>NaN</td>\n",
              "      <td>...</td>\n",
              "      <td>NaN</td>\n",
              "      <td>NaN</td>\n",
              "      <td>NaN</td>\n",
              "      <td>NaN</td>\n",
              "      <td>NaN</td>\n",
              "      <td>NaN</td>\n",
              "      <td>NaN</td>\n",
              "      <td>NaN</td>\n",
              "      <td>NaN</td>\n",
              "      <td>NaN</td>\n",
              "      <td>NaN</td>\n",
              "      <td>NaN</td>\n",
              "      <td>NaN</td>\n",
              "      <td>NaN</td>\n",
              "      <td>NaN</td>\n",
              "      <td>NaN</td>\n",
              "      <td>NaN</td>\n",
              "      <td>NaN</td>\n",
              "      <td>NaN</td>\n",
              "      <td>NaN</td>\n",
              "      <td>NaN</td>\n",
              "      <td>NaN</td>\n",
              "      <td>NaN</td>\n",
              "      <td>NaN</td>\n",
              "      <td>NaN</td>\n",
              "      <td>NaN</td>\n",
              "      <td>NaN</td>\n",
              "      <td>NaN</td>\n",
              "      <td>NaN</td>\n",
              "      <td>NaN</td>\n",
              "      <td>-1</td>\n",
              "      <td>NaN</td>\n",
              "      <td>NaN</td>\n",
              "      <td>NaN</td>\n",
              "      <td>NaN</td>\n",
              "      <td>NaN</td>\n",
              "      <td>NaN</td>\n",
              "      <td>NaN</td>\n",
              "      <td>NaN</td>\n",
              "      <td>-1</td>\n",
              "    </tr>\n",
              "    <tr>\n",
              "      <th>23859</th>\n",
              "      <td>502</td>\n",
              "      <td>Male</td>\n",
              "      <td>-1</td>\n",
              "      <td>25-29</td>\n",
              "      <td>Spain</td>\n",
              "      <td>Master’s degree</td>\n",
              "      <td>Mathematics or statistics</td>\n",
              "      <td>NaN</td>\n",
              "      <td>-1</td>\n",
              "      <td>NaN</td>\n",
              "      <td>-1</td>\n",
              "      <td>NaN</td>\n",
              "      <td>NaN</td>\n",
              "      <td>NaN</td>\n",
              "      <td>NaN</td>\n",
              "      <td>NaN</td>\n",
              "      <td>NaN</td>\n",
              "      <td>NaN</td>\n",
              "      <td>NaN</td>\n",
              "      <td>NaN</td>\n",
              "      <td>NaN</td>\n",
              "      <td>-1</td>\n",
              "      <td>NaN</td>\n",
              "      <td>-1</td>\n",
              "      <td>-1</td>\n",
              "      <td>-1</td>\n",
              "      <td>-1</td>\n",
              "      <td>-1</td>\n",
              "      <td>-1</td>\n",
              "      <td>NaN</td>\n",
              "      <td>NaN</td>\n",
              "      <td>NaN</td>\n",
              "      <td>NaN</td>\n",
              "      <td>NaN</td>\n",
              "      <td>NaN</td>\n",
              "      <td>NaN</td>\n",
              "      <td>NaN</td>\n",
              "      <td>NaN</td>\n",
              "      <td>NaN</td>\n",
              "      <td>NaN</td>\n",
              "      <td>...</td>\n",
              "      <td>NaN</td>\n",
              "      <td>NaN</td>\n",
              "      <td>NaN</td>\n",
              "      <td>NaN</td>\n",
              "      <td>NaN</td>\n",
              "      <td>NaN</td>\n",
              "      <td>NaN</td>\n",
              "      <td>NaN</td>\n",
              "      <td>NaN</td>\n",
              "      <td>NaN</td>\n",
              "      <td>NaN</td>\n",
              "      <td>NaN</td>\n",
              "      <td>NaN</td>\n",
              "      <td>NaN</td>\n",
              "      <td>NaN</td>\n",
              "      <td>NaN</td>\n",
              "      <td>NaN</td>\n",
              "      <td>NaN</td>\n",
              "      <td>NaN</td>\n",
              "      <td>NaN</td>\n",
              "      <td>NaN</td>\n",
              "      <td>NaN</td>\n",
              "      <td>NaN</td>\n",
              "      <td>NaN</td>\n",
              "      <td>NaN</td>\n",
              "      <td>NaN</td>\n",
              "      <td>NaN</td>\n",
              "      <td>NaN</td>\n",
              "      <td>NaN</td>\n",
              "      <td>NaN</td>\n",
              "      <td>-1</td>\n",
              "      <td>NaN</td>\n",
              "      <td>NaN</td>\n",
              "      <td>NaN</td>\n",
              "      <td>NaN</td>\n",
              "      <td>NaN</td>\n",
              "      <td>NaN</td>\n",
              "      <td>NaN</td>\n",
              "      <td>NaN</td>\n",
              "      <td>-1</td>\n",
              "    </tr>\n",
              "  </tbody>\n",
              "</table>\n",
              "<p>23848 rows × 395 columns</p>\n",
              "</div>"
            ],
            "text/plain": [
              "      Time from Start to Finish (seconds)  ...                                     Q50_OTHER_TEXT\n",
              "0                   Duration (in seconds)  ...  What barriers prevent you from making your wor...\n",
              "1                                     710  ...                                                 -1\n",
              "2                                     434  ...                                                 -1\n",
              "3                                     718  ...                                                 -1\n",
              "4                                     621  ...                                                 -1\n",
              "...                                   ...  ...                                                ...\n",
              "23855                                 575  ...                                                 -1\n",
              "23856                                 131  ...                                                 -1\n",
              "23857                                 370  ...                                                 -1\n",
              "23858                                  36  ...                                                 -1\n",
              "23859                                 502  ...                                                 -1\n",
              "\n",
              "[23848 rows x 395 columns]"
            ]
          },
          "metadata": {
            "tags": []
          },
          "execution_count": 174
        }
      ]
    },
    {
      "cell_type": "code",
      "metadata": {
        "colab": {
          "base_uri": "https://localhost:8080/",
          "height": 420
        },
        "id": "YXUoxP6M1j8x",
        "outputId": "4c4b0a99-4b3a-4cb1-baaa-e3b7eec9f791"
      },
      "source": [
        "df=df[['Q1','Q9']]                    #call two columns of the csv file\n",
        "df"
      ],
      "execution_count": 175,
      "outputs": [
        {
          "output_type": "execute_result",
          "data": {
            "text/html": [
              "<div>\n",
              "<style scoped>\n",
              "    .dataframe tbody tr th:only-of-type {\n",
              "        vertical-align: middle;\n",
              "    }\n",
              "\n",
              "    .dataframe tbody tr th {\n",
              "        vertical-align: top;\n",
              "    }\n",
              "\n",
              "    .dataframe thead th {\n",
              "        text-align: right;\n",
              "    }\n",
              "</style>\n",
              "<table border=\"1\" class=\"dataframe\">\n",
              "  <thead>\n",
              "    <tr style=\"text-align: right;\">\n",
              "      <th></th>\n",
              "      <th>Q1</th>\n",
              "      <th>Q9</th>\n",
              "    </tr>\n",
              "  </thead>\n",
              "  <tbody>\n",
              "    <tr>\n",
              "      <th>0</th>\n",
              "      <td>What is your gender? - Selected Choice</td>\n",
              "      <td>What is your current yearly compensation (appr...</td>\n",
              "    </tr>\n",
              "    <tr>\n",
              "      <th>1</th>\n",
              "      <td>Female</td>\n",
              "      <td>NaN</td>\n",
              "    </tr>\n",
              "    <tr>\n",
              "      <th>2</th>\n",
              "      <td>Male</td>\n",
              "      <td>10-20,000</td>\n",
              "    </tr>\n",
              "    <tr>\n",
              "      <th>3</th>\n",
              "      <td>Female</td>\n",
              "      <td>0-10,000</td>\n",
              "    </tr>\n",
              "    <tr>\n",
              "      <th>4</th>\n",
              "      <td>Male</td>\n",
              "      <td>NaN</td>\n",
              "    </tr>\n",
              "    <tr>\n",
              "      <th>...</th>\n",
              "      <td>...</td>\n",
              "      <td>...</td>\n",
              "    </tr>\n",
              "    <tr>\n",
              "      <th>23855</th>\n",
              "      <td>Male</td>\n",
              "      <td>250-300,000</td>\n",
              "    </tr>\n",
              "    <tr>\n",
              "      <th>23856</th>\n",
              "      <td>Female</td>\n",
              "      <td>NaN</td>\n",
              "    </tr>\n",
              "    <tr>\n",
              "      <th>23857</th>\n",
              "      <td>Male</td>\n",
              "      <td>10-20,000</td>\n",
              "    </tr>\n",
              "    <tr>\n",
              "      <th>23858</th>\n",
              "      <td>Male</td>\n",
              "      <td>NaN</td>\n",
              "    </tr>\n",
              "    <tr>\n",
              "      <th>23859</th>\n",
              "      <td>Male</td>\n",
              "      <td>NaN</td>\n",
              "    </tr>\n",
              "  </tbody>\n",
              "</table>\n",
              "<p>23848 rows × 2 columns</p>\n",
              "</div>"
            ],
            "text/plain": [
              "                                           Q1                                                 Q9\n",
              "0      What is your gender? - Selected Choice  What is your current yearly compensation (appr...\n",
              "1                                      Female                                                NaN\n",
              "2                                        Male                                          10-20,000\n",
              "3                                      Female                                           0-10,000\n",
              "4                                        Male                                                NaN\n",
              "...                                       ...                                                ...\n",
              "23855                                    Male                                        250-300,000\n",
              "23856                                  Female                                                NaN\n",
              "23857                                    Male                                          10-20,000\n",
              "23858                                    Male                                                NaN\n",
              "23859                                    Male                                                NaN\n",
              "\n",
              "[23848 rows x 2 columns]"
            ]
          },
          "metadata": {
            "tags": []
          },
          "execution_count": 175
        }
      ]
    },
    {
      "cell_type": "code",
      "metadata": {
        "colab": {
          "base_uri": "https://localhost:8080/",
          "height": 420
        },
        "id": "Ey7MU2cQtcgt",
        "outputId": "d29f32e1-3f7a-4c9c-9f8f-48da354df8aa"
      },
      "source": [
        "df=df.rename(columns={'Q1':'Gender','Q9':'Compensation_range'})             #rename columns\n",
        "df"
      ],
      "execution_count": 176,
      "outputs": [
        {
          "output_type": "execute_result",
          "data": {
            "text/html": [
              "<div>\n",
              "<style scoped>\n",
              "    .dataframe tbody tr th:only-of-type {\n",
              "        vertical-align: middle;\n",
              "    }\n",
              "\n",
              "    .dataframe tbody tr th {\n",
              "        vertical-align: top;\n",
              "    }\n",
              "\n",
              "    .dataframe thead th {\n",
              "        text-align: right;\n",
              "    }\n",
              "</style>\n",
              "<table border=\"1\" class=\"dataframe\">\n",
              "  <thead>\n",
              "    <tr style=\"text-align: right;\">\n",
              "      <th></th>\n",
              "      <th>Gender</th>\n",
              "      <th>Compensation_range</th>\n",
              "    </tr>\n",
              "  </thead>\n",
              "  <tbody>\n",
              "    <tr>\n",
              "      <th>0</th>\n",
              "      <td>What is your gender? - Selected Choice</td>\n",
              "      <td>What is your current yearly compensation (appr...</td>\n",
              "    </tr>\n",
              "    <tr>\n",
              "      <th>1</th>\n",
              "      <td>Female</td>\n",
              "      <td>NaN</td>\n",
              "    </tr>\n",
              "    <tr>\n",
              "      <th>2</th>\n",
              "      <td>Male</td>\n",
              "      <td>10-20,000</td>\n",
              "    </tr>\n",
              "    <tr>\n",
              "      <th>3</th>\n",
              "      <td>Female</td>\n",
              "      <td>0-10,000</td>\n",
              "    </tr>\n",
              "    <tr>\n",
              "      <th>4</th>\n",
              "      <td>Male</td>\n",
              "      <td>NaN</td>\n",
              "    </tr>\n",
              "    <tr>\n",
              "      <th>...</th>\n",
              "      <td>...</td>\n",
              "      <td>...</td>\n",
              "    </tr>\n",
              "    <tr>\n",
              "      <th>23855</th>\n",
              "      <td>Male</td>\n",
              "      <td>250-300,000</td>\n",
              "    </tr>\n",
              "    <tr>\n",
              "      <th>23856</th>\n",
              "      <td>Female</td>\n",
              "      <td>NaN</td>\n",
              "    </tr>\n",
              "    <tr>\n",
              "      <th>23857</th>\n",
              "      <td>Male</td>\n",
              "      <td>10-20,000</td>\n",
              "    </tr>\n",
              "    <tr>\n",
              "      <th>23858</th>\n",
              "      <td>Male</td>\n",
              "      <td>NaN</td>\n",
              "    </tr>\n",
              "    <tr>\n",
              "      <th>23859</th>\n",
              "      <td>Male</td>\n",
              "      <td>NaN</td>\n",
              "    </tr>\n",
              "  </tbody>\n",
              "</table>\n",
              "<p>23848 rows × 2 columns</p>\n",
              "</div>"
            ],
            "text/plain": [
              "                                       Gender                                 Compensation_range\n",
              "0      What is your gender? - Selected Choice  What is your current yearly compensation (appr...\n",
              "1                                      Female                                                NaN\n",
              "2                                        Male                                          10-20,000\n",
              "3                                      Female                                           0-10,000\n",
              "4                                        Male                                                NaN\n",
              "...                                       ...                                                ...\n",
              "23855                                    Male                                        250-300,000\n",
              "23856                                  Female                                                NaN\n",
              "23857                                    Male                                          10-20,000\n",
              "23858                                    Male                                                NaN\n",
              "23859                                    Male                                                NaN\n",
              "\n",
              "[23848 rows x 2 columns]"
            ]
          },
          "metadata": {
            "tags": []
          },
          "execution_count": 176
        }
      ]
    },
    {
      "cell_type": "code",
      "metadata": {
        "colab": {
          "base_uri": "https://localhost:8080/",
          "height": 420
        },
        "id": "nqfi3oXCtcds",
        "outputId": "561f53cb-a9cf-4664-8ba2-7784d7e00d8f"
      },
      "source": [
        "df=df.iloc[1:, :]                #drop the first row with all questions\n",
        "df"
      ],
      "execution_count": 177,
      "outputs": [
        {
          "output_type": "execute_result",
          "data": {
            "text/html": [
              "<div>\n",
              "<style scoped>\n",
              "    .dataframe tbody tr th:only-of-type {\n",
              "        vertical-align: middle;\n",
              "    }\n",
              "\n",
              "    .dataframe tbody tr th {\n",
              "        vertical-align: top;\n",
              "    }\n",
              "\n",
              "    .dataframe thead th {\n",
              "        text-align: right;\n",
              "    }\n",
              "</style>\n",
              "<table border=\"1\" class=\"dataframe\">\n",
              "  <thead>\n",
              "    <tr style=\"text-align: right;\">\n",
              "      <th></th>\n",
              "      <th>Gender</th>\n",
              "      <th>Compensation_range</th>\n",
              "    </tr>\n",
              "  </thead>\n",
              "  <tbody>\n",
              "    <tr>\n",
              "      <th>1</th>\n",
              "      <td>Female</td>\n",
              "      <td>NaN</td>\n",
              "    </tr>\n",
              "    <tr>\n",
              "      <th>2</th>\n",
              "      <td>Male</td>\n",
              "      <td>10-20,000</td>\n",
              "    </tr>\n",
              "    <tr>\n",
              "      <th>3</th>\n",
              "      <td>Female</td>\n",
              "      <td>0-10,000</td>\n",
              "    </tr>\n",
              "    <tr>\n",
              "      <th>4</th>\n",
              "      <td>Male</td>\n",
              "      <td>NaN</td>\n",
              "    </tr>\n",
              "    <tr>\n",
              "      <th>5</th>\n",
              "      <td>Male</td>\n",
              "      <td>0-10,000</td>\n",
              "    </tr>\n",
              "    <tr>\n",
              "      <th>...</th>\n",
              "      <td>...</td>\n",
              "      <td>...</td>\n",
              "    </tr>\n",
              "    <tr>\n",
              "      <th>23855</th>\n",
              "      <td>Male</td>\n",
              "      <td>250-300,000</td>\n",
              "    </tr>\n",
              "    <tr>\n",
              "      <th>23856</th>\n",
              "      <td>Female</td>\n",
              "      <td>NaN</td>\n",
              "    </tr>\n",
              "    <tr>\n",
              "      <th>23857</th>\n",
              "      <td>Male</td>\n",
              "      <td>10-20,000</td>\n",
              "    </tr>\n",
              "    <tr>\n",
              "      <th>23858</th>\n",
              "      <td>Male</td>\n",
              "      <td>NaN</td>\n",
              "    </tr>\n",
              "    <tr>\n",
              "      <th>23859</th>\n",
              "      <td>Male</td>\n",
              "      <td>NaN</td>\n",
              "    </tr>\n",
              "  </tbody>\n",
              "</table>\n",
              "<p>23847 rows × 2 columns</p>\n",
              "</div>"
            ],
            "text/plain": [
              "       Gender Compensation_range\n",
              "1      Female                NaN\n",
              "2        Male          10-20,000\n",
              "3      Female           0-10,000\n",
              "4        Male                NaN\n",
              "5        Male           0-10,000\n",
              "...       ...                ...\n",
              "23855    Male        250-300,000\n",
              "23856  Female                NaN\n",
              "23857    Male          10-20,000\n",
              "23858    Male                NaN\n",
              "23859    Male                NaN\n",
              "\n",
              "[23847 rows x 2 columns]"
            ]
          },
          "metadata": {
            "tags": []
          },
          "execution_count": 177
        }
      ]
    },
    {
      "cell_type": "code",
      "metadata": {
        "colab": {
          "base_uri": "https://localhost:8080/",
          "height": 420
        },
        "id": "RUpai8W0tcap",
        "outputId": "ac067bfd-7aad-4e7b-be61-0f75fa93eca0"
      },
      "source": [
        "df=df.dropna()                 #drop rows include NaN\n",
        "df"
      ],
      "execution_count": 178,
      "outputs": [
        {
          "output_type": "execute_result",
          "data": {
            "text/html": [
              "<div>\n",
              "<style scoped>\n",
              "    .dataframe tbody tr th:only-of-type {\n",
              "        vertical-align: middle;\n",
              "    }\n",
              "\n",
              "    .dataframe tbody tr th {\n",
              "        vertical-align: top;\n",
              "    }\n",
              "\n",
              "    .dataframe thead th {\n",
              "        text-align: right;\n",
              "    }\n",
              "</style>\n",
              "<table border=\"1\" class=\"dataframe\">\n",
              "  <thead>\n",
              "    <tr style=\"text-align: right;\">\n",
              "      <th></th>\n",
              "      <th>Gender</th>\n",
              "      <th>Compensation_range</th>\n",
              "    </tr>\n",
              "  </thead>\n",
              "  <tbody>\n",
              "    <tr>\n",
              "      <th>2</th>\n",
              "      <td>Male</td>\n",
              "      <td>10-20,000</td>\n",
              "    </tr>\n",
              "    <tr>\n",
              "      <th>3</th>\n",
              "      <td>Female</td>\n",
              "      <td>0-10,000</td>\n",
              "    </tr>\n",
              "    <tr>\n",
              "      <th>5</th>\n",
              "      <td>Male</td>\n",
              "      <td>0-10,000</td>\n",
              "    </tr>\n",
              "    <tr>\n",
              "      <th>6</th>\n",
              "      <td>Male</td>\n",
              "      <td>I do not wish to disclose my approximate yearl...</td>\n",
              "    </tr>\n",
              "    <tr>\n",
              "      <th>7</th>\n",
              "      <td>Male</td>\n",
              "      <td>10-20,000</td>\n",
              "    </tr>\n",
              "    <tr>\n",
              "      <th>...</th>\n",
              "      <td>...</td>\n",
              "      <td>...</td>\n",
              "    </tr>\n",
              "    <tr>\n",
              "      <th>23848</th>\n",
              "      <td>Male</td>\n",
              "      <td>I do not wish to disclose my approximate yearl...</td>\n",
              "    </tr>\n",
              "    <tr>\n",
              "      <th>23850</th>\n",
              "      <td>Female</td>\n",
              "      <td>I do not wish to disclose my approximate yearl...</td>\n",
              "    </tr>\n",
              "    <tr>\n",
              "      <th>23854</th>\n",
              "      <td>Male</td>\n",
              "      <td>10-20,000</td>\n",
              "    </tr>\n",
              "    <tr>\n",
              "      <th>23855</th>\n",
              "      <td>Male</td>\n",
              "      <td>250-300,000</td>\n",
              "    </tr>\n",
              "    <tr>\n",
              "      <th>23857</th>\n",
              "      <td>Male</td>\n",
              "      <td>10-20,000</td>\n",
              "    </tr>\n",
              "  </tbody>\n",
              "</table>\n",
              "<p>20185 rows × 2 columns</p>\n",
              "</div>"
            ],
            "text/plain": [
              "       Gender                                 Compensation_range\n",
              "2        Male                                          10-20,000\n",
              "3      Female                                           0-10,000\n",
              "5        Male                                           0-10,000\n",
              "6        Male  I do not wish to disclose my approximate yearl...\n",
              "7        Male                                          10-20,000\n",
              "...       ...                                                ...\n",
              "23848    Male  I do not wish to disclose my approximate yearl...\n",
              "23850  Female  I do not wish to disclose my approximate yearl...\n",
              "23854    Male                                          10-20,000\n",
              "23855    Male                                        250-300,000\n",
              "23857    Male                                          10-20,000\n",
              "\n",
              "[20185 rows x 2 columns]"
            ]
          },
          "metadata": {
            "tags": []
          },
          "execution_count": 178
        }
      ]
    },
    {
      "cell_type": "code",
      "metadata": {
        "colab": {
          "base_uri": "https://localhost:8080/",
          "height": 420
        },
        "id": "ObNInfTPtcXa",
        "outputId": "ccf8d35d-29f8-45cb-8abe-0c766d6dcded"
      },
      "source": [
        "#drop the rows include the string in the compensation column\n",
        "df=df[df['Compensation_range'].str.contains('I do not wish to disclose my approximate yearly compensation')==False]\n",
        "df"
      ],
      "execution_count": 179,
      "outputs": [
        {
          "output_type": "execute_result",
          "data": {
            "text/html": [
              "<div>\n",
              "<style scoped>\n",
              "    .dataframe tbody tr th:only-of-type {\n",
              "        vertical-align: middle;\n",
              "    }\n",
              "\n",
              "    .dataframe tbody tr th {\n",
              "        vertical-align: top;\n",
              "    }\n",
              "\n",
              "    .dataframe thead th {\n",
              "        text-align: right;\n",
              "    }\n",
              "</style>\n",
              "<table border=\"1\" class=\"dataframe\">\n",
              "  <thead>\n",
              "    <tr style=\"text-align: right;\">\n",
              "      <th></th>\n",
              "      <th>Gender</th>\n",
              "      <th>Compensation_range</th>\n",
              "    </tr>\n",
              "  </thead>\n",
              "  <tbody>\n",
              "    <tr>\n",
              "      <th>2</th>\n",
              "      <td>Male</td>\n",
              "      <td>10-20,000</td>\n",
              "    </tr>\n",
              "    <tr>\n",
              "      <th>3</th>\n",
              "      <td>Female</td>\n",
              "      <td>0-10,000</td>\n",
              "    </tr>\n",
              "    <tr>\n",
              "      <th>5</th>\n",
              "      <td>Male</td>\n",
              "      <td>0-10,000</td>\n",
              "    </tr>\n",
              "    <tr>\n",
              "      <th>7</th>\n",
              "      <td>Male</td>\n",
              "      <td>10-20,000</td>\n",
              "    </tr>\n",
              "    <tr>\n",
              "      <th>8</th>\n",
              "      <td>Male</td>\n",
              "      <td>0-10,000</td>\n",
              "    </tr>\n",
              "    <tr>\n",
              "      <th>...</th>\n",
              "      <td>...</td>\n",
              "      <td>...</td>\n",
              "    </tr>\n",
              "    <tr>\n",
              "      <th>23844</th>\n",
              "      <td>Male</td>\n",
              "      <td>90-100,000</td>\n",
              "    </tr>\n",
              "    <tr>\n",
              "      <th>23845</th>\n",
              "      <td>Male</td>\n",
              "      <td>0-10,000</td>\n",
              "    </tr>\n",
              "    <tr>\n",
              "      <th>23854</th>\n",
              "      <td>Male</td>\n",
              "      <td>10-20,000</td>\n",
              "    </tr>\n",
              "    <tr>\n",
              "      <th>23855</th>\n",
              "      <td>Male</td>\n",
              "      <td>250-300,000</td>\n",
              "    </tr>\n",
              "    <tr>\n",
              "      <th>23857</th>\n",
              "      <td>Male</td>\n",
              "      <td>10-20,000</td>\n",
              "    </tr>\n",
              "  </tbody>\n",
              "</table>\n",
              "<p>15429 rows × 2 columns</p>\n",
              "</div>"
            ],
            "text/plain": [
              "       Gender Compensation_range\n",
              "2        Male          10-20,000\n",
              "3      Female           0-10,000\n",
              "5        Male           0-10,000\n",
              "7        Male          10-20,000\n",
              "8        Male           0-10,000\n",
              "...       ...                ...\n",
              "23844    Male         90-100,000\n",
              "23845    Male           0-10,000\n",
              "23854    Male          10-20,000\n",
              "23855    Male        250-300,000\n",
              "23857    Male          10-20,000\n",
              "\n",
              "[15429 rows x 2 columns]"
            ]
          },
          "metadata": {
            "tags": []
          },
          "execution_count": 179
        }
      ]
    },
    {
      "cell_type": "code",
      "metadata": {
        "colab": {
          "base_uri": "https://localhost:8080/",
          "height": 420
        },
        "id": "wVtupKJHtcT9",
        "outputId": "0cf96a58-e7fd-4ca7-f6ef-205cf8f206be"
      },
      "source": [
        "df=df.reset_index(drop=True)              #reset the index and replace the old index\n",
        "df"
      ],
      "execution_count": 180,
      "outputs": [
        {
          "output_type": "execute_result",
          "data": {
            "text/html": [
              "<div>\n",
              "<style scoped>\n",
              "    .dataframe tbody tr th:only-of-type {\n",
              "        vertical-align: middle;\n",
              "    }\n",
              "\n",
              "    .dataframe tbody tr th {\n",
              "        vertical-align: top;\n",
              "    }\n",
              "\n",
              "    .dataframe thead th {\n",
              "        text-align: right;\n",
              "    }\n",
              "</style>\n",
              "<table border=\"1\" class=\"dataframe\">\n",
              "  <thead>\n",
              "    <tr style=\"text-align: right;\">\n",
              "      <th></th>\n",
              "      <th>Gender</th>\n",
              "      <th>Compensation_range</th>\n",
              "    </tr>\n",
              "  </thead>\n",
              "  <tbody>\n",
              "    <tr>\n",
              "      <th>0</th>\n",
              "      <td>Male</td>\n",
              "      <td>10-20,000</td>\n",
              "    </tr>\n",
              "    <tr>\n",
              "      <th>1</th>\n",
              "      <td>Female</td>\n",
              "      <td>0-10,000</td>\n",
              "    </tr>\n",
              "    <tr>\n",
              "      <th>2</th>\n",
              "      <td>Male</td>\n",
              "      <td>0-10,000</td>\n",
              "    </tr>\n",
              "    <tr>\n",
              "      <th>3</th>\n",
              "      <td>Male</td>\n",
              "      <td>10-20,000</td>\n",
              "    </tr>\n",
              "    <tr>\n",
              "      <th>4</th>\n",
              "      <td>Male</td>\n",
              "      <td>0-10,000</td>\n",
              "    </tr>\n",
              "    <tr>\n",
              "      <th>...</th>\n",
              "      <td>...</td>\n",
              "      <td>...</td>\n",
              "    </tr>\n",
              "    <tr>\n",
              "      <th>15424</th>\n",
              "      <td>Male</td>\n",
              "      <td>90-100,000</td>\n",
              "    </tr>\n",
              "    <tr>\n",
              "      <th>15425</th>\n",
              "      <td>Male</td>\n",
              "      <td>0-10,000</td>\n",
              "    </tr>\n",
              "    <tr>\n",
              "      <th>15426</th>\n",
              "      <td>Male</td>\n",
              "      <td>10-20,000</td>\n",
              "    </tr>\n",
              "    <tr>\n",
              "      <th>15427</th>\n",
              "      <td>Male</td>\n",
              "      <td>250-300,000</td>\n",
              "    </tr>\n",
              "    <tr>\n",
              "      <th>15428</th>\n",
              "      <td>Male</td>\n",
              "      <td>10-20,000</td>\n",
              "    </tr>\n",
              "  </tbody>\n",
              "</table>\n",
              "<p>15429 rows × 2 columns</p>\n",
              "</div>"
            ],
            "text/plain": [
              "       Gender Compensation_range\n",
              "0        Male          10-20,000\n",
              "1      Female           0-10,000\n",
              "2        Male           0-10,000\n",
              "3        Male          10-20,000\n",
              "4        Male           0-10,000\n",
              "...       ...                ...\n",
              "15424    Male         90-100,000\n",
              "15425    Male           0-10,000\n",
              "15426    Male          10-20,000\n",
              "15427    Male        250-300,000\n",
              "15428    Male          10-20,000\n",
              "\n",
              "[15429 rows x 2 columns]"
            ]
          },
          "metadata": {
            "tags": []
          },
          "execution_count": 180
        }
      ]
    },
    {
      "cell_type": "code",
      "metadata": {
        "colab": {
          "base_uri": "https://localhost:8080/",
          "height": 0
        },
        "id": "5GnLM9f6JLCs",
        "outputId": "7dfbb617-ecd0-40bb-eba7-fc5587ec0a36"
      },
      "source": [
        "print(df['Compensation_range'].unique())          #print compensation range value"
      ],
      "execution_count": 182,
      "outputs": [
        {
          "output_type": "stream",
          "text": [
            "['10-20,000' '0-10,000' '20-30,000' '125-150,000' '30-40,000' '50-60,000'\n",
            " '100-125,000' '90-100,000' '70-80,000' '80-90,000' '60-70,000'\n",
            " '400-500,000' '40-50,000' '150-200,000' '500,000+' '300-400,000'\n",
            " '200-250,000' '250-300,000']\n"
          ],
          "name": "stdout"
        }
      ]
    },
    {
      "cell_type": "code",
      "metadata": {
        "colab": {
          "base_uri": "https://localhost:8080/",
          "height": 420
        },
        "id": "YkFKJxh4tcQj",
        "outputId": "baea41cb-2b47-43e4-e8d3-08bb76d074e5"
      },
      "source": [
        "#create the dictionary from the compensation range, assign the avarage value to each and store them in new column\n",
        "dic = {'0-10,000': 5000, '10-20,000': 15000, '20-30,000': 25000, '30-40,000': 35000,         \n",
        "       '40-50,000': 45000, '50-60,000': 55000, '60-70,000': 65000, '70-80,000': 75000, \n",
        "       '80-90,000': 85000, '90-100,000': 95000, '100-125,000': 112500, \n",
        "       '125-150,000': 137500, '150-200,000': 175000, '200-250,000': 225000, \n",
        "       '250-300,000': 275000, '300-400,000': 350000, '400-500,000': 450000, \n",
        "       '500,000+':500000}\n",
        "df['compensation'] = df['Compensation_range'].apply(lambda x: dic[x])\n",
        "df"
      ],
      "execution_count": 183,
      "outputs": [
        {
          "output_type": "execute_result",
          "data": {
            "text/html": [
              "<div>\n",
              "<style scoped>\n",
              "    .dataframe tbody tr th:only-of-type {\n",
              "        vertical-align: middle;\n",
              "    }\n",
              "\n",
              "    .dataframe tbody tr th {\n",
              "        vertical-align: top;\n",
              "    }\n",
              "\n",
              "    .dataframe thead th {\n",
              "        text-align: right;\n",
              "    }\n",
              "</style>\n",
              "<table border=\"1\" class=\"dataframe\">\n",
              "  <thead>\n",
              "    <tr style=\"text-align: right;\">\n",
              "      <th></th>\n",
              "      <th>Gender</th>\n",
              "      <th>Compensation_range</th>\n",
              "      <th>compensation</th>\n",
              "    </tr>\n",
              "  </thead>\n",
              "  <tbody>\n",
              "    <tr>\n",
              "      <th>0</th>\n",
              "      <td>Male</td>\n",
              "      <td>10-20,000</td>\n",
              "      <td>15000</td>\n",
              "    </tr>\n",
              "    <tr>\n",
              "      <th>1</th>\n",
              "      <td>Female</td>\n",
              "      <td>0-10,000</td>\n",
              "      <td>5000</td>\n",
              "    </tr>\n",
              "    <tr>\n",
              "      <th>2</th>\n",
              "      <td>Male</td>\n",
              "      <td>0-10,000</td>\n",
              "      <td>5000</td>\n",
              "    </tr>\n",
              "    <tr>\n",
              "      <th>3</th>\n",
              "      <td>Male</td>\n",
              "      <td>10-20,000</td>\n",
              "      <td>15000</td>\n",
              "    </tr>\n",
              "    <tr>\n",
              "      <th>4</th>\n",
              "      <td>Male</td>\n",
              "      <td>0-10,000</td>\n",
              "      <td>5000</td>\n",
              "    </tr>\n",
              "    <tr>\n",
              "      <th>...</th>\n",
              "      <td>...</td>\n",
              "      <td>...</td>\n",
              "      <td>...</td>\n",
              "    </tr>\n",
              "    <tr>\n",
              "      <th>15424</th>\n",
              "      <td>Male</td>\n",
              "      <td>90-100,000</td>\n",
              "      <td>95000</td>\n",
              "    </tr>\n",
              "    <tr>\n",
              "      <th>15425</th>\n",
              "      <td>Male</td>\n",
              "      <td>0-10,000</td>\n",
              "      <td>5000</td>\n",
              "    </tr>\n",
              "    <tr>\n",
              "      <th>15426</th>\n",
              "      <td>Male</td>\n",
              "      <td>10-20,000</td>\n",
              "      <td>15000</td>\n",
              "    </tr>\n",
              "    <tr>\n",
              "      <th>15427</th>\n",
              "      <td>Male</td>\n",
              "      <td>250-300,000</td>\n",
              "      <td>275000</td>\n",
              "    </tr>\n",
              "    <tr>\n",
              "      <th>15428</th>\n",
              "      <td>Male</td>\n",
              "      <td>10-20,000</td>\n",
              "      <td>15000</td>\n",
              "    </tr>\n",
              "  </tbody>\n",
              "</table>\n",
              "<p>15429 rows × 3 columns</p>\n",
              "</div>"
            ],
            "text/plain": [
              "       Gender Compensation_range  compensation\n",
              "0        Male          10-20,000         15000\n",
              "1      Female           0-10,000          5000\n",
              "2        Male           0-10,000          5000\n",
              "3        Male          10-20,000         15000\n",
              "4        Male           0-10,000          5000\n",
              "...       ...                ...           ...\n",
              "15424    Male         90-100,000         95000\n",
              "15425    Male           0-10,000          5000\n",
              "15426    Male          10-20,000         15000\n",
              "15427    Male        250-300,000        275000\n",
              "15428    Male          10-20,000         15000\n",
              "\n",
              "[15429 rows x 3 columns]"
            ]
          },
          "metadata": {
            "tags": []
          },
          "execution_count": 183
        }
      ]
    },
    {
      "cell_type": "code",
      "metadata": {
        "colab": {
          "base_uri": "https://localhost:8080/",
          "height": 0
        },
        "id": "0Eg7hpMksbXX",
        "outputId": "c0c69815-a756-44a4-cbd9-7819d35c7fd9"
      },
      "source": [
        "df.dtypes"
      ],
      "execution_count": 184,
      "outputs": [
        {
          "output_type": "execute_result",
          "data": {
            "text/plain": [
              "Gender                object\n",
              "Compensation_range    object\n",
              "compensation           int64\n",
              "dtype: object"
            ]
          },
          "metadata": {
            "tags": []
          },
          "execution_count": 184
        }
      ]
    },
    {
      "cell_type": "code",
      "metadata": {
        "colab": {
          "base_uri": "https://localhost:8080/",
          "height": 0
        },
        "id": "OgbIMDnyQhDK",
        "outputId": "c4210f8d-b446-404c-eb9d-24b79304ceee"
      },
      "source": [
        "df2=df['Gender'].value_counts()\n",
        "df2                  #count the number of each gender or get the percentage\n",
        "#df['Gender'].value_counts(normalize=True)"
      ],
      "execution_count": 185,
      "outputs": [
        {
          "output_type": "execute_result",
          "data": {
            "text/plain": [
              "Male                       12866\n",
              "Female                      2380\n",
              "Prefer not to say            130\n",
              "Prefer to self-describe       53\n",
              "Name: Gender, dtype: int64"
            ]
          },
          "metadata": {
            "tags": []
          },
          "execution_count": 185
        }
      ]
    },
    {
      "cell_type": "markdown",
      "metadata": {
        "id": "fCBU0EapQqY-"
      },
      "source": [
        "1.\tCalculate the median income of male employees and the median income of female employee in the population."
      ]
    },
    {
      "cell_type": "code",
      "metadata": {
        "colab": {
          "base_uri": "https://localhost:8080/",
          "height": 0
        },
        "id": "pLHg_B3HLtOT",
        "outputId": "bd9db9a1-b3ed-40f4-d3ae-8405960a7098"
      },
      "source": [
        "df.median()              #get the median from the rest of the salaries regardless of gender\n"
      ],
      "execution_count": 186,
      "outputs": [
        {
          "output_type": "execute_result",
          "data": {
            "text/plain": [
              "compensation    25000.0\n",
              "dtype: float64"
            ]
          },
          "metadata": {
            "tags": []
          },
          "execution_count": 186
        }
      ]
    },
    {
      "cell_type": "code",
      "metadata": {
        "colab": {
          "base_uri": "https://localhost:8080/",
          "height": 0
        },
        "id": "2LdHbTt16iPv",
        "outputId": "2fb80f7d-b6d9-43b3-c67f-7576df9b086e"
      },
      "source": [
        "df3=df.groupby(['Gender'])['compensation'].median()\n",
        "df3                           #median for each gender compensation"
      ],
      "execution_count": 187,
      "outputs": [
        {
          "output_type": "execute_result",
          "data": {
            "text/plain": [
              "Gender\n",
              "Female                     25000\n",
              "Male                       35000\n",
              "Prefer not to say          45000\n",
              "Prefer to self-describe    45000\n",
              "Name: compensation, dtype: int64"
            ]
          },
          "metadata": {
            "tags": []
          },
          "execution_count": 187
        }
      ]
    },
    {
      "cell_type": "code",
      "metadata": {
        "colab": {
          "base_uri": "https://localhost:8080/",
          "height": 0
        },
        "id": "PtBNDa9kaY1X",
        "outputId": "f7997f78-9435-46c1-e785-847c7e682ec0"
      },
      "source": [
        "pop_female_median=df3.groupby(['Gender']).get_group('Female')\n",
        "pop_female_median"
      ],
      "execution_count": 188,
      "outputs": [
        {
          "output_type": "execute_result",
          "data": {
            "text/plain": [
              "Gender\n",
              "Female    25000\n",
              "Name: compensation, dtype: int64"
            ]
          },
          "metadata": {
            "tags": []
          },
          "execution_count": 188
        }
      ]
    },
    {
      "cell_type": "code",
      "metadata": {
        "colab": {
          "base_uri": "https://localhost:8080/",
          "height": 0
        },
        "id": "QQXvebmKbILy",
        "outputId": "2699bc6c-d019-4e40-99ca-fae16cd99d4d"
      },
      "source": [
        "pop_male_median=df3.groupby(['Gender']).get_group('Male')\n",
        "pop_male_median"
      ],
      "execution_count": 189,
      "outputs": [
        {
          "output_type": "execute_result",
          "data": {
            "text/plain": [
              "Gender\n",
              "Male    35000\n",
              "Name: compensation, dtype: int64"
            ]
          },
          "metadata": {
            "tags": []
          },
          "execution_count": 189
        }
      ]
    },
    {
      "cell_type": "code",
      "metadata": {
        "id": "R2XeuxiSQg8U"
      },
      "source": [
        "#df.groupby(['Gender']).get_group('Male')"
      ],
      "execution_count": 23,
      "outputs": []
    },
    {
      "cell_type": "code",
      "metadata": {
        "colab": {
          "base_uri": "https://localhost:8080/",
          "height": 0
        },
        "id": "-Blhn4vN_n5F",
        "outputId": "a79e7c10-e672-4e7f-fd58-cdc8b2c3b59a"
      },
      "source": [
        "df4=df.groupby(['Gender'])['compensation'].sum()\n",
        "df4"
      ],
      "execution_count": 190,
      "outputs": [
        {
          "output_type": "execute_result",
          "data": {
            "text/plain": [
              "Gender\n",
              "Female                     106222500\n",
              "Male                       658620000\n",
              "Prefer not to say           10615000\n",
              "Prefer to self-describe      6012500\n",
              "Name: compensation, dtype: int64"
            ]
          },
          "metadata": {
            "tags": []
          },
          "execution_count": 190
        }
      ]
    },
    {
      "cell_type": "code",
      "metadata": {
        "colab": {
          "base_uri": "https://localhost:8080/",
          "height": 451
        },
        "id": "9r-3wHyKQg_0",
        "outputId": "ec1cd79f-941f-4487-d453-4abb57191d5e"
      },
      "source": [
        "#df5=df.groupby(['Gender'])['compensation'].value_counts()\n",
        "df5=df.groupby(['Gender'])['compensation'].agg(['value_counts'])\n",
        "df5"
      ],
      "execution_count": 191,
      "outputs": [
        {
          "output_type": "execute_result",
          "data": {
            "text/html": [
              "<div>\n",
              "<style scoped>\n",
              "    .dataframe tbody tr th:only-of-type {\n",
              "        vertical-align: middle;\n",
              "    }\n",
              "\n",
              "    .dataframe tbody tr th {\n",
              "        vertical-align: top;\n",
              "    }\n",
              "\n",
              "    .dataframe thead th {\n",
              "        text-align: right;\n",
              "    }\n",
              "</style>\n",
              "<table border=\"1\" class=\"dataframe\">\n",
              "  <thead>\n",
              "    <tr style=\"text-align: right;\">\n",
              "      <th></th>\n",
              "      <th></th>\n",
              "      <th>value_counts</th>\n",
              "    </tr>\n",
              "    <tr>\n",
              "      <th>Gender</th>\n",
              "      <th>compensation</th>\n",
              "      <th></th>\n",
              "    </tr>\n",
              "  </thead>\n",
              "  <tbody>\n",
              "    <tr>\n",
              "      <th rowspan=\"5\" valign=\"top\">Female</th>\n",
              "      <th>5000</th>\n",
              "      <td>753</td>\n",
              "    </tr>\n",
              "    <tr>\n",
              "      <th>15000</th>\n",
              "      <td>293</td>\n",
              "    </tr>\n",
              "    <tr>\n",
              "      <th>25000</th>\n",
              "      <td>199</td>\n",
              "    </tr>\n",
              "    <tr>\n",
              "      <th>35000</th>\n",
              "      <td>176</td>\n",
              "    </tr>\n",
              "    <tr>\n",
              "      <th>45000</th>\n",
              "      <td>158</td>\n",
              "    </tr>\n",
              "    <tr>\n",
              "      <th>...</th>\n",
              "      <th>...</th>\n",
              "      <td>...</td>\n",
              "    </tr>\n",
              "    <tr>\n",
              "      <th rowspan=\"5\" valign=\"top\">Prefer to self-describe</th>\n",
              "      <th>55000</th>\n",
              "      <td>1</td>\n",
              "    </tr>\n",
              "    <tr>\n",
              "      <th>137500</th>\n",
              "      <td>1</td>\n",
              "    </tr>\n",
              "    <tr>\n",
              "      <th>175000</th>\n",
              "      <td>1</td>\n",
              "    </tr>\n",
              "    <tr>\n",
              "      <th>225000</th>\n",
              "      <td>1</td>\n",
              "    </tr>\n",
              "    <tr>\n",
              "      <th>275000</th>\n",
              "      <td>1</td>\n",
              "    </tr>\n",
              "  </tbody>\n",
              "</table>\n",
              "<p>66 rows × 1 columns</p>\n",
              "</div>"
            ],
            "text/plain": [
              "                                      value_counts\n",
              "Gender                  compensation              \n",
              "Female                  5000                   753\n",
              "                        15000                  293\n",
              "                        25000                  199\n",
              "                        35000                  176\n",
              "                        45000                  158\n",
              "...                                            ...\n",
              "Prefer to self-describe 55000                    1\n",
              "                        137500                   1\n",
              "                        175000                   1\n",
              "                        225000                   1\n",
              "                        275000                   1\n",
              "\n",
              "[66 rows x 1 columns]"
            ]
          },
          "metadata": {
            "tags": []
          },
          "execution_count": 191
        }
      ]
    },
    {
      "cell_type": "code",
      "metadata": {
        "colab": {
          "base_uri": "https://localhost:8080/",
          "height": 608
        },
        "id": "LM2po-OeSGl9",
        "outputId": "e8d6d845-b30a-4989-fb9b-c24c4ec8f381"
      },
      "source": [
        "#df6=df.groupby(['Gender'])['compensation'].value_counts().loc['Female']\n",
        "value_counts_female=df.groupby(['Gender'])['compensation'].agg(['value_counts']).loc['Female']\n",
        "value_counts_female"
      ],
      "execution_count": 192,
      "outputs": [
        {
          "output_type": "execute_result",
          "data": {
            "text/html": [
              "<div>\n",
              "<style scoped>\n",
              "    .dataframe tbody tr th:only-of-type {\n",
              "        vertical-align: middle;\n",
              "    }\n",
              "\n",
              "    .dataframe tbody tr th {\n",
              "        vertical-align: top;\n",
              "    }\n",
              "\n",
              "    .dataframe thead th {\n",
              "        text-align: right;\n",
              "    }\n",
              "</style>\n",
              "<table border=\"1\" class=\"dataframe\">\n",
              "  <thead>\n",
              "    <tr style=\"text-align: right;\">\n",
              "      <th></th>\n",
              "      <th>value_counts</th>\n",
              "    </tr>\n",
              "    <tr>\n",
              "      <th>compensation</th>\n",
              "      <th></th>\n",
              "    </tr>\n",
              "  </thead>\n",
              "  <tbody>\n",
              "    <tr>\n",
              "      <th>5000</th>\n",
              "      <td>753</td>\n",
              "    </tr>\n",
              "    <tr>\n",
              "      <th>15000</th>\n",
              "      <td>293</td>\n",
              "    </tr>\n",
              "    <tr>\n",
              "      <th>25000</th>\n",
              "      <td>199</td>\n",
              "    </tr>\n",
              "    <tr>\n",
              "      <th>35000</th>\n",
              "      <td>176</td>\n",
              "    </tr>\n",
              "    <tr>\n",
              "      <th>45000</th>\n",
              "      <td>158</td>\n",
              "    </tr>\n",
              "    <tr>\n",
              "      <th>55000</th>\n",
              "      <td>150</td>\n",
              "    </tr>\n",
              "    <tr>\n",
              "      <th>112500</th>\n",
              "      <td>118</td>\n",
              "    </tr>\n",
              "    <tr>\n",
              "      <th>65000</th>\n",
              "      <td>102</td>\n",
              "    </tr>\n",
              "    <tr>\n",
              "      <th>85000</th>\n",
              "      <td>101</td>\n",
              "    </tr>\n",
              "    <tr>\n",
              "      <th>75000</th>\n",
              "      <td>91</td>\n",
              "    </tr>\n",
              "    <tr>\n",
              "      <th>137500</th>\n",
              "      <td>87</td>\n",
              "    </tr>\n",
              "    <tr>\n",
              "      <th>95000</th>\n",
              "      <td>82</td>\n",
              "    </tr>\n",
              "    <tr>\n",
              "      <th>175000</th>\n",
              "      <td>46</td>\n",
              "    </tr>\n",
              "    <tr>\n",
              "      <th>500000</th>\n",
              "      <td>8</td>\n",
              "    </tr>\n",
              "    <tr>\n",
              "      <th>275000</th>\n",
              "      <td>7</td>\n",
              "    </tr>\n",
              "    <tr>\n",
              "      <th>225000</th>\n",
              "      <td>5</td>\n",
              "    </tr>\n",
              "    <tr>\n",
              "      <th>350000</th>\n",
              "      <td>4</td>\n",
              "    </tr>\n",
              "  </tbody>\n",
              "</table>\n",
              "</div>"
            ],
            "text/plain": [
              "              value_counts\n",
              "compensation              \n",
              "5000                   753\n",
              "15000                  293\n",
              "25000                  199\n",
              "35000                  176\n",
              "45000                  158\n",
              "55000                  150\n",
              "112500                 118\n",
              "65000                  102\n",
              "85000                  101\n",
              "75000                   91\n",
              "137500                  87\n",
              "95000                   82\n",
              "175000                  46\n",
              "500000                   8\n",
              "275000                   7\n",
              "225000                   5\n",
              "350000                   4"
            ]
          },
          "metadata": {
            "tags": []
          },
          "execution_count": 192
        }
      ]
    },
    {
      "cell_type": "code",
      "metadata": {
        "colab": {
          "base_uri": "https://localhost:8080/",
          "height": 0
        },
        "id": "UPOYgDIlVWGu",
        "outputId": "3c9aec60-9f45-4d77-daca-45b4103db38f"
      },
      "source": [
        "value_counts_percent_female=df.groupby(['Gender'])['compensation'].value_counts(normalize=True).loc['Female']\n",
        "value_counts_percent_female"
      ],
      "execution_count": 193,
      "outputs": [
        {
          "output_type": "execute_result",
          "data": {
            "text/plain": [
              "compensation\n",
              "5000      0.316387\n",
              "15000     0.123109\n",
              "25000     0.083613\n",
              "35000     0.073950\n",
              "45000     0.066387\n",
              "55000     0.063025\n",
              "112500    0.049580\n",
              "65000     0.042857\n",
              "85000     0.042437\n",
              "75000     0.038235\n",
              "137500    0.036555\n",
              "95000     0.034454\n",
              "175000    0.019328\n",
              "500000    0.003361\n",
              "275000    0.002941\n",
              "225000    0.002101\n",
              "350000    0.001681\n",
              "Name: compensation, dtype: float64"
            ]
          },
          "metadata": {
            "tags": []
          },
          "execution_count": 193
        }
      ]
    },
    {
      "cell_type": "code",
      "metadata": {
        "colab": {
          "base_uri": "https://localhost:8080/",
          "height": 608
        },
        "id": "hKldYshiasFk",
        "outputId": "e0b3fb24-afc3-4f85-9adc-8539a11151ca"
      },
      "source": [
        "female_df1=pd.concat([value_counts_female,value_counts_percent_female], axis='columns', sort=False)\n",
        "female_df=female_df1.rename(columns={'compensation':'count_percentage'})\n",
        "female_df\n"
      ],
      "execution_count": 196,
      "outputs": [
        {
          "output_type": "execute_result",
          "data": {
            "text/html": [
              "<div>\n",
              "<style scoped>\n",
              "    .dataframe tbody tr th:only-of-type {\n",
              "        vertical-align: middle;\n",
              "    }\n",
              "\n",
              "    .dataframe tbody tr th {\n",
              "        vertical-align: top;\n",
              "    }\n",
              "\n",
              "    .dataframe thead th {\n",
              "        text-align: right;\n",
              "    }\n",
              "</style>\n",
              "<table border=\"1\" class=\"dataframe\">\n",
              "  <thead>\n",
              "    <tr style=\"text-align: right;\">\n",
              "      <th></th>\n",
              "      <th>value_counts</th>\n",
              "      <th>count_percentage</th>\n",
              "    </tr>\n",
              "    <tr>\n",
              "      <th>compensation</th>\n",
              "      <th></th>\n",
              "      <th></th>\n",
              "    </tr>\n",
              "  </thead>\n",
              "  <tbody>\n",
              "    <tr>\n",
              "      <th>5000</th>\n",
              "      <td>753</td>\n",
              "      <td>0.316387</td>\n",
              "    </tr>\n",
              "    <tr>\n",
              "      <th>15000</th>\n",
              "      <td>293</td>\n",
              "      <td>0.123109</td>\n",
              "    </tr>\n",
              "    <tr>\n",
              "      <th>25000</th>\n",
              "      <td>199</td>\n",
              "      <td>0.083613</td>\n",
              "    </tr>\n",
              "    <tr>\n",
              "      <th>35000</th>\n",
              "      <td>176</td>\n",
              "      <td>0.073950</td>\n",
              "    </tr>\n",
              "    <tr>\n",
              "      <th>45000</th>\n",
              "      <td>158</td>\n",
              "      <td>0.066387</td>\n",
              "    </tr>\n",
              "    <tr>\n",
              "      <th>55000</th>\n",
              "      <td>150</td>\n",
              "      <td>0.063025</td>\n",
              "    </tr>\n",
              "    <tr>\n",
              "      <th>112500</th>\n",
              "      <td>118</td>\n",
              "      <td>0.049580</td>\n",
              "    </tr>\n",
              "    <tr>\n",
              "      <th>65000</th>\n",
              "      <td>102</td>\n",
              "      <td>0.042857</td>\n",
              "    </tr>\n",
              "    <tr>\n",
              "      <th>85000</th>\n",
              "      <td>101</td>\n",
              "      <td>0.042437</td>\n",
              "    </tr>\n",
              "    <tr>\n",
              "      <th>75000</th>\n",
              "      <td>91</td>\n",
              "      <td>0.038235</td>\n",
              "    </tr>\n",
              "    <tr>\n",
              "      <th>137500</th>\n",
              "      <td>87</td>\n",
              "      <td>0.036555</td>\n",
              "    </tr>\n",
              "    <tr>\n",
              "      <th>95000</th>\n",
              "      <td>82</td>\n",
              "      <td>0.034454</td>\n",
              "    </tr>\n",
              "    <tr>\n",
              "      <th>175000</th>\n",
              "      <td>46</td>\n",
              "      <td>0.019328</td>\n",
              "    </tr>\n",
              "    <tr>\n",
              "      <th>500000</th>\n",
              "      <td>8</td>\n",
              "      <td>0.003361</td>\n",
              "    </tr>\n",
              "    <tr>\n",
              "      <th>275000</th>\n",
              "      <td>7</td>\n",
              "      <td>0.002941</td>\n",
              "    </tr>\n",
              "    <tr>\n",
              "      <th>225000</th>\n",
              "      <td>5</td>\n",
              "      <td>0.002101</td>\n",
              "    </tr>\n",
              "    <tr>\n",
              "      <th>350000</th>\n",
              "      <td>4</td>\n",
              "      <td>0.001681</td>\n",
              "    </tr>\n",
              "  </tbody>\n",
              "</table>\n",
              "</div>"
            ],
            "text/plain": [
              "              value_counts  count_percentage\n",
              "compensation                                \n",
              "5000                   753          0.316387\n",
              "15000                  293          0.123109\n",
              "25000                  199          0.083613\n",
              "35000                  176          0.073950\n",
              "45000                  158          0.066387\n",
              "55000                  150          0.063025\n",
              "112500                 118          0.049580\n",
              "65000                  102          0.042857\n",
              "85000                  101          0.042437\n",
              "75000                   91          0.038235\n",
              "137500                  87          0.036555\n",
              "95000                   82          0.034454\n",
              "175000                  46          0.019328\n",
              "500000                   8          0.003361\n",
              "275000                   7          0.002941\n",
              "225000                   5          0.002101\n",
              "350000                   4          0.001681"
            ]
          },
          "metadata": {
            "tags": []
          },
          "execution_count": 196
        }
      ]
    },
    {
      "cell_type": "code",
      "metadata": {
        "colab": {
          "base_uri": "https://localhost:8080/",
          "height": 639
        },
        "id": "TZ0GNJLzR1AD",
        "outputId": "045296a7-dc37-4533-8cad-f6fe16657835"
      },
      "source": [
        "#df8=df.groupby(['Gender'])['compensation'].value_counts().loc['Male']\n",
        "value_counts_male=df.groupby(['Gender'])['compensation'].agg(['value_counts']).loc['Male']\n",
        "value_counts_male"
      ],
      "execution_count": 197,
      "outputs": [
        {
          "output_type": "execute_result",
          "data": {
            "text/html": [
              "<div>\n",
              "<style scoped>\n",
              "    .dataframe tbody tr th:only-of-type {\n",
              "        vertical-align: middle;\n",
              "    }\n",
              "\n",
              "    .dataframe tbody tr th {\n",
              "        vertical-align: top;\n",
              "    }\n",
              "\n",
              "    .dataframe thead th {\n",
              "        text-align: right;\n",
              "    }\n",
              "</style>\n",
              "<table border=\"1\" class=\"dataframe\">\n",
              "  <thead>\n",
              "    <tr style=\"text-align: right;\">\n",
              "      <th></th>\n",
              "      <th>value_counts</th>\n",
              "    </tr>\n",
              "    <tr>\n",
              "      <th>compensation</th>\n",
              "      <th></th>\n",
              "    </tr>\n",
              "  </thead>\n",
              "  <tbody>\n",
              "    <tr>\n",
              "      <th>5000</th>\n",
              "      <td>3610</td>\n",
              "    </tr>\n",
              "    <tr>\n",
              "      <th>15000</th>\n",
              "      <td>1616</td>\n",
              "    </tr>\n",
              "    <tr>\n",
              "      <th>25000</th>\n",
              "      <td>1181</td>\n",
              "    </tr>\n",
              "    <tr>\n",
              "      <th>35000</th>\n",
              "      <td>933</td>\n",
              "    </tr>\n",
              "    <tr>\n",
              "      <th>45000</th>\n",
              "      <td>792</td>\n",
              "    </tr>\n",
              "    <tr>\n",
              "      <th>55000</th>\n",
              "      <td>758</td>\n",
              "    </tr>\n",
              "    <tr>\n",
              "      <th>112500</th>\n",
              "      <td>713</td>\n",
              "    </tr>\n",
              "    <tr>\n",
              "      <th>65000</th>\n",
              "      <td>621</td>\n",
              "    </tr>\n",
              "    <tr>\n",
              "      <th>75000</th>\n",
              "      <td>582</td>\n",
              "    </tr>\n",
              "    <tr>\n",
              "      <th>95000</th>\n",
              "      <td>477</td>\n",
              "    </tr>\n",
              "    <tr>\n",
              "      <th>137500</th>\n",
              "      <td>441</td>\n",
              "    </tr>\n",
              "    <tr>\n",
              "      <th>175000</th>\n",
              "      <td>403</td>\n",
              "    </tr>\n",
              "    <tr>\n",
              "      <th>85000</th>\n",
              "      <td>399</td>\n",
              "    </tr>\n",
              "    <tr>\n",
              "      <th>225000</th>\n",
              "      <td>163</td>\n",
              "    </tr>\n",
              "    <tr>\n",
              "      <th>275000</th>\n",
              "      <td>67</td>\n",
              "    </tr>\n",
              "    <tr>\n",
              "      <th>350000</th>\n",
              "      <td>45</td>\n",
              "    </tr>\n",
              "    <tr>\n",
              "      <th>500000</th>\n",
              "      <td>42</td>\n",
              "    </tr>\n",
              "    <tr>\n",
              "      <th>450000</th>\n",
              "      <td>23</td>\n",
              "    </tr>\n",
              "  </tbody>\n",
              "</table>\n",
              "</div>"
            ],
            "text/plain": [
              "              value_counts\n",
              "compensation              \n",
              "5000                  3610\n",
              "15000                 1616\n",
              "25000                 1181\n",
              "35000                  933\n",
              "45000                  792\n",
              "55000                  758\n",
              "112500                 713\n",
              "65000                  621\n",
              "75000                  582\n",
              "95000                  477\n",
              "137500                 441\n",
              "175000                 403\n",
              "85000                  399\n",
              "225000                 163\n",
              "275000                  67\n",
              "350000                  45\n",
              "500000                  42\n",
              "450000                  23"
            ]
          },
          "metadata": {
            "tags": []
          },
          "execution_count": 197
        }
      ]
    },
    {
      "cell_type": "markdown",
      "metadata": {
        "id": "AQ1TpDKx68aR"
      },
      "source": [
        "2.\tDraw an overlaid graph to show the histograms of the incomes of female and male employees in the population. (You create one histogram for male, and another histogram for female, but the two histograms will be displayed in the same graph with different colors)"
      ]
    },
    {
      "cell_type": "code",
      "metadata": {
        "colab": {
          "base_uri": "https://localhost:8080/",
          "height": 0
        },
        "id": "RqnNEgJ0Qg4a",
        "outputId": "fab4de53-520a-4c1c-9f05-2cbc46bab672"
      },
      "source": [
        "#get the compensation list for all genders\n",
        "df7=df.groupby(['Gender'])['compensation'].apply(list)\n",
        "df7"
      ],
      "execution_count": 198,
      "outputs": [
        {
          "output_type": "execute_result",
          "data": {
            "text/plain": [
              "Gender\n",
              "Female                     [5000, 15000, 55000, 5000, 85000, 15000, 15000...\n",
              "Male                       [15000, 5000, 15000, 5000, 25000, 137500, 3500...\n",
              "Prefer not to say          [5000, 5000, 500000, 55000, 15000, 55000, 1125...\n",
              "Prefer to self-describe    [65000, 25000, 95000, 112500, 500000, 25000, 5...\n",
              "Name: compensation, dtype: object"
            ]
          },
          "metadata": {
            "tags": []
          },
          "execution_count": 198
        }
      ]
    },
    {
      "cell_type": "code",
      "metadata": {
        "id": "cL66Vp8sq7xe"
      },
      "source": [
        "\n",
        "female_compensation=df.groupby(['Gender'])['compensation'].apply(list).loc['Female']\n",
        "female_compensation"
      ],
      "execution_count": null,
      "outputs": []
    },
    {
      "cell_type": "code",
      "metadata": {
        "id": "rH4yCSp8rl3J"
      },
      "source": [
        "male_compensation=df.groupby(['Gender'])['compensation'].apply(list).loc['Male']\n",
        "male_compensation"
      ],
      "execution_count": null,
      "outputs": []
    },
    {
      "cell_type": "code",
      "metadata": {
        "colab": {
          "base_uri": "https://localhost:8080/",
          "height": 427
        },
        "id": "RD8Or6qWtcNi",
        "outputId": "898c8337-c200-4adb-f869-16f9d7fb4449"
      },
      "source": [
        "#define the function include label for each histogram \n",
        "plt.figure(figsize=(10,6))\n",
        "plt.hist(female_compensation,bins=50, alpha=0.5,label='Female Compensations',color='r')\n",
        "plt.hist(male_compensation,bins=50, alpha=0.5,label='Male Compensations',color='b')\n",
        "#customize the plot\n",
        "plt.xlabel('Compensation',size=16, color='b')\n",
        "plt.ylabel('Count',size=16, color='b')\n",
        "plt.title('Female & Male Compensations', color='b')\n",
        "plt.legend(loc='upper right')"
      ],
      "execution_count": 201,
      "outputs": [
        {
          "output_type": "execute_result",
          "data": {
            "text/plain": [
              "<matplotlib.legend.Legend at 0x7f47b0ecc310>"
            ]
          },
          "metadata": {
            "tags": []
          },
          "execution_count": 201
        },
        {
          "output_type": "display_data",
          "data": {
            "image/png": "[encoded data removed]",
            "text/plain": [
              "<Figure size 720x432 with 1 Axes>"
            ]
          },
          "metadata": {
            "tags": [],
            "needs_background": "light"
          }
        }
      ]
    },
    {
      "cell_type": "markdown",
      "metadata": {
        "id": "rOgkZ55z_zNz"
      },
      "source": [
        "3.\tUse the random sampling, empirical distribution, sample comparison, bootstrap, hypothesis testing as well as A/B testing we discussed in the class to analyze the income gap between female and male employees."
      ]
    },
    {
      "cell_type": "markdown",
      "metadata": {
        "id": "7f0KvN9LABed"
      },
      "source": [
        "•\tSelect a sample from the population. Make sure your sample include 500 employees selected from the population, and consider how to ensure the sampling strategy is fair since the datasets include overwhelmed male employees than female employees "
      ]
    },
    {
      "cell_type": "code",
      "metadata": {
        "id": "_2sldQOujE0u"
      },
      "source": [
        "csv_df=df.to_csv()\n",
        "print(csv_df)"
      ],
      "execution_count": null,
      "outputs": []
    },
    {
      "cell_type": "code",
      "metadata": {
        "id": "1Bkbe7SoWtwJ"
      },
      "source": [
        "compensation_list=df['compensation'].to_list() #convert compensation column to list\n",
        "compensation_list"
      ],
      "execution_count": null,
      "outputs": []
    },
    {
      "cell_type": "code",
      "metadata": {
        "colab": {
          "base_uri": "https://localhost:8080/",
          "height": 317
        },
        "id": "PY3LSvMZ_90K",
        "outputId": "0a093574-b7a6-4c4f-e4cc-1f59d4c05ae5"
      },
      "source": [
        "#get the histogram from the rest of the population\n",
        "plt.hist(compensation_list,bins=50, alpha=0.5,label='Compensations',color='g')\n",
        "plt.xlabel('Compensation',size=16, color='b')\n",
        "plt.ylabel('Count',size=16, color='b')\n",
        "plt.title('Compensations', color='b')\n",
        "plt.legend(loc='upper right')\n",
        "\n",
        "#df.his('compensation', bins=np.arrange(0,5000001,10000))"
      ],
      "execution_count": 204,
      "outputs": [
        {
          "output_type": "execute_result",
          "data": {
            "text/plain": [
              "<matplotlib.legend.Legend at 0x7f47afa7bfd0>"
            ]
          },
          "metadata": {
            "tags": []
          },
          "execution_count": 204
        },
        {
          "output_type": "display_data",
          "data": {
            "image/png": "[encoded data removed]",
            "text/plain": [
              "<Figure size 432x288 with 1 Axes>"
            ]
          },
          "metadata": {
            "tags": [],
            "needs_background": "light"
          }
        }
      ]
    },
    {
      "cell_type": "code",
      "metadata": {
        "id": "B0EDxt1ad2KX"
      },
      "source": [
        "#random sampling without repetition\n",
        "random_sampling_wo=random.sample(compensation_list, 500)\n",
        "random_sampling_wo"
      ],
      "execution_count": null,
      "outputs": []
    },
    {
      "cell_type": "code",
      "metadata": {
        "colab": {
          "base_uri": "https://localhost:8080/",
          "height": 317
        },
        "id": "-WveS6lfZ8FV",
        "outputId": "226c5c24-b6fc-44d2-e4b0-3722c3877c17"
      },
      "source": [
        "#histogram of the sample without repetition\n",
        "plt.hist(random_sampling_wo,bins=50, alpha=0.5,label='Sample Compensation',color='b')\n",
        "plt.xlabel('Compensation',size=16, color='b')\n",
        "plt.ylabel('Count',size=16, color='b')\n",
        "plt.title('Random Sample Without Repetition', color='b')\n",
        "plt.legend(loc='upper right')"
      ],
      "execution_count": 206,
      "outputs": [
        {
          "output_type": "execute_result",
          "data": {
            "text/plain": [
              "<matplotlib.legend.Legend at 0x7f47b55b7c50>"
            ]
          },
          "metadata": {
            "tags": []
          },
          "execution_count": 206
        },
        {
          "output_type": "display_data",
          "data": {
            "image/png": "[encoded data removed]",
            "text/plain": [
              "<Figure size 432x288 with 1 Axes>"
            ]
          },
          "metadata": {
            "tags": [],
            "needs_background": "light"
          }
        }
      ]
    },
    {
      "cell_type": "code",
      "metadata": {
        "colab": {
          "base_uri": "https://localhost:8080/",
          "height": 0
        },
        "id": "XWHvoSnxmDk5",
        "outputId": "80138d6a-d5e4-4260-f0c4-e083f19780fd"
      },
      "source": [
        "rand_sample_500=df.sample(n=500, random_state=0)\n",
        "print(rand_sample_500)"
      ],
      "execution_count": 207,
      "outputs": [
        {
          "output_type": "stream",
          "text": [
            "      Gender Compensation_range  compensation\n",
            "8206    Male          10-20,000         15000\n",
            "1308    Male          50-60,000         55000\n",
            "2247    Male          60-70,000         65000\n",
            "6722    Male          10-20,000         15000\n",
            "5682    Male        100-125,000        112500\n",
            "...      ...                ...           ...\n",
            "12934   Male           0-10,000          5000\n",
            "4827    Male          30-40,000         35000\n",
            "14417   Male          10-20,000         15000\n",
            "7945    Male          70-80,000         75000\n",
            "8114    Male        125-150,000        137500\n",
            "\n",
            "[500 rows x 3 columns]\n"
          ],
          "name": "stdout"
        }
      ]
    },
    {
      "cell_type": "code",
      "metadata": {
        "colab": {
          "base_uri": "https://localhost:8080/",
          "height": 317
        },
        "id": "NMokh91KmDhY",
        "outputId": "3543778d-e233-497e-c90b-3983f06d3636"
      },
      "source": [
        "#histogram of the sample without repetition\n",
        "plt.hist(rand_sample_500['compensation'],bins=50, alpha=0.5,label='Sample Compensation', color='b')\n",
        "plt.xlabel('Compensation',size=16, color='b')\n",
        "plt.ylabel('Count',size=16, color='b')\n",
        "plt.title('Random Sample 500', color='b')\n",
        "plt.legend(loc='upper right')"
      ],
      "execution_count": 209,
      "outputs": [
        {
          "output_type": "execute_result",
          "data": {
            "text/plain": [
              "<matplotlib.legend.Legend at 0x7f47af872d50>"
            ]
          },
          "metadata": {
            "tags": []
          },
          "execution_count": 209
        },
        {
          "output_type": "display_data",
          "data": {
            "image/png": "[encoded data removed]",
            "text/plain": [
              "<Figure size 432x288 with 1 Axes>"
            ]
          },
          "metadata": {
            "tags": [],
            "needs_background": "light"
          }
        }
      ]
    },
    {
      "cell_type": "code",
      "metadata": {
        "id": "OEawBub8qK44"
      },
      "source": [
        "rand_sample_2000=df.sample(n=2000, random_state=0)"
      ],
      "execution_count": 210,
      "outputs": []
    },
    {
      "cell_type": "code",
      "metadata": {
        "colab": {
          "base_uri": "https://localhost:8080/",
          "height": 317
        },
        "id": "Jkfn4G9bqK1v",
        "outputId": "85095481-a8b5-4894-da3b-dbea45559df8"
      },
      "source": [
        "#histogram of the sample without repetition\n",
        "plt.hist(rand_sample_2000['compensation'],bins=50, alpha=0.5,label='Sample Compensation',color='b')\n",
        "plt.xlabel('Compensation',size=16, color='b')\n",
        "plt.ylabel('Count',size=16, color='b')\n",
        "plt.title('Random Sample 2000', color='b')\n",
        "plt.legend(loc='upper right')"
      ],
      "execution_count": 211,
      "outputs": [
        {
          "output_type": "execute_result",
          "data": {
            "text/plain": [
              "<matplotlib.legend.Legend at 0x7f47af841d90>"
            ]
          },
          "metadata": {
            "tags": []
          },
          "execution_count": 211
        },
        {
          "output_type": "display_data",
          "data": {
            "image/png": "[encoded data removed]",
            "text/plain": [
              "<Figure size 432x288 with 1 Axes>"
            ]
          },
          "metadata": {
            "tags": [],
            "needs_background": "light"
          }
        }
      ]
    },
    {
      "cell_type": "code",
      "metadata": {
        "colab": {
          "base_uri": "https://localhost:8080/",
          "height": 0
        },
        "id": "wWEq0Ky9ir8S",
        "outputId": "d1a79f45-3848-423b-a65e-1f99612821f4"
      },
      "source": [
        "! pip install dc_stat_think"
      ],
      "execution_count": 212,
      "outputs": [
        {
          "output_type": "stream",
          "text": [
            "Requirement already satisfied: dc_stat_think in /usr/local/lib/python3.7/dist-packages (1.1.1)\n"
          ],
          "name": "stdout"
        }
      ]
    },
    {
      "cell_type": "code",
      "metadata": {
        "id": "_kSqiNcbiBJx"
      },
      "source": [
        "#ECDF plotting & percentile computation\n",
        "import seaborn as sns\n",
        "import dc_stat_think as dcst"
      ],
      "execution_count": 213,
      "outputs": []
    },
    {
      "cell_type": "code",
      "metadata": {
        "id": "2Ws-OyhRmDc7"
      },
      "source": [
        "comp=df.compensation"
      ],
      "execution_count": 214,
      "outputs": []
    },
    {
      "cell_type": "code",
      "metadata": {
        "colab": {
          "base_uri": "https://localhost:8080/",
          "height": 299
        },
        "id": "D4TkqznojKFI",
        "outputId": "0833451f-f6cf-4fa6-a1a4-4a0679c4d685"
      },
      "source": [
        "#define x & y\n",
        "x, y = dcst.ecdf(comp)\n",
        "#draw the ECDF plot\n",
        "plt.plot(x, y*100, linestyle='--', lw = 2,label='Population Compensation',color='g')\n",
        "plt.xlabel('Compensation', size = 14, color='b')\n",
        "plt.ylabel('ECDF', size = 14, color='b')\n",
        "plt.title('Population ECDF', color='b')\n",
        "plt.legend(loc='lower right')\n",
        "plt.show()\n"
      ],
      "execution_count": 215,
      "outputs": [
        {
          "output_type": "display_data",
          "data": {
            "image/png": "[encoded data removed]",
            "text/plain": [
              "<Figure size 432x288 with 1 Axes>"
            ]
          },
          "metadata": {
            "tags": [],
            "needs_background": "light"
          }
        }
      ]
    },
    {
      "cell_type": "code",
      "metadata": {
        "colab": {
          "base_uri": "https://localhost:8080/",
          "height": 299
        },
        "id": "pJVb0NoJjKB4",
        "outputId": "fecde2ee-9fb4-4867-fd98-cc9db7a06685"
      },
      "source": [
        "comp_rand=rand_sample_500.compensation\n",
        "x1, y1 = dcst.ecdf(comp_rand)\n",
        "plt.plot(x1, y1*100, linestyle='--', lw = 2,label='Sample Compensation',color='b')\n",
        "plt.xlabel('Compensation', size = 14, color='b')\n",
        "plt.ylabel('ECDF', size = 14, color='b')\n",
        "plt.title('Random Sample 500 ECDF', color='b')\n",
        "plt.legend(loc='lower right')\n",
        "plt.show()\n"
      ],
      "execution_count": 216,
      "outputs": [
        {
          "output_type": "display_data",
          "data": {
            "image/png": "[encoded data removed]",
            "text/plain": [
              "<Figure size 432x288 with 1 Axes>"
            ]
          },
          "metadata": {
            "tags": [],
            "needs_background": "light"
          }
        }
      ]
    },
    {
      "cell_type": "code",
      "metadata": {
        "id": "Nmosx4vTfVrG"
      },
      "source": [
        "from datascience import *"
      ],
      "execution_count": 218,
      "outputs": []
    },
    {
      "cell_type": "code",
      "metadata": {
        "colab": {
          "base_uri": "https://localhost:8080/",
          "height": 389
        },
        "id": "pidQEmsqatmQ",
        "outputId": "1ce2e532-519b-452d-accf-ed8a293433e4"
      },
      "source": [
        "#create the table of the dataframe\n",
        "\n",
        "compensation_table=Table().with_columns(\n",
        "    'Gender',df['Gender'].to_numpy(),\n",
        "    'compensation',df['compensation'].to_numpy()\n",
        ")\n",
        "compensation_table"
      ],
      "execution_count": 219,
      "outputs": [
        {
          "output_type": "execute_result",
          "data": {
            "text/html": [
              "<table border=\"1\" class=\"dataframe\">\n",
              "    <thead>\n",
              "        <tr>\n",
              "            <th>Gender</th> <th>compensation</th>\n",
              "        </tr>\n",
              "    </thead>\n",
              "    <tbody>\n",
              "        <tr>\n",
              "            <td>Male  </td> <td>15000       </td>\n",
              "        </tr>\n",
              "        <tr>\n",
              "            <td>Female</td> <td>5000        </td>\n",
              "        </tr>\n",
              "        <tr>\n",
              "            <td>Male  </td> <td>5000        </td>\n",
              "        </tr>\n",
              "        <tr>\n",
              "            <td>Male  </td> <td>15000       </td>\n",
              "        </tr>\n",
              "        <tr>\n",
              "            <td>Male  </td> <td>5000        </td>\n",
              "        </tr>\n",
              "        <tr>\n",
              "            <td>Male  </td> <td>25000       </td>\n",
              "        </tr>\n",
              "        <tr>\n",
              "            <td>Male  </td> <td>137500      </td>\n",
              "        </tr>\n",
              "        <tr>\n",
              "            <td>Male  </td> <td>35000       </td>\n",
              "        </tr>\n",
              "        <tr>\n",
              "            <td>Male  </td> <td>35000       </td>\n",
              "        </tr>\n",
              "        <tr>\n",
              "            <td>Female</td> <td>15000       </td>\n",
              "        </tr>\n",
              "    </tbody>\n",
              "</table>\n",
              "<p>... (15419 rows omitted)</p>"
            ],
            "text/plain": [
              "Gender | compensation\n",
              "Male   | 15000\n",
              "Female | 5000\n",
              "Male   | 5000\n",
              "Male   | 15000\n",
              "Male   | 5000\n",
              "Male   | 25000\n",
              "Male   | 137500\n",
              "Male   | 35000\n",
              "Male   | 35000\n",
              "Female | 15000\n",
              "... (15419 rows omitted)"
            ]
          },
          "metadata": {
            "tags": []
          },
          "execution_count": 219
        }
      ]
    },
    {
      "cell_type": "code",
      "metadata": {
        "colab": {
          "base_uri": "https://localhost:8080/",
          "height": 0
        },
        "id": "oF7zhwDADEXV",
        "outputId": "8c751c63-633e-48dd-dc6c-e942ecafc79b"
      },
      "source": [
        "compensation_table.column('compensation').min()"
      ],
      "execution_count": 220,
      "outputs": [
        {
          "output_type": "execute_result",
          "data": {
            "text/plain": [
              "5000"
            ]
          },
          "metadata": {
            "tags": []
          },
          "execution_count": 220
        }
      ]
    },
    {
      "cell_type": "code",
      "metadata": {
        "colab": {
          "base_uri": "https://localhost:8080/",
          "height": 0
        },
        "id": "b-68OK8oDSWF",
        "outputId": "18537618-0e13-47d4-e9fe-886a3562bdad"
      },
      "source": [
        "compensation_table.column('compensation').max()"
      ],
      "execution_count": 221,
      "outputs": [
        {
          "output_type": "execute_result",
          "data": {
            "text/plain": [
              "500000"
            ]
          },
          "metadata": {
            "tags": []
          },
          "execution_count": 221
        }
      ]
    },
    {
      "cell_type": "code",
      "metadata": {
        "colab": {
          "base_uri": "https://localhost:8080/",
          "height": 312
        },
        "id": "xDDzBNZnXa_O",
        "outputId": "09e24008-2ff1-45e2-adb1-26b50e518f15"
      },
      "source": [
        "#Empirical Distribution of the sample size of 500 from the population\n",
        "def empirical_hist_compensation(n):\n",
        "  #compensation_table.sample(n).hist('compensation',bins=np.append(np.arange(0,500000,10000)),unit='dollar')\n",
        "  compensation_table.sample(n).hist('compensation',bins=np.arange(0,500000,10000),unit='dollar')\n",
        "empirical_hist_compensation(500)\n"
      ],
      "execution_count": 222,
      "outputs": [
        {
          "output_type": "display_data",
          "data": {
            "image/png": "[encoded data removed]",
            "text/plain": [
              "<Figure size 432x288 with 1 Axes>"
            ]
          },
          "metadata": {
            "tags": [],
            "needs_background": "light"
          }
        }
      ]
    },
    {
      "cell_type": "code",
      "metadata": {
        "colab": {
          "base_uri": "https://localhost:8080/",
          "height": 312
        },
        "id": "ez-AR-9XDfkJ",
        "outputId": "03f53b4f-e992-4c60-b36f-b92a6fde3f54"
      },
      "source": [
        "#Empirical Distribution of the almost 30% of the population\n",
        "def empirical_hist_compensation(n):\n",
        "  #compensation_table.sample(n).hist('compensation',bins=np.append(np.arange(0,500000,10000)),unit='dollar')\n",
        "  compensation_table.sample(n).hist('compensation',bins=np.arange(0,500000,10000),unit='dollar')\n",
        "empirical_hist_compensation(5000)\n"
      ],
      "execution_count": 223,
      "outputs": [
        {
          "output_type": "display_data",
          "data": {
            "image/png": "[encoded data removed]",
            "text/plain": [
              "<Figure size 432x288 with 1 Axes>"
            ]
          },
          "metadata": {
            "tags": [],
            "needs_background": "light"
          }
        }
      ]
    },
    {
      "cell_type": "code",
      "metadata": {
        "colab": {
          "base_uri": "https://localhost:8080/",
          "height": 389
        },
        "id": "ijKpQ4zNvWoD",
        "outputId": "7b7176a5-1816-4444-f873-73d669285014"
      },
      "source": [
        "random_sample1 = compensation_table.sample(500, with_replacement=False)\n",
        "random_sample1"
      ],
      "execution_count": 230,
      "outputs": [
        {
          "output_type": "execute_result",
          "data": {
            "text/html": [
              "<table border=\"1\" class=\"dataframe\">\n",
              "    <thead>\n",
              "        <tr>\n",
              "            <th>Gender</th> <th>compensation</th>\n",
              "        </tr>\n",
              "    </thead>\n",
              "    <tbody>\n",
              "        <tr>\n",
              "            <td>Male  </td> <td>25000       </td>\n",
              "        </tr>\n",
              "        <tr>\n",
              "            <td>Female</td> <td>5000        </td>\n",
              "        </tr>\n",
              "        <tr>\n",
              "            <td>Male  </td> <td>95000       </td>\n",
              "        </tr>\n",
              "        <tr>\n",
              "            <td>Male  </td> <td>95000       </td>\n",
              "        </tr>\n",
              "        <tr>\n",
              "            <td>Male  </td> <td>5000        </td>\n",
              "        </tr>\n",
              "        <tr>\n",
              "            <td>Male  </td> <td>45000       </td>\n",
              "        </tr>\n",
              "        <tr>\n",
              "            <td>Male  </td> <td>45000       </td>\n",
              "        </tr>\n",
              "        <tr>\n",
              "            <td>Male  </td> <td>5000        </td>\n",
              "        </tr>\n",
              "        <tr>\n",
              "            <td>Male  </td> <td>5000        </td>\n",
              "        </tr>\n",
              "        <tr>\n",
              "            <td>Male  </td> <td>5000        </td>\n",
              "        </tr>\n",
              "    </tbody>\n",
              "</table>\n",
              "<p>... (490 rows omitted)</p>"
            ],
            "text/plain": [
              "Gender | compensation\n",
              "Male   | 25000\n",
              "Female | 5000\n",
              "Male   | 95000\n",
              "Male   | 95000\n",
              "Male   | 5000\n",
              "Male   | 45000\n",
              "Male   | 45000\n",
              "Male   | 5000\n",
              "Male   | 5000\n",
              "Male   | 5000\n",
              "... (490 rows omitted)"
            ]
          },
          "metadata": {
            "tags": []
          },
          "execution_count": 230
        }
      ]
    },
    {
      "cell_type": "markdown",
      "metadata": {
        "id": "smCpmfLT1Xhh"
      },
      "source": [
        "•\tDraw the income histogram for the sample, calculate the median income of the sample, and draw a red dot and a yellow dot of the female median income and male median income of the population, respectively, in the histogram."
      ]
    },
    {
      "cell_type": "code",
      "metadata": {
        "colab": {
          "base_uri": "https://localhost:8080/",
          "height": 389
        },
        "id": "oe88CRQi3ZdR",
        "outputId": "73a5e58e-eeb0-45ad-a4e6-87a7b238a769"
      },
      "source": [
        "random_sample2=random_sample1.where('Gender', are.equal_to('Female'))\n",
        "random_sample2"
      ],
      "execution_count": 231,
      "outputs": [
        {
          "output_type": "execute_result",
          "data": {
            "text/html": [
              "<table border=\"1\" class=\"dataframe\">\n",
              "    <thead>\n",
              "        <tr>\n",
              "            <th>Gender</th> <th>compensation</th>\n",
              "        </tr>\n",
              "    </thead>\n",
              "    <tbody>\n",
              "        <tr>\n",
              "            <td>Female</td> <td>5000        </td>\n",
              "        </tr>\n",
              "        <tr>\n",
              "            <td>Female</td> <td>5000        </td>\n",
              "        </tr>\n",
              "        <tr>\n",
              "            <td>Female</td> <td>5000        </td>\n",
              "        </tr>\n",
              "        <tr>\n",
              "            <td>Female</td> <td>85000       </td>\n",
              "        </tr>\n",
              "        <tr>\n",
              "            <td>Female</td> <td>5000        </td>\n",
              "        </tr>\n",
              "        <tr>\n",
              "            <td>Female</td> <td>25000       </td>\n",
              "        </tr>\n",
              "        <tr>\n",
              "            <td>Female</td> <td>75000       </td>\n",
              "        </tr>\n",
              "        <tr>\n",
              "            <td>Female</td> <td>55000       </td>\n",
              "        </tr>\n",
              "        <tr>\n",
              "            <td>Female</td> <td>55000       </td>\n",
              "        </tr>\n",
              "        <tr>\n",
              "            <td>Female</td> <td>35000       </td>\n",
              "        </tr>\n",
              "    </tbody>\n",
              "</table>\n",
              "<p>... (59 rows omitted)</p>"
            ],
            "text/plain": [
              "Gender | compensation\n",
              "Female | 5000\n",
              "Female | 5000\n",
              "Female | 5000\n",
              "Female | 85000\n",
              "Female | 5000\n",
              "Female | 25000\n",
              "Female | 75000\n",
              "Female | 55000\n",
              "Female | 55000\n",
              "Female | 35000\n",
              "... (59 rows omitted)"
            ]
          },
          "metadata": {
            "tags": []
          },
          "execution_count": 231
        }
      ]
    },
    {
      "cell_type": "code",
      "metadata": {
        "colab": {
          "base_uri": "https://localhost:8080/",
          "height": 0
        },
        "id": "GMgysODpvWjq",
        "outputId": "d1eedfb5-9e75-4217-8010-064b7e87d2fa"
      },
      "source": [
        "sample_median=percentile(50,random_sample1.column('compensation'))\n",
        "sample_median"
      ],
      "execution_count": 232,
      "outputs": [
        {
          "output_type": "execute_result",
          "data": {
            "text/plain": [
              "25000"
            ]
          },
          "metadata": {
            "tags": []
          },
          "execution_count": 232
        }
      ]
    },
    {
      "cell_type": "code",
      "metadata": {
        "colab": {
          "base_uri": "https://localhost:8080/",
          "height": 0
        },
        "id": "mVOYwIOJ_b-F",
        "outputId": "415beb37-c314-43c1-e3b2-d07147bb2788"
      },
      "source": [
        "female_median=percentile(50,random_sample2.column('compensation'))\n",
        "female_median"
      ],
      "execution_count": 233,
      "outputs": [
        {
          "output_type": "execute_result",
          "data": {
            "text/plain": [
              "15000"
            ]
          },
          "metadata": {
            "tags": []
          },
          "execution_count": 233
        }
      ]
    },
    {
      "cell_type": "code",
      "metadata": {
        "colab": {
          "base_uri": "https://localhost:8080/",
          "height": 0
        },
        "id": "Q0q1b36o-x25",
        "outputId": "3ecb3b74-87ba-43e3-db1b-dd36b479a974"
      },
      "source": [
        "random_sample3=random_sample1.where('Gender', are.equal_to('Male'))\n",
        "male_median=percentile(50,random_sample3.column('compensation'))\n",
        "male_median"
      ],
      "execution_count": 234,
      "outputs": [
        {
          "output_type": "execute_result",
          "data": {
            "text/plain": [
              "35000"
            ]
          },
          "metadata": {
            "tags": []
          },
          "execution_count": 234
        }
      ]
    },
    {
      "cell_type": "code",
      "metadata": {
        "colab": {
          "base_uri": "https://localhost:8080/",
          "height": 329
        },
        "id": "9Fcm1frR-p8U",
        "outputId": "1ab71742-a983-4f46-8c73-96ec8373c2d9"
      },
      "source": [
        "import matplotlib.pyplot as plots\n",
        "random_bins = np.arange(0, 500000, 10000)\n",
        "random_sample1.select('compensation',).hist(bins=random_bins)\n",
        "plots.scatter(sample_median, 0, color='black', s=50)\n",
        "plots.scatter(female_median, 0, color='r', s=50)\n",
        "plots.scatter(male_median, 0, color='yellow', s=50)"
      ],
      "execution_count": 239,
      "outputs": [
        {
          "output_type": "execute_result",
          "data": {
            "text/plain": [
              "<matplotlib.collections.PathCollection at 0x7f47af0cd350>"
            ]
          },
          "metadata": {
            "tags": []
          },
          "execution_count": 239
        },
        {
          "output_type": "display_data",
          "data": {
            "image/png": "[encoded data removed]",
            "text/plain": [
              "<Figure size 432x288 with 1 Axes>"
            ]
          },
          "metadata": {
            "tags": [],
            "needs_background": "light"
          }
        }
      ]
    },
    {
      "cell_type": "markdown",
      "metadata": {
        "id": "pOn8v3zXFxgw"
      },
      "source": [
        "•\tDraw the histogram of the test statistic of the sample, and draw a red dot to show the corresponding test statistic of the population (e.g. the difference of the median incomes between female and male employees)"
      ]
    },
    {
      "cell_type": "code",
      "metadata": {
        "colab": {
          "base_uri": "https://localhost:8080/",
          "height": 173
        },
        "id": "XftugnLMj6ax",
        "outputId": "ba7241c3-6862-4187-cb29-8c05b1932ea5"
      },
      "source": [
        "compensation_median=compensation_table.group('Gender',np.median)\n",
        "compensation_median.show()                                        "
      ],
      "execution_count": 240,
      "outputs": [
        {
          "output_type": "display_data",
          "data": {
            "text/html": [
              "<table border=\"1\" class=\"dataframe\">\n",
              "    <thead>\n",
              "        <tr>\n",
              "            <th>Gender</th> <th>compensation median</th>\n",
              "        </tr>\n",
              "    </thead>\n",
              "    <tbody>\n",
              "        <tr>\n",
              "            <td>Female                 </td> <td>25000              </td>\n",
              "        </tr>\n",
              "        <tr>\n",
              "            <td>Male                   </td> <td>35000              </td>\n",
              "        </tr>\n",
              "        <tr>\n",
              "            <td>Prefer not to say      </td> <td>45000              </td>\n",
              "        </tr>\n",
              "        <tr>\n",
              "            <td>Prefer to self-describe</td> <td>45000              </td>\n",
              "        </tr>\n",
              "    </tbody>\n",
              "</table>"
            ],
            "text/plain": [
              "<IPython.core.display.HTML object>"
            ]
          },
          "metadata": {
            "tags": []
          }
        }
      ]
    },
    {
      "cell_type": "code",
      "metadata": {
        "colab": {
          "base_uri": "https://localhost:8080/",
          "height": 173
        },
        "id": "Dr_TSfIJj6V7",
        "outputId": "bb8af9e3-e87f-4059-b90d-99353125d3c6"
      },
      "source": [
        "compensation_table.group('Gender')"
      ],
      "execution_count": 241,
      "outputs": [
        {
          "output_type": "execute_result",
          "data": {
            "text/html": [
              "<table border=\"1\" class=\"dataframe\">\n",
              "    <thead>\n",
              "        <tr>\n",
              "            <th>Gender</th> <th>count</th>\n",
              "        </tr>\n",
              "    </thead>\n",
              "    <tbody>\n",
              "        <tr>\n",
              "            <td>Female                 </td> <td>2380 </td>\n",
              "        </tr>\n",
              "        <tr>\n",
              "            <td>Male                   </td> <td>12866</td>\n",
              "        </tr>\n",
              "        <tr>\n",
              "            <td>Prefer not to say      </td> <td>130  </td>\n",
              "        </tr>\n",
              "        <tr>\n",
              "            <td>Prefer to self-describe</td> <td>53   </td>\n",
              "        </tr>\n",
              "    </tbody>\n",
              "</table>"
            ],
            "text/plain": [
              "Gender                  | count\n",
              "Female                  | 2380\n",
              "Male                    | 12866\n",
              "Prefer not to say       | 130\n",
              "Prefer to self-describe | 53"
            ]
          },
          "metadata": {
            "tags": []
          },
          "execution_count": 241
        }
      ]
    },
    {
      "cell_type": "code",
      "metadata": {
        "colab": {
          "base_uri": "https://localhost:8080/",
          "height": 173
        },
        "id": "yzuhWu8cwW0I",
        "outputId": "ddf4127f-15d5-463f-fab0-50a6be39f4a8"
      },
      "source": [
        "compensation_averages=compensation_table.group('Gender',np.average)\n",
        "compensation_averages.show()"
      ],
      "execution_count": 242,
      "outputs": [
        {
          "output_type": "display_data",
          "data": {
            "text/html": [
              "<table border=\"1\" class=\"dataframe\">\n",
              "    <thead>\n",
              "        <tr>\n",
              "            <th>Gender</th> <th>compensation average</th>\n",
              "        </tr>\n",
              "    </thead>\n",
              "    <tbody>\n",
              "        <tr>\n",
              "            <td>Female                 </td> <td>44631.3             </td>\n",
              "        </tr>\n",
              "        <tr>\n",
              "            <td>Male                   </td> <td>51190.7             </td>\n",
              "        </tr>\n",
              "        <tr>\n",
              "            <td>Prefer not to say      </td> <td>81653.8             </td>\n",
              "        </tr>\n",
              "        <tr>\n",
              "            <td>Prefer to self-describe</td> <td>113443              </td>\n",
              "        </tr>\n",
              "    </tbody>\n",
              "</table>"
            ],
            "text/plain": [
              "<IPython.core.display.HTML object>"
            ]
          },
          "metadata": {
            "tags": []
          }
        }
      ]
    },
    {
      "cell_type": "code",
      "metadata": {
        "id": "6Rwx7wm9TjMl"
      },
      "source": [
        "#random_sample= compensation_only.sample(500, with_replacement=False)\n",
        "#random_sample"
      ],
      "execution_count": 124,
      "outputs": []
    },
    {
      "cell_type": "code",
      "metadata": {
        "colab": {
          "base_uri": "https://localhost:8080/",
          "height": 389
        },
        "id": "i9tX97uEu4B2",
        "outputId": "2d86cec3-9e2b-461f-e10f-cc641d032627"
      },
      "source": [
        "compensation_only=compensation_table.drop('Gender')\n",
        "compensation_only"
      ],
      "execution_count": 243,
      "outputs": [
        {
          "output_type": "execute_result",
          "data": {
            "text/html": [
              "<table border=\"1\" class=\"dataframe\">\n",
              "    <thead>\n",
              "        <tr>\n",
              "            <th>compensation</th>\n",
              "        </tr>\n",
              "    </thead>\n",
              "    <tbody>\n",
              "        <tr>\n",
              "            <td>15000       </td>\n",
              "        </tr>\n",
              "        <tr>\n",
              "            <td>5000        </td>\n",
              "        </tr>\n",
              "        <tr>\n",
              "            <td>5000        </td>\n",
              "        </tr>\n",
              "        <tr>\n",
              "            <td>15000       </td>\n",
              "        </tr>\n",
              "        <tr>\n",
              "            <td>5000        </td>\n",
              "        </tr>\n",
              "        <tr>\n",
              "            <td>25000       </td>\n",
              "        </tr>\n",
              "        <tr>\n",
              "            <td>137500      </td>\n",
              "        </tr>\n",
              "        <tr>\n",
              "            <td>35000       </td>\n",
              "        </tr>\n",
              "        <tr>\n",
              "            <td>35000       </td>\n",
              "        </tr>\n",
              "        <tr>\n",
              "            <td>15000       </td>\n",
              "        </tr>\n",
              "    </tbody>\n",
              "</table>\n",
              "<p>... (15419 rows omitted)</p>"
            ],
            "text/plain": [
              "compensation\n",
              "15000\n",
              "5000\n",
              "5000\n",
              "15000\n",
              "5000\n",
              "25000\n",
              "137500\n",
              "35000\n",
              "35000\n",
              "15000\n",
              "... (15419 rows omitted)"
            ]
          },
          "metadata": {
            "tags": []
          },
          "execution_count": 243
        }
      ]
    },
    {
      "cell_type": "code",
      "metadata": {
        "colab": {
          "base_uri": "https://localhost:8080/",
          "height": 389
        },
        "id": "23dWuzPRS9G4",
        "outputId": "dee9ec4b-0e1b-44a2-9d28-d3e2064bc288"
      },
      "source": [
        "compensation_only1=random_sample1.drop('Gender')\n",
        "compensation_only1"
      ],
      "execution_count": 244,
      "outputs": [
        {
          "output_type": "execute_result",
          "data": {
            "text/html": [
              "<table border=\"1\" class=\"dataframe\">\n",
              "    <thead>\n",
              "        <tr>\n",
              "            <th>compensation</th>\n",
              "        </tr>\n",
              "    </thead>\n",
              "    <tbody>\n",
              "        <tr>\n",
              "            <td>25000       </td>\n",
              "        </tr>\n",
              "        <tr>\n",
              "            <td>5000        </td>\n",
              "        </tr>\n",
              "        <tr>\n",
              "            <td>95000       </td>\n",
              "        </tr>\n",
              "        <tr>\n",
              "            <td>95000       </td>\n",
              "        </tr>\n",
              "        <tr>\n",
              "            <td>5000        </td>\n",
              "        </tr>\n",
              "        <tr>\n",
              "            <td>45000       </td>\n",
              "        </tr>\n",
              "        <tr>\n",
              "            <td>45000       </td>\n",
              "        </tr>\n",
              "        <tr>\n",
              "            <td>5000        </td>\n",
              "        </tr>\n",
              "        <tr>\n",
              "            <td>5000        </td>\n",
              "        </tr>\n",
              "        <tr>\n",
              "            <td>5000        </td>\n",
              "        </tr>\n",
              "    </tbody>\n",
              "</table>\n",
              "<p>... (490 rows omitted)</p>"
            ],
            "text/plain": [
              "compensation\n",
              "25000\n",
              "5000\n",
              "95000\n",
              "95000\n",
              "5000\n",
              "45000\n",
              "45000\n",
              "5000\n",
              "5000\n",
              "5000\n",
              "... (490 rows omitted)"
            ]
          },
          "metadata": {
            "tags": []
          },
          "execution_count": 244
        }
      ]
    },
    {
      "cell_type": "code",
      "metadata": {
        "colab": {
          "base_uri": "https://localhost:8080/",
          "height": 0
        },
        "id": "OhUpWXODU-6I",
        "outputId": "7096a175-eddc-4f99-be10-e39f014b16f9"
      },
      "source": [
        "random_sample_median=percentile(50,random_sample1.column('compensation'))\n",
        "random_sample_median"
      ],
      "execution_count": 245,
      "outputs": [
        {
          "output_type": "execute_result",
          "data": {
            "text/plain": [
              "25000"
            ]
          },
          "metadata": {
            "tags": []
          },
          "execution_count": 245
        }
      ]
    },
    {
      "cell_type": "code",
      "metadata": {
        "colab": {
          "base_uri": "https://localhost:8080/",
          "height": 0
        },
        "id": "l9ZBXsjs3z4-",
        "outputId": "d18efbb0-acce-4af2-bfc0-5772c69ca3b8"
      },
      "source": [
        "np.average(compensation_only.column('compensation'))"
      ],
      "execution_count": 246,
      "outputs": [
        {
          "output_type": "execute_result",
          "data": {
            "text/plain": [
              "50649.42640482209"
            ]
          },
          "metadata": {
            "tags": []
          },
          "execution_count": 246
        }
      ]
    },
    {
      "cell_type": "code",
      "metadata": {
        "colab": {
          "base_uri": "https://localhost:8080/",
          "height": 0
        },
        "id": "HqAxt5zFegsd",
        "outputId": "ce955055-862f-477a-fac5-526f6f189d83"
      },
      "source": [
        "np.average(compensation_only1.column('compensation'))"
      ],
      "execution_count": 247,
      "outputs": [
        {
          "output_type": "execute_result",
          "data": {
            "text/plain": [
              "49670.0"
            ]
          },
          "metadata": {
            "tags": []
          },
          "execution_count": 247
        }
      ]
    },
    {
      "cell_type": "code",
      "metadata": {
        "colab": {
          "base_uri": "https://localhost:8080/",
          "height": 0
        },
        "id": "XBnZ-uaRX04f",
        "outputId": "114298dd-3500-4e42-ef17-3755fe681b9d"
      },
      "source": [
        "def sub(num1,num2):\n",
        "    return(num1-num2)\n",
        "print(sub(35000,25000))\n"
      ],
      "execution_count": 249,
      "outputs": [
        {
          "output_type": "stream",
          "text": [
            "10000\n"
          ],
          "name": "stdout"
        }
      ]
    },
    {
      "cell_type": "code",
      "metadata": {
        "id": "omMAN2XkwIog"
      },
      "source": [
        ""
      ],
      "execution_count": null,
      "outputs": []
    },
    {
      "cell_type": "code",
      "metadata": {
        "id": "OqsuN1WfP629"
      },
      "source": [
        "def random_sample_average():\n",
        "  random_sample1=compensation_only.sample(500,with_replacement=False)\n",
        "  return np.average(random_sample1.column('compensation'))\n",
        "  #return percentile(50,random_sample.column('compensation'))"
      ],
      "execution_count": 251,
      "outputs": []
    },
    {
      "cell_type": "code",
      "metadata": {
        "id": "mfWN8uFYP60W"
      },
      "source": [
        "sample_averages = make_array()\n",
        "\n",
        "repetitions = 10000\n",
        "for i in np.arange(repetitions):\n",
        "    sample_averages = np.append(sample_averages, random_sample_average())"
      ],
      "execution_count": 254,
      "outputs": []
    },
    {
      "cell_type": "code",
      "metadata": {
        "colab": {
          "base_uri": "https://localhost:8080/",
          "height": 284
        },
        "id": "z8vYi_yDP6wy",
        "outputId": "aef0e30b-58b5-4d39-a3c6-f421fddb0982"
      },
      "source": [
        "averages_tbl = Table().with_column('Sample Average', sample_averages)\n",
        "averages_tbl.hist(bins=20)\n",
        "\n",
        "observed_statistic = 50649.42640482209 \n",
        "plots.scatter(observed_statistic, 0, color='red', s=30);\n"
      ],
      "execution_count": 255,
      "outputs": [
        {
          "output_type": "display_data",
          "data": {
            "image/png": "[encoded data removed]",
            "text/plain": [
              "<Figure size 432x288 with 1 Axes>"
            ]
          },
          "metadata": {
            "tags": [],
            "needs_background": "light"
          }
        }
      ]
    },
    {
      "cell_type": "code",
      "metadata": {
        "colab": {
          "base_uri": "https://localhost:8080/",
          "height": 0
        },
        "id": "_boO_jHrP6tW",
        "outputId": "a77c7ce6-7552-4eec-f4e2-1db7c861e0c2"
      },
      "source": [
        "#conventional cut-offs and P-value\n",
        "np.count_nonzero(sample_averages <= observed_statistic) / repetitions"
      ],
      "execution_count": 256,
      "outputs": [
        {
          "output_type": "execute_result",
          "data": {
            "text/plain": [
              "0.5061"
            ]
          },
          "metadata": {
            "tags": []
          },
          "execution_count": 256
        }
      ]
    },
    {
      "cell_type": "markdown",
      "metadata": {
        "id": "Azib0na_Lqys"
      },
      "source": [
        "•\tWrite a procedure to use bootstrap to produce at least 5000 samples.\n",
        "\n",
        "• Draw the histogram of the test statistic of the bootstrap samples.\n",
        "\n",
        "• Define confidence interval and P-value to validate the hypothesis you defined."
      ]
    },
    {
      "cell_type": "code",
      "metadata": {
        "colab": {
          "base_uri": "https://localhost:8080/",
          "height": 312
        },
        "id": "bT6aujuRTudi",
        "outputId": "56a0c371-a9b7-4d66-dafb-a61152f49653"
      },
      "source": [
        "#get basic idea of the distribution of the population compensation\n",
        "#the next two steps have already completed in the previous parts as well \n",
        "compensation_table.select('compensation').hist()"
      ],
      "execution_count": 257,
      "outputs": [
        {
          "output_type": "display_data",
          "data": {
            "image/png": "[encoded data removed]",
            "text/plain": [
              "<Figure size 432x288 with 1 Axes>"
            ]
          },
          "metadata": {
            "tags": [],
            "needs_background": "light"
          }
        }
      ]
    },
    {
      "cell_type": "code",
      "metadata": {
        "id": "cnKkPdYVUJlp"
      },
      "source": [
        "#np.mean(compensation_table.column('compensation'))"
      ],
      "execution_count": 258,
      "outputs": []
    },
    {
      "cell_type": "code",
      "metadata": {
        "id": "LhH5_XklP6pm"
      },
      "source": [
        "#can use the boot strap for mean, median and the population proportion\n",
        "#to use either mean or median replace the name of them in the code with corresponding need\n",
        "#as the null hypothesis is about average, so the bootstrap of the mean is alpplied here.\n",
        "def bootstrap_means(random_sample1,label, replications):\n",
        "    just_one_column = random_sample1.select(label)\n",
        "    #medians = make_array()\n",
        "    mean = make_array()\n",
        "    for i in np.arange(replications):\n",
        "        bootstrap_sample = just_one_column.sample()\n",
        "        #resampled_mean = percentile(50, bootstrap_sample.column(0))\n",
        "        resampled_mean = np.mean(bootstrap_sample.column(0))\n",
        "        #medians = np.append(medians, resampled_median)\n",
        "        means = np.append(means, resampled_mean)\n",
        "    #return medians\n",
        "    return means"
      ],
      "execution_count": 272,
      "outputs": []
    },
    {
      "cell_type": "code",
      "metadata": {
        "id": "TKrEWq-ZP6ky"
      },
      "source": [
        "#bstrap_median= bootstrap_median(compensation_table,'Compensation', 5000)\n",
        "bstrap_mean = bootstrap_means(compensation_table, 'compensation', 5000)"
      ],
      "execution_count": 275,
      "outputs": []
    },
    {
      "cell_type": "code",
      "metadata": {
        "id": "qbzHNI0CNtVm"
      },
      "source": [
        "#define the end point of the confidence interval, in this case is 95% confidence interval\n",
        "#remaining of 95 out of 100 is five, which divided by two for the two end points.\n",
        "left = percentile(2.5, bstrap_means)\n",
        "#left = percentile(2.5, bstrap_medians)\n",
        "left"
      ],
      "execution_count": 168,
      "outputs": []
    },
    {
      "cell_type": "code",
      "metadata": {
        "id": "PSXpB6ZINvVV"
      },
      "source": [
        "#right = percentile(97.5, bstrap_medians)\n",
        "right = percentile(97.5, bstrap_means)\n",
        "right"
      ],
      "execution_count": null,
      "outputs": []
    },
    {
      "cell_type": "code",
      "metadata": {
        "id": "4s-2i7ErRyyi"
      },
      "source": [
        "make_array(left,right)"
      ],
      "execution_count": null,
      "outputs": []
    },
    {
      "cell_type": "code",
      "metadata": {
        "id": "HIGh2AnuLoyp"
      },
      "source": [
        "#resampled_medians = Table().with_column('Bootstrap Sample Median', bstrap_medians)\n",
        "resampled_means = Table().with_column('Bootstrap Sample Mean', bstrap_means)\n",
        "#median_bins=np.arange(100000, 130000, 2500)\n",
        "#resampled_medians.hist(bins = median_bins)\n",
        "mean_bins=20\n",
        "resampled_means.hist(bins=mean_bins)\n",
        "plots.plot(make_array(left, right), make_array(0, 0), color='yellow', lw=3, zorder=1)\n",
        "plots.scatter(pop_median, 0, color='red', s=30, zorder=2);\n",
        "plots.scatter(pop_mean, 0, color='red', s=30, zorder=2);"
      ],
      "execution_count": null,
      "outputs": []
    },
    {
      "cell_type": "code",
      "metadata": {
        "id": "NgwNSxIcLovS"
      },
      "source": [
        ""
      ],
      "execution_count": null,
      "outputs": []
    }
  ]
}