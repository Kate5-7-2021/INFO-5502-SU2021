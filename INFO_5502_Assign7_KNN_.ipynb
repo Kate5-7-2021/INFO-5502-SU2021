{
  "nbformat": 4,
  "nbformat_minor": 0,
  "metadata": {
    "colab": {
      "name": "INFO-5502_Assign7_KNN .ipynb",
      "provenance": [],
      "collapsed_sections": [],
      "authorship_tag": "ABX9TyOvKxpDPOKh5iKFUKfSnqEi",
      "include_colab_link": true
    },
    "kernelspec": {
      "name": "python3",
      "display_name": "Python 3"
    },
    "language_info": {
      "name": "python"
    }
  },
  "cells": [
    {
      "cell_type": "markdown",
      "metadata": {
        "id": "view-in-github",
        "colab_type": "text"
      },
      "source": [
        "<a href=\"https://colab.research.google.com/github/Kate5-7-2021/INFO-5502-SU2021/blob/main/INFO_5502_Assign7_KNN_.ipynb\" target=\"_parent\"><img src=\"https://colab.research.google.com/assets/colab-badge.svg\" alt=\"Open In Colab\"/></a>"
      ]
    },
    {
      "cell_type": "code",
      "metadata": {
        "id": "EZg548cWXFjN"
      },
      "source": [
        "import pandas as pd                #import necessary packages\n",
        "import numpy as np\n",
        "import matplotlib.pyplot as plt\n",
        "%matplotlib inline\n",
        "from matplotlib.colors import ListedColormap\n",
        "from sklearn import datasets\n",
        "from sklearn.model_selection import train_test_split\n",
        "from sklearn.preprocessing import StandardScaler\n",
        "from sklearn.neighbors import (KNeighborsClassifier, NeighborhoodComponentsAnalysis)\n",
        "from sklearn.metrics import accuracy_score\n",
        "from sklearn.model_selection import cross_val_score\n",
        "from sklearn.model_selection import cross_val_predict\n",
        "from sklearn.model_selection import KFold\n",
        "from sklearn import metrics\n",
        "from sklearn.metrics import confusion_matrix\n",
        "from sklearn.metrics import classification_report\n",
        "from sklearn.pipeline import Pipeline\n",
        "from sklearn.datasets import load_iris\n"
      ],
      "execution_count": 36,
      "outputs": []
    },
    {
      "cell_type": "code",
      "metadata": {
        "id": "6iC5RNhfxAfn"
      },
      "source": [
        "iris_data=load_iris()                 #load data"
      ],
      "execution_count": 37,
      "outputs": []
    },
    {
      "cell_type": "code",
      "metadata": {
        "id": "Xi--zJ6FtOKV"
      },
      "source": [
        "classes={0:'setosa',1:'virginica',2:'versicolour'}      #define classes"
      ],
      "execution_count": 38,
      "outputs": []
    },
    {
      "cell_type": "code",
      "metadata": {
        "colab": {
          "base_uri": "https://localhost:8080/",
          "height": 0
        },
        "id": "GpQzomFQxB5C",
        "outputId": "49f75ecc-9bd0-4bfb-9da7-9c7f9620ceb2"
      },
      "source": [
        "iris_class=iris_data.target            #create array of target based on the classes\n",
        "iris_class"
      ],
      "execution_count": 39,
      "outputs": [
        {
          "output_type": "execute_result",
          "data": {
            "text/plain": [
              "array([0, 0, 0, 0, 0, 0, 0, 0, 0, 0, 0, 0, 0, 0, 0, 0, 0, 0, 0, 0, 0, 0,\n",
              "       0, 0, 0, 0, 0, 0, 0, 0, 0, 0, 0, 0, 0, 0, 0, 0, 0, 0, 0, 0, 0, 0,\n",
              "       0, 0, 0, 0, 0, 0, 1, 1, 1, 1, 1, 1, 1, 1, 1, 1, 1, 1, 1, 1, 1, 1,\n",
              "       1, 1, 1, 1, 1, 1, 1, 1, 1, 1, 1, 1, 1, 1, 1, 1, 1, 1, 1, 1, 1, 1,\n",
              "       1, 1, 1, 1, 1, 1, 1, 1, 1, 1, 1, 1, 2, 2, 2, 2, 2, 2, 2, 2, 2, 2,\n",
              "       2, 2, 2, 2, 2, 2, 2, 2, 2, 2, 2, 2, 2, 2, 2, 2, 2, 2, 2, 2, 2, 2,\n",
              "       2, 2, 2, 2, 2, 2, 2, 2, 2, 2, 2, 2, 2, 2, 2, 2, 2, 2])"
            ]
          },
          "metadata": {
            "tags": []
          },
          "execution_count": 39
        }
      ]
    },
    {
      "cell_type": "code",
      "metadata": {
        "colab": {
          "base_uri": "https://localhost:8080/",
          "height": 0
        },
        "id": "ChpalQMNVcYN",
        "outputId": "3e6f9958-2a20-4db7-ba24-a198674e85fc"
      },
      "source": [
        "species=[classes[k] for k in iris_class]    #call the species correspond each target value\n",
        "species"
      ],
      "execution_count": 40,
      "outputs": [
        {
          "output_type": "execute_result",
          "data": {
            "text/plain": [
              "['setosa',\n",
              " 'setosa',\n",
              " 'setosa',\n",
              " 'setosa',\n",
              " 'setosa',\n",
              " 'setosa',\n",
              " 'setosa',\n",
              " 'setosa',\n",
              " 'setosa',\n",
              " 'setosa',\n",
              " 'setosa',\n",
              " 'setosa',\n",
              " 'setosa',\n",
              " 'setosa',\n",
              " 'setosa',\n",
              " 'setosa',\n",
              " 'setosa',\n",
              " 'setosa',\n",
              " 'setosa',\n",
              " 'setosa',\n",
              " 'setosa',\n",
              " 'setosa',\n",
              " 'setosa',\n",
              " 'setosa',\n",
              " 'setosa',\n",
              " 'setosa',\n",
              " 'setosa',\n",
              " 'setosa',\n",
              " 'setosa',\n",
              " 'setosa',\n",
              " 'setosa',\n",
              " 'setosa',\n",
              " 'setosa',\n",
              " 'setosa',\n",
              " 'setosa',\n",
              " 'setosa',\n",
              " 'setosa',\n",
              " 'setosa',\n",
              " 'setosa',\n",
              " 'setosa',\n",
              " 'setosa',\n",
              " 'setosa',\n",
              " 'setosa',\n",
              " 'setosa',\n",
              " 'setosa',\n",
              " 'setosa',\n",
              " 'setosa',\n",
              " 'setosa',\n",
              " 'setosa',\n",
              " 'setosa',\n",
              " 'virginica',\n",
              " 'virginica',\n",
              " 'virginica',\n",
              " 'virginica',\n",
              " 'virginica',\n",
              " 'virginica',\n",
              " 'virginica',\n",
              " 'virginica',\n",
              " 'virginica',\n",
              " 'virginica',\n",
              " 'virginica',\n",
              " 'virginica',\n",
              " 'virginica',\n",
              " 'virginica',\n",
              " 'virginica',\n",
              " 'virginica',\n",
              " 'virginica',\n",
              " 'virginica',\n",
              " 'virginica',\n",
              " 'virginica',\n",
              " 'virginica',\n",
              " 'virginica',\n",
              " 'virginica',\n",
              " 'virginica',\n",
              " 'virginica',\n",
              " 'virginica',\n",
              " 'virginica',\n",
              " 'virginica',\n",
              " 'virginica',\n",
              " 'virginica',\n",
              " 'virginica',\n",
              " 'virginica',\n",
              " 'virginica',\n",
              " 'virginica',\n",
              " 'virginica',\n",
              " 'virginica',\n",
              " 'virginica',\n",
              " 'virginica',\n",
              " 'virginica',\n",
              " 'virginica',\n",
              " 'virginica',\n",
              " 'virginica',\n",
              " 'virginica',\n",
              " 'virginica',\n",
              " 'virginica',\n",
              " 'virginica',\n",
              " 'virginica',\n",
              " 'virginica',\n",
              " 'virginica',\n",
              " 'virginica',\n",
              " 'versicolour',\n",
              " 'versicolour',\n",
              " 'versicolour',\n",
              " 'versicolour',\n",
              " 'versicolour',\n",
              " 'versicolour',\n",
              " 'versicolour',\n",
              " 'versicolour',\n",
              " 'versicolour',\n",
              " 'versicolour',\n",
              " 'versicolour',\n",
              " 'versicolour',\n",
              " 'versicolour',\n",
              " 'versicolour',\n",
              " 'versicolour',\n",
              " 'versicolour',\n",
              " 'versicolour',\n",
              " 'versicolour',\n",
              " 'versicolour',\n",
              " 'versicolour',\n",
              " 'versicolour',\n",
              " 'versicolour',\n",
              " 'versicolour',\n",
              " 'versicolour',\n",
              " 'versicolour',\n",
              " 'versicolour',\n",
              " 'versicolour',\n",
              " 'versicolour',\n",
              " 'versicolour',\n",
              " 'versicolour',\n",
              " 'versicolour',\n",
              " 'versicolour',\n",
              " 'versicolour',\n",
              " 'versicolour',\n",
              " 'versicolour',\n",
              " 'versicolour',\n",
              " 'versicolour',\n",
              " 'versicolour',\n",
              " 'versicolour',\n",
              " 'versicolour',\n",
              " 'versicolour',\n",
              " 'versicolour',\n",
              " 'versicolour',\n",
              " 'versicolour',\n",
              " 'versicolour',\n",
              " 'versicolour',\n",
              " 'versicolour',\n",
              " 'versicolour',\n",
              " 'versicolour',\n",
              " 'versicolour']"
            ]
          },
          "metadata": {
            "tags": []
          },
          "execution_count": 40
        }
      ]
    },
    {
      "cell_type": "code",
      "metadata": {
        "colab": {
          "base_uri": "https://localhost:8080/",
          "height": 413
        },
        "id": "JojUW68lXh-8",
        "outputId": "945ae8a1-e880-4489-d2ed-f7e3e3895287"
      },
      "source": [
        "df=pd.DataFrame(iris_data.data, columns=iris_data.feature_names)  #create dataframe if it is needed\n",
        "df"
      ],
      "execution_count": 41,
      "outputs": [
        {
          "output_type": "execute_result",
          "data": {
            "text/html": [
              "<div>\n",
              "<style scoped>\n",
              "    .dataframe tbody tr th:only-of-type {\n",
              "        vertical-align: middle;\n",
              "    }\n",
              "\n",
              "    .dataframe tbody tr th {\n",
              "        vertical-align: top;\n",
              "    }\n",
              "\n",
              "    .dataframe thead th {\n",
              "        text-align: right;\n",
              "    }\n",
              "</style>\n",
              "<table border=\"1\" class=\"dataframe\">\n",
              "  <thead>\n",
              "    <tr style=\"text-align: right;\">\n",
              "      <th></th>\n",
              "      <th>sepal length (cm)</th>\n",
              "      <th>sepal width (cm)</th>\n",
              "      <th>petal length (cm)</th>\n",
              "      <th>petal width (cm)</th>\n",
              "    </tr>\n",
              "  </thead>\n",
              "  <tbody>\n",
              "    <tr>\n",
              "      <th>0</th>\n",
              "      <td>5.1</td>\n",
              "      <td>3.5</td>\n",
              "      <td>1.4</td>\n",
              "      <td>0.2</td>\n",
              "    </tr>\n",
              "    <tr>\n",
              "      <th>1</th>\n",
              "      <td>4.9</td>\n",
              "      <td>3.0</td>\n",
              "      <td>1.4</td>\n",
              "      <td>0.2</td>\n",
              "    </tr>\n",
              "    <tr>\n",
              "      <th>2</th>\n",
              "      <td>4.7</td>\n",
              "      <td>3.2</td>\n",
              "      <td>1.3</td>\n",
              "      <td>0.2</td>\n",
              "    </tr>\n",
              "    <tr>\n",
              "      <th>3</th>\n",
              "      <td>4.6</td>\n",
              "      <td>3.1</td>\n",
              "      <td>1.5</td>\n",
              "      <td>0.2</td>\n",
              "    </tr>\n",
              "    <tr>\n",
              "      <th>4</th>\n",
              "      <td>5.0</td>\n",
              "      <td>3.6</td>\n",
              "      <td>1.4</td>\n",
              "      <td>0.2</td>\n",
              "    </tr>\n",
              "    <tr>\n",
              "      <th>...</th>\n",
              "      <td>...</td>\n",
              "      <td>...</td>\n",
              "      <td>...</td>\n",
              "      <td>...</td>\n",
              "    </tr>\n",
              "    <tr>\n",
              "      <th>145</th>\n",
              "      <td>6.7</td>\n",
              "      <td>3.0</td>\n",
              "      <td>5.2</td>\n",
              "      <td>2.3</td>\n",
              "    </tr>\n",
              "    <tr>\n",
              "      <th>146</th>\n",
              "      <td>6.3</td>\n",
              "      <td>2.5</td>\n",
              "      <td>5.0</td>\n",
              "      <td>1.9</td>\n",
              "    </tr>\n",
              "    <tr>\n",
              "      <th>147</th>\n",
              "      <td>6.5</td>\n",
              "      <td>3.0</td>\n",
              "      <td>5.2</td>\n",
              "      <td>2.0</td>\n",
              "    </tr>\n",
              "    <tr>\n",
              "      <th>148</th>\n",
              "      <td>6.2</td>\n",
              "      <td>3.4</td>\n",
              "      <td>5.4</td>\n",
              "      <td>2.3</td>\n",
              "    </tr>\n",
              "    <tr>\n",
              "      <th>149</th>\n",
              "      <td>5.9</td>\n",
              "      <td>3.0</td>\n",
              "      <td>5.1</td>\n",
              "      <td>1.8</td>\n",
              "    </tr>\n",
              "  </tbody>\n",
              "</table>\n",
              "<p>150 rows × 4 columns</p>\n",
              "</div>"
            ],
            "text/plain": [
              "     sepal length (cm)  sepal width (cm)  petal length (cm)  petal width (cm)\n",
              "0                  5.1               3.5                1.4               0.2\n",
              "1                  4.9               3.0                1.4               0.2\n",
              "2                  4.7               3.2                1.3               0.2\n",
              "3                  4.6               3.1                1.5               0.2\n",
              "4                  5.0               3.6                1.4               0.2\n",
              "..                 ...               ...                ...               ...\n",
              "145                6.7               3.0                5.2               2.3\n",
              "146                6.3               2.5                5.0               1.9\n",
              "147                6.5               3.0                5.2               2.0\n",
              "148                6.2               3.4                5.4               2.3\n",
              "149                5.9               3.0                5.1               1.8\n",
              "\n",
              "[150 rows x 4 columns]"
            ]
          },
          "metadata": {
            "tags": []
          },
          "execution_count": 41
        }
      ]
    },
    {
      "cell_type": "code",
      "metadata": {
        "colab": {
          "base_uri": "https://localhost:8080/",
          "height": 0
        },
        "id": "yCzWk17fXpz_",
        "outputId": "123e9fc2-988c-4f38-ebd6-fe93726c3d3b"
      },
      "source": [
        "df.shape            #shape of the data out of data frame"
      ],
      "execution_count": 42,
      "outputs": [
        {
          "output_type": "execute_result",
          "data": {
            "text/plain": [
              "(150, 4)"
            ]
          },
          "metadata": {
            "tags": []
          },
          "execution_count": 42
        }
      ]
    },
    {
      "cell_type": "code",
      "metadata": {
        "colab": {
          "base_uri": "https://localhost:8080/",
          "height": 413
        },
        "id": "7ulXTuYYe9Lo",
        "outputId": "4c2a5112-f2f3-457c-988c-2f039abecbf5"
      },
      "source": [
        "df['iris_class']=iris_class.tolist()    #add class and species columns \n",
        "df['species']=species\n",
        "df"
      ],
      "execution_count": 43,
      "outputs": [
        {
          "output_type": "execute_result",
          "data": {
            "text/html": [
              "<div>\n",
              "<style scoped>\n",
              "    .dataframe tbody tr th:only-of-type {\n",
              "        vertical-align: middle;\n",
              "    }\n",
              "\n",
              "    .dataframe tbody tr th {\n",
              "        vertical-align: top;\n",
              "    }\n",
              "\n",
              "    .dataframe thead th {\n",
              "        text-align: right;\n",
              "    }\n",
              "</style>\n",
              "<table border=\"1\" class=\"dataframe\">\n",
              "  <thead>\n",
              "    <tr style=\"text-align: right;\">\n",
              "      <th></th>\n",
              "      <th>sepal length (cm)</th>\n",
              "      <th>sepal width (cm)</th>\n",
              "      <th>petal length (cm)</th>\n",
              "      <th>petal width (cm)</th>\n",
              "      <th>iris_class</th>\n",
              "      <th>species</th>\n",
              "    </tr>\n",
              "  </thead>\n",
              "  <tbody>\n",
              "    <tr>\n",
              "      <th>0</th>\n",
              "      <td>5.1</td>\n",
              "      <td>3.5</td>\n",
              "      <td>1.4</td>\n",
              "      <td>0.2</td>\n",
              "      <td>0</td>\n",
              "      <td>setosa</td>\n",
              "    </tr>\n",
              "    <tr>\n",
              "      <th>1</th>\n",
              "      <td>4.9</td>\n",
              "      <td>3.0</td>\n",
              "      <td>1.4</td>\n",
              "      <td>0.2</td>\n",
              "      <td>0</td>\n",
              "      <td>setosa</td>\n",
              "    </tr>\n",
              "    <tr>\n",
              "      <th>2</th>\n",
              "      <td>4.7</td>\n",
              "      <td>3.2</td>\n",
              "      <td>1.3</td>\n",
              "      <td>0.2</td>\n",
              "      <td>0</td>\n",
              "      <td>setosa</td>\n",
              "    </tr>\n",
              "    <tr>\n",
              "      <th>3</th>\n",
              "      <td>4.6</td>\n",
              "      <td>3.1</td>\n",
              "      <td>1.5</td>\n",
              "      <td>0.2</td>\n",
              "      <td>0</td>\n",
              "      <td>setosa</td>\n",
              "    </tr>\n",
              "    <tr>\n",
              "      <th>4</th>\n",
              "      <td>5.0</td>\n",
              "      <td>3.6</td>\n",
              "      <td>1.4</td>\n",
              "      <td>0.2</td>\n",
              "      <td>0</td>\n",
              "      <td>setosa</td>\n",
              "    </tr>\n",
              "    <tr>\n",
              "      <th>...</th>\n",
              "      <td>...</td>\n",
              "      <td>...</td>\n",
              "      <td>...</td>\n",
              "      <td>...</td>\n",
              "      <td>...</td>\n",
              "      <td>...</td>\n",
              "    </tr>\n",
              "    <tr>\n",
              "      <th>145</th>\n",
              "      <td>6.7</td>\n",
              "      <td>3.0</td>\n",
              "      <td>5.2</td>\n",
              "      <td>2.3</td>\n",
              "      <td>2</td>\n",
              "      <td>versicolour</td>\n",
              "    </tr>\n",
              "    <tr>\n",
              "      <th>146</th>\n",
              "      <td>6.3</td>\n",
              "      <td>2.5</td>\n",
              "      <td>5.0</td>\n",
              "      <td>1.9</td>\n",
              "      <td>2</td>\n",
              "      <td>versicolour</td>\n",
              "    </tr>\n",
              "    <tr>\n",
              "      <th>147</th>\n",
              "      <td>6.5</td>\n",
              "      <td>3.0</td>\n",
              "      <td>5.2</td>\n",
              "      <td>2.0</td>\n",
              "      <td>2</td>\n",
              "      <td>versicolour</td>\n",
              "    </tr>\n",
              "    <tr>\n",
              "      <th>148</th>\n",
              "      <td>6.2</td>\n",
              "      <td>3.4</td>\n",
              "      <td>5.4</td>\n",
              "      <td>2.3</td>\n",
              "      <td>2</td>\n",
              "      <td>versicolour</td>\n",
              "    </tr>\n",
              "    <tr>\n",
              "      <th>149</th>\n",
              "      <td>5.9</td>\n",
              "      <td>3.0</td>\n",
              "      <td>5.1</td>\n",
              "      <td>1.8</td>\n",
              "      <td>2</td>\n",
              "      <td>versicolour</td>\n",
              "    </tr>\n",
              "  </tbody>\n",
              "</table>\n",
              "<p>150 rows × 6 columns</p>\n",
              "</div>"
            ],
            "text/plain": [
              "     sepal length (cm)  sepal width (cm)  ...  iris_class      species\n",
              "0                  5.1               3.5  ...           0       setosa\n",
              "1                  4.9               3.0  ...           0       setosa\n",
              "2                  4.7               3.2  ...           0       setosa\n",
              "3                  4.6               3.1  ...           0       setosa\n",
              "4                  5.0               3.6  ...           0       setosa\n",
              "..                 ...               ...  ...         ...          ...\n",
              "145                6.7               3.0  ...           2  versicolour\n",
              "146                6.3               2.5  ...           2  versicolour\n",
              "147                6.5               3.0  ...           2  versicolour\n",
              "148                6.2               3.4  ...           2  versicolour\n",
              "149                5.9               3.0  ...           2  versicolour\n",
              "\n",
              "[150 rows x 6 columns]"
            ]
          },
          "metadata": {
            "tags": []
          },
          "execution_count": 43
        }
      ]
    },
    {
      "cell_type": "code",
      "metadata": {
        "colab": {
          "base_uri": "https://localhost:8080/",
          "height": 0
        },
        "id": "FI0VF6Q-nj1f",
        "outputId": "f2bf7cf2-5822-47dc-d365-5ff459fd88c3"
      },
      "source": [
        "iris_data.data.shape      #again shape of the data"
      ],
      "execution_count": 44,
      "outputs": [
        {
          "output_type": "execute_result",
          "data": {
            "text/plain": [
              "(150, 4)"
            ]
          },
          "metadata": {
            "tags": []
          },
          "execution_count": 44
        }
      ]
    },
    {
      "cell_type": "code",
      "metadata": {
        "colab": {
          "base_uri": "https://localhost:8080/",
          "height": 0
        },
        "id": "YOzIy4K3nrBO",
        "outputId": "361b4e9b-25e5-4c30-fccf-d1412b083730"
      },
      "source": [
        "iris_data.target.shape            #shape of the target"
      ],
      "execution_count": 45,
      "outputs": [
        {
          "output_type": "execute_result",
          "data": {
            "text/plain": [
              "(150,)"
            ]
          },
          "metadata": {
            "tags": []
          },
          "execution_count": 45
        }
      ]
    },
    {
      "cell_type": "code",
      "metadata": {
        "colab": {
          "base_uri": "https://localhost:8080/",
          "height": 290
        },
        "id": "x-gMm-ImpHem",
        "outputId": "d615ac9a-6d71-4b7e-9be2-7b7e36641012"
      },
      "source": [
        "fig, ax = plt.subplots()           #scatter plot to preview the data\n",
        "sepal_length=df['sepal length (cm)'].to_list()\n",
        "sepal_width=df['sepal width (cm)'].to_list()\n",
        "species=['setosa','virginica','versicolour']\n",
        "colors = {'setosa':'red','virginica':'pink','versicolour':'purple'}\n",
        "scatter=ax.scatter(sepal_length, sepal_width,c=df['species'].map(colors))\n",
        "plt.xlabel('Sepal Length (cm)')\n",
        "plt.ylabel('Sepal Width (cm)')\n",
        "plt.xticks(color='blue',rotation=45)\n",
        "plt.yticks(color='blue')\n",
        "plt.show()"
      ],
      "execution_count": 46,
      "outputs": [
        {
          "output_type": "display_data",
          "data": {
            "image/png": "[encoded data removed]",
            "text/plain": [
              "<Figure size 432x288 with 1 Axes>"
            ]
          },
          "metadata": {
            "tags": [],
            "needs_background": "light"
          }
        }
      ]
    },
    {
      "cell_type": "code",
      "metadata": {
        "colab": {
          "base_uri": "https://localhost:8080/",
          "height": 281
        },
        "id": "4HsBQq1dHcva",
        "outputId": "31e0dd18-c0d9-431d-ecfd-bc165262f155"
      },
      "source": [
        "fig, ax = plt.subplots()           #scatter plot to preview the data\n",
        "sepal_length=df['petal length (cm)'].to_list()\n",
        "sepal_width=df['petal width (cm)'].to_list()\n",
        "species=['setosa','virginica','versicolour']\n",
        "colors = {'setosa':'red','virginica':'pink','versicolour':'purple'}\n",
        "scatter=ax.scatter(sepal_length, sepal_width,c=df['species'].map(colors))\n",
        "plt.xlabel('Petal Length (cm)')\n",
        "plt.ylabel('Petal Width (cm)')\n",
        "plt.xticks(color='blue',rotation=45)\n",
        "plt.yticks(color='blue')\n",
        "plt.show()"
      ],
      "execution_count": 47,
      "outputs": [
        {
          "output_type": "display_data",
          "data": {
            "image/png": "[encoded data removed]",
            "text/plain": [
              "<Figure size 432x288 with 1 Axes>"
            ]
          },
          "metadata": {
            "tags": [],
            "needs_background": "light"
          }
        }
      ]
    },
    {
      "cell_type": "code",
      "metadata": {
        "id": "o9_oTGHBnS13"
      },
      "source": [
        "x=iris_data.data                   #define x & y\n",
        "y=iris_data.target"
      ],
      "execution_count": 48,
      "outputs": []
    },
    {
      "cell_type": "code",
      "metadata": {
        "id": "P4TF8yM9OegK"
      },
      "source": [
        "#split dataset to train and test dataset\n",
        "from sklearn.model_selection import train_test_split\n",
        "x_train, x_test, y_train, y_test = train_test_split(x, y, test_size=0.20, random_state=4)"
      ],
      "execution_count": 50,
      "outputs": []
    },
    {
      "cell_type": "code",
      "metadata": {
        "colab": {
          "base_uri": "https://localhost:8080/",
          "height": 0
        },
        "id": "hMRM1HQfBNib",
        "outputId": "67710fe5-d991-4dbe-a7c3-c1a50f950ee5"
      },
      "source": [
        "knn= KNeighborsClassifier(n_neighbors=3)  #apply KNN model\n",
        "knn.fit(x_train, y_train)"
      ],
      "execution_count": 51,
      "outputs": [
        {
          "output_type": "execute_result",
          "data": {
            "text/plain": [
              "KNeighborsClassifier(algorithm='auto', leaf_size=30, metric='minkowski',\n",
              "                     metric_params=None, n_jobs=None, n_neighbors=3, p=2,\n",
              "                     weights='uniform')"
            ]
          },
          "metadata": {
            "tags": []
          },
          "execution_count": 51
        }
      ]
    },
    {
      "cell_type": "code",
      "metadata": {
        "colab": {
          "base_uri": "https://localhost:8080/",
          "height": 0
        },
        "id": "hBcgO6_Hpj_K",
        "outputId": "a1a65d8c-11bf-49be-9ac7-b347ebd330b1"
      },
      "source": [
        "print('KNN Score: %.3f' % knn.score(x_test,y_test)) #get KNN score"
      ],
      "execution_count": 52,
      "outputs": [
        {
          "output_type": "stream",
          "text": [
            "KNN Score: 0.967\n"
          ],
          "name": "stdout"
        }
      ]
    },
    {
      "cell_type": "code",
      "metadata": {
        "colab": {
          "base_uri": "https://localhost:8080/",
          "height": 0
        },
        "id": "2XKf3uQ-BNeU",
        "outputId": "91dec816-cffe-427e-92c9-bc4c18fafd99"
      },
      "source": [
        "y_pred=knn.predict(x_test)     #define y_pred \n",
        "y_pred"
      ],
      "execution_count": 53,
      "outputs": [
        {
          "output_type": "execute_result",
          "data": {
            "text/plain": [
              "array([2, 0, 2, 2, 2, 1, 2, 0, 0, 2, 0, 0, 0, 1, 2, 0, 1, 0, 0, 2, 0, 2,\n",
              "       1, 0, 0, 0, 0, 0, 0, 2])"
            ]
          },
          "metadata": {
            "tags": []
          },
          "execution_count": 53
        }
      ]
    },
    {
      "cell_type": "code",
      "metadata": {
        "colab": {
          "base_uri": "https://localhost:8080/",
          "height": 0
        },
        "id": "ixJYbrVSxxJi",
        "outputId": "18a8030f-a35a-4a26-b88e-ecfda88ad5e0"
      },
      "source": [
        "knn.predict(x_test)[0:3]            #if the test data is big to show it evaluation recalts, one can even test few of them"
      ],
      "execution_count": 59,
      "outputs": [
        {
          "output_type": "execute_result",
          "data": {
            "text/plain": [
              "array([2, 0, 2])"
            ]
          },
          "metadata": {
            "tags": []
          },
          "execution_count": 59
        }
      ]
    },
    {
      "cell_type": "code",
      "metadata": {
        "colab": {
          "base_uri": "https://localhost:8080/",
          "height": 358
        },
        "id": "B-LZsG_XxuUP",
        "outputId": "7e61b8c2-2b3e-430d-828c-ee7ec71e6c2c"
      },
      "source": [
        "y_pred = knn.predict(x_test)     #draw the confusion matrix to show the performance of model\n",
        "conf_matrix = confusion_matrix(y_true=y_test, y_pred=y_pred)\n",
        "fig, ax = plt.subplots(figsize=(5, 5))\n",
        "ax.matshow(conf_matrix, cmap=plt.cm.Oranges, alpha=0.3)\n",
        "for i in range(conf_matrix.shape[0]):\n",
        "    for j in range(conf_matrix.shape[1]):\n",
        "        ax.text(x=j, y=i,s=conf_matrix[i, j], va='center', ha='center', size='xx-large')\n",
        " \n",
        "plt.xlabel('Predictions', fontsize=18)\n",
        "plt.ylabel('Actuals', fontsize=18)\n",
        "plt.title('Confusion Matrix', fontsize=18)\n",
        "plt.show()"
      ],
      "execution_count": 54,
      "outputs": [
        {
          "output_type": "display_data",
          "data": {
            "image/png": "[encoded data removed]",
            "text/plain": [
              "<Figure size 360x360 with 1 Axes>"
            ]
          },
          "metadata": {
            "tags": [],
            "needs_background": "light"
          }
        }
      ]
    },
    {
      "cell_type": "code",
      "metadata": {
        "colab": {
          "base_uri": "https://localhost:8080/",
          "height": 0
        },
        "id": "nJVGYbY7BNaj",
        "outputId": "2928671d-917b-4864-fa7a-2535aa0cce7a"
      },
      "source": [
        "print('Accuracy: %.3f' %metrics.accuracy_score(y_test, y_pred))  #find accuracy\n"
      ],
      "execution_count": 55,
      "outputs": [
        {
          "output_type": "stream",
          "text": [
            "Accuracy: 0.967\n"
          ],
          "name": "stdout"
        }
      ]
    },
    {
      "cell_type": "code",
      "metadata": {
        "colab": {
          "base_uri": "https://localhost:8080/",
          "height": 0
        },
        "id": "hQEAuk7dKLd1",
        "outputId": "46732b51-043e-4235-ea25-d4216cc98a33"
      },
      "source": [
        "print(classification_report(y_test, y_pred))  #to evaluate the algorithm and find all values necessary for evaluation"
      ],
      "execution_count": 60,
      "outputs": [
        {
          "output_type": "stream",
          "text": [
            "              precision    recall  f1-score   support\n",
            "\n",
            "           0       1.00      1.00      1.00        16\n",
            "           1       1.00      0.80      0.89         5\n",
            "           2       0.90      1.00      0.95         9\n",
            "\n",
            "    accuracy                           0.97        30\n",
            "   macro avg       0.97      0.93      0.95        30\n",
            "weighted avg       0.97      0.97      0.97        30\n",
            "\n"
          ],
          "name": "stdout"
        }
      ]
    },
    {
      "cell_type": "code",
      "metadata": {
        "colab": {
          "base_uri": "https://localhost:8080/",
          "height": 0
        },
        "id": "nzuiJLCJBNXX",
        "outputId": "c49e422a-deff-47f0-ce43-ef61b8e1f8f0"
      },
      "source": [
        "knn1= KNeighborsClassifier(n_neighbors=20)   #KNN model tested with different k value\n",
        "knn1.fit(x_train, y_train)"
      ],
      "execution_count": 61,
      "outputs": [
        {
          "output_type": "execute_result",
          "data": {
            "text/plain": [
              "KNeighborsClassifier(algorithm='auto', leaf_size=30, metric='minkowski',\n",
              "                     metric_params=None, n_jobs=None, n_neighbors=20, p=2,\n",
              "                     weights='uniform')"
            ]
          },
          "metadata": {
            "tags": []
          },
          "execution_count": 61
        }
      ]
    },
    {
      "cell_type": "code",
      "metadata": {
        "colab": {
          "base_uri": "https://localhost:8080/",
          "height": 0
        },
        "id": "dQE6QTQWBNUI",
        "outputId": "4d6be5d6-5031-4caf-cd15-d98ea59906e0"
      },
      "source": [
        "print('KNN Score: %.3f' % knn1.score(x_test,y_test))  #model accuracy for another k valu"
      ],
      "execution_count": 62,
      "outputs": [
        {
          "output_type": "stream",
          "text": [
            "KNN Score: 0.933\n"
          ],
          "name": "stdout"
        }
      ]
    },
    {
      "cell_type": "code",
      "metadata": {
        "colab": {
          "base_uri": "https://localhost:8080/",
          "height": 0
        },
        "id": "5_Q0jUPSBNEr",
        "outputId": "2e5ecc38-3da0-447c-9bca-ec403b9a86f2"
      },
      "source": [
        "knn_accuracies=[]                 #call the range of the k values to find the optimal k value\n",
        "k_num=range(1,25)\n",
        "for k in k_num:\n",
        " knn= KNeighborsClassifier(n_neighbors=k)\n",
        " knn.fit(x_train, y_train)\n",
        " y_pred=knn.predict(x_test)\n",
        " knn_accuracies.append(metrics.accuracy_score(y_test, y_pred))\n",
        "print(knn_accuracies)\n"
      ],
      "execution_count": 63,
      "outputs": [
        {
          "output_type": "stream",
          "text": [
            "[0.9333333333333333, 0.9333333333333333, 0.9666666666666667, 0.9666666666666667, 0.9666666666666667, 0.9666666666666667, 0.9666666666666667, 0.9666666666666667, 0.9666666666666667, 0.9666666666666667, 0.9666666666666667, 0.9666666666666667, 0.9666666666666667, 0.9666666666666667, 0.9666666666666667, 0.9666666666666667, 0.9666666666666667, 0.9666666666666667, 0.9666666666666667, 0.9333333333333333, 0.9666666666666667, 0.9333333333333333, 0.9666666666666667, 0.9666666666666667]\n"
          ],
          "name": "stdout"
        }
      ]
    },
    {
      "cell_type": "code",
      "metadata": {
        "colab": {
          "base_uri": "https://localhost:8080/",
          "height": 311
        },
        "id": "mc8JcU78BNBL",
        "outputId": "60de07e6-947a-499d-b545-c2b8fac8009a"
      },
      "source": [
        "plt.plot(k_num, knn_accuracies, color='g')       #plot the graph of the k range\n",
        "plt.title('KNN Model K Value vs. Accuracy',color='b')\n",
        "plt.xlabel('K Value',color='b')\n",
        "plt.ylabel('Accuracy',color='b')\n"
      ],
      "execution_count": 64,
      "outputs": [
        {
          "output_type": "execute_result",
          "data": {
            "text/plain": [
              "Text(0, 0.5, 'Accuracy')"
            ]
          },
          "metadata": {
            "tags": []
          },
          "execution_count": 64
        },
        {
          "output_type": "display_data",
          "data": {
            "image/png": "[encoded data removed]",
            "text/plain": [
              "<Figure size 432x288 with 1 Axes>"
            ]
          },
          "metadata": {
            "tags": [],
            "needs_background": "light"
          }
        }
      ]
    },
    {
      "cell_type": "markdown",
      "metadata": {
        "id": "xSJqdjpK9jg1"
      },
      "source": [
        "###**5 and 10 Fold Cross Validation Scores for Testing KNN**\n"
      ]
    },
    {
      "cell_type": "code",
      "metadata": {
        "colab": {
          "base_uri": "https://localhost:8080/",
          "height": 0
        },
        "id": "sZI6QBtDBNP9",
        "outputId": "115a9b1d-dd61-415c-f182-ce34e0e734dc"
      },
      "source": [
        "#apply cross validation\n",
        "knn_cross_test_scores=cross_val_score(knn,x_test,y_test,cv=10)\n",
        "knn_cross_test_scores"
      ],
      "execution_count": 93,
      "outputs": [
        {
          "output_type": "stream",
          "text": [
            "/usr/local/lib/python3.7/dist-packages/sklearn/model_selection/_split.py:667: UserWarning: The least populated class in y has only 5 members, which is less than n_splits=10.\n",
            "  % (min_groups, self.n_splits)), UserWarning)\n"
          ],
          "name": "stderr"
        },
        {
          "output_type": "execute_result",
          "data": {
            "text/plain": [
              "array([0.66666667, 0.66666667, 0.66666667, 0.66666667, 0.66666667,\n",
              "       0.33333333, 0.33333333, 0.33333333, 0.33333333, 0.66666667])"
            ]
          },
          "metadata": {
            "tags": []
          },
          "execution_count": 93
        }
      ]
    },
    {
      "cell_type": "code",
      "metadata": {
        "colab": {
          "base_uri": "https://localhost:8080/",
          "height": 0
        },
        "id": "VsqfRD3M8Vdm",
        "outputId": "fa0d12cf-dac4-4fbc-b551-7725e9ad62fa"
      },
      "source": [
        "#get the overall accuracy of the cross validation\n",
        "print(\"%0.2f%% accuracy with a standard deviation of %0.2f\" % (knn_cross_test_scores.mean()*100, knn_cross_test_scores.std()))"
      ],
      "execution_count": 94,
      "outputs": [
        {
          "output_type": "stream",
          "text": [
            "53.33% accuracy with a standard deviation of 0.16\n"
          ],
          "name": "stdout"
        }
      ]
    },
    {
      "cell_type": "code",
      "metadata": {
        "id": "P0r_76ahBM9w"
      },
      "source": [
        "k_cv_score=[]             #call the same k range in cross validation to find the optimal k value\n",
        "k_cv_num=range(1,25)\n",
        "for k in k_cv_num:\n",
        " knn= KNeighborsClassifier(n_neighbors=k)\n",
        " #knn.fit(x_train, y_train)\n",
        " #y_pred=knn.predict(x_test)\n",
        " knn_cross_test_scores=cross_val_score(knn,x_test,y_test,cv=10)\n",
        " k_cv_score.append(knn_cross_test_scores.mean())\n",
        "print(k_cv_score)\n"
      ],
      "execution_count": null,
      "outputs": []
    },
    {
      "cell_type": "code",
      "metadata": {
        "colab": {
          "base_uri": "https://localhost:8080/",
          "height": 311
        },
        "id": "cU6Pr8ljBM5f",
        "outputId": "5636c1db-c055-4bb9-d679-37e19d80fd3a"
      },
      "source": [
        "#draw the graph of accuracy for k range from the cross validation\n",
        "plt.plot(k_cv_num,k_cv_score,color='g') \n",
        "plt.title('KNN Model K Value vs. Cross Validation Accuracy',color='b')\n",
        "plt.xlabel('K Value',color='b')\n",
        "plt.ylabel('Cross Validation Accuracy',color='b')"
      ],
      "execution_count": 96,
      "outputs": [
        {
          "output_type": "execute_result",
          "data": {
            "text/plain": [
              "Text(0, 0.5, 'Cross Validation Accuracy')"
            ]
          },
          "metadata": {
            "tags": []
          },
          "execution_count": 96
        },
        {
          "output_type": "display_data",
          "data": {
            "image/png": "[encoded data removed]",
            "text/plain": [
              "<Figure size 432x288 with 1 Axes>"
            ]
          },
          "metadata": {
            "tags": [],
            "needs_background": "light"
          }
        }
      ]
    },
    {
      "cell_type": "code",
      "metadata": {
        "colab": {
          "base_uri": "https://localhost:8080/",
          "height": 0
        },
        "id": "nHkBR5rar1cA",
        "outputId": "05ee5574-3153-4956-86d8-4f278a2ca868"
      },
      "source": [
        "#apply cross validation\n",
        "knn_cross_test_scores=cross_val_score(knn,x_test,y_test,cv=5)\n",
        "knn_cross_test_scores"
      ],
      "execution_count": 97,
      "outputs": [
        {
          "output_type": "execute_result",
          "data": {
            "text/plain": [
              "array([0.5       , 0.5       , 0.5       , 0.5       , 0.66666667])"
            ]
          },
          "metadata": {
            "tags": []
          },
          "execution_count": 97
        }
      ]
    },
    {
      "cell_type": "code",
      "metadata": {
        "colab": {
          "base_uri": "https://localhost:8080/",
          "height": 0
        },
        "id": "LL5m1YNjr_vr",
        "outputId": "69e6d8ea-10ca-4a60-9155-020fe5c39a74"
      },
      "source": [
        "#get the overall accuracy of the cross validation\n",
        "print(\"%0.2f%% accuracy with a standard deviation of %0.2f\" % (knn_cross_test_scores.mean()*100, knn_cross_test_scores.std()))"
      ],
      "execution_count": 98,
      "outputs": [
        {
          "output_type": "stream",
          "text": [
            "53.33% accuracy with a standard deviation of 0.07\n"
          ],
          "name": "stdout"
        }
      ]
    },
    {
      "cell_type": "code",
      "metadata": {
        "colab": {
          "base_uri": "https://localhost:8080/",
          "height": 0
        },
        "id": "Y9Bgh9iXsCgR",
        "outputId": "047968ba-8d92-49d7-be8c-56e04c5e923f"
      },
      "source": [
        "k_cv_score=[]             #call the same k range in cross validation to find the optimal k value\n",
        "k_cv_num=range(1,25)\n",
        "for k in k_cv_num:\n",
        " knn= KNeighborsClassifier(n_neighbors=k)\n",
        " #knn.fit(x_train, y_train)\n",
        " #y_pred=knn.predict(x_test)\n",
        " knn_cross_test_scores=cross_val_score(knn,x_test,y_test,cv=5)\n",
        " k_cv_score.append(knn_cross_test_scores.mean())\n",
        "print(k_cv_score)"
      ],
      "execution_count": 99,
      "outputs": [
        {
          "output_type": "stream",
          "text": [
            "[0.9, 0.8333333333333334, 0.9333333333333333, 0.8666666666666668, 0.9, 0.8333333333333334, 0.8333333333333334, 0.8666666666666668, 0.8666666666666666, 0.8666666666666666, 0.8333333333333334, 0.8333333333333334, 0.8333333333333334, 0.8333333333333334, 0.8333333333333334, 0.8333333333333334, 0.8333333333333334, 0.5666666666666667, 0.5666666666666667, 0.5333333333333333, 0.5333333333333333, 0.5333333333333333, 0.5333333333333333, 0.5333333333333333]\n"
          ],
          "name": "stdout"
        }
      ]
    },
    {
      "cell_type": "code",
      "metadata": {
        "colab": {
          "base_uri": "https://localhost:8080/",
          "height": 311
        },
        "id": "nAZJpqO2r_mp",
        "outputId": "e585a03d-1452-49d5-b44d-33d93f2dc73d"
      },
      "source": [
        "#draw the graph of accuracy for k range from the cross validation\n",
        "plt.plot(k_cv_num,k_cv_score,color='g') \n",
        "plt.title('KNN Model K Value vs. Cross Validation Accuracy',color='b')\n",
        "plt.xlabel('K Value',color='b')\n",
        "plt.ylabel('Cross Validation Accuracy',color='b')"
      ],
      "execution_count": 100,
      "outputs": [
        {
          "output_type": "execute_result",
          "data": {
            "text/plain": [
              "Text(0, 0.5, 'Cross Validation Accuracy')"
            ]
          },
          "metadata": {
            "tags": []
          },
          "execution_count": 100
        },
        {
          "output_type": "display_data",
          "data": {
            "image/png": "[encoded data removed]",
            "text/plain": [
              "<Figure size 432x288 with 1 Axes>"
            ]
          },
          "metadata": {
            "tags": [],
            "needs_background": "light"
          }
        }
      ]
    },
    {
      "cell_type": "code",
      "metadata": {
        "id": "S2SFGiYhr_f9"
      },
      "source": [
        ""
      ],
      "execution_count": null,
      "outputs": []
    }
  ]
}