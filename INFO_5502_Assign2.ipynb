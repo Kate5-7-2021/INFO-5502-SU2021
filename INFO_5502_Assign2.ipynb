{
  "nbformat": 4,
  "nbformat_minor": 0,
  "metadata": {
    "colab": {
      "name": "INFO 5502_Assign2.ipynb",
      "provenance": [],
      "collapsed_sections": [],
      "authorship_tag": "ABX9TyPN7YNxCqVNS/bitlTersVC",
      "include_colab_link": true
    },
    "kernelspec": {
      "name": "python3",
      "display_name": "Python 3"
    },
    "language_info": {
      "name": "python"
    }
  },
  "cells": [
    {
      "cell_type": "markdown",
      "metadata": {
        "id": "view-in-github",
        "colab_type": "text"
      },
      "source": [
        "<a href=\"https://colab.research.google.com/github/Kate5-7-2021/INFO-5502-SU2021/blob/main/INFO_5502_Assign2.ipynb\" target=\"_parent\"><img src=\"https://colab.research.google.com/assets/colab-badge.svg\" alt=\"Open In Colab\"/></a>"
      ]
    },
    {
      "cell_type": "markdown",
      "metadata": {
        "id": "C6BBKR5nT9ly"
      },
      "source": [
        "##**Question 1**"
      ]
    },
    {
      "cell_type": "markdown",
      "metadata": {
        "id": "OQTYl2xeUY4c"
      },
      "source": [
        "Add one column as “continent” in the dataset and label each country/region in the dataset to an appropriate continent such as “Europe”, “Asia”, “Africa”, “North America”, “South America”, “Australia”, or “Antarctica”. Explain how you do validate the correctness of your labelling. Out- put the updated dataset as a new CSV file. "
      ]
    },
    {
      "cell_type": "code",
      "metadata": {
        "id": "qtg-o4YEC_AL"
      },
      "source": [
        "import pandas as pd               #import needed library"
      ],
      "execution_count": 1,
      "outputs": []
    },
    {
      "cell_type": "code",
      "metadata": {
        "colab": {
          "base_uri": "https://localhost:8080/",
          "height": 550
        },
        "id": "xLxdY8sAD-GJ",
        "outputId": "665f44ce-c158-4b0b-de2c-2995fa38c394"
      },
      "source": [
        "df1 = pd.read_csv('/content/indicator hiv estimated prevalence% 15-49.csv', delimiter=\",\", encoding='latin1')\n",
        "\n",
        "df1                               #read data and create data frame"
      ],
      "execution_count": 2,
      "outputs": [
        {
          "output_type": "execute_result",
          "data": {
            "text/html": [
              "<div>\n",
              "<style scoped>\n",
              "    .dataframe tbody tr th:only-of-type {\n",
              "        vertical-align: middle;\n",
              "    }\n",
              "\n",
              "    .dataframe tbody tr th {\n",
              "        vertical-align: top;\n",
              "    }\n",
              "\n",
              "    .dataframe thead th {\n",
              "        text-align: right;\n",
              "    }\n",
              "</style>\n",
              "<table border=\"1\" class=\"dataframe\">\n",
              "  <thead>\n",
              "    <tr style=\"text-align: right;\">\n",
              "      <th></th>\n",
              "      <th>Estimated HIV Prevalence% - (Ages 15-49)</th>\n",
              "      <th>1979</th>\n",
              "      <th>1980</th>\n",
              "      <th>1981</th>\n",
              "      <th>1982</th>\n",
              "      <th>1983</th>\n",
              "      <th>1984</th>\n",
              "      <th>1985</th>\n",
              "      <th>1986</th>\n",
              "      <th>1987</th>\n",
              "      <th>1988</th>\n",
              "      <th>1989</th>\n",
              "      <th>1990</th>\n",
              "      <th>1991</th>\n",
              "      <th>1992</th>\n",
              "      <th>1993</th>\n",
              "      <th>1994</th>\n",
              "      <th>1995</th>\n",
              "      <th>1996</th>\n",
              "      <th>1997</th>\n",
              "      <th>1998</th>\n",
              "      <th>1999</th>\n",
              "      <th>2000</th>\n",
              "      <th>2001</th>\n",
              "      <th>2002</th>\n",
              "      <th>2003</th>\n",
              "      <th>2004</th>\n",
              "      <th>2005</th>\n",
              "      <th>2006</th>\n",
              "      <th>2007</th>\n",
              "      <th>2008</th>\n",
              "      <th>2009</th>\n",
              "      <th>2010</th>\n",
              "      <th>2011</th>\n",
              "    </tr>\n",
              "  </thead>\n",
              "  <tbody>\n",
              "    <tr>\n",
              "      <th>0</th>\n",
              "      <td>Abkhazia</td>\n",
              "      <td>NaN</td>\n",
              "      <td>NaN</td>\n",
              "      <td>NaN</td>\n",
              "      <td>NaN</td>\n",
              "      <td>NaN</td>\n",
              "      <td>NaN</td>\n",
              "      <td>NaN</td>\n",
              "      <td>NaN</td>\n",
              "      <td>NaN</td>\n",
              "      <td>NaN</td>\n",
              "      <td>NaN</td>\n",
              "      <td>NaN</td>\n",
              "      <td>NaN</td>\n",
              "      <td>NaN</td>\n",
              "      <td>NaN</td>\n",
              "      <td>NaN</td>\n",
              "      <td>NaN</td>\n",
              "      <td>NaN</td>\n",
              "      <td>NaN</td>\n",
              "      <td>NaN</td>\n",
              "      <td>NaN</td>\n",
              "      <td>NaN</td>\n",
              "      <td>NaN</td>\n",
              "      <td>NaN</td>\n",
              "      <td>NaN</td>\n",
              "      <td>NaN</td>\n",
              "      <td>NaN</td>\n",
              "      <td>NaN</td>\n",
              "      <td>NaN</td>\n",
              "      <td>NaN</td>\n",
              "      <td>NaN</td>\n",
              "      <td>NaN</td>\n",
              "      <td>NaN</td>\n",
              "    </tr>\n",
              "    <tr>\n",
              "      <th>1</th>\n",
              "      <td>Afghanistan</td>\n",
              "      <td>NaN</td>\n",
              "      <td>NaN</td>\n",
              "      <td>NaN</td>\n",
              "      <td>NaN</td>\n",
              "      <td>NaN</td>\n",
              "      <td>NaN</td>\n",
              "      <td>NaN</td>\n",
              "      <td>NaN</td>\n",
              "      <td>NaN</td>\n",
              "      <td>NaN</td>\n",
              "      <td>NaN</td>\n",
              "      <td>NaN</td>\n",
              "      <td>NaN</td>\n",
              "      <td>NaN</td>\n",
              "      <td>NaN</td>\n",
              "      <td>NaN</td>\n",
              "      <td>NaN</td>\n",
              "      <td>NaN</td>\n",
              "      <td>NaN</td>\n",
              "      <td>NaN</td>\n",
              "      <td>NaN</td>\n",
              "      <td>NaN</td>\n",
              "      <td>NaN</td>\n",
              "      <td>NaN</td>\n",
              "      <td>NaN</td>\n",
              "      <td>NaN</td>\n",
              "      <td>NaN</td>\n",
              "      <td>NaN</td>\n",
              "      <td>NaN</td>\n",
              "      <td>NaN</td>\n",
              "      <td>0.06</td>\n",
              "      <td>0.06</td>\n",
              "      <td>0.06</td>\n",
              "    </tr>\n",
              "    <tr>\n",
              "      <th>2</th>\n",
              "      <td>Akrotiri and Dhekelia</td>\n",
              "      <td>NaN</td>\n",
              "      <td>NaN</td>\n",
              "      <td>NaN</td>\n",
              "      <td>NaN</td>\n",
              "      <td>NaN</td>\n",
              "      <td>NaN</td>\n",
              "      <td>NaN</td>\n",
              "      <td>NaN</td>\n",
              "      <td>NaN</td>\n",
              "      <td>NaN</td>\n",
              "      <td>NaN</td>\n",
              "      <td>NaN</td>\n",
              "      <td>NaN</td>\n",
              "      <td>NaN</td>\n",
              "      <td>NaN</td>\n",
              "      <td>NaN</td>\n",
              "      <td>NaN</td>\n",
              "      <td>NaN</td>\n",
              "      <td>NaN</td>\n",
              "      <td>NaN</td>\n",
              "      <td>NaN</td>\n",
              "      <td>NaN</td>\n",
              "      <td>NaN</td>\n",
              "      <td>NaN</td>\n",
              "      <td>NaN</td>\n",
              "      <td>NaN</td>\n",
              "      <td>NaN</td>\n",
              "      <td>NaN</td>\n",
              "      <td>NaN</td>\n",
              "      <td>NaN</td>\n",
              "      <td>NaN</td>\n",
              "      <td>NaN</td>\n",
              "      <td>NaN</td>\n",
              "    </tr>\n",
              "    <tr>\n",
              "      <th>3</th>\n",
              "      <td>Albania</td>\n",
              "      <td>NaN</td>\n",
              "      <td>NaN</td>\n",
              "      <td>NaN</td>\n",
              "      <td>NaN</td>\n",
              "      <td>NaN</td>\n",
              "      <td>NaN</td>\n",
              "      <td>NaN</td>\n",
              "      <td>NaN</td>\n",
              "      <td>NaN</td>\n",
              "      <td>NaN</td>\n",
              "      <td>NaN</td>\n",
              "      <td>NaN</td>\n",
              "      <td>NaN</td>\n",
              "      <td>NaN</td>\n",
              "      <td>NaN</td>\n",
              "      <td>NaN</td>\n",
              "      <td>NaN</td>\n",
              "      <td>NaN</td>\n",
              "      <td>NaN</td>\n",
              "      <td>NaN</td>\n",
              "      <td>NaN</td>\n",
              "      <td>NaN</td>\n",
              "      <td>NaN</td>\n",
              "      <td>NaN</td>\n",
              "      <td>NaN</td>\n",
              "      <td>NaN</td>\n",
              "      <td>NaN</td>\n",
              "      <td>NaN</td>\n",
              "      <td>NaN</td>\n",
              "      <td>NaN</td>\n",
              "      <td>NaN</td>\n",
              "      <td>NaN</td>\n",
              "      <td>NaN</td>\n",
              "    </tr>\n",
              "    <tr>\n",
              "      <th>4</th>\n",
              "      <td>Algeria</td>\n",
              "      <td>NaN</td>\n",
              "      <td>NaN</td>\n",
              "      <td>NaN</td>\n",
              "      <td>NaN</td>\n",
              "      <td>NaN</td>\n",
              "      <td>NaN</td>\n",
              "      <td>NaN</td>\n",
              "      <td>NaN</td>\n",
              "      <td>NaN</td>\n",
              "      <td>NaN</td>\n",
              "      <td>NaN</td>\n",
              "      <td>0.06</td>\n",
              "      <td>0.06</td>\n",
              "      <td>0.06</td>\n",
              "      <td>0.06</td>\n",
              "      <td>0.06</td>\n",
              "      <td>0.06</td>\n",
              "      <td>0.06</td>\n",
              "      <td>0.06</td>\n",
              "      <td>0.06</td>\n",
              "      <td>0.06</td>\n",
              "      <td>0.06</td>\n",
              "      <td>0.06</td>\n",
              "      <td>0.06</td>\n",
              "      <td>0.06</td>\n",
              "      <td>0.1</td>\n",
              "      <td>0.1</td>\n",
              "      <td>0.1</td>\n",
              "      <td>0.1</td>\n",
              "      <td>0.1</td>\n",
              "      <td>NaN</td>\n",
              "      <td>NaN</td>\n",
              "      <td>NaN</td>\n",
              "    </tr>\n",
              "    <tr>\n",
              "      <th>...</th>\n",
              "      <td>...</td>\n",
              "      <td>...</td>\n",
              "      <td>...</td>\n",
              "      <td>...</td>\n",
              "      <td>...</td>\n",
              "      <td>...</td>\n",
              "      <td>...</td>\n",
              "      <td>...</td>\n",
              "      <td>...</td>\n",
              "      <td>...</td>\n",
              "      <td>...</td>\n",
              "      <td>...</td>\n",
              "      <td>...</td>\n",
              "      <td>...</td>\n",
              "      <td>...</td>\n",
              "      <td>...</td>\n",
              "      <td>...</td>\n",
              "      <td>...</td>\n",
              "      <td>...</td>\n",
              "      <td>...</td>\n",
              "      <td>...</td>\n",
              "      <td>...</td>\n",
              "      <td>...</td>\n",
              "      <td>...</td>\n",
              "      <td>...</td>\n",
              "      <td>...</td>\n",
              "      <td>...</td>\n",
              "      <td>...</td>\n",
              "      <td>...</td>\n",
              "      <td>...</td>\n",
              "      <td>...</td>\n",
              "      <td>...</td>\n",
              "      <td>...</td>\n",
              "      <td>...</td>\n",
              "    </tr>\n",
              "    <tr>\n",
              "      <th>269</th>\n",
              "      <td>Bonaire</td>\n",
              "      <td>NaN</td>\n",
              "      <td>NaN</td>\n",
              "      <td>NaN</td>\n",
              "      <td>NaN</td>\n",
              "      <td>NaN</td>\n",
              "      <td>NaN</td>\n",
              "      <td>NaN</td>\n",
              "      <td>NaN</td>\n",
              "      <td>NaN</td>\n",
              "      <td>NaN</td>\n",
              "      <td>NaN</td>\n",
              "      <td>NaN</td>\n",
              "      <td>NaN</td>\n",
              "      <td>NaN</td>\n",
              "      <td>NaN</td>\n",
              "      <td>NaN</td>\n",
              "      <td>NaN</td>\n",
              "      <td>NaN</td>\n",
              "      <td>NaN</td>\n",
              "      <td>NaN</td>\n",
              "      <td>NaN</td>\n",
              "      <td>NaN</td>\n",
              "      <td>NaN</td>\n",
              "      <td>NaN</td>\n",
              "      <td>NaN</td>\n",
              "      <td>NaN</td>\n",
              "      <td>NaN</td>\n",
              "      <td>NaN</td>\n",
              "      <td>NaN</td>\n",
              "      <td>NaN</td>\n",
              "      <td>NaN</td>\n",
              "      <td>NaN</td>\n",
              "      <td>NaN</td>\n",
              "    </tr>\n",
              "    <tr>\n",
              "      <th>270</th>\n",
              "      <td>Sark</td>\n",
              "      <td>NaN</td>\n",
              "      <td>NaN</td>\n",
              "      <td>NaN</td>\n",
              "      <td>NaN</td>\n",
              "      <td>NaN</td>\n",
              "      <td>NaN</td>\n",
              "      <td>NaN</td>\n",
              "      <td>NaN</td>\n",
              "      <td>NaN</td>\n",
              "      <td>NaN</td>\n",
              "      <td>NaN</td>\n",
              "      <td>NaN</td>\n",
              "      <td>NaN</td>\n",
              "      <td>NaN</td>\n",
              "      <td>NaN</td>\n",
              "      <td>NaN</td>\n",
              "      <td>NaN</td>\n",
              "      <td>NaN</td>\n",
              "      <td>NaN</td>\n",
              "      <td>NaN</td>\n",
              "      <td>NaN</td>\n",
              "      <td>NaN</td>\n",
              "      <td>NaN</td>\n",
              "      <td>NaN</td>\n",
              "      <td>NaN</td>\n",
              "      <td>NaN</td>\n",
              "      <td>NaN</td>\n",
              "      <td>NaN</td>\n",
              "      <td>NaN</td>\n",
              "      <td>NaN</td>\n",
              "      <td>NaN</td>\n",
              "      <td>NaN</td>\n",
              "      <td>NaN</td>\n",
              "    </tr>\n",
              "    <tr>\n",
              "      <th>271</th>\n",
              "      <td>Chinese Taipei</td>\n",
              "      <td>NaN</td>\n",
              "      <td>NaN</td>\n",
              "      <td>NaN</td>\n",
              "      <td>NaN</td>\n",
              "      <td>NaN</td>\n",
              "      <td>NaN</td>\n",
              "      <td>NaN</td>\n",
              "      <td>NaN</td>\n",
              "      <td>NaN</td>\n",
              "      <td>NaN</td>\n",
              "      <td>NaN</td>\n",
              "      <td>NaN</td>\n",
              "      <td>NaN</td>\n",
              "      <td>NaN</td>\n",
              "      <td>NaN</td>\n",
              "      <td>NaN</td>\n",
              "      <td>NaN</td>\n",
              "      <td>NaN</td>\n",
              "      <td>NaN</td>\n",
              "      <td>NaN</td>\n",
              "      <td>NaN</td>\n",
              "      <td>NaN</td>\n",
              "      <td>NaN</td>\n",
              "      <td>NaN</td>\n",
              "      <td>NaN</td>\n",
              "      <td>NaN</td>\n",
              "      <td>NaN</td>\n",
              "      <td>NaN</td>\n",
              "      <td>NaN</td>\n",
              "      <td>NaN</td>\n",
              "      <td>NaN</td>\n",
              "      <td>NaN</td>\n",
              "      <td>NaN</td>\n",
              "    </tr>\n",
              "    <tr>\n",
              "      <th>272</th>\n",
              "      <td>Saint Eustatius</td>\n",
              "      <td>NaN</td>\n",
              "      <td>NaN</td>\n",
              "      <td>NaN</td>\n",
              "      <td>NaN</td>\n",
              "      <td>NaN</td>\n",
              "      <td>NaN</td>\n",
              "      <td>NaN</td>\n",
              "      <td>NaN</td>\n",
              "      <td>NaN</td>\n",
              "      <td>NaN</td>\n",
              "      <td>NaN</td>\n",
              "      <td>NaN</td>\n",
              "      <td>NaN</td>\n",
              "      <td>NaN</td>\n",
              "      <td>NaN</td>\n",
              "      <td>NaN</td>\n",
              "      <td>NaN</td>\n",
              "      <td>NaN</td>\n",
              "      <td>NaN</td>\n",
              "      <td>NaN</td>\n",
              "      <td>NaN</td>\n",
              "      <td>NaN</td>\n",
              "      <td>NaN</td>\n",
              "      <td>NaN</td>\n",
              "      <td>NaN</td>\n",
              "      <td>NaN</td>\n",
              "      <td>NaN</td>\n",
              "      <td>NaN</td>\n",
              "      <td>NaN</td>\n",
              "      <td>NaN</td>\n",
              "      <td>NaN</td>\n",
              "      <td>NaN</td>\n",
              "      <td>NaN</td>\n",
              "    </tr>\n",
              "    <tr>\n",
              "      <th>273</th>\n",
              "      <td>Saba</td>\n",
              "      <td>NaN</td>\n",
              "      <td>NaN</td>\n",
              "      <td>NaN</td>\n",
              "      <td>NaN</td>\n",
              "      <td>NaN</td>\n",
              "      <td>NaN</td>\n",
              "      <td>NaN</td>\n",
              "      <td>NaN</td>\n",
              "      <td>NaN</td>\n",
              "      <td>NaN</td>\n",
              "      <td>NaN</td>\n",
              "      <td>NaN</td>\n",
              "      <td>NaN</td>\n",
              "      <td>NaN</td>\n",
              "      <td>NaN</td>\n",
              "      <td>NaN</td>\n",
              "      <td>NaN</td>\n",
              "      <td>NaN</td>\n",
              "      <td>NaN</td>\n",
              "      <td>NaN</td>\n",
              "      <td>NaN</td>\n",
              "      <td>NaN</td>\n",
              "      <td>NaN</td>\n",
              "      <td>NaN</td>\n",
              "      <td>NaN</td>\n",
              "      <td>NaN</td>\n",
              "      <td>NaN</td>\n",
              "      <td>NaN</td>\n",
              "      <td>NaN</td>\n",
              "      <td>NaN</td>\n",
              "      <td>NaN</td>\n",
              "      <td>NaN</td>\n",
              "      <td>NaN</td>\n",
              "    </tr>\n",
              "  </tbody>\n",
              "</table>\n",
              "<p>274 rows × 34 columns</p>\n",
              "</div>"
            ],
            "text/plain": [
              "    Estimated HIV Prevalence% - (Ages 15-49)  1979  1980  ...  2009  2010  2011\n",
              "0                                   Abkhazia   NaN   NaN  ...   NaN   NaN   NaN\n",
              "1                                Afghanistan   NaN   NaN  ...  0.06  0.06  0.06\n",
              "2                      Akrotiri and Dhekelia   NaN   NaN  ...   NaN   NaN   NaN\n",
              "3                                    Albania   NaN   NaN  ...   NaN   NaN   NaN\n",
              "4                                    Algeria   NaN   NaN  ...   NaN   NaN   NaN\n",
              "..                                       ...   ...   ...  ...   ...   ...   ...\n",
              "269                                  Bonaire   NaN   NaN  ...   NaN   NaN   NaN\n",
              "270                                     Sark   NaN   NaN  ...   NaN   NaN   NaN\n",
              "271                           Chinese Taipei   NaN   NaN  ...   NaN   NaN   NaN\n",
              "272                          Saint Eustatius   NaN   NaN  ...   NaN   NaN   NaN\n",
              "273                                     Saba   NaN   NaN  ...   NaN   NaN   NaN\n",
              "\n",
              "[274 rows x 34 columns]"
            ]
          },
          "metadata": {
            "tags": []
          },
          "execution_count": 2
        }
      ]
    },
    {
      "cell_type": "code",
      "metadata": {
        "colab": {
          "base_uri": "https://localhost:8080/",
          "height": 483
        },
        "id": "ktDKT_baD-Bs",
        "outputId": "f2a3f71e-e75b-40ce-9ad9-3cf68377672b"
      },
      "source": [
        "df=df1.rename(columns = {'Estimated HIV Prevalence% - (Ages 15-49)':'country'})\n",
        "df                                 #rename column"
      ],
      "execution_count": 3,
      "outputs": [
        {
          "output_type": "execute_result",
          "data": {
            "text/html": [
              "<div>\n",
              "<style scoped>\n",
              "    .dataframe tbody tr th:only-of-type {\n",
              "        vertical-align: middle;\n",
              "    }\n",
              "\n",
              "    .dataframe tbody tr th {\n",
              "        vertical-align: top;\n",
              "    }\n",
              "\n",
              "    .dataframe thead th {\n",
              "        text-align: right;\n",
              "    }\n",
              "</style>\n",
              "<table border=\"1\" class=\"dataframe\">\n",
              "  <thead>\n",
              "    <tr style=\"text-align: right;\">\n",
              "      <th></th>\n",
              "      <th>country</th>\n",
              "      <th>1979</th>\n",
              "      <th>1980</th>\n",
              "      <th>1981</th>\n",
              "      <th>1982</th>\n",
              "      <th>1983</th>\n",
              "      <th>1984</th>\n",
              "      <th>1985</th>\n",
              "      <th>1986</th>\n",
              "      <th>1987</th>\n",
              "      <th>1988</th>\n",
              "      <th>1989</th>\n",
              "      <th>1990</th>\n",
              "      <th>1991</th>\n",
              "      <th>1992</th>\n",
              "      <th>1993</th>\n",
              "      <th>1994</th>\n",
              "      <th>1995</th>\n",
              "      <th>1996</th>\n",
              "      <th>1997</th>\n",
              "      <th>1998</th>\n",
              "      <th>1999</th>\n",
              "      <th>2000</th>\n",
              "      <th>2001</th>\n",
              "      <th>2002</th>\n",
              "      <th>2003</th>\n",
              "      <th>2004</th>\n",
              "      <th>2005</th>\n",
              "      <th>2006</th>\n",
              "      <th>2007</th>\n",
              "      <th>2008</th>\n",
              "      <th>2009</th>\n",
              "      <th>2010</th>\n",
              "      <th>2011</th>\n",
              "    </tr>\n",
              "  </thead>\n",
              "  <tbody>\n",
              "    <tr>\n",
              "      <th>0</th>\n",
              "      <td>Abkhazia</td>\n",
              "      <td>NaN</td>\n",
              "      <td>NaN</td>\n",
              "      <td>NaN</td>\n",
              "      <td>NaN</td>\n",
              "      <td>NaN</td>\n",
              "      <td>NaN</td>\n",
              "      <td>NaN</td>\n",
              "      <td>NaN</td>\n",
              "      <td>NaN</td>\n",
              "      <td>NaN</td>\n",
              "      <td>NaN</td>\n",
              "      <td>NaN</td>\n",
              "      <td>NaN</td>\n",
              "      <td>NaN</td>\n",
              "      <td>NaN</td>\n",
              "      <td>NaN</td>\n",
              "      <td>NaN</td>\n",
              "      <td>NaN</td>\n",
              "      <td>NaN</td>\n",
              "      <td>NaN</td>\n",
              "      <td>NaN</td>\n",
              "      <td>NaN</td>\n",
              "      <td>NaN</td>\n",
              "      <td>NaN</td>\n",
              "      <td>NaN</td>\n",
              "      <td>NaN</td>\n",
              "      <td>NaN</td>\n",
              "      <td>NaN</td>\n",
              "      <td>NaN</td>\n",
              "      <td>NaN</td>\n",
              "      <td>NaN</td>\n",
              "      <td>NaN</td>\n",
              "      <td>NaN</td>\n",
              "    </tr>\n",
              "    <tr>\n",
              "      <th>1</th>\n",
              "      <td>Afghanistan</td>\n",
              "      <td>NaN</td>\n",
              "      <td>NaN</td>\n",
              "      <td>NaN</td>\n",
              "      <td>NaN</td>\n",
              "      <td>NaN</td>\n",
              "      <td>NaN</td>\n",
              "      <td>NaN</td>\n",
              "      <td>NaN</td>\n",
              "      <td>NaN</td>\n",
              "      <td>NaN</td>\n",
              "      <td>NaN</td>\n",
              "      <td>NaN</td>\n",
              "      <td>NaN</td>\n",
              "      <td>NaN</td>\n",
              "      <td>NaN</td>\n",
              "      <td>NaN</td>\n",
              "      <td>NaN</td>\n",
              "      <td>NaN</td>\n",
              "      <td>NaN</td>\n",
              "      <td>NaN</td>\n",
              "      <td>NaN</td>\n",
              "      <td>NaN</td>\n",
              "      <td>NaN</td>\n",
              "      <td>NaN</td>\n",
              "      <td>NaN</td>\n",
              "      <td>NaN</td>\n",
              "      <td>NaN</td>\n",
              "      <td>NaN</td>\n",
              "      <td>NaN</td>\n",
              "      <td>NaN</td>\n",
              "      <td>0.06</td>\n",
              "      <td>0.06</td>\n",
              "      <td>0.06</td>\n",
              "    </tr>\n",
              "    <tr>\n",
              "      <th>2</th>\n",
              "      <td>Akrotiri and Dhekelia</td>\n",
              "      <td>NaN</td>\n",
              "      <td>NaN</td>\n",
              "      <td>NaN</td>\n",
              "      <td>NaN</td>\n",
              "      <td>NaN</td>\n",
              "      <td>NaN</td>\n",
              "      <td>NaN</td>\n",
              "      <td>NaN</td>\n",
              "      <td>NaN</td>\n",
              "      <td>NaN</td>\n",
              "      <td>NaN</td>\n",
              "      <td>NaN</td>\n",
              "      <td>NaN</td>\n",
              "      <td>NaN</td>\n",
              "      <td>NaN</td>\n",
              "      <td>NaN</td>\n",
              "      <td>NaN</td>\n",
              "      <td>NaN</td>\n",
              "      <td>NaN</td>\n",
              "      <td>NaN</td>\n",
              "      <td>NaN</td>\n",
              "      <td>NaN</td>\n",
              "      <td>NaN</td>\n",
              "      <td>NaN</td>\n",
              "      <td>NaN</td>\n",
              "      <td>NaN</td>\n",
              "      <td>NaN</td>\n",
              "      <td>NaN</td>\n",
              "      <td>NaN</td>\n",
              "      <td>NaN</td>\n",
              "      <td>NaN</td>\n",
              "      <td>NaN</td>\n",
              "      <td>NaN</td>\n",
              "    </tr>\n",
              "    <tr>\n",
              "      <th>3</th>\n",
              "      <td>Albania</td>\n",
              "      <td>NaN</td>\n",
              "      <td>NaN</td>\n",
              "      <td>NaN</td>\n",
              "      <td>NaN</td>\n",
              "      <td>NaN</td>\n",
              "      <td>NaN</td>\n",
              "      <td>NaN</td>\n",
              "      <td>NaN</td>\n",
              "      <td>NaN</td>\n",
              "      <td>NaN</td>\n",
              "      <td>NaN</td>\n",
              "      <td>NaN</td>\n",
              "      <td>NaN</td>\n",
              "      <td>NaN</td>\n",
              "      <td>NaN</td>\n",
              "      <td>NaN</td>\n",
              "      <td>NaN</td>\n",
              "      <td>NaN</td>\n",
              "      <td>NaN</td>\n",
              "      <td>NaN</td>\n",
              "      <td>NaN</td>\n",
              "      <td>NaN</td>\n",
              "      <td>NaN</td>\n",
              "      <td>NaN</td>\n",
              "      <td>NaN</td>\n",
              "      <td>NaN</td>\n",
              "      <td>NaN</td>\n",
              "      <td>NaN</td>\n",
              "      <td>NaN</td>\n",
              "      <td>NaN</td>\n",
              "      <td>NaN</td>\n",
              "      <td>NaN</td>\n",
              "      <td>NaN</td>\n",
              "    </tr>\n",
              "    <tr>\n",
              "      <th>4</th>\n",
              "      <td>Algeria</td>\n",
              "      <td>NaN</td>\n",
              "      <td>NaN</td>\n",
              "      <td>NaN</td>\n",
              "      <td>NaN</td>\n",
              "      <td>NaN</td>\n",
              "      <td>NaN</td>\n",
              "      <td>NaN</td>\n",
              "      <td>NaN</td>\n",
              "      <td>NaN</td>\n",
              "      <td>NaN</td>\n",
              "      <td>NaN</td>\n",
              "      <td>0.06</td>\n",
              "      <td>0.06</td>\n",
              "      <td>0.06</td>\n",
              "      <td>0.06</td>\n",
              "      <td>0.06</td>\n",
              "      <td>0.06</td>\n",
              "      <td>0.06</td>\n",
              "      <td>0.06</td>\n",
              "      <td>0.06</td>\n",
              "      <td>0.06</td>\n",
              "      <td>0.06</td>\n",
              "      <td>0.06</td>\n",
              "      <td>0.06</td>\n",
              "      <td>0.06</td>\n",
              "      <td>0.1</td>\n",
              "      <td>0.1</td>\n",
              "      <td>0.1</td>\n",
              "      <td>0.1</td>\n",
              "      <td>0.1</td>\n",
              "      <td>NaN</td>\n",
              "      <td>NaN</td>\n",
              "      <td>NaN</td>\n",
              "    </tr>\n",
              "    <tr>\n",
              "      <th>...</th>\n",
              "      <td>...</td>\n",
              "      <td>...</td>\n",
              "      <td>...</td>\n",
              "      <td>...</td>\n",
              "      <td>...</td>\n",
              "      <td>...</td>\n",
              "      <td>...</td>\n",
              "      <td>...</td>\n",
              "      <td>...</td>\n",
              "      <td>...</td>\n",
              "      <td>...</td>\n",
              "      <td>...</td>\n",
              "      <td>...</td>\n",
              "      <td>...</td>\n",
              "      <td>...</td>\n",
              "      <td>...</td>\n",
              "      <td>...</td>\n",
              "      <td>...</td>\n",
              "      <td>...</td>\n",
              "      <td>...</td>\n",
              "      <td>...</td>\n",
              "      <td>...</td>\n",
              "      <td>...</td>\n",
              "      <td>...</td>\n",
              "      <td>...</td>\n",
              "      <td>...</td>\n",
              "      <td>...</td>\n",
              "      <td>...</td>\n",
              "      <td>...</td>\n",
              "      <td>...</td>\n",
              "      <td>...</td>\n",
              "      <td>...</td>\n",
              "      <td>...</td>\n",
              "      <td>...</td>\n",
              "    </tr>\n",
              "    <tr>\n",
              "      <th>269</th>\n",
              "      <td>Bonaire</td>\n",
              "      <td>NaN</td>\n",
              "      <td>NaN</td>\n",
              "      <td>NaN</td>\n",
              "      <td>NaN</td>\n",
              "      <td>NaN</td>\n",
              "      <td>NaN</td>\n",
              "      <td>NaN</td>\n",
              "      <td>NaN</td>\n",
              "      <td>NaN</td>\n",
              "      <td>NaN</td>\n",
              "      <td>NaN</td>\n",
              "      <td>NaN</td>\n",
              "      <td>NaN</td>\n",
              "      <td>NaN</td>\n",
              "      <td>NaN</td>\n",
              "      <td>NaN</td>\n",
              "      <td>NaN</td>\n",
              "      <td>NaN</td>\n",
              "      <td>NaN</td>\n",
              "      <td>NaN</td>\n",
              "      <td>NaN</td>\n",
              "      <td>NaN</td>\n",
              "      <td>NaN</td>\n",
              "      <td>NaN</td>\n",
              "      <td>NaN</td>\n",
              "      <td>NaN</td>\n",
              "      <td>NaN</td>\n",
              "      <td>NaN</td>\n",
              "      <td>NaN</td>\n",
              "      <td>NaN</td>\n",
              "      <td>NaN</td>\n",
              "      <td>NaN</td>\n",
              "      <td>NaN</td>\n",
              "    </tr>\n",
              "    <tr>\n",
              "      <th>270</th>\n",
              "      <td>Sark</td>\n",
              "      <td>NaN</td>\n",
              "      <td>NaN</td>\n",
              "      <td>NaN</td>\n",
              "      <td>NaN</td>\n",
              "      <td>NaN</td>\n",
              "      <td>NaN</td>\n",
              "      <td>NaN</td>\n",
              "      <td>NaN</td>\n",
              "      <td>NaN</td>\n",
              "      <td>NaN</td>\n",
              "      <td>NaN</td>\n",
              "      <td>NaN</td>\n",
              "      <td>NaN</td>\n",
              "      <td>NaN</td>\n",
              "      <td>NaN</td>\n",
              "      <td>NaN</td>\n",
              "      <td>NaN</td>\n",
              "      <td>NaN</td>\n",
              "      <td>NaN</td>\n",
              "      <td>NaN</td>\n",
              "      <td>NaN</td>\n",
              "      <td>NaN</td>\n",
              "      <td>NaN</td>\n",
              "      <td>NaN</td>\n",
              "      <td>NaN</td>\n",
              "      <td>NaN</td>\n",
              "      <td>NaN</td>\n",
              "      <td>NaN</td>\n",
              "      <td>NaN</td>\n",
              "      <td>NaN</td>\n",
              "      <td>NaN</td>\n",
              "      <td>NaN</td>\n",
              "      <td>NaN</td>\n",
              "    </tr>\n",
              "    <tr>\n",
              "      <th>271</th>\n",
              "      <td>Chinese Taipei</td>\n",
              "      <td>NaN</td>\n",
              "      <td>NaN</td>\n",
              "      <td>NaN</td>\n",
              "      <td>NaN</td>\n",
              "      <td>NaN</td>\n",
              "      <td>NaN</td>\n",
              "      <td>NaN</td>\n",
              "      <td>NaN</td>\n",
              "      <td>NaN</td>\n",
              "      <td>NaN</td>\n",
              "      <td>NaN</td>\n",
              "      <td>NaN</td>\n",
              "      <td>NaN</td>\n",
              "      <td>NaN</td>\n",
              "      <td>NaN</td>\n",
              "      <td>NaN</td>\n",
              "      <td>NaN</td>\n",
              "      <td>NaN</td>\n",
              "      <td>NaN</td>\n",
              "      <td>NaN</td>\n",
              "      <td>NaN</td>\n",
              "      <td>NaN</td>\n",
              "      <td>NaN</td>\n",
              "      <td>NaN</td>\n",
              "      <td>NaN</td>\n",
              "      <td>NaN</td>\n",
              "      <td>NaN</td>\n",
              "      <td>NaN</td>\n",
              "      <td>NaN</td>\n",
              "      <td>NaN</td>\n",
              "      <td>NaN</td>\n",
              "      <td>NaN</td>\n",
              "      <td>NaN</td>\n",
              "    </tr>\n",
              "    <tr>\n",
              "      <th>272</th>\n",
              "      <td>Saint Eustatius</td>\n",
              "      <td>NaN</td>\n",
              "      <td>NaN</td>\n",
              "      <td>NaN</td>\n",
              "      <td>NaN</td>\n",
              "      <td>NaN</td>\n",
              "      <td>NaN</td>\n",
              "      <td>NaN</td>\n",
              "      <td>NaN</td>\n",
              "      <td>NaN</td>\n",
              "      <td>NaN</td>\n",
              "      <td>NaN</td>\n",
              "      <td>NaN</td>\n",
              "      <td>NaN</td>\n",
              "      <td>NaN</td>\n",
              "      <td>NaN</td>\n",
              "      <td>NaN</td>\n",
              "      <td>NaN</td>\n",
              "      <td>NaN</td>\n",
              "      <td>NaN</td>\n",
              "      <td>NaN</td>\n",
              "      <td>NaN</td>\n",
              "      <td>NaN</td>\n",
              "      <td>NaN</td>\n",
              "      <td>NaN</td>\n",
              "      <td>NaN</td>\n",
              "      <td>NaN</td>\n",
              "      <td>NaN</td>\n",
              "      <td>NaN</td>\n",
              "      <td>NaN</td>\n",
              "      <td>NaN</td>\n",
              "      <td>NaN</td>\n",
              "      <td>NaN</td>\n",
              "      <td>NaN</td>\n",
              "    </tr>\n",
              "    <tr>\n",
              "      <th>273</th>\n",
              "      <td>Saba</td>\n",
              "      <td>NaN</td>\n",
              "      <td>NaN</td>\n",
              "      <td>NaN</td>\n",
              "      <td>NaN</td>\n",
              "      <td>NaN</td>\n",
              "      <td>NaN</td>\n",
              "      <td>NaN</td>\n",
              "      <td>NaN</td>\n",
              "      <td>NaN</td>\n",
              "      <td>NaN</td>\n",
              "      <td>NaN</td>\n",
              "      <td>NaN</td>\n",
              "      <td>NaN</td>\n",
              "      <td>NaN</td>\n",
              "      <td>NaN</td>\n",
              "      <td>NaN</td>\n",
              "      <td>NaN</td>\n",
              "      <td>NaN</td>\n",
              "      <td>NaN</td>\n",
              "      <td>NaN</td>\n",
              "      <td>NaN</td>\n",
              "      <td>NaN</td>\n",
              "      <td>NaN</td>\n",
              "      <td>NaN</td>\n",
              "      <td>NaN</td>\n",
              "      <td>NaN</td>\n",
              "      <td>NaN</td>\n",
              "      <td>NaN</td>\n",
              "      <td>NaN</td>\n",
              "      <td>NaN</td>\n",
              "      <td>NaN</td>\n",
              "      <td>NaN</td>\n",
              "      <td>NaN</td>\n",
              "    </tr>\n",
              "  </tbody>\n",
              "</table>\n",
              "<p>274 rows × 34 columns</p>\n",
              "</div>"
            ],
            "text/plain": [
              "                   country  1979  1980  1981  ...  2008  2009  2010  2011\n",
              "0                 Abkhazia   NaN   NaN   NaN  ...   NaN   NaN   NaN   NaN\n",
              "1              Afghanistan   NaN   NaN   NaN  ...   NaN  0.06  0.06  0.06\n",
              "2    Akrotiri and Dhekelia   NaN   NaN   NaN  ...   NaN   NaN   NaN   NaN\n",
              "3                  Albania   NaN   NaN   NaN  ...   NaN   NaN   NaN   NaN\n",
              "4                  Algeria   NaN   NaN   NaN  ...   0.1   NaN   NaN   NaN\n",
              "..                     ...   ...   ...   ...  ...   ...   ...   ...   ...\n",
              "269                Bonaire   NaN   NaN   NaN  ...   NaN   NaN   NaN   NaN\n",
              "270                   Sark   NaN   NaN   NaN  ...   NaN   NaN   NaN   NaN\n",
              "271         Chinese Taipei   NaN   NaN   NaN  ...   NaN   NaN   NaN   NaN\n",
              "272        Saint Eustatius   NaN   NaN   NaN  ...   NaN   NaN   NaN   NaN\n",
              "273                   Saba   NaN   NaN   NaN  ...   NaN   NaN   NaN   NaN\n",
              "\n",
              "[274 rows x 34 columns]"
            ]
          },
          "metadata": {
            "tags": []
          },
          "execution_count": 3
        }
      ]
    },
    {
      "cell_type": "code",
      "metadata": {
        "colab": {
          "base_uri": "https://localhost:8080/",
          "height": 1988
        },
        "id": "GckH79WGD9-3",
        "outputId": "28ab829b-b7df-4e6f-9177-4025e4068905"
      },
      "source": [
        "df2 = pd.read_csv('/content/Continents with Countries.csv', delimiter=\",\", encoding='latin1')\n",
        "df2          #read the collected data for countries in continents and create data frame"
      ],
      "execution_count": 4,
      "outputs": [
        {
          "output_type": "execute_result",
          "data": {
            "text/html": [
              "<div>\n",
              "<style scoped>\n",
              "    .dataframe tbody tr th:only-of-type {\n",
              "        vertical-align: middle;\n",
              "    }\n",
              "\n",
              "    .dataframe tbody tr th {\n",
              "        vertical-align: top;\n",
              "    }\n",
              "\n",
              "    .dataframe thead th {\n",
              "        text-align: right;\n",
              "    }\n",
              "</style>\n",
              "<table border=\"1\" class=\"dataframe\">\n",
              "  <thead>\n",
              "    <tr style=\"text-align: right;\">\n",
              "      <th></th>\n",
              "      <th>Asia</th>\n",
              "      <th>Africa</th>\n",
              "      <th>Europ</th>\n",
              "      <th>North_America</th>\n",
              "      <th>South_America</th>\n",
              "      <th>Australia_Oceania</th>\n",
              "      <th>Antractica</th>\n",
              "    </tr>\n",
              "  </thead>\n",
              "  <tbody>\n",
              "    <tr>\n",
              "      <th>0</th>\n",
              "      <td>Afghanistan</td>\n",
              "      <td>Algeria</td>\n",
              "      <td>Albania</td>\n",
              "      <td>Anguilla</td>\n",
              "      <td>Argentina</td>\n",
              "      <td>American Samoa</td>\n",
              "      <td>Adélie Land</td>\n",
              "    </tr>\n",
              "    <tr>\n",
              "      <th>1</th>\n",
              "      <td>Armenia</td>\n",
              "      <td>Angola</td>\n",
              "      <td>Andorra</td>\n",
              "      <td>Antigua and Barbuda</td>\n",
              "      <td>Bolivia</td>\n",
              "      <td>Australia</td>\n",
              "      <td>Argentine Antarctica</td>\n",
              "    </tr>\n",
              "    <tr>\n",
              "      <th>2</th>\n",
              "      <td>Azerbaijan</td>\n",
              "      <td>Benin</td>\n",
              "      <td>Austria</td>\n",
              "      <td>Aruba</td>\n",
              "      <td>Brazil</td>\n",
              "      <td>Cook Islands</td>\n",
              "      <td>Australian Antarctic Territory</td>\n",
              "    </tr>\n",
              "    <tr>\n",
              "      <th>3</th>\n",
              "      <td>Bahrain</td>\n",
              "      <td>Botswana</td>\n",
              "      <td>Belarus</td>\n",
              "      <td>Bahamas</td>\n",
              "      <td>Chile</td>\n",
              "      <td>Fiji</td>\n",
              "      <td>British Antarctic Territory</td>\n",
              "    </tr>\n",
              "    <tr>\n",
              "      <th>4</th>\n",
              "      <td>Bangladesh</td>\n",
              "      <td>Burkina Faso</td>\n",
              "      <td>Belgium</td>\n",
              "      <td>Barbados</td>\n",
              "      <td>Colombia</td>\n",
              "      <td>French Polynesia</td>\n",
              "      <td>Chilean Antarctic Territory</td>\n",
              "    </tr>\n",
              "    <tr>\n",
              "      <th>5</th>\n",
              "      <td>Bhutan</td>\n",
              "      <td>Burundi</td>\n",
              "      <td>Bosnia and Herzegovina</td>\n",
              "      <td>Belize</td>\n",
              "      <td>Ecuador</td>\n",
              "      <td>Guam</td>\n",
              "      <td>Marie Byrd Land</td>\n",
              "    </tr>\n",
              "    <tr>\n",
              "      <th>6</th>\n",
              "      <td>Brunei Darussalam</td>\n",
              "      <td>Cabo Verde</td>\n",
              "      <td>Bulgaria</td>\n",
              "      <td>Bermuda</td>\n",
              "      <td>Falkland Islands</td>\n",
              "      <td>Kiribati</td>\n",
              "      <td>Peter I Island</td>\n",
              "    </tr>\n",
              "    <tr>\n",
              "      <th>7</th>\n",
              "      <td>Cambodia</td>\n",
              "      <td>Cameroon</td>\n",
              "      <td>Channel Islands</td>\n",
              "      <td>British Virgin Islands</td>\n",
              "      <td>French Guiana</td>\n",
              "      <td>Marshall Islands</td>\n",
              "      <td>Queen Maud Land</td>\n",
              "    </tr>\n",
              "    <tr>\n",
              "      <th>8</th>\n",
              "      <td>China</td>\n",
              "      <td>Central African Republic</td>\n",
              "      <td>Croatia</td>\n",
              "      <td>Canada</td>\n",
              "      <td>Guyana</td>\n",
              "      <td>Micronesia</td>\n",
              "      <td>Ross Dependency</td>\n",
              "    </tr>\n",
              "    <tr>\n",
              "      <th>9</th>\n",
              "      <td>Cyprus</td>\n",
              "      <td>Chad</td>\n",
              "      <td>Czechia</td>\n",
              "      <td>Caribbean Netherlands</td>\n",
              "      <td>Paraguay</td>\n",
              "      <td>Nauru</td>\n",
              "      <td>NaN</td>\n",
              "    </tr>\n",
              "    <tr>\n",
              "      <th>10</th>\n",
              "      <td>Georgia</td>\n",
              "      <td>Comoros</td>\n",
              "      <td>Denmark</td>\n",
              "      <td>Cayman Islands</td>\n",
              "      <td>Peru</td>\n",
              "      <td>New Caledonia</td>\n",
              "      <td>NaN</td>\n",
              "    </tr>\n",
              "    <tr>\n",
              "      <th>11</th>\n",
              "      <td>Hong Kong</td>\n",
              "      <td>Congo</td>\n",
              "      <td>Estonia</td>\n",
              "      <td>Costa Rica</td>\n",
              "      <td>Suriname</td>\n",
              "      <td>New Zealand</td>\n",
              "      <td>NaN</td>\n",
              "    </tr>\n",
              "    <tr>\n",
              "      <th>12</th>\n",
              "      <td>India</td>\n",
              "      <td>Côte d'Ivoire</td>\n",
              "      <td>Faeroe Islands</td>\n",
              "      <td>Cuba</td>\n",
              "      <td>Uruguay</td>\n",
              "      <td>Niue</td>\n",
              "      <td>NaN</td>\n",
              "    </tr>\n",
              "    <tr>\n",
              "      <th>13</th>\n",
              "      <td>Indonesia</td>\n",
              "      <td>Democratic Republic of the Congo</td>\n",
              "      <td>Finland</td>\n",
              "      <td>Curaçao</td>\n",
              "      <td>Venezuela</td>\n",
              "      <td>Northern Mariana Islands</td>\n",
              "      <td>NaN</td>\n",
              "    </tr>\n",
              "    <tr>\n",
              "      <th>14</th>\n",
              "      <td>Iran</td>\n",
              "      <td>Djibouti</td>\n",
              "      <td>France</td>\n",
              "      <td>Dominica</td>\n",
              "      <td>NaN</td>\n",
              "      <td>Palau</td>\n",
              "      <td>NaN</td>\n",
              "    </tr>\n",
              "    <tr>\n",
              "      <th>15</th>\n",
              "      <td>Iraq</td>\n",
              "      <td>Egypt</td>\n",
              "      <td>Germany</td>\n",
              "      <td>Dominican Republic</td>\n",
              "      <td>NaN</td>\n",
              "      <td>Papua New Guinea</td>\n",
              "      <td>NaN</td>\n",
              "    </tr>\n",
              "    <tr>\n",
              "      <th>16</th>\n",
              "      <td>Israel</td>\n",
              "      <td>Equatorial Guinea</td>\n",
              "      <td>Gibraltar</td>\n",
              "      <td>El Salvador</td>\n",
              "      <td>NaN</td>\n",
              "      <td>Samoa</td>\n",
              "      <td>NaN</td>\n",
              "    </tr>\n",
              "    <tr>\n",
              "      <th>17</th>\n",
              "      <td>Japan</td>\n",
              "      <td>Eritrea</td>\n",
              "      <td>Greece</td>\n",
              "      <td>Greenland</td>\n",
              "      <td>NaN</td>\n",
              "      <td>Solomon Islands</td>\n",
              "      <td>NaN</td>\n",
              "    </tr>\n",
              "    <tr>\n",
              "      <th>18</th>\n",
              "      <td>Jordan</td>\n",
              "      <td>Eswatini</td>\n",
              "      <td>Holy See</td>\n",
              "      <td>Grenada</td>\n",
              "      <td>NaN</td>\n",
              "      <td>Tokelau</td>\n",
              "      <td>NaN</td>\n",
              "    </tr>\n",
              "    <tr>\n",
              "      <th>19</th>\n",
              "      <td>Kazakhstan</td>\n",
              "      <td>Ethiopia</td>\n",
              "      <td>Hungary</td>\n",
              "      <td>Guadeloupe</td>\n",
              "      <td>NaN</td>\n",
              "      <td>Tonga</td>\n",
              "      <td>NaN</td>\n",
              "    </tr>\n",
              "    <tr>\n",
              "      <th>20</th>\n",
              "      <td>Kuwait</td>\n",
              "      <td>Gabon</td>\n",
              "      <td>Iceland</td>\n",
              "      <td>Guatemala</td>\n",
              "      <td>NaN</td>\n",
              "      <td>Tuvalu</td>\n",
              "      <td>NaN</td>\n",
              "    </tr>\n",
              "    <tr>\n",
              "      <th>21</th>\n",
              "      <td>Kyrgyzstan</td>\n",
              "      <td>Gambia</td>\n",
              "      <td>Ireland</td>\n",
              "      <td>Haiti</td>\n",
              "      <td>NaN</td>\n",
              "      <td>Vanuatu</td>\n",
              "      <td>NaN</td>\n",
              "    </tr>\n",
              "    <tr>\n",
              "      <th>22</th>\n",
              "      <td>Laos</td>\n",
              "      <td>Ghana</td>\n",
              "      <td>Isle of Man</td>\n",
              "      <td>Honduras</td>\n",
              "      <td>NaN</td>\n",
              "      <td>Wallis and Futuna Islands</td>\n",
              "      <td>NaN</td>\n",
              "    </tr>\n",
              "    <tr>\n",
              "      <th>23</th>\n",
              "      <td>Lebanon</td>\n",
              "      <td>Guinea</td>\n",
              "      <td>Italy</td>\n",
              "      <td>Jamaica</td>\n",
              "      <td>NaN</td>\n",
              "      <td>NaN</td>\n",
              "      <td>NaN</td>\n",
              "    </tr>\n",
              "    <tr>\n",
              "      <th>24</th>\n",
              "      <td>Macao</td>\n",
              "      <td>Guinea-Bissau</td>\n",
              "      <td>Latvia</td>\n",
              "      <td>Martinique</td>\n",
              "      <td>NaN</td>\n",
              "      <td>NaN</td>\n",
              "      <td>NaN</td>\n",
              "    </tr>\n",
              "    <tr>\n",
              "      <th>25</th>\n",
              "      <td>Malaysia</td>\n",
              "      <td>Kenya</td>\n",
              "      <td>Liechtenstein</td>\n",
              "      <td>Mexico</td>\n",
              "      <td>NaN</td>\n",
              "      <td>NaN</td>\n",
              "      <td>NaN</td>\n",
              "    </tr>\n",
              "    <tr>\n",
              "      <th>26</th>\n",
              "      <td>Maldives</td>\n",
              "      <td>Lesotho</td>\n",
              "      <td>Lithuania</td>\n",
              "      <td>Montserrat</td>\n",
              "      <td>NaN</td>\n",
              "      <td>NaN</td>\n",
              "      <td>NaN</td>\n",
              "    </tr>\n",
              "    <tr>\n",
              "      <th>27</th>\n",
              "      <td>Mongolia</td>\n",
              "      <td>Liberia</td>\n",
              "      <td>Luxembourg</td>\n",
              "      <td>Nicaragua</td>\n",
              "      <td>NaN</td>\n",
              "      <td>NaN</td>\n",
              "      <td>NaN</td>\n",
              "    </tr>\n",
              "    <tr>\n",
              "      <th>28</th>\n",
              "      <td>Myanmar</td>\n",
              "      <td>Libya</td>\n",
              "      <td>Malta</td>\n",
              "      <td>Panama</td>\n",
              "      <td>NaN</td>\n",
              "      <td>NaN</td>\n",
              "      <td>NaN</td>\n",
              "    </tr>\n",
              "    <tr>\n",
              "      <th>29</th>\n",
              "      <td>Nepal</td>\n",
              "      <td>Madagascar</td>\n",
              "      <td>Moldova</td>\n",
              "      <td>Puerto Rico</td>\n",
              "      <td>NaN</td>\n",
              "      <td>NaN</td>\n",
              "      <td>NaN</td>\n",
              "    </tr>\n",
              "    <tr>\n",
              "      <th>30</th>\n",
              "      <td>North Korea</td>\n",
              "      <td>Malawi</td>\n",
              "      <td>Monaco</td>\n",
              "      <td>Saint Barthélemy</td>\n",
              "      <td>NaN</td>\n",
              "      <td>NaN</td>\n",
              "      <td>NaN</td>\n",
              "    </tr>\n",
              "    <tr>\n",
              "      <th>31</th>\n",
              "      <td>Oman</td>\n",
              "      <td>Mali</td>\n",
              "      <td>Montenegro</td>\n",
              "      <td>Saint Kitts and Nevis</td>\n",
              "      <td>NaN</td>\n",
              "      <td>NaN</td>\n",
              "      <td>NaN</td>\n",
              "    </tr>\n",
              "    <tr>\n",
              "      <th>32</th>\n",
              "      <td>Pakistan</td>\n",
              "      <td>Mauritania</td>\n",
              "      <td>Netherlands</td>\n",
              "      <td>Saint Lucia</td>\n",
              "      <td>NaN</td>\n",
              "      <td>NaN</td>\n",
              "      <td>NaN</td>\n",
              "    </tr>\n",
              "    <tr>\n",
              "      <th>33</th>\n",
              "      <td>Philippines</td>\n",
              "      <td>Mauritius</td>\n",
              "      <td>North Macedonia</td>\n",
              "      <td>Saint Martin</td>\n",
              "      <td>NaN</td>\n",
              "      <td>NaN</td>\n",
              "      <td>NaN</td>\n",
              "    </tr>\n",
              "    <tr>\n",
              "      <th>34</th>\n",
              "      <td>Qatar</td>\n",
              "      <td>Mayotte</td>\n",
              "      <td>Norway</td>\n",
              "      <td>Saint Pierre and Miquelon</td>\n",
              "      <td>NaN</td>\n",
              "      <td>NaN</td>\n",
              "      <td>NaN</td>\n",
              "    </tr>\n",
              "    <tr>\n",
              "      <th>35</th>\n",
              "      <td>Saudi Arabia</td>\n",
              "      <td>Morocco</td>\n",
              "      <td>Poland</td>\n",
              "      <td>Saint Vincent and the Grenadines</td>\n",
              "      <td>NaN</td>\n",
              "      <td>NaN</td>\n",
              "      <td>NaN</td>\n",
              "    </tr>\n",
              "    <tr>\n",
              "      <th>36</th>\n",
              "      <td>Singapore</td>\n",
              "      <td>Mozambique</td>\n",
              "      <td>Portugal</td>\n",
              "      <td>Sint Maarten</td>\n",
              "      <td>NaN</td>\n",
              "      <td>NaN</td>\n",
              "      <td>NaN</td>\n",
              "    </tr>\n",
              "    <tr>\n",
              "      <th>37</th>\n",
              "      <td>South Korea</td>\n",
              "      <td>Namibia</td>\n",
              "      <td>Romania</td>\n",
              "      <td>Trinidad and Tobago</td>\n",
              "      <td>NaN</td>\n",
              "      <td>NaN</td>\n",
              "      <td>NaN</td>\n",
              "    </tr>\n",
              "    <tr>\n",
              "      <th>38</th>\n",
              "      <td>Sri Lanka</td>\n",
              "      <td>Niger</td>\n",
              "      <td>Russia</td>\n",
              "      <td>Turks and Caicos Islands</td>\n",
              "      <td>NaN</td>\n",
              "      <td>NaN</td>\n",
              "      <td>NaN</td>\n",
              "    </tr>\n",
              "    <tr>\n",
              "      <th>39</th>\n",
              "      <td>State of Palestine</td>\n",
              "      <td>Nigeria</td>\n",
              "      <td>San Marino</td>\n",
              "      <td>U.S.A.</td>\n",
              "      <td>NaN</td>\n",
              "      <td>NaN</td>\n",
              "      <td>NaN</td>\n",
              "    </tr>\n",
              "    <tr>\n",
              "      <th>40</th>\n",
              "      <td>Syria</td>\n",
              "      <td>Réunion</td>\n",
              "      <td>Serbia</td>\n",
              "      <td>United States Virgin Islands</td>\n",
              "      <td>NaN</td>\n",
              "      <td>NaN</td>\n",
              "      <td>NaN</td>\n",
              "    </tr>\n",
              "    <tr>\n",
              "      <th>41</th>\n",
              "      <td>Taiwan</td>\n",
              "      <td>Rwanda</td>\n",
              "      <td>Slovakia</td>\n",
              "      <td>NaN</td>\n",
              "      <td>NaN</td>\n",
              "      <td>NaN</td>\n",
              "      <td>NaN</td>\n",
              "    </tr>\n",
              "    <tr>\n",
              "      <th>42</th>\n",
              "      <td>Tajikistan</td>\n",
              "      <td>Saint Helena</td>\n",
              "      <td>Slovenia</td>\n",
              "      <td>NaN</td>\n",
              "      <td>NaN</td>\n",
              "      <td>NaN</td>\n",
              "      <td>NaN</td>\n",
              "    </tr>\n",
              "    <tr>\n",
              "      <th>43</th>\n",
              "      <td>Thailand</td>\n",
              "      <td>Sao Tome and Principe</td>\n",
              "      <td>Spain</td>\n",
              "      <td>NaN</td>\n",
              "      <td>NaN</td>\n",
              "      <td>NaN</td>\n",
              "      <td>NaN</td>\n",
              "    </tr>\n",
              "    <tr>\n",
              "      <th>44</th>\n",
              "      <td>Timor-Leste</td>\n",
              "      <td>Senegal</td>\n",
              "      <td>Sweden</td>\n",
              "      <td>NaN</td>\n",
              "      <td>NaN</td>\n",
              "      <td>NaN</td>\n",
              "      <td>NaN</td>\n",
              "    </tr>\n",
              "    <tr>\n",
              "      <th>45</th>\n",
              "      <td>Turkey</td>\n",
              "      <td>Seychelles</td>\n",
              "      <td>Switzerland</td>\n",
              "      <td>NaN</td>\n",
              "      <td>NaN</td>\n",
              "      <td>NaN</td>\n",
              "      <td>NaN</td>\n",
              "    </tr>\n",
              "    <tr>\n",
              "      <th>46</th>\n",
              "      <td>Turkmenistan</td>\n",
              "      <td>Sierra Leone</td>\n",
              "      <td>Ukraine</td>\n",
              "      <td>NaN</td>\n",
              "      <td>NaN</td>\n",
              "      <td>NaN</td>\n",
              "      <td>NaN</td>\n",
              "    </tr>\n",
              "    <tr>\n",
              "      <th>47</th>\n",
              "      <td>United Arab Emirates</td>\n",
              "      <td>Somalia</td>\n",
              "      <td>United Kingdom</td>\n",
              "      <td>NaN</td>\n",
              "      <td>NaN</td>\n",
              "      <td>NaN</td>\n",
              "      <td>NaN</td>\n",
              "    </tr>\n",
              "    <tr>\n",
              "      <th>48</th>\n",
              "      <td>Uzbekistan</td>\n",
              "      <td>South Africa</td>\n",
              "      <td>NaN</td>\n",
              "      <td>NaN</td>\n",
              "      <td>NaN</td>\n",
              "      <td>NaN</td>\n",
              "      <td>NaN</td>\n",
              "    </tr>\n",
              "    <tr>\n",
              "      <th>49</th>\n",
              "      <td>Vietnam</td>\n",
              "      <td>South Sudan</td>\n",
              "      <td>NaN</td>\n",
              "      <td>NaN</td>\n",
              "      <td>NaN</td>\n",
              "      <td>NaN</td>\n",
              "      <td>NaN</td>\n",
              "    </tr>\n",
              "    <tr>\n",
              "      <th>50</th>\n",
              "      <td>Yemen</td>\n",
              "      <td>Sudan</td>\n",
              "      <td>NaN</td>\n",
              "      <td>NaN</td>\n",
              "      <td>NaN</td>\n",
              "      <td>NaN</td>\n",
              "      <td>NaN</td>\n",
              "    </tr>\n",
              "    <tr>\n",
              "      <th>51</th>\n",
              "      <td>NaN</td>\n",
              "      <td>Tanzania</td>\n",
              "      <td>NaN</td>\n",
              "      <td>NaN</td>\n",
              "      <td>NaN</td>\n",
              "      <td>NaN</td>\n",
              "      <td>NaN</td>\n",
              "    </tr>\n",
              "    <tr>\n",
              "      <th>52</th>\n",
              "      <td>NaN</td>\n",
              "      <td>Togo</td>\n",
              "      <td>NaN</td>\n",
              "      <td>NaN</td>\n",
              "      <td>NaN</td>\n",
              "      <td>NaN</td>\n",
              "      <td>NaN</td>\n",
              "    </tr>\n",
              "    <tr>\n",
              "      <th>53</th>\n",
              "      <td>NaN</td>\n",
              "      <td>Tunisia</td>\n",
              "      <td>NaN</td>\n",
              "      <td>NaN</td>\n",
              "      <td>NaN</td>\n",
              "      <td>NaN</td>\n",
              "      <td>NaN</td>\n",
              "    </tr>\n",
              "    <tr>\n",
              "      <th>54</th>\n",
              "      <td>NaN</td>\n",
              "      <td>Uganda</td>\n",
              "      <td>NaN</td>\n",
              "      <td>NaN</td>\n",
              "      <td>NaN</td>\n",
              "      <td>NaN</td>\n",
              "      <td>NaN</td>\n",
              "    </tr>\n",
              "    <tr>\n",
              "      <th>55</th>\n",
              "      <td>NaN</td>\n",
              "      <td>Western Sahara</td>\n",
              "      <td>NaN</td>\n",
              "      <td>NaN</td>\n",
              "      <td>NaN</td>\n",
              "      <td>NaN</td>\n",
              "      <td>NaN</td>\n",
              "    </tr>\n",
              "    <tr>\n",
              "      <th>56</th>\n",
              "      <td>NaN</td>\n",
              "      <td>Zambia</td>\n",
              "      <td>NaN</td>\n",
              "      <td>NaN</td>\n",
              "      <td>NaN</td>\n",
              "      <td>NaN</td>\n",
              "      <td>NaN</td>\n",
              "    </tr>\n",
              "    <tr>\n",
              "      <th>57</th>\n",
              "      <td>NaN</td>\n",
              "      <td>Zimbabwe</td>\n",
              "      <td>NaN</td>\n",
              "      <td>NaN</td>\n",
              "      <td>NaN</td>\n",
              "      <td>NaN</td>\n",
              "      <td>NaN</td>\n",
              "    </tr>\n",
              "  </tbody>\n",
              "</table>\n",
              "</div>"
            ],
            "text/plain": [
              "                    Asia  ...                      Antractica\n",
              "0            Afghanistan  ...                     Adélie Land\n",
              "1                Armenia  ...            Argentine Antarctica\n",
              "2             Azerbaijan  ...  Australian Antarctic Territory\n",
              "3                Bahrain  ...     British Antarctic Territory\n",
              "4             Bangladesh  ...     Chilean Antarctic Territory\n",
              "5                 Bhutan  ...                 Marie Byrd Land\n",
              "6      Brunei Darussalam  ...                  Peter I Island\n",
              "7               Cambodia  ...                 Queen Maud Land\n",
              "8                  China  ...                 Ross Dependency\n",
              "9                 Cyprus  ...                             NaN\n",
              "10               Georgia  ...                             NaN\n",
              "11             Hong Kong  ...                             NaN\n",
              "12                 India  ...                             NaN\n",
              "13             Indonesia  ...                             NaN\n",
              "14                  Iran  ...                             NaN\n",
              "15                  Iraq  ...                             NaN\n",
              "16                Israel  ...                             NaN\n",
              "17                 Japan  ...                             NaN\n",
              "18                Jordan  ...                             NaN\n",
              "19            Kazakhstan  ...                             NaN\n",
              "20                Kuwait  ...                             NaN\n",
              "21            Kyrgyzstan  ...                             NaN\n",
              "22                  Laos  ...                             NaN\n",
              "23               Lebanon  ...                             NaN\n",
              "24                 Macao  ...                             NaN\n",
              "25              Malaysia  ...                             NaN\n",
              "26              Maldives  ...                             NaN\n",
              "27              Mongolia  ...                             NaN\n",
              "28               Myanmar  ...                             NaN\n",
              "29                 Nepal  ...                             NaN\n",
              "30           North Korea  ...                             NaN\n",
              "31                  Oman  ...                             NaN\n",
              "32              Pakistan  ...                             NaN\n",
              "33           Philippines  ...                             NaN\n",
              "34                 Qatar  ...                             NaN\n",
              "35          Saudi Arabia  ...                             NaN\n",
              "36             Singapore  ...                             NaN\n",
              "37           South Korea  ...                             NaN\n",
              "38             Sri Lanka  ...                             NaN\n",
              "39    State of Palestine  ...                             NaN\n",
              "40                 Syria  ...                             NaN\n",
              "41                Taiwan  ...                             NaN\n",
              "42            Tajikistan  ...                             NaN\n",
              "43              Thailand  ...                             NaN\n",
              "44           Timor-Leste  ...                             NaN\n",
              "45                Turkey  ...                             NaN\n",
              "46          Turkmenistan  ...                             NaN\n",
              "47  United Arab Emirates  ...                             NaN\n",
              "48            Uzbekistan  ...                             NaN\n",
              "49               Vietnam  ...                             NaN\n",
              "50                 Yemen  ...                             NaN\n",
              "51                   NaN  ...                             NaN\n",
              "52                   NaN  ...                             NaN\n",
              "53                   NaN  ...                             NaN\n",
              "54                   NaN  ...                             NaN\n",
              "55                   NaN  ...                             NaN\n",
              "56                   NaN  ...                             NaN\n",
              "57                   NaN  ...                             NaN\n",
              "\n",
              "[58 rows x 7 columns]"
            ]
          },
          "metadata": {
            "tags": []
          },
          "execution_count": 4
        }
      ]
    },
    {
      "cell_type": "code",
      "metadata": {
        "id": "Low88r79D979"
      },
      "source": [
        "asia=df2['Asia'].to_list()                     #convert countries for each continent to list\n",
        "africa=df2['Africa'].to_list()\n",
        "europ=df2['Europ'].to_list()\n",
        "north_america=df2['North_America'].to_list()\n",
        "south_america=df2['South_America'].to_list()\n",
        "australia=df2['Australia_Oceania'].to_list()\n",
        "antractia=df2['Antractica'].to_list()"
      ],
      "execution_count": 5,
      "outputs": []
    },
    {
      "cell_type": "code",
      "metadata": {
        "colab": {
          "base_uri": "https://localhost:8080/",
          "height": 0
        },
        "id": "uwXnanZgD949",
        "outputId": "0f792f46-321a-4a98-9867-247c8b65aadf"
      },
      "source": [
        "asia = [x for x in asia if str(x) != 'nan']            #remove nan data from each countries' list\n",
        "africa = [x for x in africa if str(x) != 'nan']\n",
        "europ = [x for x in europ if str(x) != 'nan']\n",
        "north_america = [x for x in north_america if str(x) != 'nan']\n",
        "south_america = [x for x in south_america if str(x) != 'nan']\n",
        "australia = [x for x in australia if str(x) != 'nan']\n",
        "antractia = [x for x in antractia if str(x) != 'nan']\n",
        "print(asia)\n",
        "print(africa)\n",
        "print(europ)\n",
        "print(north_america)\n",
        "print(south_america)\n",
        "print(australia)\n",
        "print(antractia)"
      ],
      "execution_count": 6,
      "outputs": [
        {
          "output_type": "stream",
          "text": [
            "['Afghanistan', 'Armenia', 'Azerbaijan', 'Bahrain', 'Bangladesh', 'Bhutan', 'Brunei Darussalam', 'Cambodia', 'China', 'Cyprus', 'Georgia', 'Hong Kong', 'India', 'Indonesia', 'Iran', 'Iraq', 'Israel', 'Japan', 'Jordan', 'Kazakhstan', 'Kuwait', 'Kyrgyzstan', 'Laos', 'Lebanon', 'Macao', 'Malaysia', 'Maldives', 'Mongolia', 'Myanmar', 'Nepal', 'North Korea', 'Oman', 'Pakistan', 'Philippines', 'Qatar', 'Saudi Arabia', 'Singapore', 'South Korea', 'Sri Lanka', 'State of Palestine', 'Syria', 'Taiwan', 'Tajikistan', 'Thailand', 'Timor-Leste', 'Turkey', 'Turkmenistan', 'United Arab Emirates', 'Uzbekistan', 'Vietnam', 'Yemen']\n",
            "['Algeria', 'Angola', 'Benin', 'Botswana', 'Burkina Faso', 'Burundi', 'Cabo Verde', 'Cameroon', 'Central African Republic', 'Chad', 'Comoros', 'Congo', \"Côte d'Ivoire\", 'Democratic Republic of the Congo', 'Djibouti', 'Egypt', 'Equatorial Guinea', 'Eritrea', 'Eswatini', 'Ethiopia', 'Gabon', 'Gambia', 'Ghana', 'Guinea', 'Guinea-Bissau', 'Kenya', 'Lesotho', 'Liberia', 'Libya', 'Madagascar', 'Malawi', 'Mali', 'Mauritania', 'Mauritius', 'Mayotte', 'Morocco', 'Mozambique', 'Namibia', 'Niger', 'Nigeria', 'Réunion', 'Rwanda', 'Saint Helena', 'Sao Tome and Principe', 'Senegal', 'Seychelles', 'Sierra Leone', 'Somalia', 'South Africa', 'South Sudan', 'Sudan', 'Tanzania', 'Togo', 'Tunisia', 'Uganda', 'Western Sahara', 'Zambia', 'Zimbabwe']\n",
            "['Albania', 'Andorra', 'Austria', 'Belarus', 'Belgium', 'Bosnia and Herzegovina', 'Bulgaria', 'Channel Islands', 'Croatia', 'Czechia', 'Denmark', 'Estonia', 'Faeroe Islands', 'Finland', 'France', 'Germany', 'Gibraltar', 'Greece', 'Holy See', 'Hungary', 'Iceland', 'Ireland', 'Isle of Man', 'Italy', 'Latvia', 'Liechtenstein', 'Lithuania', 'Luxembourg', 'Malta', 'Moldova', 'Monaco', 'Montenegro', 'Netherlands', 'North Macedonia', 'Norway', 'Poland', 'Portugal', 'Romania', 'Russia', 'San Marino', 'Serbia', 'Slovakia', 'Slovenia', 'Spain', 'Sweden', 'Switzerland', 'Ukraine', 'United Kingdom']\n",
            "['Anguilla', 'Antigua and Barbuda', 'Aruba', 'Bahamas', 'Barbados', 'Belize', 'Bermuda', 'British Virgin Islands', 'Canada', 'Caribbean Netherlands', 'Cayman Islands', 'Costa Rica', 'Cuba', 'Curaçao', 'Dominica', 'Dominican Republic', 'El Salvador', 'Greenland', 'Grenada', 'Guadeloupe', 'Guatemala', 'Haiti', 'Honduras', 'Jamaica', 'Martinique', 'Mexico', 'Montserrat', 'Nicaragua', 'Panama', 'Puerto Rico', 'Saint Barthélemy', 'Saint Kitts and Nevis', 'Saint Lucia', 'Saint Martin', 'Saint Pierre and Miquelon', 'Saint Vincent and the Grenadines', 'Sint Maarten', 'Trinidad and Tobago', 'Turks and Caicos Islands', 'U.S.A.', 'United States Virgin Islands']\n",
            "['Argentina', 'Bolivia', 'Brazil', 'Chile', 'Colombia', 'Ecuador', 'Falkland Islands', 'French Guiana', 'Guyana', 'Paraguay', 'Peru', 'Suriname', 'Uruguay', 'Venezuela']\n",
            "['American Samoa', 'Australia', 'Cook Islands', 'Fiji', 'French Polynesia', 'Guam', 'Kiribati', 'Marshall Islands', 'Micronesia', 'Nauru', 'New Caledonia', 'New Zealand', 'Niue', 'Northern Mariana Islands', 'Palau', 'Papua New Guinea', 'Samoa', 'Solomon Islands', 'Tokelau', 'Tonga', 'Tuvalu', 'Vanuatu', 'Wallis and Futuna Islands']\n",
            "['Adélie Land', 'Argentine Antarctica', 'Australian Antarctic Territory', 'British Antarctic Territory', 'Chilean Antarctic Territory', 'Marie Byrd Land', 'Peter I Island', 'Queen Maud Land', 'Ross Dependency']\n"
          ],
          "name": "stdout"
        }
      ]
    },
    {
      "cell_type": "code",
      "metadata": {
        "colab": {
          "base_uri": "https://localhost:8080/",
          "height": 0
        },
        "id": "HbCrc_VjD9vd",
        "outputId": "9e6e0716-3150-4f3f-ce20-5cdca830ad6b"
      },
      "source": [
        "def GetConti(country):         #read through country column from original dataset and assign continent to each country  \n",
        "    if country in asia:        #create 'continent' column\n",
        "        return \"Asia\"\n",
        "    elif country in africa:\n",
        "        return \"Africa\"\n",
        "    elif country in europ:\n",
        "        return \"Europ\"\n",
        "    elif country in north_america:\n",
        "        return \"North_America\"\n",
        "    elif country in south_america:\n",
        "        return \"South_America\"\n",
        "    elif country in australia:\n",
        "        return \"Australia\"\n",
        "    elif country in antractia:\n",
        "        return \"Antractia\"\n",
        "    else:\n",
        "        return \"not_included\"\n",
        "\n",
        "df['continent'] = df['country'].apply(lambda x: GetConti(x))\n",
        "\n",
        "print(df)"
      ],
      "execution_count": 7,
      "outputs": [
        {
          "output_type": "stream",
          "text": [
            "                   country  1979  1980  1981  ...  2009  2010  2011     continent\n",
            "0                 Abkhazia   NaN   NaN   NaN  ...   NaN   NaN   NaN  not_included\n",
            "1              Afghanistan   NaN   NaN   NaN  ...  0.06  0.06  0.06          Asia\n",
            "2    Akrotiri and Dhekelia   NaN   NaN   NaN  ...   NaN   NaN   NaN  not_included\n",
            "3                  Albania   NaN   NaN   NaN  ...   NaN   NaN   NaN         Europ\n",
            "4                  Algeria   NaN   NaN   NaN  ...   NaN   NaN   NaN        Africa\n",
            "..                     ...   ...   ...   ...  ...   ...   ...   ...           ...\n",
            "269                Bonaire   NaN   NaN   NaN  ...   NaN   NaN   NaN  not_included\n",
            "270                   Sark   NaN   NaN   NaN  ...   NaN   NaN   NaN  not_included\n",
            "271         Chinese Taipei   NaN   NaN   NaN  ...   NaN   NaN   NaN  not_included\n",
            "272        Saint Eustatius   NaN   NaN   NaN  ...   NaN   NaN   NaN  not_included\n",
            "273                   Saba   NaN   NaN   NaN  ...   NaN   NaN   NaN  not_included\n",
            "\n",
            "[274 rows x 35 columns]\n"
          ],
          "name": "stdout"
        }
      ]
    },
    {
      "cell_type": "code",
      "metadata": {
        "colab": {
          "base_uri": "https://localhost:8080/",
          "height": 0
        },
        "id": "gX06HndYD9n7",
        "outputId": "92363bc5-3eb5-46b8-fd7c-2b59566f6bed"
      },
      "source": [
        "df['continent'].value_counts()          #find number of countries assigned to specific continent "
      ],
      "execution_count": 8,
      "outputs": [
        {
          "output_type": "execute_result",
          "data": {
            "text/plain": [
              "not_included     69\n",
              "Africa           51\n",
              "Europ            45\n",
              "Asia             45\n",
              "North_America    31\n",
              "Australia        20\n",
              "South_America    13\n",
              "Name: continent, dtype: int64"
            ]
          },
          "metadata": {
            "tags": []
          },
          "execution_count": 8
        }
      ]
    },
    {
      "cell_type": "code",
      "metadata": {
        "colab": {
          "base_uri": "https://localhost:8080/",
          "height": 533
        },
        "id": "DuqoMmRfSAAM",
        "outputId": "b6e7afc1-febf-4caa-b724-4d093d93277f"
      },
      "source": [
        "df3 = df[df['continent'] == 'not_included']   #find number of countries that are not annotated to continent based on the dataset\n",
        "df3"
      ],
      "execution_count": 9,
      "outputs": [
        {
          "output_type": "execute_result",
          "data": {
            "text/html": [
              "<div>\n",
              "<style scoped>\n",
              "    .dataframe tbody tr th:only-of-type {\n",
              "        vertical-align: middle;\n",
              "    }\n",
              "\n",
              "    .dataframe tbody tr th {\n",
              "        vertical-align: top;\n",
              "    }\n",
              "\n",
              "    .dataframe thead th {\n",
              "        text-align: right;\n",
              "    }\n",
              "</style>\n",
              "<table border=\"1\" class=\"dataframe\">\n",
              "  <thead>\n",
              "    <tr style=\"text-align: right;\">\n",
              "      <th></th>\n",
              "      <th>country</th>\n",
              "      <th>1979</th>\n",
              "      <th>1980</th>\n",
              "      <th>1981</th>\n",
              "      <th>1982</th>\n",
              "      <th>1983</th>\n",
              "      <th>1984</th>\n",
              "      <th>1985</th>\n",
              "      <th>1986</th>\n",
              "      <th>1987</th>\n",
              "      <th>1988</th>\n",
              "      <th>1989</th>\n",
              "      <th>1990</th>\n",
              "      <th>1991</th>\n",
              "      <th>1992</th>\n",
              "      <th>1993</th>\n",
              "      <th>1994</th>\n",
              "      <th>1995</th>\n",
              "      <th>1996</th>\n",
              "      <th>1997</th>\n",
              "      <th>1998</th>\n",
              "      <th>1999</th>\n",
              "      <th>2000</th>\n",
              "      <th>2001</th>\n",
              "      <th>2002</th>\n",
              "      <th>2003</th>\n",
              "      <th>2004</th>\n",
              "      <th>2005</th>\n",
              "      <th>2006</th>\n",
              "      <th>2007</th>\n",
              "      <th>2008</th>\n",
              "      <th>2009</th>\n",
              "      <th>2010</th>\n",
              "      <th>2011</th>\n",
              "      <th>continent</th>\n",
              "    </tr>\n",
              "  </thead>\n",
              "  <tbody>\n",
              "    <tr>\n",
              "      <th>0</th>\n",
              "      <td>Abkhazia</td>\n",
              "      <td>NaN</td>\n",
              "      <td>NaN</td>\n",
              "      <td>NaN</td>\n",
              "      <td>NaN</td>\n",
              "      <td>NaN</td>\n",
              "      <td>NaN</td>\n",
              "      <td>NaN</td>\n",
              "      <td>NaN</td>\n",
              "      <td>NaN</td>\n",
              "      <td>NaN</td>\n",
              "      <td>NaN</td>\n",
              "      <td>NaN</td>\n",
              "      <td>NaN</td>\n",
              "      <td>NaN</td>\n",
              "      <td>NaN</td>\n",
              "      <td>NaN</td>\n",
              "      <td>NaN</td>\n",
              "      <td>NaN</td>\n",
              "      <td>NaN</td>\n",
              "      <td>NaN</td>\n",
              "      <td>NaN</td>\n",
              "      <td>NaN</td>\n",
              "      <td>NaN</td>\n",
              "      <td>NaN</td>\n",
              "      <td>NaN</td>\n",
              "      <td>NaN</td>\n",
              "      <td>NaN</td>\n",
              "      <td>NaN</td>\n",
              "      <td>NaN</td>\n",
              "      <td>NaN</td>\n",
              "      <td>NaN</td>\n",
              "      <td>NaN</td>\n",
              "      <td>NaN</td>\n",
              "      <td>not_included</td>\n",
              "    </tr>\n",
              "    <tr>\n",
              "      <th>2</th>\n",
              "      <td>Akrotiri and Dhekelia</td>\n",
              "      <td>NaN</td>\n",
              "      <td>NaN</td>\n",
              "      <td>NaN</td>\n",
              "      <td>NaN</td>\n",
              "      <td>NaN</td>\n",
              "      <td>NaN</td>\n",
              "      <td>NaN</td>\n",
              "      <td>NaN</td>\n",
              "      <td>NaN</td>\n",
              "      <td>NaN</td>\n",
              "      <td>NaN</td>\n",
              "      <td>NaN</td>\n",
              "      <td>NaN</td>\n",
              "      <td>NaN</td>\n",
              "      <td>NaN</td>\n",
              "      <td>NaN</td>\n",
              "      <td>NaN</td>\n",
              "      <td>NaN</td>\n",
              "      <td>NaN</td>\n",
              "      <td>NaN</td>\n",
              "      <td>NaN</td>\n",
              "      <td>NaN</td>\n",
              "      <td>NaN</td>\n",
              "      <td>NaN</td>\n",
              "      <td>NaN</td>\n",
              "      <td>NaN</td>\n",
              "      <td>NaN</td>\n",
              "      <td>NaN</td>\n",
              "      <td>NaN</td>\n",
              "      <td>NaN</td>\n",
              "      <td>NaN</td>\n",
              "      <td>NaN</td>\n",
              "      <td>NaN</td>\n",
              "      <td>not_included</td>\n",
              "    </tr>\n",
              "    <tr>\n",
              "      <th>31</th>\n",
              "      <td>Brunei</td>\n",
              "      <td>NaN</td>\n",
              "      <td>NaN</td>\n",
              "      <td>NaN</td>\n",
              "      <td>NaN</td>\n",
              "      <td>NaN</td>\n",
              "      <td>NaN</td>\n",
              "      <td>NaN</td>\n",
              "      <td>NaN</td>\n",
              "      <td>NaN</td>\n",
              "      <td>NaN</td>\n",
              "      <td>NaN</td>\n",
              "      <td>NaN</td>\n",
              "      <td>NaN</td>\n",
              "      <td>NaN</td>\n",
              "      <td>NaN</td>\n",
              "      <td>NaN</td>\n",
              "      <td>NaN</td>\n",
              "      <td>NaN</td>\n",
              "      <td>NaN</td>\n",
              "      <td>NaN</td>\n",
              "      <td>NaN</td>\n",
              "      <td>NaN</td>\n",
              "      <td>NaN</td>\n",
              "      <td>NaN</td>\n",
              "      <td>NaN</td>\n",
              "      <td>NaN</td>\n",
              "      <td>NaN</td>\n",
              "      <td>NaN</td>\n",
              "      <td>NaN</td>\n",
              "      <td>NaN</td>\n",
              "      <td>NaN</td>\n",
              "      <td>NaN</td>\n",
              "      <td>NaN</td>\n",
              "      <td>not_included</td>\n",
              "    </tr>\n",
              "    <tr>\n",
              "      <th>38</th>\n",
              "      <td>Cape Verde</td>\n",
              "      <td>NaN</td>\n",
              "      <td>NaN</td>\n",
              "      <td>NaN</td>\n",
              "      <td>NaN</td>\n",
              "      <td>NaN</td>\n",
              "      <td>NaN</td>\n",
              "      <td>NaN</td>\n",
              "      <td>NaN</td>\n",
              "      <td>NaN</td>\n",
              "      <td>NaN</td>\n",
              "      <td>NaN</td>\n",
              "      <td>NaN</td>\n",
              "      <td>NaN</td>\n",
              "      <td>NaN</td>\n",
              "      <td>NaN</td>\n",
              "      <td>NaN</td>\n",
              "      <td>NaN</td>\n",
              "      <td>NaN</td>\n",
              "      <td>NaN</td>\n",
              "      <td>NaN</td>\n",
              "      <td>NaN</td>\n",
              "      <td>NaN</td>\n",
              "      <td>NaN</td>\n",
              "      <td>NaN</td>\n",
              "      <td>NaN</td>\n",
              "      <td>NaN</td>\n",
              "      <td>NaN</td>\n",
              "      <td>NaN</td>\n",
              "      <td>NaN</td>\n",
              "      <td>NaN</td>\n",
              "      <td>1.0</td>\n",
              "      <td>1.0</td>\n",
              "      <td>1.0</td>\n",
              "      <td>not_included</td>\n",
              "    </tr>\n",
              "    <tr>\n",
              "      <th>45</th>\n",
              "      <td>Christmas Island</td>\n",
              "      <td>NaN</td>\n",
              "      <td>NaN</td>\n",
              "      <td>NaN</td>\n",
              "      <td>NaN</td>\n",
              "      <td>NaN</td>\n",
              "      <td>NaN</td>\n",
              "      <td>NaN</td>\n",
              "      <td>NaN</td>\n",
              "      <td>NaN</td>\n",
              "      <td>NaN</td>\n",
              "      <td>NaN</td>\n",
              "      <td>NaN</td>\n",
              "      <td>NaN</td>\n",
              "      <td>NaN</td>\n",
              "      <td>NaN</td>\n",
              "      <td>NaN</td>\n",
              "      <td>NaN</td>\n",
              "      <td>NaN</td>\n",
              "      <td>NaN</td>\n",
              "      <td>NaN</td>\n",
              "      <td>NaN</td>\n",
              "      <td>NaN</td>\n",
              "      <td>NaN</td>\n",
              "      <td>NaN</td>\n",
              "      <td>NaN</td>\n",
              "      <td>NaN</td>\n",
              "      <td>NaN</td>\n",
              "      <td>NaN</td>\n",
              "      <td>NaN</td>\n",
              "      <td>NaN</td>\n",
              "      <td>NaN</td>\n",
              "      <td>NaN</td>\n",
              "      <td>NaN</td>\n",
              "      <td>not_included</td>\n",
              "    </tr>\n",
              "    <tr>\n",
              "      <th>...</th>\n",
              "      <td>...</td>\n",
              "      <td>...</td>\n",
              "      <td>...</td>\n",
              "      <td>...</td>\n",
              "      <td>...</td>\n",
              "      <td>...</td>\n",
              "      <td>...</td>\n",
              "      <td>...</td>\n",
              "      <td>...</td>\n",
              "      <td>...</td>\n",
              "      <td>...</td>\n",
              "      <td>...</td>\n",
              "      <td>...</td>\n",
              "      <td>...</td>\n",
              "      <td>...</td>\n",
              "      <td>...</td>\n",
              "      <td>...</td>\n",
              "      <td>...</td>\n",
              "      <td>...</td>\n",
              "      <td>...</td>\n",
              "      <td>...</td>\n",
              "      <td>...</td>\n",
              "      <td>...</td>\n",
              "      <td>...</td>\n",
              "      <td>...</td>\n",
              "      <td>...</td>\n",
              "      <td>...</td>\n",
              "      <td>...</td>\n",
              "      <td>...</td>\n",
              "      <td>...</td>\n",
              "      <td>...</td>\n",
              "      <td>...</td>\n",
              "      <td>...</td>\n",
              "      <td>...</td>\n",
              "      <td>...</td>\n",
              "    </tr>\n",
              "    <tr>\n",
              "      <th>269</th>\n",
              "      <td>Bonaire</td>\n",
              "      <td>NaN</td>\n",
              "      <td>NaN</td>\n",
              "      <td>NaN</td>\n",
              "      <td>NaN</td>\n",
              "      <td>NaN</td>\n",
              "      <td>NaN</td>\n",
              "      <td>NaN</td>\n",
              "      <td>NaN</td>\n",
              "      <td>NaN</td>\n",
              "      <td>NaN</td>\n",
              "      <td>NaN</td>\n",
              "      <td>NaN</td>\n",
              "      <td>NaN</td>\n",
              "      <td>NaN</td>\n",
              "      <td>NaN</td>\n",
              "      <td>NaN</td>\n",
              "      <td>NaN</td>\n",
              "      <td>NaN</td>\n",
              "      <td>NaN</td>\n",
              "      <td>NaN</td>\n",
              "      <td>NaN</td>\n",
              "      <td>NaN</td>\n",
              "      <td>NaN</td>\n",
              "      <td>NaN</td>\n",
              "      <td>NaN</td>\n",
              "      <td>NaN</td>\n",
              "      <td>NaN</td>\n",
              "      <td>NaN</td>\n",
              "      <td>NaN</td>\n",
              "      <td>NaN</td>\n",
              "      <td>NaN</td>\n",
              "      <td>NaN</td>\n",
              "      <td>NaN</td>\n",
              "      <td>not_included</td>\n",
              "    </tr>\n",
              "    <tr>\n",
              "      <th>270</th>\n",
              "      <td>Sark</td>\n",
              "      <td>NaN</td>\n",
              "      <td>NaN</td>\n",
              "      <td>NaN</td>\n",
              "      <td>NaN</td>\n",
              "      <td>NaN</td>\n",
              "      <td>NaN</td>\n",
              "      <td>NaN</td>\n",
              "      <td>NaN</td>\n",
              "      <td>NaN</td>\n",
              "      <td>NaN</td>\n",
              "      <td>NaN</td>\n",
              "      <td>NaN</td>\n",
              "      <td>NaN</td>\n",
              "      <td>NaN</td>\n",
              "      <td>NaN</td>\n",
              "      <td>NaN</td>\n",
              "      <td>NaN</td>\n",
              "      <td>NaN</td>\n",
              "      <td>NaN</td>\n",
              "      <td>NaN</td>\n",
              "      <td>NaN</td>\n",
              "      <td>NaN</td>\n",
              "      <td>NaN</td>\n",
              "      <td>NaN</td>\n",
              "      <td>NaN</td>\n",
              "      <td>NaN</td>\n",
              "      <td>NaN</td>\n",
              "      <td>NaN</td>\n",
              "      <td>NaN</td>\n",
              "      <td>NaN</td>\n",
              "      <td>NaN</td>\n",
              "      <td>NaN</td>\n",
              "      <td>NaN</td>\n",
              "      <td>not_included</td>\n",
              "    </tr>\n",
              "    <tr>\n",
              "      <th>271</th>\n",
              "      <td>Chinese Taipei</td>\n",
              "      <td>NaN</td>\n",
              "      <td>NaN</td>\n",
              "      <td>NaN</td>\n",
              "      <td>NaN</td>\n",
              "      <td>NaN</td>\n",
              "      <td>NaN</td>\n",
              "      <td>NaN</td>\n",
              "      <td>NaN</td>\n",
              "      <td>NaN</td>\n",
              "      <td>NaN</td>\n",
              "      <td>NaN</td>\n",
              "      <td>NaN</td>\n",
              "      <td>NaN</td>\n",
              "      <td>NaN</td>\n",
              "      <td>NaN</td>\n",
              "      <td>NaN</td>\n",
              "      <td>NaN</td>\n",
              "      <td>NaN</td>\n",
              "      <td>NaN</td>\n",
              "      <td>NaN</td>\n",
              "      <td>NaN</td>\n",
              "      <td>NaN</td>\n",
              "      <td>NaN</td>\n",
              "      <td>NaN</td>\n",
              "      <td>NaN</td>\n",
              "      <td>NaN</td>\n",
              "      <td>NaN</td>\n",
              "      <td>NaN</td>\n",
              "      <td>NaN</td>\n",
              "      <td>NaN</td>\n",
              "      <td>NaN</td>\n",
              "      <td>NaN</td>\n",
              "      <td>NaN</td>\n",
              "      <td>not_included</td>\n",
              "    </tr>\n",
              "    <tr>\n",
              "      <th>272</th>\n",
              "      <td>Saint Eustatius</td>\n",
              "      <td>NaN</td>\n",
              "      <td>NaN</td>\n",
              "      <td>NaN</td>\n",
              "      <td>NaN</td>\n",
              "      <td>NaN</td>\n",
              "      <td>NaN</td>\n",
              "      <td>NaN</td>\n",
              "      <td>NaN</td>\n",
              "      <td>NaN</td>\n",
              "      <td>NaN</td>\n",
              "      <td>NaN</td>\n",
              "      <td>NaN</td>\n",
              "      <td>NaN</td>\n",
              "      <td>NaN</td>\n",
              "      <td>NaN</td>\n",
              "      <td>NaN</td>\n",
              "      <td>NaN</td>\n",
              "      <td>NaN</td>\n",
              "      <td>NaN</td>\n",
              "      <td>NaN</td>\n",
              "      <td>NaN</td>\n",
              "      <td>NaN</td>\n",
              "      <td>NaN</td>\n",
              "      <td>NaN</td>\n",
              "      <td>NaN</td>\n",
              "      <td>NaN</td>\n",
              "      <td>NaN</td>\n",
              "      <td>NaN</td>\n",
              "      <td>NaN</td>\n",
              "      <td>NaN</td>\n",
              "      <td>NaN</td>\n",
              "      <td>NaN</td>\n",
              "      <td>NaN</td>\n",
              "      <td>not_included</td>\n",
              "    </tr>\n",
              "    <tr>\n",
              "      <th>273</th>\n",
              "      <td>Saba</td>\n",
              "      <td>NaN</td>\n",
              "      <td>NaN</td>\n",
              "      <td>NaN</td>\n",
              "      <td>NaN</td>\n",
              "      <td>NaN</td>\n",
              "      <td>NaN</td>\n",
              "      <td>NaN</td>\n",
              "      <td>NaN</td>\n",
              "      <td>NaN</td>\n",
              "      <td>NaN</td>\n",
              "      <td>NaN</td>\n",
              "      <td>NaN</td>\n",
              "      <td>NaN</td>\n",
              "      <td>NaN</td>\n",
              "      <td>NaN</td>\n",
              "      <td>NaN</td>\n",
              "      <td>NaN</td>\n",
              "      <td>NaN</td>\n",
              "      <td>NaN</td>\n",
              "      <td>NaN</td>\n",
              "      <td>NaN</td>\n",
              "      <td>NaN</td>\n",
              "      <td>NaN</td>\n",
              "      <td>NaN</td>\n",
              "      <td>NaN</td>\n",
              "      <td>NaN</td>\n",
              "      <td>NaN</td>\n",
              "      <td>NaN</td>\n",
              "      <td>NaN</td>\n",
              "      <td>NaN</td>\n",
              "      <td>NaN</td>\n",
              "      <td>NaN</td>\n",
              "      <td>NaN</td>\n",
              "      <td>not_included</td>\n",
              "    </tr>\n",
              "  </tbody>\n",
              "</table>\n",
              "<p>69 rows × 35 columns</p>\n",
              "</div>"
            ],
            "text/plain": [
              "                   country  1979  1980  1981  ...  2009  2010  2011     continent\n",
              "0                 Abkhazia   NaN   NaN   NaN  ...   NaN   NaN   NaN  not_included\n",
              "2    Akrotiri and Dhekelia   NaN   NaN   NaN  ...   NaN   NaN   NaN  not_included\n",
              "31                  Brunei   NaN   NaN   NaN  ...   NaN   NaN   NaN  not_included\n",
              "38              Cape Verde   NaN   NaN   NaN  ...   1.0   1.0   1.0  not_included\n",
              "45        Christmas Island   NaN   NaN   NaN  ...   NaN   NaN   NaN  not_included\n",
              "..                     ...   ...   ...   ...  ...   ...   ...   ...           ...\n",
              "269                Bonaire   NaN   NaN   NaN  ...   NaN   NaN   NaN  not_included\n",
              "270                   Sark   NaN   NaN   NaN  ...   NaN   NaN   NaN  not_included\n",
              "271         Chinese Taipei   NaN   NaN   NaN  ...   NaN   NaN   NaN  not_included\n",
              "272        Saint Eustatius   NaN   NaN   NaN  ...   NaN   NaN   NaN  not_included\n",
              "273                   Saba   NaN   NaN   NaN  ...   NaN   NaN   NaN  not_included\n",
              "\n",
              "[69 rows x 35 columns]"
            ]
          },
          "metadata": {
            "tags": []
          },
          "execution_count": 9
        }
      ]
    },
    {
      "cell_type": "code",
      "metadata": {
        "colab": {
          "base_uri": "https://localhost:8080/",
          "height": 0
        },
        "id": "F3jWiF9nTEVT",
        "outputId": "d2dd321c-2a2a-4b02-8c5b-cb95e0e02aec"
      },
      "source": [
        "not_included=df3['country'].to_list()    #find name of the countries that are not annotated to the specific continent\n",
        "print(not_included)"
      ],
      "execution_count": 10,
      "outputs": [
        {
          "output_type": "stream",
          "text": [
            "['Abkhazia', 'Akrotiri and Dhekelia', 'Brunei', 'Cape Verde', 'Christmas Island', 'Cocos Island', 'Congo, Dem. Rep.', 'Congo, Rep.', 'Cook Is', \"Cote d'Ivoire\", 'Czech Republic', 'Czechoslovakia', 'East Germany', 'Eritrea and Ethiopia', 'Falkland Is (Malvinas)', 'Guernsey', 'Hong Kong, China', 'Jersey', 'Kosovo', 'Kyrgyz Republic', 'Lao', 'Macao, China', 'Macedonia, FYR', 'Micronesia, Fed. Sts.', 'Netherlands Antilles', 'Ngorno-Karabakh', 'Norfolk Island', 'Northern Cyprus', 'Pitcairn', 'Reunion', 'St. Barthélemy', 'St. Helena', 'St. Kitts and Nevis', 'St. Lucia', 'St. Martin', 'St. Vincent and the Grenadines', 'St.-Pierre-et-Miquelon', 'Serbia and Montenegro', 'Serbia excluding Kosovo', 'Slovak Republic', 'Somaliland', 'South Ossetia', 'Svalbard', 'Swaziland', 'Transnistria', 'United States', 'USSR', 'Wallis et Futuna', 'West Bank and Gaza', 'West Germany', 'Virgin Islands (U.S.)', 'North Yemen (former)', 'South Yemen (former)', 'Yugoslavia', 'Åland', 'Christian', 'Coastline', 'Sint Maarten (Dutch part)', 'St. Martin (French part)', 'Antarctica', 'Virgin Islands, British', 'Hawaiian Trade Zone', 'U.S. Pacific Islands', 'Wake Island', 'Bonaire', 'Sark', 'Chinese Taipei', 'Saint Eustatius', 'Saba']\n"
          ],
          "name": "stdout"
        }
      ]
    },
    {
      "cell_type": "code",
      "metadata": {
        "id": "scIH38sD4_PN"
      },
      "source": [
        "#df.fillna(value = 0, inplace = True)\n",
        "#df"
      ],
      "execution_count": null,
      "outputs": []
    },
    {
      "cell_type": "code",
      "metadata": {
        "id": "5Qo-zQJjD91x",
        "colab": {
          "base_uri": "https://localhost:8080/",
          "height": 0
        },
        "outputId": "a6dd7ad6-5cf3-40bc-d02d-351f62982296"
      },
      "source": [
        "! pip install pycountry_convert     # install package to test the annotation process"
      ],
      "execution_count": 12,
      "outputs": [
        {
          "output_type": "stream",
          "text": [
            "Requirement already satisfied: pycountry_convert in /usr/local/lib/python3.7/dist-packages (0.7.2)\n",
            "Requirement already satisfied: pytest-cov>=2.5.1 in /usr/local/lib/python3.7/dist-packages (from pycountry_convert) (2.12.1)\n",
            "Requirement already satisfied: pytest>=3.4.0 in /usr/local/lib/python3.7/dist-packages (from pycountry_convert) (3.6.4)\n",
            "Requirement already satisfied: pytest-mock>=1.6.3 in /usr/local/lib/python3.7/dist-packages (from pycountry_convert) (3.6.1)\n",
            "Requirement already satisfied: pprintpp>=0.3.0 in /usr/local/lib/python3.7/dist-packages (from pycountry_convert) (0.4.0)\n",
            "Requirement already satisfied: wheel>=0.30.0 in /usr/local/lib/python3.7/dist-packages (from pycountry_convert) (0.36.2)\n",
            "Requirement already satisfied: pycountry>=16.11.27.1 in /usr/local/lib/python3.7/dist-packages (from pycountry_convert) (20.7.3)\n",
            "Requirement already satisfied: repoze.lru>=0.7 in /usr/local/lib/python3.7/dist-packages (from pycountry_convert) (0.7)\n",
            "Requirement already satisfied: toml in /usr/local/lib/python3.7/dist-packages (from pytest-cov>=2.5.1->pycountry_convert) (0.10.2)\n",
            "Requirement already satisfied: coverage>=5.2.1 in /usr/local/lib/python3.7/dist-packages (from pytest-cov>=2.5.1->pycountry_convert) (5.5)\n",
            "Requirement already satisfied: attrs>=17.4.0 in /usr/local/lib/python3.7/dist-packages (from pytest>=3.4.0->pycountry_convert) (21.2.0)\n",
            "Requirement already satisfied: pluggy<0.8,>=0.5 in /usr/local/lib/python3.7/dist-packages (from pytest>=3.4.0->pycountry_convert) (0.7.1)\n",
            "Requirement already satisfied: setuptools in /usr/local/lib/python3.7/dist-packages (from pytest>=3.4.0->pycountry_convert) (57.0.0)\n",
            "Requirement already satisfied: six>=1.10.0 in /usr/local/lib/python3.7/dist-packages (from pytest>=3.4.0->pycountry_convert) (1.15.0)\n",
            "Requirement already satisfied: py>=1.5.0 in /usr/local/lib/python3.7/dist-packages (from pytest>=3.4.0->pycountry_convert) (1.10.0)\n",
            "Requirement already satisfied: more-itertools>=4.0.0 in /usr/local/lib/python3.7/dist-packages (from pytest>=3.4.0->pycountry_convert) (8.8.0)\n",
            "Requirement already satisfied: atomicwrites>=1.0 in /usr/local/lib/python3.7/dist-packages (from pytest>=3.4.0->pycountry_convert) (1.4.0)\n"
          ],
          "name": "stdout"
        }
      ]
    },
    {
      "cell_type": "code",
      "metadata": {
        "id": "fS3exxVNT4_-"
      },
      "source": [
        "from pycountry_convert import country_alpha2_to_continent_code, country_name_to_country_alpha2     #import library"
      ],
      "execution_count": 13,
      "outputs": []
    },
    {
      "cell_type": "code",
      "metadata": {
        "colab": {
          "base_uri": "https://localhost:8080/",
          "height": 0
        },
        "id": "U5zBT9ZjYqtQ",
        "outputId": "b05a82af-458e-4974-e6fd-713fd0a28770"
      },
      "source": [
        "#the China found as country in Asia, can test the validity of the annotation with this code          \n",
        "import pycountry_convert as pc\n",
        "\n",
        "country_code = pc.country_name_to_country_alpha2(\"China\", cn_name_format=\"default\")\n",
        "print(country_code)\n",
        "continent_name = pc.country_alpha2_to_continent_code(country_code)\n",
        "print(continent_name)"
      ],
      "execution_count": 145,
      "outputs": [
        {
          "output_type": "stream",
          "text": [
            "AL\n",
            "EU\n"
          ],
          "name": "stdout"
        }
      ]
    },
    {
      "cell_type": "code",
      "metadata": {
        "colab": {
          "base_uri": "https://localhost:8080/",
          "height": 152
        },
        "id": "nejZQZeYD9ky",
        "outputId": "152a8699-1bb2-4736-c749-a8db68599bcb"
      },
      "source": [
        "#convert dataframe with continent column to csv\n",
        "df.to_csv(index=False)"
      ],
      "execution_count": 15,
      "outputs": [
        {
          "output_type": "execute_result",
          "data": {
            "application/vnd.google.colaboratory.intrinsic+json": {
              "type": "string"
            },
            "text/plain": [
              "'country,1979,1980,1981,1982,1983,1984,1985,1986,1987,1988,1989,1990,1991,1992,1993,1994,1995,1996,1997,1998,1999,2000,2001,2002,2003,2004,2005,2006,2007,2008,2009,2010,2011,continent\\nAbkhazia,,,,,,,,,,,,,,,,,,,,,,,,,,,,,,,,,,not_included\\nAfghanistan,,,,,,,,,,,,,,,,,,,,,,,,,,,,,,,0.06,0.06,0.06,Asia\\nAkrotiri and Dhekelia,,,,,,,,,,,,,,,,,,,,,,,,,,,,,,,,,,not_included\\nAlbania,,,,,,,,,,,,,,,,,,,,,,,,,,,,,,,,,,Europ\\nAlgeria,,,,,,,,,,,,0.06,0.06,0.06,0.06,0.06,0.06,0.06,0.06,0.06,0.06,0.06,0.06,0.06,0.06,0.1,0.1,0.1,0.1,0.1,,,,Africa\\nAmerican Samoa,,,,,,,,,,,,,,,,,,,,,,,,,,,,,,,,,,Australia\\nAndorra,,,,,,,,,,,,,,,,,,,,,,,,,,,,,,,,,,Europ\\nAngola,0.026527865,,,,,,,,,,,0.5,0.8,1.0,1.2,1.4,1.6,1.7,1.8,1.8,1.9,1.9,1.9,1.9,1.9,1.9,1.9,1.9,1.9,2.0,2.1,2.1,2.1,Africa\\nAnguilla,,,,,,,,,,,,,,,,,,,,,,,,,,,,,,,,,,North_America\\nAntigua and Barbuda,,,,,,,,,,,,,,,,,,,,,,,,,,,,,,,,,,North_America\\nArgentina,0.02050798,,,,,,,,,,,0.3,0.3,0.3,0.3,0.3,0.3,0.3,0.3,0.3,0.3,0.4,0.4,0.4,0.4,0.4,0.4,0.4,0.4,0.5,0.4,0.4,0.4,South_America\\nArmenia,,,,,,,,,,,,0.06,0.06,0.06,0.06,0.06,0.06,0.06,0.06,0.1,0.1,0.1,0.1,0.1,0.1,0.1,0.1,0.1,0.1,0.1,0.2,0.2,0.2,Asia\\nAruba,,,,,,,,,,,,,,,,,,,,,,,,,,,,,,,,,,North_America\\nAustralia,,,,,0.012682938000000001,,,,,,,0.1,0.1,0.1,0.1,0.1,0.1,0.1,0.1,0.1,0.1,0.1,0.1,0.1,0.1,0.1,0.1,0.1,0.1,0.1,0.2,0.2,0.2,Australia\\nAustria,,,0.010187591,,,,,,,,,0.06,0.06,0.06,0.06,0.06,0.06,0.06,0.1,0.1,0.1,0.1,0.1,0.1,0.2,0.2,0.2,0.2,0.3,0.3,0.3,0.4,0.4,Europ\\nAzerbaijan,,,,,,,,,,,,0.06,0.06,0.06,0.06,0.06,0.06,0.06,0.06,0.06,0.06,0.06,0.06,0.06,0.06,0.06,0.06,0.06,0.1,0.1,0.1,0.1,0.1,Asia\\nBahamas,0.01,,,,,,,,,,,3.6,3.8,3.9,3.9,3.8,3.7,3.6,3.5,3.3,3.2,3.2,3.1,3.0,3.0,3.0,3.0,3.0,3.1,3.1,2.9,2.8,2.8,North_America\\nBahrain,,,,,,,,,,,,,,,,,,,,,,,,,,,,,,,,,,Asia\\nBangladesh,,,,,,,,,,,,0.06,0.06,0.06,0.06,0.06,0.06,0.06,0.06,0.06,0.06,0.06,0.06,0.06,0.06,0.06,0.06,0.06,0.06,0.06,0.06,0.06,0.06,Asia\\nBarbados,0.02767648,,,,,,,,,,,0.06,0.06,0.1,0.1,0.1,0.1,0.2,0.2,0.3,0.4,0.4,0.5,0.6,0.7,0.8,0.9,1.1,1.2,1.3,0.9,0.9,0.9,North_America\\nBelarus,,,,,,,,,,,,0.06,0.06,0.06,0.06,0.06,0.06,0.06,0.06,0.06,0.1,0.1,0.1,0.1,0.1,0.2,0.2,0.2,0.2,0.2,0.3,0.4,0.4,Europ\\nBelgium,,,,0.014146531,,,,,,,,0.06,0.1,0.1,0.1,0.1,0.1,0.2,0.2,0.2,0.2,0.2,0.2,0.2,0.2,0.2,0.2,0.2,0.2,0.2,0.3,0.3,0.3,Europ\\nBelize,,,,,,,,,,,,0.5,0.7,1.0,1.2,1.4,1.5,1.6,1.8,1.9,2.0,2.2,2.2,2.3,2.4,2.4,2.4,2.4,2.4,2.4,2.4,2.4,2.3,North_America\\nBenin,,,,,,0.011875633,,,,,,0.2,0.4,0.5,0.7,0.9,1.1,1.3,1.4,1.4,1.4,1.4,1.4,1.4,1.3,1.3,1.3,1.2,1.2,1.2,1.2,1.2,1.2,Africa\\nBermuda,,,,,,,,,,,,,,,,,,,,,,,,,,,,,,,,,,North_America\\nBhutan,,,,,,,,,,,,0.06,0.06,0.06,0.06,0.06,0.06,0.06,0.06,0.06,0.06,0.06,0.06,0.06,0.1,0.1,0.1,0.1,0.1,0.2,0.2,0.3,0.3,Asia\\nBolivia,,,,,,,,,,,,0.1,0.1,0.2,0.2,0.2,0.2,0.2,0.2,0.2,0.2,0.2,0.2,0.2,0.2,0.2,0.2,0.2,0.2,0.2,0.3,0.3,0.3,South_America\\nBosnia and Herzegovina,,,,,,,,,,,,,,,,,,,,,,,,,,,,,,,,,,Europ\\nBotswana,0.105976053,,,,,,,,,,,3.5,5.1,7.3,10.1,13.3,16.6,19.7,22.2,24.1,25.3,26.0,26.3,26.3,26.1,25.8,25.5,25.3,25.1,24.9,24.1,23.7,23.4,Africa\\nBrazil,0.09447913,,,,,,,,,,,0.45,0.45,0.45,0.4,0.4,0.4,0.4,0.4,0.4,0.4,0.4,0.4,0.4,0.4,0.4,0.4,0.4,0.4,0.45,0.3,0.3,0.3,South_America\\nBritish Virgin Islands,,,,,,,,,,,,,,,,,,,,,,,,,,,,,,,,,,North_America\\nBrunei,,,,,,,,,,,,,,,,,,,,,,,,,,,,,,,,,,not_included\\nBulgaria,,,,,,,,,,,,0.06,0.06,0.06,0.06,0.06,0.06,0.06,0.06,0.06,0.06,0.06,0.06,0.06,0.06,0.1,0.1,0.1,0.1,0.1,0.1,0.1,0.1,Europ\\nBurkina Faso,0.01,,,,,,,,,,,3.9,4.0,3.9,3.8,3.6,3.4,3.2,2.9,2.7,2.5,2.3,2.1,1.9,1.7,1.6,1.5,1.4,1.3,1.2,1.2,1.2,1.1,Africa\\nBurundi,0.015913875,,,,,,,,,,,3.9,4.5,5.1,5.5,5.8,5.9,5.9,5.8,5.7,5.4,5.2,5.0,4.7,4.5,4.2,4.0,3.8,3.6,3.5,1.6,1.4,1.3,Africa\\nCambodia,,,,,,,0.01,,,,,0.5,0.8,1.0,1.2,1.3,1.4,1.4,1.4,1.4,1.4,1.3,1.2,1.1,0.9,0.8,0.8,0.7,0.6,0.6,0.6,0.6,0.6,Asia\\nCameroon,,0.012524627,,,,,,,,,,0.6,1.0,1.6,2.5,3.4,4.2,4.8,5.1,5.3,5.4,5.5,5.5,5.5,5.5,5.4,5.4,5.4,5.4,5.3,4.8,4.7,4.6,Africa\\nCanada,0.012998487,,,,,,,,,,,0.1,0.2,0.2,0.2,0.2,0.2,0.2,0.2,0.2,0.2,0.2,0.2,0.2,0.2,0.2,0.2,0.2,0.2,0.2,0.3,0.3,0.3,North_America\\nCape Verde,,,,,,,,,,,,,,,,,,,,,,,,,,,,,,,1.0,1.0,1.0,not_included\\nCayman Islands,,,,,,,,,,,,,,,,,,,,,,,,,,,,,,,,,,North_America\\nCentral African Republic,0.11303477699999999,,,,,,,,,,,3.1,4.6,6.3,7.9,9.0,9.7,10.1,10.1,10.0,9.8,9.4,8.9,8.4,7.8,7.2,6.6,6.1,5.5,5.1,5.1,4.9,4.6,Africa\\nChad,0.039876697999999995,,,,,,,,,,,1.1,1.3,1.5,1.7,1.9,2.1,2.3,2.5,2.7,2.9,3.0,3.2,3.3,3.4,3.4,3.5,3.5,3.5,3.4,3.2,3.2,3.1,Africa\\nChannel Islands,,,,,,,,,,,,,,,,,,,,,,,,,,,,,,,,,,Europ\\nChile,,,,,,,0.009688619,,,,,0.06,0.06,0.1,0.1,0.1,0.1,0.1,0.1,0.2,0.2,0.2,0.3,0.3,0.3,0.3,0.3,0.4,0.4,0.4,0.5,0.5,0.5,South_America\\nChina,,,,,,,,,,,,,,,,,,,,,,,,,,,,,,,,,0.06,Asia\\nChristmas Island,,,,,,,,,,,,,,,,,,,,,,,,,,,,,,,,,,not_included\\nCocos Island,,,,,,,,,,,,,,,,,,,,,,,,,,,,,,,,,,not_included\\nColombia,,,,,,0.012153094,,,,,,0.2,0.3,0.4,0.5,0.6,0.6,0.7,0.8,0.8,0.9,0.9,0.8,0.8,0.8,0.7,0.7,0.6,0.6,0.5,0.5,0.5,0.5,South_America\\nComoros,,,,,,,,,,,,0.06,0.06,0.06,0.06,0.06,0.06,0.06,0.06,0.06,0.06,0.06,0.06,0.06,0.06,0.06,0.06,0.06,0.06,0.06,0.1,0.1,0.1,Africa\\n\"Congo, Dem. Rep.\",,,,,,,,,,,,,,,,,,,,,,,,,,,,,,,,,,not_included\\n\"Congo, Rep.\",0.01,,,,,,,,,,,5.2,5.2,5.0,4.8,4.6,4.4,4.3,4.1,4.0,3.9,3.9,3.8,3.8,3.7,3.7,3.6,3.6,3.5,3.5,3.3,3.3,3.3,not_included\\nCook Is,,,,,,,,,,,,,,,,,,,,,,,,,,,,,,,,,,not_included\\nCosta Rica,,,,,,,,,,,,0.06,0.06,0.06,0.06,0.06,0.06,0.06,0.1,0.1,0.1,0.1,0.2,0.2,0.2,0.3,0.3,0.3,0.3,0.3,0.3,0.3,0.3,North_America\\nCote d\\'Ivoire,0.123178372,,,,,,,,,,,2.4,3.3,4.4,5.5,6.4,7.1,7.4,7.5,7.4,7.2,6.9,6.5,6.1,5.7,5.3,4.8,4.4,4.1,3.7,3.4,3.2,3.0,not_included\\nCroatia,,,,,,,,,,,,0.06,0.06,0.06,0.06,0.06,0.06,0.06,0.06,0.06,0.06,0.06,0.06,0.06,0.06,0.06,0.06,0.06,0.06,0.06,0.06,0.06,0.06,Europ\\nCuba,,,,,,,,,,,,0.06,0.06,0.06,0.06,0.06,0.06,0.06,0.06,0.06,0.06,0.06,0.06,0.06,0.06,0.1,0.1,0.1,0.1,0.1,0.1,0.2,0.2,North_America\\nCyprus,,,,,,,,,,,,,,,,,,,,,,,,,,,,,,,,,,Asia\\nCzech Republic,,,,,,,,,,,,0.06,0.06,0.06,0.06,0.06,0.06,0.06,0.06,0.06,0.06,0.06,0.06,0.06,0.06,0.06,0.06,0.06,0.06,0.06,0.06,0.06,0.06,not_included\\nCzechoslovakia,,,,,,,,,,,,,,,,,,,,,,,,,,,,,,,,,,not_included\\nDenmark,,,,0.011698226,,,,,,,,0.06,0.06,0.06,0.1,0.1,0.1,0.1,0.1,0.1,0.1,0.1,0.1,0.1,0.1,0.1,0.1,0.2,0.2,0.2,0.2,0.2,0.2,Europ\\nDjibouti,,,,,0.012392677,,,,,,,0.9,1.1,1.4,1.7,2.0,2.3,2.5,2.7,2.8,2.9,2.9,2.9,2.9,2.8,2.7,2.7,2.6,2.6,2.6,1.6,1.5,1.4,Africa\\nDominica,,,,,,,,,,,,,,,,,,,,,,,,,,,,,,,,,,North_America\\nDominican Republic,0.056691280999999996,,,,,,,,,,,0.4,0.5,0.6,0.7,0.8,0.9,0.9,1.0,1.0,1.0,1.0,0.9,0.9,0.9,0.9,0.9,0.9,0.8,0.9,0.8,0.7,0.7,North_America\\nEast Germany,,,,,,,,,,,,,,,,,,,,,,,,,,,,,,,,,,not_included\\nEcuador,0.013690696,,,,,,,,,,,0.3,0.4,0.4,0.5,0.5,0.5,0.5,0.5,0.5,0.5,0.5,0.5,0.5,0.5,0.4,0.4,0.4,0.4,0.4,0.4,0.4,0.4,South_America\\nEgypt,,,,,,,,,,,,0.06,0.06,0.06,0.06,0.06,0.06,0.06,0.06,0.06,0.06,0.06,0.06,0.06,0.06,0.06,0.06,0.06,0.06,0.06,0.06,0.06,0.06,Africa\\nEl Salvador,,,,,,,0.012269586,,,,,0.1,0.2,0.2,0.2,0.3,0.4,0.4,0.5,0.6,0.7,0.7,0.8,0.8,0.8,0.8,0.8,0.8,0.8,0.8,0.6,0.6,0.6,North_America\\nEquatorial Guinea,0.082364934,,,,,,,,,,,0.1,0.2,0.2,0.3,0.3,0.4,0.6,0.7,0.9,1.2,1.5,1.9,2.3,2.7,3.2,3.6,4.0,4.4,4.7,4.2,4.4,4.7,Africa\\nEritrea,,,,,,,0.010873503,,,,,0.3,0.4,0.6,0.8,0.9,1.1,1.1,1.2,1.2,1.2,1.2,1.2,1.1,1.1,1.0,1.0,0.9,0.9,0.8,0.7,0.7,0.6,Africa\\nEritrea and Ethiopia,,,,,,,,,,,,,,,,,,,,,,,,,,,,,,,,,,not_included\\nEstonia,,,,,,,,,,,,0.06,0.06,0.06,0.06,0.1,0.1,0.1,0.2,0.3,0.4,0.5,0.6,0.7,0.9,1.0,1.1,1.1,1.2,1.2,1.2,1.3,1.3,Europ\\nEthiopia,,,,,,,,,,,,,,,,,,,,,,,,,,,,,,,1.7,1.6,1.4,Africa\\nFaeroe Islands,,,,,,,,,,,,,,,,,,,,,,,,,,,,,,,,,,Europ\\nFalkland Is (Malvinas),,,,,,,,,,,,,,,,,,,,,,,,,,,,,,,,,,not_included\\nFiji,,,,,,,,,,,,0.06,0.06,0.06,0.06,0.06,0.06,0.06,0.06,0.06,0.06,0.06,0.06,0.06,0.1,0.1,0.1,0.1,0.1,0.1,0.06,0.06,0.1,Australia\\nFinland,,,,,0.010557622,,,,,,,0.06,0.06,0.06,0.06,0.06,0.06,0.06,0.06,0.06,0.06,0.1,0.1,0.1,0.1,0.1,0.1,0.1,0.1,0.1,0.1,0.1,0.1,Europ\\nFrance,,,0.015708255,,,,,,,,,0.3,0.3,0.3,0.3,0.3,0.3,0.3,0.3,0.3,0.3,0.3,0.3,0.3,0.4,0.4,0.4,0.4,0.4,0.4,0.4,0.4,0.4,Europ\\nFrench Guiana,,,,,,,,,,,,,,,,,,,,,,,,,,,,,,,,,,South_America\\nFrench Polynesia,,,,,,,,,,,,,,,,,,,,,,,,,,,,,,,,,,Australia\\nGabon,0.042124435999999994,,,,,,,,,,,0.9,1.2,1.6,2.0,2.6,3.1,3.7,4.2,4.6,4.9,5.2,5.3,5.4,5.4,5.4,5.4,5.4,5.3,5.3,5.2,5.1,5.0,Africa\\nGambia,,,,,,,,,,,,0.1,0.1,0.1,0.2,0.2,0.2,0.3,0.3,0.4,0.4,0.5,0.6,0.7,0.8,1.0,1.1,1.3,1.5,1.7,1.4,1.4,1.5,Africa\\nGeorgia,,,,,,,,,,,,0.06,0.06,0.06,0.06,0.06,0.06,0.06,0.06,0.06,0.06,0.06,0.06,0.06,0.1,0.1,0.1,0.1,0.1,0.1,0.2,0.2,0.2,Asia\\nGermany,,,,0.022875822999999997,,,,,,,,0.1,0.1,0.1,0.1,0.1,0.1,0.1,0.1,0.1,0.1,0.1,0.1,0.1,0.1,0.1,0.1,0.1,0.1,0.1,0.1,0.1,0.1,Europ\\nGhana,,,,,,,,,,,,0.3,0.4,0.7,0.9,1.3,1.7,2.0,2.2,2.3,2.3,2.3,2.3,2.2,2.1,2.1,2.0,1.9,1.9,1.8,1.6,1.5,1.5,Africa\\nGibraltar,,,,,,,,,,,,,,,,,,,,,,,,,,,,,,,,,,Europ\\nGreece,0.018909064,,,,,,,,,,,0.1,0.1,0.1,0.1,0.1,0.1,0.1,0.1,0.1,0.1,0.1,0.1,0.1,0.1,0.1,0.1,0.1,0.1,0.1,0.2,0.2,0.2,Europ\\nGreenland,,,,,,,,,,,,,,,,,,,,,,,,,,,,,,,,,,North_America\\nGrenada,,,,,,,,,,,,,,,,,,,,,,,,,,,,,,,,,,North_America\\nGuadeloupe,,,,,,,,,,,,,,,,,,,,,,,,,,,,,,,,,,North_America\\nGuam,,,,,,,,,,,,,,,,,,,,,,,,,,,,,,,,,,Australia\\nGuatemala,,,,,,,,,,,,0.1,0.1,0.1,0.2,0.2,0.2,0.3,0.3,0.4,0.4,0.5,0.5,0.5,0.6,0.6,0.7,0.7,0.7,0.8,0.7,0.7,0.8,North_America\\nGuernsey,,,,,,,,,,,,,,,,,,,,,,,,,,,,,,,,,,not_included\\nGuinea,0.015019428999999999,,,,,,,,,,,1.1,1.3,1.5,1.7,1.8,1.8,1.8,1.8,1.8,1.8,1.7,1.7,1.6,1.6,1.5,1.5,1.4,1.4,1.4,1.4,1.4,1.4,Africa\\nGuinea-Bissau,,,0.009823591,,,,,,,,,0.3,0.3,0.4,0.6,0.7,0.9,1.0,1.2,1.4,1.6,1.8,2.0,2.1,2.3,2.3,2.4,2.4,2.5,2.5,2.3,2.4,2.5,Africa\\nGuyana,0.030135016,,,,,,,,,,,2.8,2.7,2.6,2.5,2.3,2.2,2.1,1.9,1.8,1.6,1.5,1.4,1.3,1.3,1.2,1.1,1.1,1.0,1.2,1.2,1.1,1.1,South_America\\nHaiti,0.155026457,,,,,,,,,,,1.3,1.6,2.3,3.3,3.6,3.6,3.4,3.3,3.1,2.9,2.8,2.6,2.5,2.3,2.2,2.1,2.1,2.0,2.0,1.9,1.9,1.8,North_America\\nHoly See,,,,,,,,,,,,,,,,,,,,,,,,,,,,,,,,,,Europ\\nHonduras,0.01,,,,,,,,,,,1.1,1.2,1.4,1.4,1.5,1.5,1.5,1.4,1.4,1.3,1.3,1.2,1.1,1.1,1.0,0.9,0.9,0.8,0.8,,,,North_America\\n\"Hong Kong, China\",,,,,,,,,,,,,,,,,,,,,,,,,,,,,,,,,,not_included\\nHungary,,,,,,,,,,,,0.1,0.1,0.1,0.1,0.1,0.1,0.1,0.1,0.06,0.06,0.06,0.06,0.06,0.06,0.06,0.06,0.06,0.06,0.06,0.1,0.1,0.1,Europ\\nIceland,0.012373161,,,,,,,,,,,0.06,0.06,0.1,0.1,0.1,0.1,0.1,0.1,0.2,0.2,0.2,0.2,0.2,0.2,0.2,0.3,0.3,0.3,0.3,0.3,0.3,0.3,Europ\\nIndia,,,,,,,,,,,,0.1,0.1,0.1,0.2,0.2,0.3,0.3,0.3,0.4,0.4,0.4,0.4,0.4,0.4,0.39,0.37,0.37,0.34,0.32,0.31,,,Asia\\nIndonesia,,,,,,,,,,,,0.06,0.06,0.06,0.06,0.06,0.06,0.06,0.06,0.06,0.06,0.06,0.06,0.06,0.06,0.1,0.1,0.1,0.1,0.2,0.2,0.2,0.3,Asia\\nIran,,,,,,,,,,,,0.06,0.06,0.06,0.06,0.06,0.06,0.06,0.1,0.1,0.1,0.1,0.1,0.1,0.2,0.2,0.2,0.2,0.2,0.2,0.2,0.2,0.2,Asia\\nIraq,,,,,,,,,,,,,,,,,,,,,,,,,,,,,,,,,,Asia\\nIreland,,,,0.015104416,,,,,,,,0.06,0.06,0.1,0.1,0.1,0.1,0.1,0.1,0.2,0.2,0.2,0.2,0.2,0.2,0.2,0.2,0.2,0.2,0.2,0.3,0.3,0.3,Europ\\nIsle of Man,,,,,,,,,,,,,,,,,,,,,,,,,,,,,,,,,,Europ\\nIsrael,0.012167647,,,,,,,,,,,0.06,0.1,0.1,0.1,0.1,0.1,0.1,0.1,0.1,0.1,0.1,0.1,0.1,0.2,0.2,0.2,0.2,0.2,0.2,0.2,0.2,0.2,Asia\\nItaly,0.01,,,,,,,,,,,0.3,0.3,0.3,0.3,0.3,0.3,0.3,0.3,0.3,0.3,0.3,0.3,0.3,0.3,0.3,0.3,0.3,0.3,0.3,0.4,0.4,0.4,Europ\\nJamaica,0.014488866999999999,,,,,,,,,,,2.1,2.2,2.2,2.2,2.2,2.2,2.1,2.1,2.0,2.0,1.9,1.9,1.9,1.8,1.8,1.8,1.7,1.7,1.7,1.8,1.8,1.8,North_America\\nJapan,,,,,,,,,,,,0.06,0.06,0.06,0.06,0.06,0.06,0.06,0.06,0.06,0.06,0.06,0.06,0.06,0.06,0.06,0.06,0.06,0.06,0.06,0.06,0.06,0.06,Asia\\nJersey,,,,,,,,,,,,,,,,,,,,,,,,,,,,,,,,,,not_included\\nJordan,,,,,,,,,,,,,,,,,,,,,,,,,,,,,,,,,,Asia\\nKazakhstan,,,,,,,,,,,,0.06,0.06,0.06,0.06,0.06,0.06,0.06,0.06,0.06,0.06,0.06,0.06,0.06,0.1,0.1,0.1,0.1,0.1,0.1,0.2,0.2,0.2,Asia\\nKenya,0.07,,,,,,,,,,,3.9,5.4,7.0,8.4,9.6,10.3,10.5,10.5,10.1,9.6,9.0,8.4,7.9,7.5,7.1,6.8,6.6,6.4,6.3,6.2,6.2,6.2,Africa\\nKiribati,,,,,,,,,,,,,,,,,,,,,,,,,,,,,,,,,,Australia\\nNorth Korea,,,,,,,,,,,,,,,,,,,,,,,,,,,,,,,,,,Asia\\nSouth Korea,,,,,,,,,,,,0.06,0.06,0.06,0.06,0.06,0.06,0.06,0.06,0.06,0.06,0.06,0.06,0.06,0.06,0.06,0.06,0.06,0.06,0.06,0.06,0.06,0.06,Asia\\nKosovo,,,,,,,,,,,,,,,,,,,,,,,,,,,,,,,,,,not_included\\nKuwait,,,,,,,,,,,,,,,,,,,,,,,,,,,,,,,,,,Asia\\nKyrgyz Republic,,,,,,,,,,,,0.06,0.06,0.06,0.06,0.06,0.06,0.06,0.06,0.06,0.06,0.06,0.06,0.06,0.06,0.1,0.1,0.1,0.2,0.2,0.2,0.3,0.4,not_included\\nLao,,,,,,,,,,,,0.06,0.06,0.06,0.06,0.06,0.06,0.06,0.06,0.06,0.06,0.06,0.06,0.06,0.1,0.1,0.1,0.1,0.2,0.2,0.2,0.3,0.3,not_included\\nLatvia,,,,,,,,,,,,0.06,0.06,0.06,0.1,0.1,0.1,0.1,0.2,0.2,0.2,0.3,0.4,0.4,0.5,0.5,0.6,0.6,0.6,0.6,0.7,0.7,0.7,Europ\\nLebanon,0.012167647,,,,,,,,,,,0.06,0.06,0.06,0.1,0.1,0.1,0.1,0.1,0.1,0.1,0.2,0.2,0.2,0.2,0.2,0.1,0.1,0.1,0.1,0.1,0.1,0.1,Asia\\nLesotho,,,,,,0.011079346,,,,,,0.8,1.7,3.3,5.9,9.8,14.3,18.5,21.6,23.4,24.2,24.5,24.5,24.3,24.1,23.8,23.6,23.5,23.5,23.6,23.0,23.2,23.3,Africa\\nLiberia,0.01185026,,,,,,,,,,,0.3,0.5,1.0,1.7,2.5,3.1,3.4,3.6,3.5,3.4,3.3,3.1,2.8,2.6,2.4,2.2,2.0,1.8,1.6,1.3,1.1,1.0,Africa\\nLibya,,,,,,,,,,,,,,,,,,,,,,,,,,,,,,,,,,Africa\\nLiechtenstein,,,,,,,,,,,,,,,,,,,,,,,,,,,,,,,,,,Europ\\nLithuania,,,,,,,,,,,,0.06,0.06,0.06,0.06,0.06,0.06,0.06,0.06,0.06,0.06,0.06,0.06,0.06,0.06,0.06,0.06,0.06,0.1,0.1,0.1,0.1,0.1,Europ\\nLuxembourg,0.013690696,,,,,,,,,,,0.1,0.1,0.1,0.1,0.1,0.2,0.2,0.2,0.2,0.2,0.2,0.3,0.3,0.3,0.3,0.3,0.3,0.3,0.3,0.3,0.3,0.3,Europ\\n\"Macao, China\",,,,,,,,,,,,,,,,,,,,,,,,,,,,,,,,,,not_included\\n\"Macedonia, FYR\",,,,,,,,,,,,,,,,,,,,,,,,,,,,,,,,,,not_included\\nMadagascar,,,,,,,,,,,,0.2,0.2,0.2,0.2,0.2,0.2,0.2,0.2,0.2,0.2,0.2,0.2,0.2,0.2,0.2,0.2,0.2,0.2,0.2,0.3,0.3,0.3,Africa\\nMalawi,,0.015321148,,,,,,,,,,7.2,8.8,10.5,11.9,13.1,13.9,14.5,14.7,14.7,14.5,14.2,13.8,13.4,13.0,12.5,12.1,11.8,11.4,11.2,10.9,10.4,10.0,Africa\\nMalaysia,,,,,,,,,0.010175238,,,0.1,0.1,0.1,0.2,0.3,0.3,0.3,0.4,0.4,0.4,0.4,0.4,0.4,0.4,0.4,0.5,0.5,0.5,0.5,0.4,0.4,0.4,Asia\\nMaldives,,,,,,,,,,,,0.06,0.06,0.06,0.06,0.06,0.06,0.06,0.06,0.06,0.06,0.06,0.06,0.06,0.06,0.06,0.06,0.06,0.06,0.06,0.06,0.06,0.06,Asia\\nMali,,,,0.012575161999999999,,,,,,,,0.4,0.6,1.0,1.4,1.7,1.8,1.9,1.9,1.8,1.8,1.7,1.6,1.5,1.4,1.3,1.2,1.1,1.1,1.0,1.2,1.1,1.1,Africa\\nMalta,,,,,,,,,,,,0.06,0.06,0.06,0.06,0.1,0.1,0.1,0.1,0.1,0.1,0.1,0.1,0.1,0.1,0.1,0.1,0.1,0.1,0.1,0.1,0.1,0.1,Europ\\nMarshall Islands,,,,,,,,,,,,,,,,,,,,,,,,,,,,,,,,,,Australia\\nMartinique,,,,,,,,,,,,,,,,,,,,,,,,,,,,,,,,,,North_America\\nMauritania,,,,,,,,,,,,0.2,0.2,0.2,0.3,0.3,0.4,0.4,0.5,0.5,0.5,0.6,0.6,0.6,0.7,0.7,0.7,0.7,0.7,0.7,1.0,1.1,1.1,Africa\\nMauritius,,,,,,,,,,,,0.06,0.1,0.1,0.1,0.1,0.1,0.1,0.2,0.2,0.3,0.3,0.4,0.4,0.5,0.6,0.7,0.7,0.8,0.9,1.0,1.0,1.0,Africa\\nMayotte,,,,,,,,,,,,,,,,,,,,,,,,,,,,,,,,,,Africa\\nMexico,0.03122474,,,,,,,,,,,0.4,0.4,0.4,0.4,0.3,0.3,0.3,0.3,0.3,0.3,0.3,0.3,0.3,0.3,0.3,0.3,0.3,0.3,0.3,0.2,0.2,0.2,North_America\\n\"Micronesia, Fed. Sts.\",,,,,,,,,,,,,,,,,,,,,,,,,,,,,,,,,,not_included\\nMoldova,,,,,,,,,,,,0.06,0.1,0.1,0.1,0.1,0.1,0.2,0.3,0.3,0.4,0.4,0.4,0.4,0.4,0.4,0.4,0.4,0.4,0.4,0.5,0.5,0.5,Europ\\nMonaco,,,,,,,,,,,,,,,,,,,,,,,,,,,,,,,,,,Europ\\nMongolia,,,,,,,,,,,,0.06,0.06,0.06,0.06,0.06,0.06,0.06,0.06,0.06,0.06,0.06,0.06,0.06,0.06,0.06,0.06,0.06,0.06,0.06,0.06,0.06,0.06,Asia\\nMontenegro,,,,,,,,,,,,,,,,,,,,,,,,,,,,,,,,,,Europ\\nMontserrat,,,,,,,,,,,,,,,,,,,,,,,,,,,,,,,,,,North_America\\nMorocco,,,,,,,,,,,,0.06,0.06,0.06,0.06,0.06,0.06,0.1,0.1,0.1,0.1,0.1,0.1,0.1,0.1,0.1,0.1,0.1,0.1,0.1,0.1,0.1,0.2,Africa\\nMozambique,0.075681075,,,,,,,,,,,1.2,1.6,2.1,2.7,3.4,4.1,4.9,5.8,6.7,7.7,8.6,9.4,10.1,10.6,11.0,11.2,11.3,11.4,11.4,11.3,11.3,11.3,Africa\\nMyanmar,,,,,,,0.01,,,,,0.2,0.3,0.4,0.4,0.5,0.6,0.6,0.7,0.7,0.7,0.8,0.8,0.7,0.7,0.7,0.7,0.7,0.6,0.6,0.7,0.7,0.6,Asia\\nNamibia,0.016749108000000002,,,,,,,,,,,1.6,2.2,3.0,4.1,5.5,7.1,8.9,10.7,12.5,14.1,15.3,16.1,16.5,16.5,16.2,15.7,15.0,14.3,13.7,13.7,13.6,13.4,Africa\\nNauru,,,,,,,,,,,,,,,,,,,,,,,,,,,,,,,,,,Australia\\nNepal,,,,,,,0.01,,,,,0.2,0.3,0.3,0.3,0.4,0.4,0.4,0.4,0.5,0.5,0.5,0.5,0.5,0.5,0.5,0.4,0.4,0.4,0.4,0.4,0.3,0.3,Asia\\nNetherlands,,,,0.010807512,,,,,,,,0.1,0.1,0.1,0.1,0.1,0.2,0.2,0.2,0.2,0.2,0.2,0.2,0.2,0.2,0.2,0.2,0.2,0.2,0.2,0.2,0.2,0.2,Europ\\nNetherlands Antilles,,,,,,,,,,,,,,,,,,,,,,,,,,,,,,,,,,not_included\\nNew Caledonia,,,,,,,,,,,,,,,,,,,,,,,,,,,,,,,,,,Australia\\nNew Zealand,,,,,,,,0.01137169,,,,0.1,0.1,0.1,0.06,0.06,0.06,0.1,0.1,0.1,0.1,0.1,0.1,0.1,0.1,0.1,0.1,0.1,0.1,0.1,0.1,0.1,0.1,Australia\\nNgorno-Karabakh,,,,,,,,,,,,,,,,,,,,,,,,,,,,,,,,,,not_included\\nNicaragua,,,,,,,,0.00951034,,,,0.06,0.06,0.06,0.1,0.1,0.1,0.1,0.1,0.1,0.1,0.1,0.1,0.1,0.1,0.2,0.2,0.2,0.2,0.2,0.2,0.2,0.2,North_America\\nNiger,,,,,0.011430135,,,,,,,0.1,0.1,0.2,0.3,0.4,0.6,0.7,0.9,0.9,1.0,1.0,1.0,1.0,1.0,0.9,0.9,0.9,0.8,0.8,0.8,0.8,0.8,Africa\\nNigeria,0.037979687000000005,,,,,,,,,,,1.3,2.2,3.1,3.6,3.8,4.0,4.0,4.0,4.0,4.0,3.9,3.8,3.8,3.7,3.7,3.7,3.6,3.6,3.6,3.6,3.7,3.7,Africa\\nNiue,,,,,,,,,,,,,,,,,,,,,,,,,,,,,,,,,,Australia\\nNorfolk Island,,,,,,,,,,,,,,,,,,,,,,,,,,,,,,,,,,not_included\\nNorthern Cyprus,,,,,,,,,,,,,,,,,,,,,,,,,,,,,,,,,,not_included\\nNorthern Mariana Islands,,,,,,,,,,,,,,,,,,,,,,,,,,,,,,,,,,Australia\\nNorway,,,,,0.014449506,,,,,,,0.06,0.06,0.1,0.1,0.1,0.1,0.1,0.1,0.1,0.1,0.1,0.1,0.1,0.1,0.1,0.1,0.1,0.1,0.1,0.1,0.1,0.1,Europ\\nOman,,,,,,,,,,,,0.06,0.06,0.06,0.06,0.06,0.06,0.06,0.06,0.06,0.06,0.06,0.06,0.06,0.06,0.06,0.06,0.06,0.1,0.1,,,,Asia\\nPakistan,,,,,,,,,,,,0.06,0.06,0.06,0.06,0.06,0.06,0.06,0.06,0.06,0.06,0.06,0.1,0.1,0.1,0.1,0.1,0.1,0.1,0.1,0.1,0.1,0.1,Asia\\nPalau,,,,,,,,,,,,,,,,,,,,,,,,,,,,,,,,,,Australia\\nPanama,0.046410768,,,,,,,,,,,0.2,0.3,0.3,0.4,1.1,1.6,1.6,1.6,1.6,1.5,1.4,1.4,1.3,1.2,1.1,1.1,1.0,0.9,0.9,0.8,0.8,0.8,North_America\\nPapua New Guinea,,,,,,,,,0.010175238,,,0.06,0.06,0.06,0.1,0.1,0.1,0.1,0.2,0.2,0.3,0.4,0.5,0.6,0.7,0.7,0.8,0.8,0.9,0.9,0.7,0.7,0.7,Australia\\nParaguay,,,,,0.00974306,,,,,,,0.06,0.1,0.2,0.2,0.2,0.2,0.2,0.2,0.3,0.3,0.3,0.3,0.3,0.3,0.3,0.3,0.3,0.3,0.3,0.3,0.3,0.3,South_America\\nPeru,0.010679312,,,,,,,,,,,0.4,0.4,0.5,0.5,0.5,0.5,0.5,0.5,0.5,0.5,0.5,0.5,0.5,0.5,0.5,0.4,0.4,0.4,0.4,0.4,0.4,0.4,South_America\\nPhilippines,,,,,,,,,,,,0.06,0.06,0.06,0.06,0.06,0.06,0.06,0.06,0.06,0.06,0.06,0.06,0.06,0.06,0.06,0.06,0.06,0.06,0.06,0.06,0.06,0.06,Asia\\nPitcairn,,,,,,,,,,,,,,,,,,,,,,,,,,,,,,,,,,not_included\\nPoland,,,,,,,,,,,,0.06,0.06,0.06,0.1,0.1,0.1,0.1,0.1,0.1,0.1,0.1,0.1,0.1,0.1,0.1,0.1,0.1,0.1,0.1,0.1,0.1,0.1,Europ\\nPortugal,0.02050798,,,,,,,,,,,0.1,0.1,0.2,0.2,0.3,0.3,0.3,0.4,0.4,0.4,0.4,0.5,0.5,0.5,0.5,0.5,0.5,0.5,0.5,0.7,0.7,0.7,Europ\\nPuerto Rico,,,,,,,,,,,,,,,,,,,,,,,,,,,,,,,,,,North_America\\nQatar,,,,,,,,,,,,0.06,0.06,0.06,0.06,0.06,0.06,0.06,0.06,0.06,0.06,0.06,0.06,0.06,0.06,0.06,0.06,0.06,0.06,0.06,,,,Asia\\nReunion,,,,,,,,,,,,,,,,,,,,,,,,,,,,,,,,,,not_included\\nRomania,,,,,,,,,,,,0.06,0.06,0.06,0.1,0.1,0.1,0.1,0.1,0.1,0.1,0.1,0.1,0.1,0.1,0.1,0.1,0.1,0.1,0.1,0.1,0.1,0.1,Europ\\nRussia,,,,,,,,,,,,0.06,0.06,0.06,0.06,0.06,0.06,0.06,0.06,0.1,0.1,0.3,0.5,0.6,0.8,0.8,0.9,0.9,0.9,1.0,,,,Europ\\nRwanda,0.01,,,,,,,,,,,5.2,5.2,5.1,5.0,4.9,4.7,4.5,4.3,4.2,4.0,3.8,3.7,3.6,3.4,3.2,3.1,3.0,2.9,2.9,3.0,3.0,2.9,Africa\\nSt. Barthélemy,,,,,,,,,,,,,,,,,,,,,,,,,,,,,,,,,,not_included\\nSt. Helena,,,,,,,,,,,,,,,,,,,,,,,,,,,,,,,,,,not_included\\nSt. Kitts and Nevis,,,,,,,,,,,,,,,,,,,,,,,,,,,,,,,,,,not_included\\nSt. Lucia,,,,,,,,,,,,,,,,,,,,,,,,,,,,,,,,,,not_included\\nSt. Martin,,,,,,,,,,,,,,,,,,,,,,,,,,,,,,,,,,not_included\\nSt. Vincent and the Grenadines,,,,,,,,,,,,,,,,,,,,,,,,,,,,,,,,,,not_included\\nSt.-Pierre-et-Miquelon,,,,,,,,,,,,,,,,,,,,,,,,,,,,,,,,,,not_included\\nSamoa,,,,,,,,,,,,,,,,,,,,,,,,,,,,,,,,,,Australia\\nSan Marino,,,,,,,,,,,,,,,,,,,,,,,,,,,,,,,,,,Europ\\nSao Tome and Principe,,,,,,,,,,,,,,,,,,,,,,,,,,,,,,,1.0,1.0,1.0,Africa\\nSaudi Arabia,,,,,,,,,,,,,,,,,,,,,,,,,,,,,,,,,,Asia\\nSenegal,,,0.00952155,,,,,,,,,0.2,0.2,0.2,0.3,0.3,0.4,0.4,0.5,0.5,0.5,0.6,0.6,0.7,0.7,0.7,0.8,0.8,0.8,0.8,0.7,0.7,0.7,Africa\\nSerbia,,,,,,,0.01,,,,,0.1,0.1,0.1,0.1,0.1,0.1,0.06,0.06,0.06,0.06,0.06,0.06,0.1,0.1,0.1,0.1,0.1,0.1,0.1,0.1,0.1,0.1,Europ\\nSerbia and Montenegro,,,,,,,,,,,,,,,,,,,,,,,,,,,,,,,,,,not_included\\nSerbia excluding Kosovo,,,,,,,,,,,,,,,,,,,,,,,,,,,,,,,,,,not_included\\nSeychelles,,,,,,,,,,,,,,,,,,,,,,,,,,,,,,,,,,Africa\\nSierra Leone,,,,,,,0.011022285,,,,,0.06,0.06,0.1,0.1,0.1,0.2,0.3,0.4,0.6,0.8,0.9,1.1,1.2,1.3,1.4,1.5,1.6,1.6,1.6,1.6,1.6,1.6,Africa\\nSingapore,,,,,,,,,,,,0.06,0.06,0.1,0.1,0.1,0.1,0.1,0.1,0.1,0.1,0.1,0.1,0.1,0.1,0.1,0.1,0.1,0.1,0.1,0.1,0.1,0.1,Asia\\nSlovak Republic,,,,,,,,,,,,0.06,0.06,0.06,0.06,0.06,0.06,0.06,0.06,0.06,0.06,0.06,0.06,0.06,0.06,0.06,0.06,0.06,0.06,0.06,0.06,0.06,0.06,not_included\\nSlovenia,,,,,,,,,,,,0.06,0.06,0.06,0.06,0.06,0.06,0.06,0.06,0.06,0.06,0.06,0.06,0.06,0.06,0.06,0.06,0.06,0.06,0.06,0.06,0.1,0.1,Europ\\nSolomon Islands,,,,,,,,,,,,,,,,,,,,,,,,,,,,,,,,,,Australia\\nSomalia,,,,,,,,,0.010400419000000001,,,0.1,0.1,0.1,0.1,0.1,0.1,0.1,0.2,0.2,0.2,0.2,0.3,0.3,0.3,0.4,0.4,0.5,0.6,0.6,0.7,0.7,0.7,Africa\\nSomaliland,,,,,,,,,,,,,,,,,,,,,,,,,,,,,,,,,,not_included\\nSouth Africa,,,0.014208588999999999,,,,,,,,,0.7,1.2,1.8,2.9,4.3,6.1,8.4,10.7,12.9,14.8,16.1,17.1,17.7,18.0,18.1,18.1,18.1,18.0,17.9,17.2,17.3,17.3,Africa\\nSouth Ossetia,,,,,,,,,,,,,,,,,,,,,,,,,,,,,,,,,,not_included\\nSpain,0.01,,,,,,,,,,,0.4,0.4,0.4,0.5,0.5,0.5,0.4,0.4,0.4,0.4,0.4,0.4,0.4,0.4,0.4,0.4,0.4,0.4,0.4,0.4,0.4,0.4,Europ\\nSri Lanka,,,,,,,,,,,,0.06,0.06,0.06,0.06,0.06,0.06,0.06,0.06,0.06,0.06,0.06,0.06,0.06,0.06,0.06,0.06,0.06,0.06,0.06,0.06,0.06,0.06,Asia\\nSudan,0.062390639000000005,,,,,,,,,,,0.1,0.1,0.1,0.1,0.1,0.2,0.2,0.2,0.3,0.3,0.3,0.4,0.4,0.5,0.6,0.6,0.7,0.8,1.0,0.4,0.4,0.4,Africa\\nSuriname,,0.011931256000000001,,,,,,,,,,0.1,0.2,0.2,0.4,0.6,0.7,0.9,0.9,1.0,1.0,1.0,1.0,1.0,1.0,1.0,1.1,1.0,1.0,1.0,1.2,1.1,1.0,South_America\\nSvalbard,,,,,,,,,,,,,,,,,,,,,,,,,,,,,,,,,,not_included\\nSwaziland,,,,0.01097002,,,,,,,,2.3,3.2,4.4,6.1,8.1,10.6,13.3,16.0,18.5,20.6,22.3,23.6,24.5,25.1,25.5,25.6,25.7,25.8,25.9,25.8,25.9,26.0,not_included\\nSweden,,,,,0.019136463,,,,,,,0.1,0.1,0.1,0.1,0.1,0.1,0.1,0.1,0.1,0.1,0.1,0.1,0.1,0.1,0.1,0.1,0.1,0.1,0.1,0.2,0.2,0.2,Europ\\nSwitzerland,,,,,,,0.054022769000000005,,,,,0.2,0.2,0.3,0.3,0.3,0.3,0.3,0.3,0.3,0.3,0.3,0.3,0.3,0.3,0.3,0.3,0.4,0.4,0.4,0.4,0.4,0.4,Europ\\nSyria,,,,,,,,,,,,,,,,,,,,,,,,,,,,,,,,,,Asia\\nTaiwan,,,,,,,,,,,,,,,,,,,,,,,,,,,,,,,,,,Asia\\nTajikistan,,,,,,,,,,,,0.06,0.06,0.06,0.06,0.06,0.1,0.1,0.1,0.1,0.1,0.1,0.1,0.1,0.1,0.1,0.1,0.2,0.2,0.2,0.2,0.2,0.3,Asia\\nTanzania,0.01,,,,,,,,,,,4.8,5.7,6.5,7.1,7.6,7.8,7.9,7.9,7.7,7.5,7.3,7.1,6.8,6.6,6.4,6.2,6.0,5.9,5.8,5.8,5.8,5.8,Africa\\nThailand,,,,,,,0.01,,,,,1.0,1.5,1.8,2.0,2.1,2.1,2.1,2.0,2.0,1.9,1.8,1.7,1.6,1.5,1.5,1.5,1.4,1.4,1.3,1.3,1.2,1.2,Asia\\nTimor-Leste,,,,,,,,,,,,,,,,,,,,,,,,,,,,,,,,,,Asia\\nTogo,0.009898522,,,,,,,,,,,0.6,0.8,1.2,1.6,2.0,2.5,2.9,3.1,3.4,3.5,3.6,3.6,3.6,3.5,3.5,3.4,3.3,3.3,3.2,3.6,3.5,3.4,Africa\\nTokelau,,,,,,,,,,,,,,,,,,,,,,,,,,,,,,,,,,Australia\\nTonga,,,,,,,,,,,,,,,,,,,,,,,,,,,,,,,,,,Australia\\nTransnistria,,,,,,,,,,,,,,,,,,,,,,,,,,,,,,,,,,not_included\\nTrinidad and Tobago,,,,0.010653031,,,,,,,,0.2,0.3,0.4,0.5,0.6,0.8,0.9,1.0,1.1,1.1,1.2,1.2,1.2,1.3,1.3,1.3,1.4,1.4,1.5,1.5,1.5,1.5,North_America\\nTunisia,,,,,,,,,,,,0.06,0.06,0.06,0.06,0.06,0.06,0.06,0.06,0.06,0.06,0.06,0.06,0.06,0.06,0.06,0.06,0.06,0.06,0.06,0.06,0.06,0.06,Africa\\nTurkey,,,,,,,,,,,,0.06,0.06,0.06,0.06,0.06,0.06,0.06,0.06,0.06,0.06,0.06,0.06,0.06,0.06,0.06,0.06,0.06,0.06,0.06,0.06,0.06,0.06,Asia\\nTurkmenistan,,,,,,,,,,,,,,,,,,,,,,,,,,,,,,,,,,Asia\\nTurks and Caicos Islands,,,,,,,,,,,,,,,,,,,,,,,,,,,,,,,,,,North_America\\nTuvalu,,,,,,,,,,,,,,,,,,,,,,,,,,,,,,,,,,Australia\\nUganda,0.01,,,,,,,,,,,10.2,10.7,10.5,10.2,9.8,9.3,8.8,8.4,8.0,7.6,7.3,7.0,6.8,6.6,6.4,6.4,6.3,6.3,6.4,6.9,7.0,7.2,Africa\\nUkraine,,,,,,,,,,,,0.1,0.2,0.2,0.2,0.3,0.3,0.4,0.5,0.7,0.8,0.9,0.9,1.0,1.1,1.1,1.1,1.1,1.1,1.1,0.9,0.8,0.8,Europ\\nUnited Arab Emirates,,,,,,,,,,,,,,,,,,,,,,,,,,,,,,,,,,Asia\\nUnited Kingdom,,,,,0.019257422,,,,,,,0.1,0.1,0.1,0.1,0.1,0.1,0.1,0.1,0.1,0.1,0.1,0.1,0.2,0.2,0.2,0.2,0.2,0.2,0.2,0.3,0.3,0.3,Europ\\nUnited States,0.031764078,,,,,,,,,,,0.5,0.5,0.5,0.5,0.5,0.5,0.5,0.5,0.5,0.5,0.5,0.5,0.5,0.5,0.5,0.6,0.6,0.6,0.6,0.6,0.6,0.6,not_included\\nUruguay,0.009697302,,,,,,,,,,,0.1,0.1,0.1,0.1,0.1,0.2,0.2,0.2,0.2,0.3,0.3,0.4,0.4,0.5,0.5,0.5,0.5,0.5,0.5,0.6,0.6,0.6,South_America\\nUSSR,,,,,,,,,,,,,,,,,,,,,,,,,,,,,,,,,,not_included\\nUzbekistan,,,,,,,,,,,,0.06,0.06,0.06,0.06,0.06,0.06,0.06,0.06,0.06,0.06,0.06,0.06,0.06,0.06,0.06,0.06,0.1,0.1,0.1,,,,Asia\\nWallis et Futuna,,,,,,,,,,,,,,,,,,,,,,,,,,,,,,,,,,not_included\\nVanuatu,,,,,,,,,,,,,,,,,,,,,,,,,,,,,,,,,,Australia\\nVenezuela,,,,,,,,,,,,,,,,,,,,,,,,,,,,,,,0.5,0.5,0.5,South_America\\nWest Bank and Gaza,,,,,,,,,,,,,,,,,,,,,,,,,,,,,,,,,,not_included\\nWest Germany,,,,,,,,,,,,,,,,,,,,,,,,,,,,,,,,,,not_included\\nWestern Sahara,,,,,,,,,,,,,,,,,,,,,,,,,,,,,,,,,,Africa\\nVietnam,,,,,,,,,,,,0.06,0.06,0.06,0.1,0.1,0.1,0.1,0.1,0.2,0.2,0.2,0.3,0.3,0.3,0.4,0.4,0.4,0.4,0.4,0.4,0.5,0.5,Asia\\nVirgin Islands (U.S.),,,,,,,,,,,,,,,,,,,,,,,,,,,,,,,,,,not_included\\nNorth Yemen (former),,,,,,,,,,,,,,,,,,,,,,,,,,,,,,,,,,not_included\\nSouth Yemen (former),,,,,,,,,,,,,,,,,,,,,,,,,,,,,,,,,,not_included\\nYemen,,,,,,,,,,,,,,,,,,,,,,,,,,,,,,,0.2,0.2,0.2,Asia\\nYugoslavia,,,,,,,,,,,,,,,,,,,,,,,,,,,,,,,,,,not_included\\nZambia,0.01,,,,,,,,,,,12.7,13.6,14.2,14.6,14.9,15.0,14.9,14.8,14.7,14.6,14.4,14.3,14.2,14.1,14.0,13.9,13.8,13.7,13.6,12.9,12.7,12.5,Africa\\nZimbabwe,0.01,,,,,,,,,,,10.1,13.6,17.2,20.6,23.3,25.1,26.2,26.5,26.3,25.7,24.8,23.7,22.5,21.1,19.8,18.4,17.2,16.1,15.1,15.7,15.2,14.9,Africa\\nÅland,,,,,,,,,,,,,,,,,,,,,,,,,,,,,,,,,,not_included\\nSouth Sudan,,,,,,,,,,,,,,,,,,,,,,,,,,,,,,,,,3.1,Africa\\nChristian,,,,,,,,,,,,,,,,,,,,,,,,,,,,,,,,,,not_included\\nCoastline,,,,,,,,,,,,,,,,,,,,,,,,,,,,,,,,,,not_included\\nCuraçao,,,,,,,,,,,,,,,,,,,,,,,,,,,,,,,,,,North_America\\nSint Maarten (Dutch part),,,,,,,,,,,,,,,,,,,,,,,,,,,,,,,,,,not_included\\nSt. Martin (French part),,,,,,,,,,,,,,,,,,,,,,,,,,,,,,,,,,not_included\\nAntarctica,,,,,,,,,,,,,,,,,,,,,,,,,,,,,,,,,,not_included\\n\"Virgin Islands, British\",,,,,,,,,,,,,,,,,,,,,,,,,,,,,,,,,,not_included\\nHawaiian Trade Zone,,,,,,,,,,,,,,,,,,,,,,,,,,,,,,,,,,not_included\\nU.S. Pacific Islands,,,,,,,,,,,,,,,,,,,,,,,,,,,,,,,,,,not_included\\nWake Island,,,,,,,,,,,,,,,,,,,,,,,,,,,,,,,,,,not_included\\nBonaire,,,,,,,,,,,,,,,,,,,,,,,,,,,,,,,,,,not_included\\nSark,,,,,,,,,,,,,,,,,,,,,,,,,,,,,,,,,,not_included\\nChinese Taipei,,,,,,,,,,,,,,,,,,,,,,,,,,,,,,,,,,not_included\\nSaint Eustatius,,,,,,,,,,,,,,,,,,,,,,,,,,,,,,,,,,not_included\\nSaba,,,,,,,,,,,,,,,,,,,,,,,,,,,,,,,,,,not_included\\n'"
            ]
          },
          "metadata": {
            "tags": []
          },
          "execution_count": 15
        }
      ]
    },
    {
      "cell_type": "code",
      "metadata": {
        "id": "gGhHcVVqN85r"
      },
      "source": [
        "#export dataframe with continent column as CSV file\n",
        "df.to_csv(r'new_indicator hiv estimated prevalence% 15-49.csv') "
      ],
      "execution_count": 16,
      "outputs": []
    },
    {
      "cell_type": "markdown",
      "metadata": {
        "id": "eNadwD2it7d8"
      },
      "source": [
        "##**Question 2**"
      ]
    },
    {
      "cell_type": "markdown",
      "metadata": {
        "id": "kBdx-JhatlDI"
      },
      "source": [
        "a) Find the country/region in each continent that has the highest average HIV estimated prevalence of people ages from 15 to 49 of from year 2000 to 2011. \n",
        "\n"
      ]
    },
    {
      "cell_type": "code",
      "metadata": {
        "colab": {
          "base_uri": "https://localhost:8080/",
          "height": 483
        },
        "id": "bRyb76nB5NvF",
        "outputId": "4c4a1ee1-cbfc-4536-f28e-73b12c3feb8b"
      },
      "source": [
        "df['mean'] = df.iloc[:, 23:35].mean(axis=1)   #find the mean of each row ased on column 23 to 34 (years 2000-2011)\n",
        "df                                            #create mean column"
      ],
      "execution_count": 17,
      "outputs": [
        {
          "output_type": "execute_result",
          "data": {
            "text/html": [
              "<div>\n",
              "<style scoped>\n",
              "    .dataframe tbody tr th:only-of-type {\n",
              "        vertical-align: middle;\n",
              "    }\n",
              "\n",
              "    .dataframe tbody tr th {\n",
              "        vertical-align: top;\n",
              "    }\n",
              "\n",
              "    .dataframe thead th {\n",
              "        text-align: right;\n",
              "    }\n",
              "</style>\n",
              "<table border=\"1\" class=\"dataframe\">\n",
              "  <thead>\n",
              "    <tr style=\"text-align: right;\">\n",
              "      <th></th>\n",
              "      <th>country</th>\n",
              "      <th>1979</th>\n",
              "      <th>1980</th>\n",
              "      <th>1981</th>\n",
              "      <th>1982</th>\n",
              "      <th>1983</th>\n",
              "      <th>1984</th>\n",
              "      <th>1985</th>\n",
              "      <th>1986</th>\n",
              "      <th>1987</th>\n",
              "      <th>1988</th>\n",
              "      <th>1989</th>\n",
              "      <th>1990</th>\n",
              "      <th>1991</th>\n",
              "      <th>1992</th>\n",
              "      <th>1993</th>\n",
              "      <th>1994</th>\n",
              "      <th>1995</th>\n",
              "      <th>1996</th>\n",
              "      <th>1997</th>\n",
              "      <th>1998</th>\n",
              "      <th>1999</th>\n",
              "      <th>2000</th>\n",
              "      <th>2001</th>\n",
              "      <th>2002</th>\n",
              "      <th>2003</th>\n",
              "      <th>2004</th>\n",
              "      <th>2005</th>\n",
              "      <th>2006</th>\n",
              "      <th>2007</th>\n",
              "      <th>2008</th>\n",
              "      <th>2009</th>\n",
              "      <th>2010</th>\n",
              "      <th>2011</th>\n",
              "      <th>continent</th>\n",
              "      <th>mean</th>\n",
              "    </tr>\n",
              "  </thead>\n",
              "  <tbody>\n",
              "    <tr>\n",
              "      <th>0</th>\n",
              "      <td>Abkhazia</td>\n",
              "      <td>NaN</td>\n",
              "      <td>NaN</td>\n",
              "      <td>NaN</td>\n",
              "      <td>NaN</td>\n",
              "      <td>NaN</td>\n",
              "      <td>NaN</td>\n",
              "      <td>NaN</td>\n",
              "      <td>NaN</td>\n",
              "      <td>NaN</td>\n",
              "      <td>NaN</td>\n",
              "      <td>NaN</td>\n",
              "      <td>NaN</td>\n",
              "      <td>NaN</td>\n",
              "      <td>NaN</td>\n",
              "      <td>NaN</td>\n",
              "      <td>NaN</td>\n",
              "      <td>NaN</td>\n",
              "      <td>NaN</td>\n",
              "      <td>NaN</td>\n",
              "      <td>NaN</td>\n",
              "      <td>NaN</td>\n",
              "      <td>NaN</td>\n",
              "      <td>NaN</td>\n",
              "      <td>NaN</td>\n",
              "      <td>NaN</td>\n",
              "      <td>NaN</td>\n",
              "      <td>NaN</td>\n",
              "      <td>NaN</td>\n",
              "      <td>NaN</td>\n",
              "      <td>NaN</td>\n",
              "      <td>NaN</td>\n",
              "      <td>NaN</td>\n",
              "      <td>NaN</td>\n",
              "      <td>not_included</td>\n",
              "      <td>NaN</td>\n",
              "    </tr>\n",
              "    <tr>\n",
              "      <th>1</th>\n",
              "      <td>Afghanistan</td>\n",
              "      <td>NaN</td>\n",
              "      <td>NaN</td>\n",
              "      <td>NaN</td>\n",
              "      <td>NaN</td>\n",
              "      <td>NaN</td>\n",
              "      <td>NaN</td>\n",
              "      <td>NaN</td>\n",
              "      <td>NaN</td>\n",
              "      <td>NaN</td>\n",
              "      <td>NaN</td>\n",
              "      <td>NaN</td>\n",
              "      <td>NaN</td>\n",
              "      <td>NaN</td>\n",
              "      <td>NaN</td>\n",
              "      <td>NaN</td>\n",
              "      <td>NaN</td>\n",
              "      <td>NaN</td>\n",
              "      <td>NaN</td>\n",
              "      <td>NaN</td>\n",
              "      <td>NaN</td>\n",
              "      <td>NaN</td>\n",
              "      <td>NaN</td>\n",
              "      <td>NaN</td>\n",
              "      <td>NaN</td>\n",
              "      <td>NaN</td>\n",
              "      <td>NaN</td>\n",
              "      <td>NaN</td>\n",
              "      <td>NaN</td>\n",
              "      <td>NaN</td>\n",
              "      <td>NaN</td>\n",
              "      <td>0.06</td>\n",
              "      <td>0.06</td>\n",
              "      <td>0.06</td>\n",
              "      <td>Asia</td>\n",
              "      <td>0.060</td>\n",
              "    </tr>\n",
              "    <tr>\n",
              "      <th>2</th>\n",
              "      <td>Akrotiri and Dhekelia</td>\n",
              "      <td>NaN</td>\n",
              "      <td>NaN</td>\n",
              "      <td>NaN</td>\n",
              "      <td>NaN</td>\n",
              "      <td>NaN</td>\n",
              "      <td>NaN</td>\n",
              "      <td>NaN</td>\n",
              "      <td>NaN</td>\n",
              "      <td>NaN</td>\n",
              "      <td>NaN</td>\n",
              "      <td>NaN</td>\n",
              "      <td>NaN</td>\n",
              "      <td>NaN</td>\n",
              "      <td>NaN</td>\n",
              "      <td>NaN</td>\n",
              "      <td>NaN</td>\n",
              "      <td>NaN</td>\n",
              "      <td>NaN</td>\n",
              "      <td>NaN</td>\n",
              "      <td>NaN</td>\n",
              "      <td>NaN</td>\n",
              "      <td>NaN</td>\n",
              "      <td>NaN</td>\n",
              "      <td>NaN</td>\n",
              "      <td>NaN</td>\n",
              "      <td>NaN</td>\n",
              "      <td>NaN</td>\n",
              "      <td>NaN</td>\n",
              "      <td>NaN</td>\n",
              "      <td>NaN</td>\n",
              "      <td>NaN</td>\n",
              "      <td>NaN</td>\n",
              "      <td>NaN</td>\n",
              "      <td>not_included</td>\n",
              "      <td>NaN</td>\n",
              "    </tr>\n",
              "    <tr>\n",
              "      <th>3</th>\n",
              "      <td>Albania</td>\n",
              "      <td>NaN</td>\n",
              "      <td>NaN</td>\n",
              "      <td>NaN</td>\n",
              "      <td>NaN</td>\n",
              "      <td>NaN</td>\n",
              "      <td>NaN</td>\n",
              "      <td>NaN</td>\n",
              "      <td>NaN</td>\n",
              "      <td>NaN</td>\n",
              "      <td>NaN</td>\n",
              "      <td>NaN</td>\n",
              "      <td>NaN</td>\n",
              "      <td>NaN</td>\n",
              "      <td>NaN</td>\n",
              "      <td>NaN</td>\n",
              "      <td>NaN</td>\n",
              "      <td>NaN</td>\n",
              "      <td>NaN</td>\n",
              "      <td>NaN</td>\n",
              "      <td>NaN</td>\n",
              "      <td>NaN</td>\n",
              "      <td>NaN</td>\n",
              "      <td>NaN</td>\n",
              "      <td>NaN</td>\n",
              "      <td>NaN</td>\n",
              "      <td>NaN</td>\n",
              "      <td>NaN</td>\n",
              "      <td>NaN</td>\n",
              "      <td>NaN</td>\n",
              "      <td>NaN</td>\n",
              "      <td>NaN</td>\n",
              "      <td>NaN</td>\n",
              "      <td>NaN</td>\n",
              "      <td>Europ</td>\n",
              "      <td>NaN</td>\n",
              "    </tr>\n",
              "    <tr>\n",
              "      <th>4</th>\n",
              "      <td>Algeria</td>\n",
              "      <td>NaN</td>\n",
              "      <td>NaN</td>\n",
              "      <td>NaN</td>\n",
              "      <td>NaN</td>\n",
              "      <td>NaN</td>\n",
              "      <td>NaN</td>\n",
              "      <td>NaN</td>\n",
              "      <td>NaN</td>\n",
              "      <td>NaN</td>\n",
              "      <td>NaN</td>\n",
              "      <td>NaN</td>\n",
              "      <td>0.06</td>\n",
              "      <td>0.06</td>\n",
              "      <td>0.06</td>\n",
              "      <td>0.06</td>\n",
              "      <td>0.06</td>\n",
              "      <td>0.06</td>\n",
              "      <td>0.06</td>\n",
              "      <td>0.06</td>\n",
              "      <td>0.06</td>\n",
              "      <td>0.06</td>\n",
              "      <td>0.06</td>\n",
              "      <td>0.06</td>\n",
              "      <td>0.06</td>\n",
              "      <td>0.06</td>\n",
              "      <td>0.1</td>\n",
              "      <td>0.1</td>\n",
              "      <td>0.1</td>\n",
              "      <td>0.1</td>\n",
              "      <td>0.1</td>\n",
              "      <td>NaN</td>\n",
              "      <td>NaN</td>\n",
              "      <td>NaN</td>\n",
              "      <td>Africa</td>\n",
              "      <td>0.085</td>\n",
              "    </tr>\n",
              "    <tr>\n",
              "      <th>...</th>\n",
              "      <td>...</td>\n",
              "      <td>...</td>\n",
              "      <td>...</td>\n",
              "      <td>...</td>\n",
              "      <td>...</td>\n",
              "      <td>...</td>\n",
              "      <td>...</td>\n",
              "      <td>...</td>\n",
              "      <td>...</td>\n",
              "      <td>...</td>\n",
              "      <td>...</td>\n",
              "      <td>...</td>\n",
              "      <td>...</td>\n",
              "      <td>...</td>\n",
              "      <td>...</td>\n",
              "      <td>...</td>\n",
              "      <td>...</td>\n",
              "      <td>...</td>\n",
              "      <td>...</td>\n",
              "      <td>...</td>\n",
              "      <td>...</td>\n",
              "      <td>...</td>\n",
              "      <td>...</td>\n",
              "      <td>...</td>\n",
              "      <td>...</td>\n",
              "      <td>...</td>\n",
              "      <td>...</td>\n",
              "      <td>...</td>\n",
              "      <td>...</td>\n",
              "      <td>...</td>\n",
              "      <td>...</td>\n",
              "      <td>...</td>\n",
              "      <td>...</td>\n",
              "      <td>...</td>\n",
              "      <td>...</td>\n",
              "      <td>...</td>\n",
              "    </tr>\n",
              "    <tr>\n",
              "      <th>269</th>\n",
              "      <td>Bonaire</td>\n",
              "      <td>NaN</td>\n",
              "      <td>NaN</td>\n",
              "      <td>NaN</td>\n",
              "      <td>NaN</td>\n",
              "      <td>NaN</td>\n",
              "      <td>NaN</td>\n",
              "      <td>NaN</td>\n",
              "      <td>NaN</td>\n",
              "      <td>NaN</td>\n",
              "      <td>NaN</td>\n",
              "      <td>NaN</td>\n",
              "      <td>NaN</td>\n",
              "      <td>NaN</td>\n",
              "      <td>NaN</td>\n",
              "      <td>NaN</td>\n",
              "      <td>NaN</td>\n",
              "      <td>NaN</td>\n",
              "      <td>NaN</td>\n",
              "      <td>NaN</td>\n",
              "      <td>NaN</td>\n",
              "      <td>NaN</td>\n",
              "      <td>NaN</td>\n",
              "      <td>NaN</td>\n",
              "      <td>NaN</td>\n",
              "      <td>NaN</td>\n",
              "      <td>NaN</td>\n",
              "      <td>NaN</td>\n",
              "      <td>NaN</td>\n",
              "      <td>NaN</td>\n",
              "      <td>NaN</td>\n",
              "      <td>NaN</td>\n",
              "      <td>NaN</td>\n",
              "      <td>NaN</td>\n",
              "      <td>not_included</td>\n",
              "      <td>NaN</td>\n",
              "    </tr>\n",
              "    <tr>\n",
              "      <th>270</th>\n",
              "      <td>Sark</td>\n",
              "      <td>NaN</td>\n",
              "      <td>NaN</td>\n",
              "      <td>NaN</td>\n",
              "      <td>NaN</td>\n",
              "      <td>NaN</td>\n",
              "      <td>NaN</td>\n",
              "      <td>NaN</td>\n",
              "      <td>NaN</td>\n",
              "      <td>NaN</td>\n",
              "      <td>NaN</td>\n",
              "      <td>NaN</td>\n",
              "      <td>NaN</td>\n",
              "      <td>NaN</td>\n",
              "      <td>NaN</td>\n",
              "      <td>NaN</td>\n",
              "      <td>NaN</td>\n",
              "      <td>NaN</td>\n",
              "      <td>NaN</td>\n",
              "      <td>NaN</td>\n",
              "      <td>NaN</td>\n",
              "      <td>NaN</td>\n",
              "      <td>NaN</td>\n",
              "      <td>NaN</td>\n",
              "      <td>NaN</td>\n",
              "      <td>NaN</td>\n",
              "      <td>NaN</td>\n",
              "      <td>NaN</td>\n",
              "      <td>NaN</td>\n",
              "      <td>NaN</td>\n",
              "      <td>NaN</td>\n",
              "      <td>NaN</td>\n",
              "      <td>NaN</td>\n",
              "      <td>NaN</td>\n",
              "      <td>not_included</td>\n",
              "      <td>NaN</td>\n",
              "    </tr>\n",
              "    <tr>\n",
              "      <th>271</th>\n",
              "      <td>Chinese Taipei</td>\n",
              "      <td>NaN</td>\n",
              "      <td>NaN</td>\n",
              "      <td>NaN</td>\n",
              "      <td>NaN</td>\n",
              "      <td>NaN</td>\n",
              "      <td>NaN</td>\n",
              "      <td>NaN</td>\n",
              "      <td>NaN</td>\n",
              "      <td>NaN</td>\n",
              "      <td>NaN</td>\n",
              "      <td>NaN</td>\n",
              "      <td>NaN</td>\n",
              "      <td>NaN</td>\n",
              "      <td>NaN</td>\n",
              "      <td>NaN</td>\n",
              "      <td>NaN</td>\n",
              "      <td>NaN</td>\n",
              "      <td>NaN</td>\n",
              "      <td>NaN</td>\n",
              "      <td>NaN</td>\n",
              "      <td>NaN</td>\n",
              "      <td>NaN</td>\n",
              "      <td>NaN</td>\n",
              "      <td>NaN</td>\n",
              "      <td>NaN</td>\n",
              "      <td>NaN</td>\n",
              "      <td>NaN</td>\n",
              "      <td>NaN</td>\n",
              "      <td>NaN</td>\n",
              "      <td>NaN</td>\n",
              "      <td>NaN</td>\n",
              "      <td>NaN</td>\n",
              "      <td>NaN</td>\n",
              "      <td>not_included</td>\n",
              "      <td>NaN</td>\n",
              "    </tr>\n",
              "    <tr>\n",
              "      <th>272</th>\n",
              "      <td>Saint Eustatius</td>\n",
              "      <td>NaN</td>\n",
              "      <td>NaN</td>\n",
              "      <td>NaN</td>\n",
              "      <td>NaN</td>\n",
              "      <td>NaN</td>\n",
              "      <td>NaN</td>\n",
              "      <td>NaN</td>\n",
              "      <td>NaN</td>\n",
              "      <td>NaN</td>\n",
              "      <td>NaN</td>\n",
              "      <td>NaN</td>\n",
              "      <td>NaN</td>\n",
              "      <td>NaN</td>\n",
              "      <td>NaN</td>\n",
              "      <td>NaN</td>\n",
              "      <td>NaN</td>\n",
              "      <td>NaN</td>\n",
              "      <td>NaN</td>\n",
              "      <td>NaN</td>\n",
              "      <td>NaN</td>\n",
              "      <td>NaN</td>\n",
              "      <td>NaN</td>\n",
              "      <td>NaN</td>\n",
              "      <td>NaN</td>\n",
              "      <td>NaN</td>\n",
              "      <td>NaN</td>\n",
              "      <td>NaN</td>\n",
              "      <td>NaN</td>\n",
              "      <td>NaN</td>\n",
              "      <td>NaN</td>\n",
              "      <td>NaN</td>\n",
              "      <td>NaN</td>\n",
              "      <td>NaN</td>\n",
              "      <td>not_included</td>\n",
              "      <td>NaN</td>\n",
              "    </tr>\n",
              "    <tr>\n",
              "      <th>273</th>\n",
              "      <td>Saba</td>\n",
              "      <td>NaN</td>\n",
              "      <td>NaN</td>\n",
              "      <td>NaN</td>\n",
              "      <td>NaN</td>\n",
              "      <td>NaN</td>\n",
              "      <td>NaN</td>\n",
              "      <td>NaN</td>\n",
              "      <td>NaN</td>\n",
              "      <td>NaN</td>\n",
              "      <td>NaN</td>\n",
              "      <td>NaN</td>\n",
              "      <td>NaN</td>\n",
              "      <td>NaN</td>\n",
              "      <td>NaN</td>\n",
              "      <td>NaN</td>\n",
              "      <td>NaN</td>\n",
              "      <td>NaN</td>\n",
              "      <td>NaN</td>\n",
              "      <td>NaN</td>\n",
              "      <td>NaN</td>\n",
              "      <td>NaN</td>\n",
              "      <td>NaN</td>\n",
              "      <td>NaN</td>\n",
              "      <td>NaN</td>\n",
              "      <td>NaN</td>\n",
              "      <td>NaN</td>\n",
              "      <td>NaN</td>\n",
              "      <td>NaN</td>\n",
              "      <td>NaN</td>\n",
              "      <td>NaN</td>\n",
              "      <td>NaN</td>\n",
              "      <td>NaN</td>\n",
              "      <td>NaN</td>\n",
              "      <td>not_included</td>\n",
              "      <td>NaN</td>\n",
              "    </tr>\n",
              "  </tbody>\n",
              "</table>\n",
              "<p>274 rows × 36 columns</p>\n",
              "</div>"
            ],
            "text/plain": [
              "                   country  1979  1980  1981  ...  2010  2011     continent   mean\n",
              "0                 Abkhazia   NaN   NaN   NaN  ...   NaN   NaN  not_included    NaN\n",
              "1              Afghanistan   NaN   NaN   NaN  ...  0.06  0.06          Asia  0.060\n",
              "2    Akrotiri and Dhekelia   NaN   NaN   NaN  ...   NaN   NaN  not_included    NaN\n",
              "3                  Albania   NaN   NaN   NaN  ...   NaN   NaN         Europ    NaN\n",
              "4                  Algeria   NaN   NaN   NaN  ...   NaN   NaN        Africa  0.085\n",
              "..                     ...   ...   ...   ...  ...   ...   ...           ...    ...\n",
              "269                Bonaire   NaN   NaN   NaN  ...   NaN   NaN  not_included    NaN\n",
              "270                   Sark   NaN   NaN   NaN  ...   NaN   NaN  not_included    NaN\n",
              "271         Chinese Taipei   NaN   NaN   NaN  ...   NaN   NaN  not_included    NaN\n",
              "272        Saint Eustatius   NaN   NaN   NaN  ...   NaN   NaN  not_included    NaN\n",
              "273                   Saba   NaN   NaN   NaN  ...   NaN   NaN  not_included    NaN\n",
              "\n",
              "[274 rows x 36 columns]"
            ]
          },
          "metadata": {
            "tags": []
          },
          "execution_count": 17
        }
      ]
    },
    {
      "cell_type": "code",
      "metadata": {
        "colab": {
          "base_uri": "https://localhost:8080/",
          "height": 346
        },
        "id": "kXMSlVz-3_UX",
        "outputId": "7ab053f3-67bf-43c1-b4f0-6504bcdf573f"
      },
      "source": [
        "df4=df.groupby(['continent'])['country','mean'].agg('max') \n",
        "df4                         #use 'groupby' method to find the maximum mean value of the countries in each continent"
      ],
      "execution_count": 18,
      "outputs": [
        {
          "output_type": "stream",
          "text": [
            "/usr/local/lib/python3.7/dist-packages/ipykernel_launcher.py:1: FutureWarning: Indexing with multiple keys (implicitly converted to a tuple of keys) will be deprecated, use a list instead.\n",
            "  \"\"\"Entry point for launching an IPython kernel.\n"
          ],
          "name": "stderr"
        },
        {
          "output_type": "execute_result",
          "data": {
            "text/html": [
              "<div>\n",
              "<style scoped>\n",
              "    .dataframe tbody tr th:only-of-type {\n",
              "        vertical-align: middle;\n",
              "    }\n",
              "\n",
              "    .dataframe tbody tr th {\n",
              "        vertical-align: top;\n",
              "    }\n",
              "\n",
              "    .dataframe thead th {\n",
              "        text-align: right;\n",
              "    }\n",
              "</style>\n",
              "<table border=\"1\" class=\"dataframe\">\n",
              "  <thead>\n",
              "    <tr style=\"text-align: right;\">\n",
              "      <th></th>\n",
              "      <th>country</th>\n",
              "      <th>mean</th>\n",
              "    </tr>\n",
              "    <tr>\n",
              "      <th>continent</th>\n",
              "      <th></th>\n",
              "      <th></th>\n",
              "    </tr>\n",
              "  </thead>\n",
              "  <tbody>\n",
              "    <tr>\n",
              "      <th>Africa</th>\n",
              "      <td>Zimbabwe</td>\n",
              "      <td>25.136364</td>\n",
              "    </tr>\n",
              "    <tr>\n",
              "      <th>Asia</th>\n",
              "      <td>Yemen</td>\n",
              "      <td>1.418182</td>\n",
              "    </tr>\n",
              "    <tr>\n",
              "      <th>Australia</th>\n",
              "      <td>Vanuatu</td>\n",
              "      <td>0.727273</td>\n",
              "    </tr>\n",
              "    <tr>\n",
              "      <th>Europ</th>\n",
              "      <td>United Kingdom</td>\n",
              "      <td>1.054545</td>\n",
              "    </tr>\n",
              "    <tr>\n",
              "      <th>North_America</th>\n",
              "      <td>Turks and Caicos Islands</td>\n",
              "      <td>2.981818</td>\n",
              "    </tr>\n",
              "    <tr>\n",
              "      <th>South_America</th>\n",
              "      <td>Venezuela</td>\n",
              "      <td>1.181818</td>\n",
              "    </tr>\n",
              "    <tr>\n",
              "      <th>not_included</th>\n",
              "      <td>Åland</td>\n",
              "      <td>25.400000</td>\n",
              "    </tr>\n",
              "  </tbody>\n",
              "</table>\n",
              "</div>"
            ],
            "text/plain": [
              "                                country       mean\n",
              "continent                                         \n",
              "Africa                         Zimbabwe  25.136364\n",
              "Asia                              Yemen   1.418182\n",
              "Australia                       Vanuatu   0.727273\n",
              "Europ                    United Kingdom   1.054545\n",
              "North_America  Turks and Caicos Islands   2.981818\n",
              "South_America                 Venezuela   1.181818\n",
              "not_included                      Åland  25.400000"
            ]
          },
          "metadata": {
            "tags": []
          },
          "execution_count": 18
        }
      ]
    },
    {
      "cell_type": "markdown",
      "metadata": {
        "id": "aDfzeiVnuOln"
      },
      "source": [
        "b) Find the country/region in each continent that has the lowest average HIV estimated prevalence of people ages from 15 to 49 of from year 2000 to 2011. "
      ]
    },
    {
      "cell_type": "code",
      "metadata": {
        "colab": {
          "base_uri": "https://localhost:8080/",
          "height": 346
        },
        "id": "h70gXR2fG4Az",
        "outputId": "f6e99c4f-4f4d-4d62-8e14-05f3af2b0dcd"
      },
      "source": [
        "df5=df.groupby(['continent'])['country','mean'].agg('min')\n",
        "df5                         # #use 'groupby' method to find the minimum mean value of the countries in each continent"
      ],
      "execution_count": 19,
      "outputs": [
        {
          "output_type": "stream",
          "text": [
            "/usr/local/lib/python3.7/dist-packages/ipykernel_launcher.py:1: FutureWarning: Indexing with multiple keys (implicitly converted to a tuple of keys) will be deprecated, use a list instead.\n",
            "  \"\"\"Entry point for launching an IPython kernel.\n"
          ],
          "name": "stderr"
        },
        {
          "output_type": "execute_result",
          "data": {
            "text/html": [
              "<div>\n",
              "<style scoped>\n",
              "    .dataframe tbody tr th:only-of-type {\n",
              "        vertical-align: middle;\n",
              "    }\n",
              "\n",
              "    .dataframe tbody tr th {\n",
              "        vertical-align: top;\n",
              "    }\n",
              "\n",
              "    .dataframe thead th {\n",
              "        text-align: right;\n",
              "    }\n",
              "</style>\n",
              "<table border=\"1\" class=\"dataframe\">\n",
              "  <thead>\n",
              "    <tr style=\"text-align: right;\">\n",
              "      <th></th>\n",
              "      <th>country</th>\n",
              "      <th>mean</th>\n",
              "    </tr>\n",
              "    <tr>\n",
              "      <th>continent</th>\n",
              "      <th></th>\n",
              "      <th></th>\n",
              "    </tr>\n",
              "  </thead>\n",
              "  <tbody>\n",
              "    <tr>\n",
              "      <th>Africa</th>\n",
              "      <td>Algeria</td>\n",
              "      <td>0.060000</td>\n",
              "    </tr>\n",
              "    <tr>\n",
              "      <th>Asia</th>\n",
              "      <td>Afghanistan</td>\n",
              "      <td>0.060000</td>\n",
              "    </tr>\n",
              "    <tr>\n",
              "      <th>Australia</th>\n",
              "      <td>American Samoa</td>\n",
              "      <td>0.085455</td>\n",
              "    </tr>\n",
              "    <tr>\n",
              "      <th>Europ</th>\n",
              "      <td>Albania</td>\n",
              "      <td>0.060000</td>\n",
              "    </tr>\n",
              "    <tr>\n",
              "      <th>North_America</th>\n",
              "      <td>Anguilla</td>\n",
              "      <td>0.107273</td>\n",
              "    </tr>\n",
              "    <tr>\n",
              "      <th>South_America</th>\n",
              "      <td>Argentina</td>\n",
              "      <td>0.227273</td>\n",
              "    </tr>\n",
              "    <tr>\n",
              "      <th>not_included</th>\n",
              "      <td>Abkhazia</td>\n",
              "      <td>0.060000</td>\n",
              "    </tr>\n",
              "  </tbody>\n",
              "</table>\n",
              "</div>"
            ],
            "text/plain": [
              "                      country      mean\n",
              "continent                              \n",
              "Africa                Algeria  0.060000\n",
              "Asia              Afghanistan  0.060000\n",
              "Australia      American Samoa  0.085455\n",
              "Europ                 Albania  0.060000\n",
              "North_America        Anguilla  0.107273\n",
              "South_America       Argentina  0.227273\n",
              "not_included         Abkhazia  0.060000"
            ]
          },
          "metadata": {
            "tags": []
          },
          "execution_count": 19
        }
      ]
    },
    {
      "cell_type": "code",
      "metadata": {
        "colab": {
          "base_uri": "https://localhost:8080/",
          "height": 0
        },
        "id": "i54RlBCqLkbC",
        "outputId": "5bd64a95-8151-41d0-b67d-a07c298f9a77"
      },
      "source": [
        "continent= df4.index.to_list()   #make the list of the continent and the max values\n",
        "max=df4['mean'].to_list()\n",
        "print(continent)\n",
        "print(max)"
      ],
      "execution_count": 20,
      "outputs": [
        {
          "output_type": "stream",
          "text": [
            "['Africa', 'Asia', 'Australia', 'Europ', 'North_America', 'South_America', 'not_included']\n",
            "[25.136363636363637, 1.4181818181818182, 0.7272727272727273, 1.0545454545454547, 2.9818181818181824, 1.1818181818181817, 25.400000000000002]\n"
          ],
          "name": "stdout"
        }
      ]
    },
    {
      "cell_type": "markdown",
      "metadata": {
        "id": "Fg6AwbKzufYy"
      },
      "source": [
        "c) Create a bar chart to show the highest average HIV estimated prevalence of people ages from 15 to 49 of from year 2000 to 2011 in each continent. "
      ]
    },
    {
      "cell_type": "code",
      "metadata": {
        "colab": {
          "base_uri": "https://localhost:8080/",
          "height": 346
        },
        "id": "dRi7ymsBI8ZY",
        "outputId": "e2055b4d-09f9-4327-ef13-267d9c0cb9eb"
      },
      "source": [
        "import matplotlib.pyplot as plt           #create bar graph of max value for each continent\n",
        "\n",
        "\n",
        "plt.bar(continent,max, color='b')\n",
        "plt.title('Highest Average HIV Estimated Prevalence')\n",
        "plt.xlabel('Continent')\n",
        "plt.ylabel('Maximum Average HIV Estimated Prevalence')\n",
        "plt.xticks(color='blue',rotation=45)\n",
        "plt.yticks(color='blue')\n",
        "plt.show()"
      ],
      "execution_count": 21,
      "outputs": [
        {
          "output_type": "display_data",
          "data": {
            "image/png": "[encoded data removed]",
            "text/plain": [
              "<Figure size 432x288 with 1 Axes>"
            ]
          },
          "metadata": {
            "tags": [],
            "needs_background": "light"
          }
        }
      ]
    },
    {
      "cell_type": "code",
      "metadata": {
        "colab": {
          "base_uri": "https://localhost:8080/",
          "height": 413
        },
        "id": "7XJ7Yyj5I8h3",
        "outputId": "142a5d33-46e1-439d-b026-2d4a9f97b364"
      },
      "source": [
        "continent= df5.index.to_list()           #make the list of the continent and the min values\n",
        "min=df5['mean'].to_list()                #create bar graph of min value for each continent\n",
        "print(continent)\n",
        "print(min)\n",
        "print()\n",
        "print()\n",
        "plt.bar(continent,min, color='r')\n",
        "plt.title('Lowest Average HIV Estimated Prevalence')\n",
        "plt.xlabel('Continent')\n",
        "plt.ylabel('Minimum Average HIV Estimated Prevalence')\n",
        "plt.xticks(color='blue',rotation=45)\n",
        "plt.yticks(color='blue')\n",
        "plt.show()"
      ],
      "execution_count": 22,
      "outputs": [
        {
          "output_type": "stream",
          "text": [
            "['Africa', 'Asia', 'Australia', 'Europ', 'North_America', 'South_America', 'not_included']\n",
            "[0.06000000000000001, 0.06, 0.08545454545454546, 0.06000000000000001, 0.10727272727272727, 0.22727272727272724, 0.06000000000000001]\n",
            "\n",
            "\n"
          ],
          "name": "stdout"
        },
        {
          "output_type": "display_data",
          "data": {
            "image/png": "[encoded data removed]",
            "text/plain": [
              "<Figure size 432x288 with 1 Axes>"
            ]
          },
          "metadata": {
            "tags": [],
            "needs_background": "light"
          }
        }
      ]
    },
    {
      "cell_type": "code",
      "metadata": {
        "id": "pJfrhkNYI8c9",
        "colab": {
          "base_uri": "https://localhost:8080/",
          "height": 346
        },
        "outputId": "79703622-7816-4432-eb07-ca3d44a295b9"
      },
      "source": [
        "import numpy as np               #create the overlaid bar graph for max and min values\n",
        "\n",
        "n=7\n",
        "r=np.arange(n)\n",
        "width = 0.5\n",
        "\n",
        "plt.bar(r, max , color='b', width=width , edgecolor='black', label= 'Max')\n",
        "plt.bar(r + width, min , color='r', width=width, edgecolor='black', label='Min')\n",
        "plt.title('Highest& Lowest Average HIV Estimated Prevalence')\n",
        "plt.xlabel('Continent')\n",
        "plt.ylabel('Max & Min HIV Estimated Prevalence')\n",
        "plt.xticks(r + width/2 , continent)\n",
        "plt.xticks(color='blue',rotation=45)\n",
        "plt.yticks(color='blue')\n",
        "plt.legend()\n",
        "plt.show()"
      ],
      "execution_count": 23,
      "outputs": [
        {
          "output_type": "display_data",
          "data": {
            "image/png": "[encoded data removed]",
            "text/plain": [
              "<Figure size 432x288 with 1 Axes>"
            ]
          },
          "metadata": {
            "tags": [],
            "needs_background": "light"
          }
        }
      ]
    },
    {
      "cell_type": "markdown",
      "metadata": {
        "id": "ZP_ascmBiVLR"
      },
      "source": [
        "d) Select a country/region that is different from the average highest or lowest HIV estimated prevalence of people ages from 15 to 49 from year 2000 to 2011 from each continent, then create an overlaid line chart for the selected country/region, the average highest and lowest HIV estimated prevalence of people ages from 15 to 49 from year 2000 to 2011 for each continent."
      ]
    },
    {
      "cell_type": "code",
      "metadata": {
        "id": "JuyikBggI8TR",
        "colab": {
          "base_uri": "https://localhost:8080/",
          "height": 413
        },
        "outputId": "db541c5c-ed72-4b93-e921-b2deccccc989"
      },
      "source": [
        "df6= df[['continent','country','mean']]         #data frame from all continents, countries and their mean \n",
        "df6"
      ],
      "execution_count": 24,
      "outputs": [
        {
          "output_type": "execute_result",
          "data": {
            "text/html": [
              "<div>\n",
              "<style scoped>\n",
              "    .dataframe tbody tr th:only-of-type {\n",
              "        vertical-align: middle;\n",
              "    }\n",
              "\n",
              "    .dataframe tbody tr th {\n",
              "        vertical-align: top;\n",
              "    }\n",
              "\n",
              "    .dataframe thead th {\n",
              "        text-align: right;\n",
              "    }\n",
              "</style>\n",
              "<table border=\"1\" class=\"dataframe\">\n",
              "  <thead>\n",
              "    <tr style=\"text-align: right;\">\n",
              "      <th></th>\n",
              "      <th>continent</th>\n",
              "      <th>country</th>\n",
              "      <th>mean</th>\n",
              "    </tr>\n",
              "  </thead>\n",
              "  <tbody>\n",
              "    <tr>\n",
              "      <th>0</th>\n",
              "      <td>not_included</td>\n",
              "      <td>Abkhazia</td>\n",
              "      <td>NaN</td>\n",
              "    </tr>\n",
              "    <tr>\n",
              "      <th>1</th>\n",
              "      <td>Asia</td>\n",
              "      <td>Afghanistan</td>\n",
              "      <td>0.060</td>\n",
              "    </tr>\n",
              "    <tr>\n",
              "      <th>2</th>\n",
              "      <td>not_included</td>\n",
              "      <td>Akrotiri and Dhekelia</td>\n",
              "      <td>NaN</td>\n",
              "    </tr>\n",
              "    <tr>\n",
              "      <th>3</th>\n",
              "      <td>Europ</td>\n",
              "      <td>Albania</td>\n",
              "      <td>NaN</td>\n",
              "    </tr>\n",
              "    <tr>\n",
              "      <th>4</th>\n",
              "      <td>Africa</td>\n",
              "      <td>Algeria</td>\n",
              "      <td>0.085</td>\n",
              "    </tr>\n",
              "    <tr>\n",
              "      <th>...</th>\n",
              "      <td>...</td>\n",
              "      <td>...</td>\n",
              "      <td>...</td>\n",
              "    </tr>\n",
              "    <tr>\n",
              "      <th>269</th>\n",
              "      <td>not_included</td>\n",
              "      <td>Bonaire</td>\n",
              "      <td>NaN</td>\n",
              "    </tr>\n",
              "    <tr>\n",
              "      <th>270</th>\n",
              "      <td>not_included</td>\n",
              "      <td>Sark</td>\n",
              "      <td>NaN</td>\n",
              "    </tr>\n",
              "    <tr>\n",
              "      <th>271</th>\n",
              "      <td>not_included</td>\n",
              "      <td>Chinese Taipei</td>\n",
              "      <td>NaN</td>\n",
              "    </tr>\n",
              "    <tr>\n",
              "      <th>272</th>\n",
              "      <td>not_included</td>\n",
              "      <td>Saint Eustatius</td>\n",
              "      <td>NaN</td>\n",
              "    </tr>\n",
              "    <tr>\n",
              "      <th>273</th>\n",
              "      <td>not_included</td>\n",
              "      <td>Saba</td>\n",
              "      <td>NaN</td>\n",
              "    </tr>\n",
              "  </tbody>\n",
              "</table>\n",
              "<p>274 rows × 3 columns</p>\n",
              "</div>"
            ],
            "text/plain": [
              "        continent                country   mean\n",
              "0    not_included               Abkhazia    NaN\n",
              "1            Asia            Afghanistan  0.060\n",
              "2    not_included  Akrotiri and Dhekelia    NaN\n",
              "3           Europ                Albania    NaN\n",
              "4          Africa                Algeria  0.085\n",
              "..            ...                    ...    ...\n",
              "269  not_included                Bonaire    NaN\n",
              "270  not_included                   Sark    NaN\n",
              "271  not_included         Chinese Taipei    NaN\n",
              "272  not_included        Saint Eustatius    NaN\n",
              "273  not_included                   Saba    NaN\n",
              "\n",
              "[274 rows x 3 columns]"
            ]
          },
          "metadata": {
            "tags": []
          },
          "execution_count": 24
        }
      ]
    },
    {
      "cell_type": "code",
      "metadata": {
        "colab": {
          "base_uri": "https://localhost:8080/",
          "height": 0
        },
        "id": "aaJDUFra-pff",
        "outputId": "a297a902-c893-4c2e-a913-328f74e86e0b"
      },
      "source": [
        "df7=df.groupby(['continent','country'])['mean'].apply(list)\n",
        "df7                      #Group each continent with countries and their mean values"
      ],
      "execution_count": 25,
      "outputs": [
        {
          "output_type": "execute_result",
          "data": {
            "text/plain": [
              "continent     country           \n",
              "Africa        Algeria               [0.08499999999999999]\n",
              "              Angola                  [1.963636363636364]\n",
              "              Benin                  [1.2636363636363634]\n",
              "              Botswana               [25.136363636363637]\n",
              "              Burkina Faso           [1.4727272727272727]\n",
              "                                            ...          \n",
              "not_included  Wallis et Futuna                      [nan]\n",
              "              West Bank and Gaza                    [nan]\n",
              "              West Germany                          [nan]\n",
              "              Yugoslavia                            [nan]\n",
              "              Åland                                 [nan]\n",
              "Name: mean, Length: 274, dtype: object"
            ]
          },
          "metadata": {
            "tags": []
          },
          "execution_count": 25
        }
      ]
    },
    {
      "cell_type": "code",
      "metadata": {
        "colab": {
          "base_uri": "https://localhost:8080/",
          "height": 0
        },
        "id": "3woQFYwdPSo_",
        "outputId": "4a716074-5630-4c60-ffdc-06559ad89fde"
      },
      "source": [
        "df8=df.groupby(['continent'])['country'].apply(list)   #get the list of all countries in each continent\n",
        "df8"
      ],
      "execution_count": 26,
      "outputs": [
        {
          "output_type": "execute_result",
          "data": {
            "text/plain": [
              "continent\n",
              "Africa           [Algeria, Angola, Benin, Botswana, Burkina Fas...\n",
              "Asia             [Afghanistan, Armenia, Azerbaijan, Bahrain, Ba...\n",
              "Australia        [American Samoa, Australia, Fiji, French Polyn...\n",
              "Europ            [Albania, Andorra, Austria, Belarus, Belgium, ...\n",
              "North_America    [Anguilla, Antigua and Barbuda, Aruba, Bahamas...\n",
              "South_America    [Argentina, Bolivia, Brazil, Chile, Colombia, ...\n",
              "not_included     [Abkhazia, Akrotiri and Dhekelia, Brunei, Cape...\n",
              "Name: country, dtype: object"
            ]
          },
          "metadata": {
            "tags": []
          },
          "execution_count": 26
        }
      ]
    },
    {
      "cell_type": "code",
      "metadata": {
        "colab": {
          "base_uri": "https://localhost:8080/",
          "height": 0
        },
        "id": "UF2M8VV3GfWA",
        "outputId": "bee7cec5-e899-4f8d-b7dd-1c8e0c568285"
      },
      "source": [
        "df9=df.groupby(['continent'])['mean'].apply(list)        #get the list of all mean values for each continent\n",
        "df9"
      ],
      "execution_count": 27,
      "outputs": [
        {
          "output_type": "execute_result",
          "data": {
            "text/plain": [
              "continent\n",
              "Africa           [0.08499999999999999, 1.963636363636364, 1.263...\n",
              "Asia             [0.06, 0.12727272727272726, 0.0781818181818181...\n",
              "Australia        [nan, 0.12727272727272726, 0.08545454545454546...\n",
              "Europ            [nan, nan, 0.24545454545454548, 0.218181818181...\n",
              "North_America    [nan, nan, nan, 2.9818181818181824, 0.89090909...\n",
              "South_America    [0.4090909090909091, 0.22727272727272724, 0.37...\n",
              "not_included     [nan, nan, nan, 1.0, nan, nan, nan, 3.55454545...\n",
              "Name: mean, dtype: object"
            ]
          },
          "metadata": {
            "tags": []
          },
          "execution_count": 27
        }
      ]
    },
    {
      "cell_type": "code",
      "metadata": {
        "id": "rnTIsq6aH4FP"
      },
      "source": [
        "# create the random list of mean other than max and min value\n",
        "random_list=[0.085000,0.078182,0.127273,0.245455,0.890909,0.409090,3.554545]   "
      ],
      "execution_count": 28,
      "outputs": []
    },
    {
      "cell_type": "code",
      "metadata": {
        "colab": {
          "base_uri": "https://localhost:8080/",
          "height": 346
        },
        "id": "qBkYocOh0V2z",
        "outputId": "8f668b95-7722-44c1-eb82-2c6de3aaad4b"
      },
      "source": [
        "# multiple line plots\n",
        "plt.plot\n",
        "plt.plot( continent, max , marker='o', markerfacecolor='blue', markersize=5, color='skyblue', linewidth=2,label='Max')\n",
        "plt.plot( continent, min, marker='*', color='olive', linewidth=2, label='Min')\n",
        "plt.plot( continent, random_list, marker='x', color='red', linewidth=2, label='Random')\n",
        "plt.title('Highest, Lowest & Random Average HIV Estimated Prevalence')\n",
        "plt.xlabel('Continent')\n",
        "plt.ylabel('Max, Min & Random HIV Estimated Prevalence')\n",
        "plt.xticks(color='blue',rotation=45)\n",
        "plt.yticks(color='blue')\n",
        "plt.legend()\n",
        "plt.show()"
      ],
      "execution_count": 29,
      "outputs": [
        {
          "output_type": "display_data",
          "data": {
            "image/png": "[encoded data removed]",
            "text/plain": [
              "<Figure size 432x288 with 1 Axes>"
            ]
          },
          "metadata": {
            "tags": [],
            "needs_background": "light"
          }
        }
      ]
    },
    {
      "cell_type": "markdown",
      "metadata": {
        "id": "i0Q_GcuOhHgk"
      },
      "source": [
        "##**Question 3**"
      ]
    },
    {
      "cell_type": "markdown",
      "metadata": {
        "id": "2kozU4vym_p7"
      },
      "source": [
        "a) Write a Python progrma to calculate the average HIV estimated prevalence of people ages from 15 to 49 for each year in the dataset for each continent."
      ]
    },
    {
      "cell_type": "code",
      "metadata": {
        "colab": {
          "base_uri": "https://localhost:8080/",
          "height": 0
        },
        "id": "xoee84J00V0l",
        "outputId": "4e609d77-8d30-4dce-e864-37ecf4c47cef"
      },
      "source": [
        "#calculate average HIV estimated prevalence for each continet  in each year\n",
        "df10=df.groupby(['continent'])['1979'].sum()/ df.groupby(['continent'])['1979'].count()  \n",
        "df10"
      ],
      "execution_count": 30,
      "outputs": [
        {
          "output_type": "execute_result",
          "data": {
            "text/plain": [
              "continent\n",
              "Africa           0.037399\n",
              "Asia             0.012168\n",
              "Australia             NaN\n",
              "Europ            0.014247\n",
              "North_America    0.040502\n",
              "South_America    0.029865\n",
              "not_included     0.054981\n",
              "Name: 1979, dtype: float64"
            ]
          },
          "metadata": {
            "tags": []
          },
          "execution_count": 30
        }
      ]
    },
    {
      "cell_type": "code",
      "metadata": {
        "colab": {
          "base_uri": "https://localhost:8080/",
          "height": 0
        },
        "id": "tyfl80Wv4EJs",
        "outputId": "60bb75c4-4fb6-4aff-900e-3e2568998188"
      },
      "source": [
        "df10.Africa.mean()"
      ],
      "execution_count": 31,
      "outputs": [
        {
          "output_type": "execute_result",
          "data": {
            "text/plain": [
              "0.03739939799999999"
            ]
          },
          "metadata": {
            "tags": []
          },
          "execution_count": 31
        }
      ]
    },
    {
      "cell_type": "code",
      "metadata": {
        "id": "viz3Ti5TtCSp"
      },
      "source": [
        "df11=df.groupby(['continent'])['1980'].sum()/ df.groupby(['continent'])['1980'].count()"
      ],
      "execution_count": 32,
      "outputs": []
    },
    {
      "cell_type": "code",
      "metadata": {
        "id": "t7doXbQb0VxB"
      },
      "source": [
        "df12=df.groupby(['continent'])['1981'].sum()/ df.groupby(['continent'])['1981'].count()"
      ],
      "execution_count": 33,
      "outputs": []
    },
    {
      "cell_type": "code",
      "metadata": {
        "id": "U4rlOaI80Vty"
      },
      "source": [
        "df13=df.groupby(['continent'])['1982'].sum()/ df.groupby(['continent'])['1982'].count()"
      ],
      "execution_count": 34,
      "outputs": []
    },
    {
      "cell_type": "code",
      "metadata": {
        "id": "lIY9QwTR0VmF"
      },
      "source": [
        "df14=df.groupby(['continent'])['1983'].sum()/ df.groupby(['continent'])['1983'].count()"
      ],
      "execution_count": 35,
      "outputs": []
    },
    {
      "cell_type": "code",
      "metadata": {
        "id": "M1_mvXCH0Vbo"
      },
      "source": [
        "df15=df.groupby(['continent'])['1984'].sum()/ df.groupby(['continent'])['1984'].count()"
      ],
      "execution_count": 36,
      "outputs": []
    },
    {
      "cell_type": "code",
      "metadata": {
        "id": "q3r9EW_KxbJt"
      },
      "source": [
        "df16=df.groupby(['continent'])['1985'].sum()/ df.groupby(['continent'])['1985'].count()"
      ],
      "execution_count": 37,
      "outputs": []
    },
    {
      "cell_type": "code",
      "metadata": {
        "id": "eLW76pxNxbFY"
      },
      "source": [
        "df17=df.groupby(['continent'])['1986'].sum()/ df.groupby(['continent'])['1986'].count()"
      ],
      "execution_count": 38,
      "outputs": []
    },
    {
      "cell_type": "code",
      "metadata": {
        "id": "8Nf87EzMxbBv"
      },
      "source": [
        "df18=df.groupby(['continent'])['1987'].sum()/ df.groupby(['continent'])['1987'].count()"
      ],
      "execution_count": 39,
      "outputs": []
    },
    {
      "cell_type": "code",
      "metadata": {
        "id": "qw42rcjNxa-q"
      },
      "source": [
        "df19=df.groupby(['continent'])['1988'].sum()/ df.groupby(['continent'])['1988'].count()"
      ],
      "execution_count": 40,
      "outputs": []
    },
    {
      "cell_type": "code",
      "metadata": {
        "id": "PJclB6Gfxa7B"
      },
      "source": [
        "df20=df.groupby(['continent'])['1989'].sum()/ df.groupby(['continent'])['1989'].count()"
      ],
      "execution_count": 41,
      "outputs": []
    },
    {
      "cell_type": "code",
      "metadata": {
        "id": "PGDlP5CBxa3h"
      },
      "source": [
        "df21=df.groupby(['continent'])['1990'].sum()/ df.groupby(['continent'])['1990'].count()"
      ],
      "execution_count": 42,
      "outputs": []
    },
    {
      "cell_type": "code",
      "metadata": {
        "id": "irjOBEu4xa1N"
      },
      "source": [
        "df22=df.groupby(['continent'])['1991'].sum()/ df.groupby(['continent'])['1991'].count()"
      ],
      "execution_count": 43,
      "outputs": []
    },
    {
      "cell_type": "code",
      "metadata": {
        "id": "1cy_HbGJxawj"
      },
      "source": [
        "df23=df.groupby(['continent'])['1992'].sum()/ df.groupby(['continent'])['1992'].count()"
      ],
      "execution_count": 44,
      "outputs": []
    },
    {
      "cell_type": "code",
      "metadata": {
        "id": "hzCcPCs6xatY"
      },
      "source": [
        "df24=df.groupby(['continent'])['1993'].sum()/ df.groupby(['continent'])['1993'].count()"
      ],
      "execution_count": 45,
      "outputs": []
    },
    {
      "cell_type": "code",
      "metadata": {
        "id": "KkMUDQv0xap-"
      },
      "source": [
        "df25=df.groupby(['continent'])['1994'].sum()/ df.groupby(['continent'])['1994'].count()"
      ],
      "execution_count": 46,
      "outputs": []
    },
    {
      "cell_type": "code",
      "metadata": {
        "id": "eX8INps3xamX"
      },
      "source": [
        "df26=df.groupby(['continent'])['1995'].sum()/ df.groupby(['continent'])['1995'].count()"
      ],
      "execution_count": 47,
      "outputs": []
    },
    {
      "cell_type": "code",
      "metadata": {
        "id": "uhGiviEuxaia"
      },
      "source": [
        "df27=df.groupby(['continent'])['1996'].sum()/ df.groupby(['continent'])['1996'].count()"
      ],
      "execution_count": 48,
      "outputs": []
    },
    {
      "cell_type": "code",
      "metadata": {
        "id": "ou1uCFiUxae_"
      },
      "source": [
        "df28=df.groupby(['continent'])['1997'].sum()/ df.groupby(['continent'])['1997'].count()"
      ],
      "execution_count": 49,
      "outputs": []
    },
    {
      "cell_type": "code",
      "metadata": {
        "id": "uYU8lmKJxabU"
      },
      "source": [
        "df29=df.groupby(['continent'])['1998'].sum()/ df.groupby(['continent'])['1998'].count()"
      ],
      "execution_count": 50,
      "outputs": []
    },
    {
      "cell_type": "code",
      "metadata": {
        "id": "OYT4KuQvxaYT"
      },
      "source": [
        "df30=df.groupby(['continent'])['1999'].sum()/ df.groupby(['continent'])['1999'].count()"
      ],
      "execution_count": 51,
      "outputs": []
    },
    {
      "cell_type": "code",
      "metadata": {
        "id": "qwVDKn9UxaSJ"
      },
      "source": [
        "df31=df.groupby(['continent'])['2000'].sum()/ df.groupby(['continent'])['2000'].count()"
      ],
      "execution_count": 52,
      "outputs": []
    },
    {
      "cell_type": "code",
      "metadata": {
        "id": "m5_gcyryyeyx"
      },
      "source": [
        "df32=df.groupby(['continent'])['2001'].sum()/ df.groupby(['continent'])['2001'].count()"
      ],
      "execution_count": 53,
      "outputs": []
    },
    {
      "cell_type": "code",
      "metadata": {
        "id": "KwTZeMD3yewN"
      },
      "source": [
        "df33=df.groupby(['continent'])['2002'].sum()/ df.groupby(['continent'])['2002'].count()"
      ],
      "execution_count": 54,
      "outputs": []
    },
    {
      "cell_type": "code",
      "metadata": {
        "id": "wXRiWAZCyet7"
      },
      "source": [
        "df34=df.groupby(['continent'])['2003'].sum()/ df.groupby(['continent'])['2003'].count()"
      ],
      "execution_count": 55,
      "outputs": []
    },
    {
      "cell_type": "code",
      "metadata": {
        "id": "xiaWmwDwyepK"
      },
      "source": [
        "df35=df.groupby(['continent'])['2004'].sum()/ df.groupby(['continent'])['2004'].count()"
      ],
      "execution_count": 56,
      "outputs": []
    },
    {
      "cell_type": "code",
      "metadata": {
        "id": "NJWHOhCDyemo"
      },
      "source": [
        "df36=df.groupby(['continent'])['2005'].sum()/ df.groupby(['continent'])['2005'].count()"
      ],
      "execution_count": 57,
      "outputs": []
    },
    {
      "cell_type": "code",
      "metadata": {
        "id": "5a_nfYhyyekm"
      },
      "source": [
        "df37=df.groupby(['continent'])['2006'].sum()/ df.groupby(['continent'])['2006'].count()"
      ],
      "execution_count": 58,
      "outputs": []
    },
    {
      "cell_type": "code",
      "metadata": {
        "id": "t4zq0r7Hyeip"
      },
      "source": [
        "df38=df.groupby(['continent'])['2007'].sum()/ df.groupby(['continent'])['2007'].count()"
      ],
      "execution_count": 59,
      "outputs": []
    },
    {
      "cell_type": "code",
      "metadata": {
        "id": "AmeTTTTTyedk"
      },
      "source": [
        "df39=df.groupby(['continent'])['2008'].sum()/ df.groupby(['continent'])['2008'].count()"
      ],
      "execution_count": 60,
      "outputs": []
    },
    {
      "cell_type": "code",
      "metadata": {
        "id": "NdCGTvnlyeaT"
      },
      "source": [
        "df40=df.groupby(['continent'])['2009'].sum()/ df.groupby(['continent'])['2009'].count()"
      ],
      "execution_count": 61,
      "outputs": []
    },
    {
      "cell_type": "code",
      "metadata": {
        "id": "mmJNAuPSyeXn"
      },
      "source": [
        "df41=df.groupby(['continent'])['2010'].sum()/ df.groupby(['continent'])['2010'].count()"
      ],
      "execution_count": 62,
      "outputs": []
    },
    {
      "cell_type": "code",
      "metadata": {
        "id": "O2p8cjSeyeT-"
      },
      "source": [
        "df42=df.groupby(['continent'])['2011'].sum()/ df.groupby(['continent'])['2011'].count()"
      ],
      "execution_count": 63,
      "outputs": []
    },
    {
      "cell_type": "code",
      "metadata": {
        "colab": {
          "base_uri": "https://localhost:8080/",
          "height": 0
        },
        "id": "igFWaPmzyeQn",
        "outputId": "76c4a464-68f7-4c02-8786-70bf957026bb"
      },
      "source": [
        "#create the list of the average HIV estimated prevalence for each continetfrom range of the years\n",
        "africa_mean=[df10.Africa.mean(),df11.Africa.mean(),df12.Africa.mean(),df13.Africa.mean(),df14.Africa.mean(),\n",
        "             df15.Africa.mean(),df16.Africa.mean(),df17.Africa.mean(),df18.Africa.mean(),df19.Africa.mean(),\n",
        "             df20.Africa.mean(),df21.Africa.mean(),df22.Africa.mean(),df23.Africa.mean(),df24.Africa.mean(),\n",
        "             df25.Africa.mean(),df26.Africa.mean(),df27.Africa.mean(),df28.Africa.mean(),df29.Africa.mean(),\n",
        "             df30.Africa.mean(),df31.Africa.mean(),df32.Africa.mean(),df33.Africa.mean(),df34.Africa.mean(),\n",
        "             df35.Africa.mean(),df36.Africa.mean(),df37.Africa.mean(),df38.Africa.mean(),df39.Africa.mean(),\n",
        "             df40.Africa.mean(),df41.Africa.mean(),df42.Africa.mean()]\n",
        "africa_mean\n"
      ],
      "execution_count": 65,
      "outputs": [
        {
          "output_type": "execute_result",
          "data": {
            "text/plain": [
              "[0.03739939799999999,\n",
              " 0.0139228875,\n",
              " 0.011184576666666666,\n",
              " 0.012575161999999999,\n",
              " 0.011911406,\n",
              " 0.0114774895,\n",
              " 0.010947894,\n",
              " nan,\n",
              " 0.010400419000000001,\n",
              " nan,\n",
              " nan,\n",
              " 1.8890909090909096,\n",
              " 2.315000000000001,\n",
              " 2.7886363636363636,\n",
              " 3.297727272727272,\n",
              " 3.8000000000000003,\n",
              " 4.2659090909090915,\n",
              " 4.657727272727274,\n",
              " 4.955454545454546,\n",
              " 5.153181818181817,\n",
              " 5.2736363636363635,\n",
              " 5.31909090909091,\n",
              " 5.32590909090909,\n",
              " 5.280454545454545,\n",
              " 5.21,\n",
              " 5.12,\n",
              " 5.035909090909091,\n",
              " 4.945,\n",
              " 4.872272727272729,\n",
              " 4.8109090909090915,\n",
              " 4.611555555555555,\n",
              " 4.564888888888888,\n",
              " 4.489565217391304]"
            ]
          },
          "metadata": {
            "tags": []
          },
          "execution_count": 65
        }
      ]
    },
    {
      "cell_type": "code",
      "metadata": {
        "colab": {
          "base_uri": "https://localhost:8080/",
          "height": 0
        },
        "id": "9veMsWelyeKT",
        "outputId": "31016d78-22d7-4f25-e494-a3151a96c16f"
      },
      "source": [
        "asia_mean=[df10.Asia.mean(),df11.Asia.mean(),df12.Asia.mean(),df13.Asia.mean(),df14.Asia.mean(),\n",
        "             df15.Asia.mean(),df16.Asia.mean(),df17.Asia.mean(),df18.Asia.mean(),df19.Asia.mean(),\n",
        "             df20.Asia.mean(),df21.Asia.mean(),df22.Asia.mean(),df23.Asia.mean(),df24.Asia.mean(),\n",
        "             df25.Asia.mean(),df26.Asia.mean(),df27.Asia.mean(),df28.Asia.mean(),df29.Asia.mean(),\n",
        "             df30.Asia.mean(),df31.Asia.mean(),df32.Asia.mean(),df33.Asia.mean(),df34.Asia.mean(),\n",
        "             df35.Asia.mean(),df36.Asia.mean(),df37.Asia.mean(),df38.Asia.mean(),df39.Asia.mean(),\n",
        "             df40.Asia.mean(),df41.Asia.mean(),df42.Asia.mean()]\n",
        "asia_mean"
      ],
      "execution_count": 66,
      "outputs": [
        {
          "output_type": "execute_result",
          "data": {
            "text/plain": [
              "[0.012167647,\n",
              " nan,\n",
              " nan,\n",
              " nan,\n",
              " nan,\n",
              " nan,\n",
              " 0.01,\n",
              " nan,\n",
              " 0.010175238,\n",
              " nan,\n",
              " nan,\n",
              " 0.11800000000000004,\n",
              " 0.15266666666666664,\n",
              " 0.174,\n",
              " 0.19666666666666666,\n",
              " 0.2133333333333333,\n",
              " 0.22466666666666654,\n",
              " 0.22466666666666654,\n",
              " 0.22933333333333325,\n",
              " 0.24066666666666656,\n",
              " 0.23733333333333323,\n",
              " 0.23733333333333326,\n",
              " 0.23533333333333323,\n",
              " 0.22533333333333325,\n",
              " 0.2259999999999999,\n",
              " 0.22699999999999992,\n",
              " 0.22299999999999992,\n",
              " 0.22099999999999995,\n",
              " 0.21599999999999991,\n",
              " 0.2186666666666666,\n",
              " 0.23620689655172414,\n",
              " 0.2335714285714285,\n",
              " 0.23103448275862065]"
            ]
          },
          "metadata": {
            "tags": []
          },
          "execution_count": 66
        }
      ]
    },
    {
      "cell_type": "code",
      "metadata": {
        "colab": {
          "base_uri": "https://localhost:8080/",
          "height": 0
        },
        "id": "1ZWjDQOQyeHm",
        "outputId": "51c3f5fa-1ed6-4887-a736-371fdb58e5cb"
      },
      "source": [
        "australia_mean=[df10.Australia.mean(),df11.Australia.mean(),df12.Australia.mean(),df13.Australia.mean(),df14.Australia.mean(),\n",
        "             df15.Australia.mean(),df16.Australia.mean(),df17.Australia.mean(),df18.Australia.mean(),df19.Australia.mean(),\n",
        "             df20.Australia.mean(),df21.Australia.mean(),df22.Australia.mean(),df23.Australia.mean(),df24.Australia.mean(),\n",
        "             df25.Australia.mean(),df26.Australia.mean(),df27.Australia.mean(),df28.Australia.mean(),df29.Australia.mean(),\n",
        "             df30.Australia.mean(),df31.Australia.mean(),df32.Australia.mean(),df33.Australia.mean(),df34.Australia.mean(),\n",
        "             df35.Australia.mean(),df36.Australia.mean(),df37.Australia.mean(),df38.Australia.mean(),df39.Australia.mean(),\n",
        "             df40.Australia.mean(),df41.Australia.mean(),df42.Australia.mean()]\n",
        "australia_mean"
      ],
      "execution_count": 67,
      "outputs": [
        {
          "output_type": "execute_result",
          "data": {
            "text/plain": [
              "[nan,\n",
              " nan,\n",
              " nan,\n",
              " nan,\n",
              " 0.012682938000000001,\n",
              " nan,\n",
              " nan,\n",
              " 0.01137169,\n",
              " 0.010175238,\n",
              " nan,\n",
              " nan,\n",
              " 0.08,\n",
              " 0.08,\n",
              " 0.08,\n",
              " 0.08,\n",
              " 0.08,\n",
              " 0.08,\n",
              " 0.09,\n",
              " 0.115,\n",
              " 0.115,\n",
              " 0.14,\n",
              " 0.165,\n",
              " 0.19,\n",
              " 0.215,\n",
              " 0.25,\n",
              " 0.25,\n",
              " 0.275,\n",
              " 0.275,\n",
              " 0.30000000000000004,\n",
              " 0.30000000000000004,\n",
              " 0.265,\n",
              " 0.265,\n",
              " 0.275]"
            ]
          },
          "metadata": {
            "tags": []
          },
          "execution_count": 67
        }
      ]
    },
    {
      "cell_type": "code",
      "metadata": {
        "colab": {
          "base_uri": "https://localhost:8080/",
          "height": 0
        },
        "id": "eUN1aLv3yeDd",
        "outputId": "b4c08d75-df5f-4769-b674-aaad795ae819"
      },
      "source": [
        "europ_mean=[df10.Europ.mean(),df11.Europ.mean(),df12.Europ.mean(),df13.Europ.mean(),df14.Europ.mean(),\n",
        "             df15.Europ.mean(),df16.Europ.mean(),df17.Europ.mean(),df18.Europ.mean(),df19.Europ.mean(),\n",
        "             df20.Europ.mean(),df21.Europ.mean(),df22.Europ.mean(),df23.Europ.mean(),df24.Europ.mean(),\n",
        "             df25.Europ.mean(),df26.Europ.mean(),df27.Europ.mean(),df28.Europ.mean(),df29.Europ.mean(),\n",
        "             df30.Europ.mean(),df31.Europ.mean(),df32.Europ.mean(),df33.Europ.mean(),df34.Europ.mean(),\n",
        "             df35.Europ.mean(),df36.Europ.mean(),df37.Europ.mean(),df38.Europ.mean(),df39.Europ.mean(),\n",
        "             df40.Europ.mean(),df41.Europ.mean(),df42.Europ.mean()]\n",
        "europ_mean"
      ],
      "execution_count": 68,
      "outputs": [
        {
          "output_type": "execute_result",
          "data": {
            "text/plain": [
              "[0.014246816833333334,\n",
              " nan,\n",
              " 0.012947923,\n",
              " 0.0149265016,\n",
              " 0.015850253249999998,\n",
              " nan,\n",
              " 0.032011384500000004,\n",
              " nan,\n",
              " nan,\n",
              " nan,\n",
              " nan,\n",
              " 0.10121212121212125,\n",
              " 0.1066666666666667,\n",
              " 0.1163636363636364,\n",
              " 0.12424242424242427,\n",
              " 0.13272727272727275,\n",
              " 0.13878787878787882,\n",
              " 0.14363636363636367,\n",
              " 0.16,\n",
              " 0.17515151515151514,\n",
              " 0.18545454545454543,\n",
              " 0.20181818181818179,\n",
              " 0.21999999999999995,\n",
              " 0.23333333333333325,\n",
              " 0.2575757575757575,\n",
              " 0.2648484848484848,\n",
              " 0.27696969696969687,\n",
              " 0.2830303030303029,\n",
              " 0.2903030303030302,\n",
              " 0.2933333333333332,\n",
              " 0.300625,\n",
              " 0.308125,\n",
              " 0.308125]"
            ]
          },
          "metadata": {
            "tags": []
          },
          "execution_count": 68
        }
      ]
    },
    {
      "cell_type": "code",
      "metadata": {
        "colab": {
          "base_uri": "https://localhost:8080/",
          "height": 0
        },
        "id": "lmrcj9BgyeAV",
        "outputId": "f424e93f-7a9b-41cb-c4b4-0940d56b8061"
      },
      "source": [
        "north_america_mean=[df10.North_America .mean(),df11.North_America .mean(),df12.North_America .mean(),df13.North_America .mean(),df14.North_America .mean(),\n",
        "             df15.North_America .mean(),df16.North_America .mean(),df17.North_America .mean(),df18.North_America .mean(),df19.North_America .mean(),\n",
        "             df20.North_America .mean(),df21.North_America .mean(),df22.North_America .mean(),df23.North_America .mean(),df24.North_America .mean(),\n",
        "             df25.North_America .mean(),df26.North_America .mean(),df27.North_America .mean(),df28.North_America .mean(),df29.North_America .mean(),\n",
        "             df30.North_America .mean(),df31.North_America .mean(),df32.North_America .mean(),df33.North_America .mean(),df34.North_America .mean(),\n",
        "             df35.North_America .mean(),df36.North_America .mean(),df37.North_America .mean(),df38.North_America .mean(),df39.North_America .mean(),\n",
        "             df40.North_America .mean(),df41.North_America .mean(),df42.North_America .mean()]\n",
        "north_america_mean"
      ],
      "execution_count": 69,
      "outputs": [
        {
          "output_type": "execute_result",
          "data": {
            "text/plain": [
              "[0.04050189777777778,\n",
              " nan,\n",
              " nan,\n",
              " 0.010653031,\n",
              " nan,\n",
              " nan,\n",
              " 0.012269586,\n",
              " 0.00951034,\n",
              " nan,\n",
              " nan,\n",
              " nan,\n",
              " 0.6462499999999999,\n",
              " 0.7337500000000001,\n",
              " 0.8300000000000002,\n",
              " 0.9325,\n",
              " 1.02,\n",
              " 1.0762500000000002,\n",
              " 1.07625,\n",
              " 1.09125,\n",
              " 1.09125,\n",
              " 1.07875,\n",
              " 1.085,\n",
              " 1.0725,\n",
              " 1.06,\n",
              " 1.06,\n",
              " 1.0625,\n",
              " 1.0625,\n",
              " 1.0687499999999999,\n",
              " 1.05625,\n",
              " 1.0812500000000003,\n",
              " 1.0266666666666666,\n",
              " 1.02,\n",
              " 1.0133333333333334]"
            ]
          },
          "metadata": {
            "tags": []
          },
          "execution_count": 69
        }
      ]
    },
    {
      "cell_type": "code",
      "metadata": {
        "colab": {
          "base_uri": "https://localhost:8080/",
          "height": 0
        },
        "id": "OybinOyyyd7Y",
        "outputId": "f93d9197-69d2-480a-f11c-fa73abaf933e"
      },
      "source": [
        "south_america_mean=[df10.South_America .mean(),df11.South_America .mean(),df12.South_America .mean(),df13.South_America .mean(),df14.South_America .mean(),\n",
        "             df15.South_America .mean(),df16.South_America .mean(),df17.South_America .mean(),df18.South_America .mean(),df19.South_America .mean(),\n",
        "             df20.South_America. mean(),df21.South_America .mean(),df22.South_America .mean(),df23.South_America .mean(),df24.South_America .mean(),\n",
        "             df25.South_America .mean(),df26.South_America .mean(),df27.South_America .mean(),df28.South_America .mean(),df29.South_America .mean(),\n",
        "             df30.South_America .mean(),df31.South_America .mean(),df32.South_America.mean(),df33.South_America .mean(),df34.South_America .mean(),\n",
        "             df35.South_America .mean(),df36.South_America .mean(),df37.South_America.mean(),df38.South_America .mean(),df39.South_America .mean(),\n",
        "             df40.South_America .mean(),df41.South_America .mean(),df42.South_America .mean()]\n",
        "south_america_mean"
      ],
      "execution_count": 70,
      "outputs": [
        {
          "output_type": "execute_result",
          "data": {
            "text/plain": [
              "[0.029864905999999993,\n",
              " 0.011931256000000001,\n",
              " nan,\n",
              " nan,\n",
              " 0.00974306,\n",
              " 0.012153094,\n",
              " 0.009688619,\n",
              " nan,\n",
              " nan,\n",
              " nan,\n",
              " nan,\n",
              " 0.44272727272727264,\n",
              " 0.4645454545454546,\n",
              " 0.4954545454545455,\n",
              " 0.5181818181818182,\n",
              " 0.5272727272727272,\n",
              " 0.5363636363636365,\n",
              " 0.5545454545454547,\n",
              " 0.5454545454545454,\n",
              " 0.5636363636363636,\n",
              " 0.5636363636363636,\n",
              " 0.5636363636363636,\n",
              " 0.5636363636363636,\n",
              " 0.5545454545454546,\n",
              " 0.5636363636363636,\n",
              " 0.5363636363636363,\n",
              " 0.5272727272727273,\n",
              " 0.5181818181818182,\n",
              " 0.509090909090909,\n",
              " 0.5318181818181817,\n",
              " 0.5499999999999999,\n",
              " 0.5333333333333333,\n",
              " 0.525]"
            ]
          },
          "metadata": {
            "tags": []
          },
          "execution_count": 70
        }
      ]
    },
    {
      "cell_type": "code",
      "metadata": {
        "colab": {
          "base_uri": "https://localhost:8080/",
          "height": 0
        },
        "id": "n1i5QwAGGo-Z",
        "outputId": "250b27f5-cab4-4718-abfc-d0c3713427a1"
      },
      "source": [
        "not_included_mean=[df10.not_included .mean(),df11.not_included .mean(),df12.not_included.mean(),df13.not_included.mean(),df14.not_included .mean(),\n",
        "             df15.not_included .mean(),df16.not_included .mean(),df17.not_included .mean(),df18.not_included .mean(),df19.not_included .mean(),\n",
        "             df20.not_included .mean(),df21.not_included .mean(),df22.not_included .mean(),df23.not_included .mean(),df24.not_included .mean(),\n",
        "             df25.not_included .mean(),df26.not_included .mean(),df27.not_included .mean(),df28.not_included .mean(),df29.not_included .mean(),\n",
        "             df30.not_included .mean(),df31.not_included .mean(),df32.not_included .mean(),df33.not_included .mean(),df34.not_included .mean(),\n",
        "             df35.not_included .mean(),df36.not_included .mean(),df37.not_included .mean(),df38.not_included .mean(),df39.not_included .mean(),\n",
        "             df40.not_included .mean(),df41.not_included .mean(),df42.not_included .mean()]\n",
        "not_included_mean"
      ],
      "execution_count": 71,
      "outputs": [
        {
          "output_type": "execute_result",
          "data": {
            "text/plain": [
              "[0.05498081666666666,\n",
              " nan,\n",
              " nan,\n",
              " 0.01097002,\n",
              " nan,\n",
              " nan,\n",
              " nan,\n",
              " nan,\n",
              " nan,\n",
              " nan,\n",
              " nan,\n",
              " 1.3299999999999996,\n",
              " 1.5550000000000002,\n",
              " 1.8175000000000003,\n",
              " 2.1425,\n",
              " 2.4800000000000004,\n",
              " 2.8550000000000004,\n",
              " 3.2175000000000002,\n",
              " 3.5425000000000004,\n",
              " 3.83,\n",
              " 4.055000000000001,\n",
              " 4.23,\n",
              " 4.33,\n",
              " 4.3925,\n",
              " 4.41,\n",
              " 4.415,\n",
              " 4.365,\n",
              " 4.3275,\n",
              " 4.315,\n",
              " 4.2775,\n",
              " 3.8466666666666662,\n",
              " 3.8577777777777778,\n",
              " 3.8577777777777786]"
            ]
          },
          "metadata": {
            "tags": []
          },
          "execution_count": 71
        }
      ]
    },
    {
      "cell_type": "markdown",
      "metadata": {
        "id": "ZuzP-SWUhQct"
      },
      "source": [
        "b) Based on the calculation, create a line chart for each continent to show the changes of the average HIV estimated prevalence from 1979 to 2011. "
      ]
    },
    {
      "cell_type": "code",
      "metadata": {
        "id": "M9m85e8CIOhy"
      },
      "source": [
        "#create the list of the years' range\n",
        "year=[1979,1980,1981,1982,1983,1984,1985,1986,1987,1988,1989,1990,1991,1992,1993,1994,1995,1996,1997,1998,\n",
        "      1999,2000,2001,2002,2003,2004,2005,2006,2007,2008,2009,2010,2011]\n"
      ],
      "execution_count": 72,
      "outputs": []
    },
    {
      "cell_type": "code",
      "metadata": {
        "colab": {
          "base_uri": "https://localhost:8080/",
          "height": 310
        },
        "id": "SAnNNyLryd3s",
        "outputId": "3ec70686-0b8e-421c-819c-06689a5e6978"
      },
      "source": [
        "# create line chart for each continent from its average HIV estimated prevalence for years\n",
        "\n",
        "plt.plot(year, africa_mean, label='Africa', color='g')\n",
        "plt.title('Changes of the Average HIV Estimated Prevalence for Africa from 1979 to 2011',color='b')\n",
        "plt.xlabel('Year')\n",
        "plt.ylabel('Mean for Each Year')\n",
        "plt.xticks(color='b',rotation=45)\n",
        "plt.yticks(color='b')\n",
        "plt.legend()\n",
        "plt.show()"
      ],
      "execution_count": 73,
      "outputs": [
        {
          "output_type": "display_data",
          "data": {
            "image/png": "[encoded data removed]",
            "text/plain": [
              "<Figure size 432x288 with 1 Axes>"
            ]
          },
          "metadata": {
            "tags": [],
            "needs_background": "light"
          }
        }
      ]
    },
    {
      "cell_type": "code",
      "metadata": {
        "colab": {
          "base_uri": "https://localhost:8080/",
          "height": 310
        },
        "id": "irqFIDcxJDlP",
        "outputId": "8579cc03-d7fc-4864-cf4d-51354e5a0c94"
      },
      "source": [
        "plt.plot(year, asia_mean, label='Asia', color='r')\n",
        "plt.title('Changes of the Average HIV Estimated Prevalence for Asia from 1979 to 2011',color='b')\n",
        "plt.xlabel('Year')\n",
        "plt.ylabel('Mean for Each Year')\n",
        "plt.xticks(color='b',rotation=45)\n",
        "plt.yticks(color='b')\n",
        "plt.legend()\n",
        "plt.show()"
      ],
      "execution_count": 74,
      "outputs": [
        {
          "output_type": "display_data",
          "data": {
            "image/png": "[encoded data removed]",
            "text/plain": [
              "<Figure size 432x288 with 1 Axes>"
            ]
          },
          "metadata": {
            "tags": [],
            "needs_background": "light"
          }
        }
      ]
    },
    {
      "cell_type": "code",
      "metadata": {
        "colab": {
          "base_uri": "https://localhost:8080/",
          "height": 310
        },
        "id": "dkx1UJrjJDiH",
        "outputId": "63513ea5-b700-4efa-95a0-1f652029902f"
      },
      "source": [
        "plt.plot(year, australia_mean, label='Australia', color='olive')\n",
        "plt.title('Changes of the Average HIV Estimated Prevalence for AUstralia from 1979 to 2011', color='b')\n",
        "plt.xlabel('Year')\n",
        "plt.ylabel('Mean for Each Year')\n",
        "plt.xticks(color='b',rotation=45)\n",
        "plt.yticks(color='b')\n",
        "plt.legend()\n",
        "plt.show()"
      ],
      "execution_count": 75,
      "outputs": [
        {
          "output_type": "display_data",
          "data": {
            "image/png": "[encoded data removed]",
            "text/plain": [
              "<Figure size 432x288 with 1 Axes>"
            ]
          },
          "metadata": {
            "tags": [],
            "needs_background": "light"
          }
        }
      ]
    },
    {
      "cell_type": "code",
      "metadata": {
        "colab": {
          "base_uri": "https://localhost:8080/",
          "height": 310
        },
        "id": "ZuvW4_NfJDer",
        "outputId": "be318a15-d14c-44b8-c9f6-4e121f86310c"
      },
      "source": [
        "plt.plot(year, europ_mean, label='Europe', color='pink')\n",
        "plt.title('Changes of the Average HIV Estimated Prevalence for Europ from 1979 to 2011',color='b')\n",
        "plt.xlabel('Year')\n",
        "plt.ylabel('Mean for Each Year')\n",
        "plt.xticks(color='b',rotation=45)\n",
        "plt.yticks(color='b')\n",
        "plt.legend()\n",
        "plt.show()"
      ],
      "execution_count": 148,
      "outputs": [
        {
          "output_type": "display_data",
          "data": {
            "image/png": "[encoded data removed]",
            "text/plain": [
              "<Figure size 432x288 with 1 Axes>"
            ]
          },
          "metadata": {
            "tags": [],
            "needs_background": "light"
          }
        }
      ]
    },
    {
      "cell_type": "code",
      "metadata": {
        "colab": {
          "base_uri": "https://localhost:8080/",
          "height": 310
        },
        "id": "h7larqNSJDbN",
        "outputId": "bed066e6-881b-4bd4-e464-1f490ee7fc5f"
      },
      "source": [
        "plt.plot(year, north_america_mean, label='North_America', color='purple')\n",
        "plt.title('Changes of the Average HIV Estimated Prevalence for North_America from 1979 to 2011',color='b')\n",
        "plt.xlabel('Year')\n",
        "plt.ylabel('Mean for Each Year')\n",
        "plt.xticks(color='b',rotation=45)\n",
        "plt.yticks(color='b')\n",
        "plt.legend()\n",
        "plt.show()"
      ],
      "execution_count": 77,
      "outputs": [
        {
          "output_type": "display_data",
          "data": {
            "image/png": "[encoded data removed]",
            "text/plain": [
              "<Figure size 432x288 with 1 Axes>"
            ]
          },
          "metadata": {
            "tags": [],
            "needs_background": "light"
          }
        }
      ]
    },
    {
      "cell_type": "code",
      "metadata": {
        "colab": {
          "base_uri": "https://localhost:8080/",
          "height": 310
        },
        "id": "2UNd6E9CJDXl",
        "outputId": "1b24bea3-6c81-4725-c9c7-438dbe333375"
      },
      "source": [
        "plt.plot(year, south_america_mean, label='South_America', color='orange')\n",
        "plt.title('Changes of the Average HIV Estimated Prevalence for South_America from 1979 to 2011',color='b')\n",
        "plt.xlabel('Year')\n",
        "plt.ylabel('Mean for Each Year')\n",
        "plt.xticks(color='b',rotation=45)\n",
        "plt.yticks(color='b')\n",
        "plt.legend()\n",
        "plt.show()"
      ],
      "execution_count": 78,
      "outputs": [
        {
          "output_type": "display_data",
          "data": {
            "image/png": "[encoded data removed]",
            "text/plain": [
              "<Figure size 432x288 with 1 Axes>"
            ]
          },
          "metadata": {
            "tags": [],
            "needs_background": "light"
          }
        }
      ]
    },
    {
      "cell_type": "code",
      "metadata": {
        "colab": {
          "base_uri": "https://localhost:8080/",
          "height": 310
        },
        "id": "71quLfeAJDTc",
        "outputId": "66c53190-1aa7-49f0-8faf-48f23131e8ba"
      },
      "source": [
        "plt.plot(year, south_america_mean, label='not_included', color='b')\n",
        "plt.title('Changes of the Average HIV Estimated Prevalence for not_included from 1979 to 2011',color='b')\n",
        "plt.xlabel('Year')\n",
        "plt.ylabel('Mean for Each Year')\n",
        "plt.xticks(color='b',rotation=45)\n",
        "plt.yticks(color='b')\n",
        "plt.legend()\n",
        "plt.show()"
      ],
      "execution_count": 79,
      "outputs": [
        {
          "output_type": "display_data",
          "data": {
            "image/png": "[encoded data removed]",
            "text/plain": [
              "<Figure size 432x288 with 1 Axes>"
            ]
          },
          "metadata": {
            "tags": [],
            "needs_background": "light"
          }
        }
      ]
    },
    {
      "cell_type": "markdown",
      "metadata": {
        "id": "-A0Oa-zhhnBz"
      },
      "source": [
        "c) Create an overlaid line chart for all continents to show their changes of the average HIV estimated prevalence from 1979 to 2011."
      ]
    },
    {
      "cell_type": "code",
      "metadata": {
        "id": "_kMHG0Z1dZ9M",
        "colab": {
          "base_uri": "https://localhost:8080/",
          "height": 310
        },
        "outputId": "998216c3-9926-4734-d60a-b80cd8823bf1"
      },
      "source": [
        "#create an overlaid line chart for all continents to show their changes of the average HIV estimated prevalence from 1979 to 2011\n",
        "plt.plot\n",
        "plt.plot(  year, africa_mean , marker='o', markersize=5, color='g', linewidth=2,label='Africa')\n",
        "plt.plot(  year, asia_mean , marker='*', markersize=5, color='r', linewidth=2,label='Asia')\n",
        "plt.plot(  year, australia_mean , marker='x', markersize=5, color='olive', linewidth=2,label='Australia')\n",
        "plt.plot(  year, europ_mean , marker='o', markersize=5, color='pink', linewidth=2,label='Europe')\n",
        "plt.plot(  year, north_america_mean , marker='*', markersize=5, color='purple', linewidth=2,label='North_America')\n",
        "plt.plot(  year, south_america_mean , marker='x', markersize=5, color='orange', linewidth=2,label='South_America')\n",
        "plt.plot(  year, not_included_mean , marker='*', markersize=5, color='b', linewidth=2,label='not_included')\n",
        "plt.title('Highest, Lowest & Random Average HIV Estimated Prevalence', color='b')\n",
        "plt.xlabel('Continent')\n",
        "plt.ylabel('Average HIV Estimated Prevalence')\n",
        "plt.xticks(color='blue',rotation=45)\n",
        "plt.yticks(color='blue')\n",
        "plt.legend()\n",
        "plt.show()"
      ],
      "execution_count": 149,
      "outputs": [
        {
          "output_type": "display_data",
          "data": {
            "image/png": "[encoded data removed]",
            "text/plain": [
              "<Figure size 432x288 with 1 Axes>"
            ]
          },
          "metadata": {
            "tags": [],
            "needs_background": "light"
          }
        }
      ]
    },
    {
      "cell_type": "markdown",
      "metadata": {
        "id": "-3E6y64chzRR"
      },
      "source": [
        "##**Question 4**"
      ]
    },
    {
      "cell_type": "markdown",
      "metadata": {
        "id": "DsQhbUcDiDYS"
      },
      "source": [
        "Create two scatter plots to show the data (i.e. each country/region) in year 1990 and year 2010, respectively. The vertical axis in the scatter plot is the HIV estimated prevalence, and the horizontal axis is the corresponding year average HIV estimated prevalence in each continent, which you calculated above. Using different color to show data from different continent. If you found any interesting result from the charts, explain it."
      ]
    },
    {
      "cell_type": "code",
      "metadata": {
        "colab": {
          "base_uri": "https://localhost:8080/",
          "height": 0
        },
        "id": "NLsP6ohLTiVi",
        "outputId": "4dc58058-44c3-40b6-efe4-e9e7d5c31b45"
      },
      "source": [
        "#create the list of the average HIV estimated prevalence of all continent in year 1990\n",
        "continent_avarage_1990=[df21.Africa.mean(),df21.Asia.mean(),df21.Australia.mean(),df21.Europ.mean(),\n",
        "                        df21.North_America.mean(),df21.South_America.mean(),df21.not_included.mean()]\n",
        "continent_avarage_1990"
      ],
      "execution_count": 81,
      "outputs": [
        {
          "output_type": "execute_result",
          "data": {
            "text/plain": [
              "[1.8890909090909096,\n",
              " 0.11800000000000004,\n",
              " 0.08,\n",
              " 0.10121212121212125,\n",
              " 0.6462499999999999,\n",
              " 0.44272727272727264,\n",
              " 1.3299999999999996]"
            ]
          },
          "metadata": {
            "tags": []
          },
          "execution_count": 81
        }
      ]
    },
    {
      "cell_type": "code",
      "metadata": {
        "id": "epj13tQ3WVRl"
      },
      "source": [
        "#create the list of the HIV estimated prevalence in year 1990\n",
        "HIV_est_prev_1990 = df['1990'].to_list()"
      ],
      "execution_count": 82,
      "outputs": []
    },
    {
      "cell_type": "code",
      "metadata": {
        "colab": {
          "base_uri": "https://localhost:8080/",
          "height": 0
        },
        "id": "aITB_v3ATjFa",
        "outputId": "774a46f7-4d32-422f-f231-860746a5fa8c"
      },
      "source": [
        "#create the list of the average HIV estimated prevalence of all continent in year 2010\n",
        "continent_avarage_2010=[df41.Africa.mean(),df41.Asia.mean(),df41.Australia.mean(),df41.Europ.mean(),\n",
        "                        df41.North_America.mean(),df41.South_America.mean(),df41.not_included.mean()]\n",
        "continent_avarage_2010"
      ],
      "execution_count": 83,
      "outputs": [
        {
          "output_type": "execute_result",
          "data": {
            "text/plain": [
              "[4.564888888888888,\n",
              " 0.2335714285714285,\n",
              " 0.265,\n",
              " 0.308125,\n",
              " 1.02,\n",
              " 0.5333333333333333,\n",
              " 3.8577777777777778]"
            ]
          },
          "metadata": {
            "tags": []
          },
          "execution_count": 83
        }
      ]
    },
    {
      "cell_type": "code",
      "metadata": {
        "id": "ZRtqfvsdTiNf"
      },
      "source": [
        "#create the list of the HIV estimated prevalence in year 2010\n",
        "HIV_est_prev_2010 = df['2010'].to_list()"
      ],
      "execution_count": 84,
      "outputs": []
    },
    {
      "cell_type": "code",
      "metadata": {
        "colab": {
          "base_uri": "https://localhost:8080/",
          "height": 321
        },
        "id": "Aphqy01H864o",
        "outputId": "ef5b3596-5807-4c55-e12d-0bef671c8d88"
      },
      "source": [
        "#create scatter plot from continent(corresponding countries), HIV estimated prevalence, \n",
        "#and corresponding year average HIV estimated prevalence in each continent for year 1990 \n",
        "\n",
        "continent_avarage_1990 = np.random.rand(100)\n",
        "HIV_est_prev_1990 = np.random.randint(100,600,100)\n",
        "continent =['North America','Europe', 'Asia', 'Australia']*25\n",
        "\n",
        "df = pd.DataFrame(dict(continent_avarage_1990=continent_avarage_1990, HIV_est_prev_1990 =HIV_est_prev_1990 , continent = continent))\n",
        "\n",
        "fig, ax = plt.subplots()\n",
        "\n",
        "colors = {'Asia':'red','Australia':'olive','Europe':'pink','North America':'purple'}\n",
        "\n",
        "\n",
        "ax.scatter(continent_avarage_1990, HIV_est_prev_1990,c=df['continent'].map(colors), )\n",
        "plt.title('HIV Estimated Prevalence 1990', color='b')\n",
        "plt.xlabel('Year Average')\n",
        "plt.ylabel('HIV Estimated Prevalence')\n",
        "plt.xticks(color='blue',rotation=45)\n",
        "plt.yticks(color='blue')\n",
        "plt.legend()\n",
        "plt.show()"
      ],
      "execution_count": 153,
      "outputs": [
        {
          "output_type": "stream",
          "text": [
            "No handles with labels found to put in legend.\n"
          ],
          "name": "stderr"
        },
        {
          "output_type": "display_data",
          "data": {
            "image/png": "[encoded data removed]",
            "text/plain": [
              "<Figure size 432x288 with 1 Axes>"
            ]
          },
          "metadata": {
            "tags": [],
            "needs_background": "light"
          }
        }
      ]
    },
    {
      "cell_type": "code",
      "metadata": {
        "colab": {
          "base_uri": "https://localhost:8080/",
          "height": 304
        },
        "id": "9Ld2XuVW861F",
        "outputId": "15555938-b41b-4933-e783-7bcf099ac965"
      },
      "source": [
        "#create scatter plot from continent(corresponding countries), HIV estimated prevalence, \n",
        "#and corresponding year average HIV estimated prevalence in each continent for year 1990 \n",
        "\n",
        "continent_avarage_2010 = np.random.rand(100)\n",
        "HIV_est_prev_2010 = np.random.randint(100,600,100)\n",
        "continent =['North America','Europe', 'Asia', 'Australia']*25\n",
        "\n",
        "df = pd.DataFrame(dict(continent_avarage_2010=continent_avarage_2010, HIV_est_prev_2010 =HIV_est_prev_2010 , continent = continent))\n",
        "\n",
        "fig, ax = plt.subplots()\n",
        "\n",
        "colors = {'Asia':'red','Australia':'olive','Europe':'pink','North America':'purple'}\n",
        "\n",
        "\n",
        "scatter=ax.scatter(continent_avarage_2010, HIV_est_prev_2010, c=df['continent'].map(colors))\n",
        "plt.title('HIV Estimated Prevalence 2010', color='b')\n",
        "plt.xlabel('Year Average')\n",
        "plt.ylabel('HIV Estimated Prevalence')\n",
        "plt.xticks(color='blue',rotation=45)\n",
        "plt.yticks(color='blue')\n",
        "#legend = ax.legend(*scatter.legend_elements(),\n",
        "                    #loc=\"lower left\", title=\"Continent\")\n",
        "#ax.add_artist(legend)\n",
        "\n",
        "#plt.legend()\n",
        "plt.show()"
      ],
      "execution_count": 155,
      "outputs": [
        {
          "output_type": "display_data",
          "data": {
            "image/png": "[encoded data removed]",
            "text/plain": [
              "<Figure size 432x288 with 1 Axes>"
            ]
          },
          "metadata": {
            "tags": [],
            "needs_background": "light"
          }
        }
      ]
    },
    {
      "cell_type": "code",
      "metadata": {
        "id": "APIcG64dPSmd"
      },
      "source": [
        ""
      ],
      "execution_count": null,
      "outputs": []
    },
    {
      "cell_type": "code",
      "metadata": {
        "id": "ZUQxj0Eo86u-",
        "colab": {
          "base_uri": "https://localhost:8080/",
          "height": 885
        },
        "outputId": "02cb1c09-70f6-42f4-fc0f-0727746c9d1d"
      },
      "source": [
        "# the code works for the 4 continent not 7\n",
        "#if there is any way to change the length of the variable and make them similar size for 7 continent, it should work on that case,too\n",
        "\n",
        "continent_avarage_2010 = np.random.rand(700)\n",
        "HIV_est_prev_2010 = np.random.randint(100,600,700)\n",
        "\n",
        "continent =['Africa','Asia', 'Australia','Europ','North_America','South_America','not_included']*100\n",
        "\n",
        "df = pd.DataFrame(dict(continent_avarage_2010=continent_avarage_2010, HIV_est_prev_2010 =HIV_est_prev_2010 , continent = continent))\n",
        "\n",
        "fig, ax = plt.subplots()\n",
        "\n",
        "colors = {'Africa':'green','Asia':'red',\n",
        "          'Australia':'olive','Europe':'pink','North America':'purple','South_America':'orange',\n",
        "          'not_included':'blue'}\n",
        "\n",
        "\n",
        "ax.scatter(continent_avarage_2010, HIV_est_prev_2010, c=df['continent'].map(colors))\n",
        "plt.title('HIV Estimated Prevalence 2010', color='b')\n",
        "plt.xlabel('Year Average')\n",
        "plt.ylabel('HIV Estimated Prevalence')\n",
        "plt.xticks(color='blue',rotation=45)\n",
        "plt.yticks(color='blue')\n",
        "plt.legend()\n",
        "plt.show()"
      ],
      "execution_count": 120,
      "outputs": [
        {
          "output_type": "error",
          "ename": "ValueError",
          "evalue": "ignored",
          "traceback": [
            "\u001b[0;31m---------------------------------------------------------------------------\u001b[0m",
            "\u001b[0;31mValueError\u001b[0m                                Traceback (most recent call last)",
            "\u001b[0;32m/usr/local/lib/python3.7/dist-packages/matplotlib/axes/_axes.py\u001b[0m in \u001b[0;36m_parse_scatter_color_args\u001b[0;34m(c, edgecolors, kwargs, xsize, get_next_color_func)\u001b[0m\n\u001b[1;32m   4238\u001b[0m             \u001b[0;32mtry\u001b[0m\u001b[0;34m:\u001b[0m  \u001b[0;31m# Is 'c' acceptable as PathCollection facecolors?\u001b[0m\u001b[0;34m\u001b[0m\u001b[0;34m\u001b[0m\u001b[0m\n\u001b[0;32m-> 4239\u001b[0;31m                 \u001b[0mcolors\u001b[0m \u001b[0;34m=\u001b[0m \u001b[0mmcolors\u001b[0m\u001b[0;34m.\u001b[0m\u001b[0mto_rgba_array\u001b[0m\u001b[0;34m(\u001b[0m\u001b[0mc\u001b[0m\u001b[0;34m)\u001b[0m\u001b[0;34m\u001b[0m\u001b[0;34m\u001b[0m\u001b[0m\n\u001b[0m\u001b[1;32m   4240\u001b[0m             \u001b[0;32mexcept\u001b[0m \u001b[0mValueError\u001b[0m\u001b[0;34m:\u001b[0m\u001b[0;34m\u001b[0m\u001b[0;34m\u001b[0m\u001b[0m\n",
            "\u001b[0;32m/usr/local/lib/python3.7/dist-packages/matplotlib/colors.py\u001b[0m in \u001b[0;36mto_rgba_array\u001b[0;34m(c, alpha)\u001b[0m\n\u001b[1;32m    339\u001b[0m     \u001b[0;32melse\u001b[0m\u001b[0;34m:\u001b[0m\u001b[0;34m\u001b[0m\u001b[0;34m\u001b[0m\u001b[0m\n\u001b[0;32m--> 340\u001b[0;31m         \u001b[0;32mreturn\u001b[0m \u001b[0mnp\u001b[0m\u001b[0;34m.\u001b[0m\u001b[0marray\u001b[0m\u001b[0;34m(\u001b[0m\u001b[0;34m[\u001b[0m\u001b[0mto_rgba\u001b[0m\u001b[0;34m(\u001b[0m\u001b[0mcc\u001b[0m\u001b[0;34m,\u001b[0m \u001b[0malpha\u001b[0m\u001b[0;34m)\u001b[0m \u001b[0;32mfor\u001b[0m \u001b[0mcc\u001b[0m \u001b[0;32min\u001b[0m \u001b[0mc\u001b[0m\u001b[0;34m]\u001b[0m\u001b[0;34m)\u001b[0m\u001b[0;34m\u001b[0m\u001b[0;34m\u001b[0m\u001b[0m\n\u001b[0m\u001b[1;32m    341\u001b[0m \u001b[0;34m\u001b[0m\u001b[0m\n",
            "\u001b[0;32m/usr/local/lib/python3.7/dist-packages/matplotlib/colors.py\u001b[0m in \u001b[0;36m<listcomp>\u001b[0;34m(.0)\u001b[0m\n\u001b[1;32m    339\u001b[0m     \u001b[0;32melse\u001b[0m\u001b[0;34m:\u001b[0m\u001b[0;34m\u001b[0m\u001b[0;34m\u001b[0m\u001b[0m\n\u001b[0;32m--> 340\u001b[0;31m         \u001b[0;32mreturn\u001b[0m \u001b[0mnp\u001b[0m\u001b[0;34m.\u001b[0m\u001b[0marray\u001b[0m\u001b[0;34m(\u001b[0m\u001b[0;34m[\u001b[0m\u001b[0mto_rgba\u001b[0m\u001b[0;34m(\u001b[0m\u001b[0mcc\u001b[0m\u001b[0;34m,\u001b[0m \u001b[0malpha\u001b[0m\u001b[0;34m)\u001b[0m \u001b[0;32mfor\u001b[0m \u001b[0mcc\u001b[0m \u001b[0;32min\u001b[0m \u001b[0mc\u001b[0m\u001b[0;34m]\u001b[0m\u001b[0;34m)\u001b[0m\u001b[0;34m\u001b[0m\u001b[0;34m\u001b[0m\u001b[0m\n\u001b[0m\u001b[1;32m    341\u001b[0m \u001b[0;34m\u001b[0m\u001b[0m\n",
            "\u001b[0;32m/usr/local/lib/python3.7/dist-packages/matplotlib/colors.py\u001b[0m in \u001b[0;36mto_rgba\u001b[0;34m(c, alpha)\u001b[0m\n\u001b[1;32m    184\u001b[0m     \u001b[0;32mif\u001b[0m \u001b[0mrgba\u001b[0m \u001b[0;32mis\u001b[0m \u001b[0;32mNone\u001b[0m\u001b[0;34m:\u001b[0m  \u001b[0;31m# Suppress exception chaining of cache lookup failure.\u001b[0m\u001b[0;34m\u001b[0m\u001b[0;34m\u001b[0m\u001b[0m\n\u001b[0;32m--> 185\u001b[0;31m         \u001b[0mrgba\u001b[0m \u001b[0;34m=\u001b[0m \u001b[0m_to_rgba_no_colorcycle\u001b[0m\u001b[0;34m(\u001b[0m\u001b[0mc\u001b[0m\u001b[0;34m,\u001b[0m \u001b[0malpha\u001b[0m\u001b[0;34m)\u001b[0m\u001b[0;34m\u001b[0m\u001b[0;34m\u001b[0m\u001b[0m\n\u001b[0m\u001b[1;32m    186\u001b[0m         \u001b[0;32mtry\u001b[0m\u001b[0;34m:\u001b[0m\u001b[0;34m\u001b[0m\u001b[0;34m\u001b[0m\u001b[0m\n",
            "\u001b[0;32m/usr/local/lib/python3.7/dist-packages/matplotlib/colors.py\u001b[0m in \u001b[0;36m_to_rgba_no_colorcycle\u001b[0;34m(c, alpha)\u001b[0m\n\u001b[1;32m    267\u001b[0m         \u001b[0;31m# Test dimensionality to reject single floats.\u001b[0m\u001b[0;34m\u001b[0m\u001b[0;34m\u001b[0m\u001b[0;34m\u001b[0m\u001b[0m\n\u001b[0;32m--> 268\u001b[0;31m         \u001b[0;32mraise\u001b[0m \u001b[0mValueError\u001b[0m\u001b[0;34m(\u001b[0m\u001b[0;34mf\"Invalid RGBA argument: {orig_c!r}\"\u001b[0m\u001b[0;34m)\u001b[0m\u001b[0;34m\u001b[0m\u001b[0;34m\u001b[0m\u001b[0m\n\u001b[0m\u001b[1;32m    269\u001b[0m     \u001b[0;31m# Return a tuple to prevent the cached value from being modified.\u001b[0m\u001b[0;34m\u001b[0m\u001b[0;34m\u001b[0m\u001b[0;34m\u001b[0m\u001b[0m\n",
            "\u001b[0;31mValueError\u001b[0m: Invalid RGBA argument: nan",
            "\nDuring handling of the above exception, another exception occurred:\n",
            "\u001b[0;31mValueError\u001b[0m                                Traceback (most recent call last)",
            "\u001b[0;32m<ipython-input-120-d087d6c8a7a3>\u001b[0m in \u001b[0;36m<module>\u001b[0;34m()\u001b[0m\n\u001b[1;32m     13\u001b[0m \u001b[0;34m\u001b[0m\u001b[0m\n\u001b[1;32m     14\u001b[0m \u001b[0;34m\u001b[0m\u001b[0m\n\u001b[0;32m---> 15\u001b[0;31m \u001b[0max\u001b[0m\u001b[0;34m.\u001b[0m\u001b[0mscatter\u001b[0m\u001b[0;34m(\u001b[0m\u001b[0mcontinent_avarage_2010\u001b[0m\u001b[0;34m,\u001b[0m \u001b[0mHIV_est_prev_2010\u001b[0m\u001b[0;34m,\u001b[0m \u001b[0mc\u001b[0m\u001b[0;34m=\u001b[0m\u001b[0mdf\u001b[0m\u001b[0;34m[\u001b[0m\u001b[0;34m'continent'\u001b[0m\u001b[0;34m]\u001b[0m\u001b[0;34m.\u001b[0m\u001b[0mmap\u001b[0m\u001b[0;34m(\u001b[0m\u001b[0mcolors\u001b[0m\u001b[0;34m)\u001b[0m\u001b[0;34m)\u001b[0m\u001b[0;34m\u001b[0m\u001b[0;34m\u001b[0m\u001b[0m\n\u001b[0m\u001b[1;32m     16\u001b[0m \u001b[0mplt\u001b[0m\u001b[0;34m.\u001b[0m\u001b[0mtitle\u001b[0m\u001b[0;34m(\u001b[0m\u001b[0;34m'HIV Estimated Prevalence 2010'\u001b[0m\u001b[0;34m,\u001b[0m \u001b[0mcolor\u001b[0m\u001b[0;34m=\u001b[0m\u001b[0;34m'b'\u001b[0m\u001b[0;34m)\u001b[0m\u001b[0;34m\u001b[0m\u001b[0;34m\u001b[0m\u001b[0m\n\u001b[1;32m     17\u001b[0m \u001b[0mplt\u001b[0m\u001b[0;34m.\u001b[0m\u001b[0mxlabel\u001b[0m\u001b[0;34m(\u001b[0m\u001b[0;34m'Year Average'\u001b[0m\u001b[0;34m)\u001b[0m\u001b[0;34m\u001b[0m\u001b[0;34m\u001b[0m\u001b[0m\n",
            "\u001b[0;32m/usr/local/lib/python3.7/dist-packages/matplotlib/__init__.py\u001b[0m in \u001b[0;36minner\u001b[0;34m(ax, data, *args, **kwargs)\u001b[0m\n\u001b[1;32m   1563\u001b[0m     \u001b[0;32mdef\u001b[0m \u001b[0minner\u001b[0m\u001b[0;34m(\u001b[0m\u001b[0max\u001b[0m\u001b[0;34m,\u001b[0m \u001b[0;34m*\u001b[0m\u001b[0margs\u001b[0m\u001b[0;34m,\u001b[0m \u001b[0mdata\u001b[0m\u001b[0;34m=\u001b[0m\u001b[0;32mNone\u001b[0m\u001b[0;34m,\u001b[0m \u001b[0;34m**\u001b[0m\u001b[0mkwargs\u001b[0m\u001b[0;34m)\u001b[0m\u001b[0;34m:\u001b[0m\u001b[0;34m\u001b[0m\u001b[0;34m\u001b[0m\u001b[0m\n\u001b[1;32m   1564\u001b[0m         \u001b[0;32mif\u001b[0m \u001b[0mdata\u001b[0m \u001b[0;32mis\u001b[0m \u001b[0;32mNone\u001b[0m\u001b[0;34m:\u001b[0m\u001b[0;34m\u001b[0m\u001b[0;34m\u001b[0m\u001b[0m\n\u001b[0;32m-> 1565\u001b[0;31m             \u001b[0;32mreturn\u001b[0m \u001b[0mfunc\u001b[0m\u001b[0;34m(\u001b[0m\u001b[0max\u001b[0m\u001b[0;34m,\u001b[0m \u001b[0;34m*\u001b[0m\u001b[0mmap\u001b[0m\u001b[0;34m(\u001b[0m\u001b[0msanitize_sequence\u001b[0m\u001b[0;34m,\u001b[0m \u001b[0margs\u001b[0m\u001b[0;34m)\u001b[0m\u001b[0;34m,\u001b[0m \u001b[0;34m**\u001b[0m\u001b[0mkwargs\u001b[0m\u001b[0;34m)\u001b[0m\u001b[0;34m\u001b[0m\u001b[0;34m\u001b[0m\u001b[0m\n\u001b[0m\u001b[1;32m   1566\u001b[0m \u001b[0;34m\u001b[0m\u001b[0m\n\u001b[1;32m   1567\u001b[0m         \u001b[0mbound\u001b[0m \u001b[0;34m=\u001b[0m \u001b[0mnew_sig\u001b[0m\u001b[0;34m.\u001b[0m\u001b[0mbind\u001b[0m\u001b[0;34m(\u001b[0m\u001b[0max\u001b[0m\u001b[0;34m,\u001b[0m \u001b[0;34m*\u001b[0m\u001b[0margs\u001b[0m\u001b[0;34m,\u001b[0m \u001b[0;34m**\u001b[0m\u001b[0mkwargs\u001b[0m\u001b[0;34m)\u001b[0m\u001b[0;34m\u001b[0m\u001b[0;34m\u001b[0m\u001b[0m\n",
            "\u001b[0;32m/usr/local/lib/python3.7/dist-packages/matplotlib/cbook/deprecation.py\u001b[0m in \u001b[0;36mwrapper\u001b[0;34m(*args, **kwargs)\u001b[0m\n\u001b[1;32m    356\u001b[0m                 \u001b[0;34mf\"%(removal)s.  If any parameter follows {name!r}, they \"\u001b[0m\u001b[0;34m\u001b[0m\u001b[0;34m\u001b[0m\u001b[0m\n\u001b[1;32m    357\u001b[0m                 f\"should be pass as keyword, not positionally.\")\n\u001b[0;32m--> 358\u001b[0;31m         \u001b[0;32mreturn\u001b[0m \u001b[0mfunc\u001b[0m\u001b[0;34m(\u001b[0m\u001b[0;34m*\u001b[0m\u001b[0margs\u001b[0m\u001b[0;34m,\u001b[0m \u001b[0;34m**\u001b[0m\u001b[0mkwargs\u001b[0m\u001b[0;34m)\u001b[0m\u001b[0;34m\u001b[0m\u001b[0;34m\u001b[0m\u001b[0m\n\u001b[0m\u001b[1;32m    359\u001b[0m \u001b[0;34m\u001b[0m\u001b[0m\n\u001b[1;32m    360\u001b[0m     \u001b[0;32mreturn\u001b[0m \u001b[0mwrapper\u001b[0m\u001b[0;34m\u001b[0m\u001b[0;34m\u001b[0m\u001b[0m\n",
            "\u001b[0;32m/usr/local/lib/python3.7/dist-packages/matplotlib/axes/_axes.py\u001b[0m in \u001b[0;36mscatter\u001b[0;34m(self, x, y, s, c, marker, cmap, norm, vmin, vmax, alpha, linewidths, verts, edgecolors, plotnonfinite, **kwargs)\u001b[0m\n\u001b[1;32m   4401\u001b[0m             self._parse_scatter_color_args(\n\u001b[1;32m   4402\u001b[0m                 \u001b[0mc\u001b[0m\u001b[0;34m,\u001b[0m \u001b[0medgecolors\u001b[0m\u001b[0;34m,\u001b[0m \u001b[0mkwargs\u001b[0m\u001b[0;34m,\u001b[0m \u001b[0mx\u001b[0m\u001b[0;34m.\u001b[0m\u001b[0msize\u001b[0m\u001b[0;34m,\u001b[0m\u001b[0;34m\u001b[0m\u001b[0;34m\u001b[0m\u001b[0m\n\u001b[0;32m-> 4403\u001b[0;31m                 get_next_color_func=self._get_patches_for_fill.get_next_color)\n\u001b[0m\u001b[1;32m   4404\u001b[0m \u001b[0;34m\u001b[0m\u001b[0m\n\u001b[1;32m   4405\u001b[0m         \u001b[0;32mif\u001b[0m \u001b[0mplotnonfinite\u001b[0m \u001b[0;32mand\u001b[0m \u001b[0mcolors\u001b[0m \u001b[0;32mis\u001b[0m \u001b[0;32mNone\u001b[0m\u001b[0;34m:\u001b[0m\u001b[0;34m\u001b[0m\u001b[0;34m\u001b[0m\u001b[0m\n",
            "\u001b[0;32m/usr/local/lib/python3.7/dist-packages/matplotlib/axes/_axes.py\u001b[0m in \u001b[0;36m_parse_scatter_color_args\u001b[0;34m(c, edgecolors, kwargs, xsize, get_next_color_func)\u001b[0m\n\u001b[1;32m   4244\u001b[0m                 \u001b[0;31m# severe failure => one may appreciate a verbose feedback.\u001b[0m\u001b[0;34m\u001b[0m\u001b[0;34m\u001b[0m\u001b[0;34m\u001b[0m\u001b[0m\n\u001b[1;32m   4245\u001b[0m                 raise ValueError(\n\u001b[0;32m-> 4246\u001b[0;31m                     \u001b[0;34mf\"'c' argument must be a color, a sequence of colors, or \"\u001b[0m\u001b[0;34m\u001b[0m\u001b[0;34m\u001b[0m\u001b[0m\n\u001b[0m\u001b[1;32m   4247\u001b[0m                     f\"a sequence of numbers, not {c}\")\n\u001b[1;32m   4248\u001b[0m             \u001b[0;32melse\u001b[0m\u001b[0;34m:\u001b[0m\u001b[0;34m\u001b[0m\u001b[0;34m\u001b[0m\u001b[0m\n",
            "\u001b[0;31mValueError\u001b[0m: 'c' argument must be a color, a sequence of colors, or a sequence of numbers, not 0       green\n1         red\n2       olive\n3         NaN\n4         NaN\n        ...  \n695     olive\n696       NaN\n697       NaN\n698    orange\n699      blue\nName: continent, Length: 700, dtype: object"
          ]
        },
        {
          "output_type": "display_data",
          "data": {
            "image/png": "[encoded data removed]",
            "text/plain": [
              "<Figure size 432x288 with 1 Axes>"
            ]
          },
          "metadata": {
            "tags": [],
            "needs_background": "light"
          }
        }
      ]
    },
    {
      "cell_type": "code",
      "metadata": {
        "id": "Rzj_02kS86xR",
        "colab": {
          "base_uri": "https://localhost:8080/",
          "height": 0
        },
        "outputId": "8e70a905-8f45-4b93-83da-b7848e1b7f91"
      },
      "source": [
        "continent =['Africa','Asia', 'Australia','Europ','North_America','South_America','not_included']*100\n",
        "print(len(continent))\n",
        "print(len(continent_avarage_2010))\n",
        "print(len(HIV_est_prev_2010))"
      ],
      "execution_count": 132,
      "outputs": [
        {
          "output_type": "stream",
          "text": [
            "700\n",
            "700\n",
            "700\n"
          ],
          "name": "stdout"
        }
      ]
    },
    {
      "cell_type": "code",
      "metadata": {
        "colab": {
          "base_uri": "https://localhost:8080/",
          "height": 0
        },
        "id": "mY9cC-LSBzw8",
        "outputId": "6d46c4a6-c022-418f-ff92-d419a8bb8630"
      },
      "source": [
        "continent =['Africa','Asia', 'Australia','Europ','North_America','South_America','not_included']*100\n",
        "colors = {'Africa':'green','Asia':'red',\n",
        "          'Australia':'olive','Europe':'pink','North America':'purple','South_America':'orange',\n",
        "          'not_included':'blue'}\n",
        "colors.keys()\n",
        "colors.values()"
      ],
      "execution_count": 113,
      "outputs": [
        {
          "output_type": "execute_result",
          "data": {
            "text/plain": [
              "dict_values(['green', 'red', 'olive', 'pink', 'purple', 'orange', 'blue'])"
            ]
          },
          "metadata": {
            "tags": []
          },
          "execution_count": 113
        }
      ]
    },
    {
      "cell_type": "code",
      "metadata": {
        "colab": {
          "base_uri": "https://localhost:8080/",
          "height": 0
        },
        "id": "IsXPTB_dEoSo",
        "outputId": "95309ace-29c4-42ba-ac3c-afe6e0ad4fa7"
      },
      "source": [
        "continent =['Africa','Asia', 'Australia','Europ','North_America','South_America','not_included']*100\n",
        "c=df['continent'].map(colors)\n",
        "c"
      ],
      "execution_count": 128,
      "outputs": [
        {
          "output_type": "execute_result",
          "data": {
            "text/plain": [
              "0       green\n",
              "1         red\n",
              "2       olive\n",
              "3         NaN\n",
              "4         NaN\n",
              "        ...  \n",
              "695     olive\n",
              "696       NaN\n",
              "697       NaN\n",
              "698    orange\n",
              "699      blue\n",
              "Name: continent, Length: 700, dtype: object"
            ]
          },
          "metadata": {
            "tags": []
          },
          "execution_count": 128
        }
      ]
    },
    {
      "cell_type": "code",
      "metadata": {
        "id": "ylo5bVTXEoOt"
      },
      "source": [
        ""
      ],
      "execution_count": null,
      "outputs": []
    }
  ]
}