{
  "nbformat": 4,
  "nbformat_minor": 0,
  "metadata": {
    "colab": {
      "name": "INFO-5502_Assign8_Develope_Data_Analysis_Project.ipynb",
      "provenance": [],
      "collapsed_sections": [],
      "authorship_tag": "ABX9TyNAka0OOo5Qn3WJ7VxKrERo",
      "include_colab_link": true
    },
    "kernelspec": {
      "name": "python3",
      "display_name": "Python 3"
    },
    "language_info": {
      "name": "python"
    }
  },
  "cells": [
    {
      "cell_type": "markdown",
      "metadata": {
        "id": "view-in-github",
        "colab_type": "text"
      },
      "source": [
        "<a href=\"https://colab.research.google.com/github/Kate5-7-2021/INFO-5502-SU2021/blob/main/INFO_5502_Assign8_Develope_Data_Analysis_Project.ipynb\" target=\"_parent\"><img src=\"https://colab.research.google.com/assets/colab-badge.svg\" alt=\"Open In Colab\"/></a>"
      ]
    },
    {
      "cell_type": "code",
      "metadata": {
        "id": "dbJ7GlJLO6C5"
      },
      "source": [
        "import pandas as pd        #import necessary packages\n",
        "import numpy as np\n",
        "import matplotlib.pyplot as plt\n",
        "%matplotlib inline\n",
        "from matplotlib.colors import ListedColormap\n",
        "from sklearn import datasets\n",
        "from sklearn.model_selection import train_test_split\n",
        "from sklearn.preprocessing import StandardScaler\n",
        "from sklearn.neighbors import (KNeighborsRegressor, NeighborhoodComponentsAnalysis)\n",
        "from sklearn import preprocessing\n",
        "from sklearn.metrics import accuracy_score\n",
        "from sklearn.model_selection import cross_val_score\n",
        "from sklearn.model_selection import cross_val_predict\n",
        "from sklearn.model_selection import KFold\n",
        "from sklearn import metrics\n",
        "from sklearn.metrics import confusion_matrix\n",
        "from sklearn.metrics import classification_report\n",
        "from sklearn.pipeline import Pipeline\n",
        "from sklearn.impute import SimpleImputer\n",
        "from sklearn.linear_model import LinearRegression\n",
        "from sklearn.metrics import mean_squared_error, r2_score\n",
        "import seaborn as sns\n",
        "from scipy import stats"
      ],
      "execution_count": 1,
      "outputs": []
    },
    {
      "cell_type": "code",
      "metadata": {
        "colab": {
          "base_uri": "https://localhost:8080/",
          "height": 598
        },
        "id": "CIULfWbLQkwJ",
        "outputId": "8aad6e40-2e9d-4509-c26d-460d718c0971"
      },
      "source": [
        "df_i=pd.read_csv('/content/us_state_vaccinations.csv', delimiter=',', encoding='latin1')\n",
        "df_i          #read csv dataset"
      ],
      "execution_count": 2,
      "outputs": [
        {
          "output_type": "execute_result",
          "data": {
            "text/html": [
              "<div>\n",
              "<style scoped>\n",
              "    .dataframe tbody tr th:only-of-type {\n",
              "        vertical-align: middle;\n",
              "    }\n",
              "\n",
              "    .dataframe tbody tr th {\n",
              "        vertical-align: top;\n",
              "    }\n",
              "\n",
              "    .dataframe thead th {\n",
              "        text-align: right;\n",
              "    }\n",
              "</style>\n",
              "<table border=\"1\" class=\"dataframe\">\n",
              "  <thead>\n",
              "    <tr style=\"text-align: right;\">\n",
              "      <th></th>\n",
              "      <th>date</th>\n",
              "      <th>location</th>\n",
              "      <th>total_vaccinations</th>\n",
              "      <th>total_distributed</th>\n",
              "      <th>people_vaccinated</th>\n",
              "      <th>people_fully_vaccinated_per_hundred</th>\n",
              "      <th>total_vaccinations_per_hundred</th>\n",
              "      <th>people_fully_vaccinated</th>\n",
              "      <th>people_vaccinated_per_hundred</th>\n",
              "      <th>distributed_per_hundred</th>\n",
              "      <th>daily_vaccinations_raw</th>\n",
              "      <th>daily_vaccinations</th>\n",
              "      <th>daily_vaccinations_per_million</th>\n",
              "      <th>share_doses_used</th>\n",
              "    </tr>\n",
              "  </thead>\n",
              "  <tbody>\n",
              "    <tr>\n",
              "      <th>0</th>\n",
              "      <td>2021-01-12</td>\n",
              "      <td>Alabama</td>\n",
              "      <td>78134.0</td>\n",
              "      <td>377025.0</td>\n",
              "      <td>70861.0</td>\n",
              "      <td>0.15</td>\n",
              "      <td>1.59</td>\n",
              "      <td>7270.0</td>\n",
              "      <td>1.45</td>\n",
              "      <td>7.69</td>\n",
              "      <td>NaN</td>\n",
              "      <td>NaN</td>\n",
              "      <td>NaN</td>\n",
              "      <td>0.207</td>\n",
              "    </tr>\n",
              "    <tr>\n",
              "      <th>1</th>\n",
              "      <td>2021-01-13</td>\n",
              "      <td>Alabama</td>\n",
              "      <td>84040.0</td>\n",
              "      <td>378975.0</td>\n",
              "      <td>74792.0</td>\n",
              "      <td>0.19</td>\n",
              "      <td>1.71</td>\n",
              "      <td>9245.0</td>\n",
              "      <td>1.53</td>\n",
              "      <td>7.73</td>\n",
              "      <td>5906.0</td>\n",
              "      <td>5906.0</td>\n",
              "      <td>1205.0</td>\n",
              "      <td>0.222</td>\n",
              "    </tr>\n",
              "    <tr>\n",
              "      <th>2</th>\n",
              "      <td>2021-01-14</td>\n",
              "      <td>Alabama</td>\n",
              "      <td>92300.0</td>\n",
              "      <td>435350.0</td>\n",
              "      <td>80480.0</td>\n",
              "      <td>NaN</td>\n",
              "      <td>1.88</td>\n",
              "      <td>NaN</td>\n",
              "      <td>1.64</td>\n",
              "      <td>8.88</td>\n",
              "      <td>8260.0</td>\n",
              "      <td>7083.0</td>\n",
              "      <td>1445.0</td>\n",
              "      <td>0.212</td>\n",
              "    </tr>\n",
              "    <tr>\n",
              "      <th>3</th>\n",
              "      <td>2021-01-15</td>\n",
              "      <td>Alabama</td>\n",
              "      <td>100567.0</td>\n",
              "      <td>444650.0</td>\n",
              "      <td>86956.0</td>\n",
              "      <td>0.28</td>\n",
              "      <td>2.05</td>\n",
              "      <td>13488.0</td>\n",
              "      <td>1.77</td>\n",
              "      <td>9.07</td>\n",
              "      <td>8267.0</td>\n",
              "      <td>7478.0</td>\n",
              "      <td>1525.0</td>\n",
              "      <td>0.226</td>\n",
              "    </tr>\n",
              "    <tr>\n",
              "      <th>4</th>\n",
              "      <td>2021-01-16</td>\n",
              "      <td>Alabama</td>\n",
              "      <td>NaN</td>\n",
              "      <td>NaN</td>\n",
              "      <td>NaN</td>\n",
              "      <td>NaN</td>\n",
              "      <td>NaN</td>\n",
              "      <td>NaN</td>\n",
              "      <td>NaN</td>\n",
              "      <td>NaN</td>\n",
              "      <td>7557.0</td>\n",
              "      <td>7498.0</td>\n",
              "      <td>1529.0</td>\n",
              "      <td>NaN</td>\n",
              "    </tr>\n",
              "    <tr>\n",
              "      <th>...</th>\n",
              "      <td>...</td>\n",
              "      <td>...</td>\n",
              "      <td>...</td>\n",
              "      <td>...</td>\n",
              "      <td>...</td>\n",
              "      <td>...</td>\n",
              "      <td>...</td>\n",
              "      <td>...</td>\n",
              "      <td>...</td>\n",
              "      <td>...</td>\n",
              "      <td>...</td>\n",
              "      <td>...</td>\n",
              "      <td>...</td>\n",
              "      <td>...</td>\n",
              "    </tr>\n",
              "    <tr>\n",
              "      <th>13278</th>\n",
              "      <td>2021-07-30</td>\n",
              "      <td>Wyoming</td>\n",
              "      <td>446581.0</td>\n",
              "      <td>528245.0</td>\n",
              "      <td>240961.0</td>\n",
              "      <td>36.61</td>\n",
              "      <td>77.16</td>\n",
              "      <td>211874.0</td>\n",
              "      <td>41.63</td>\n",
              "      <td>91.27</td>\n",
              "      <td>771.0</td>\n",
              "      <td>697.0</td>\n",
              "      <td>1204.0</td>\n",
              "      <td>0.845</td>\n",
              "    </tr>\n",
              "    <tr>\n",
              "      <th>13279</th>\n",
              "      <td>2021-07-31</td>\n",
              "      <td>Wyoming</td>\n",
              "      <td>447473.0</td>\n",
              "      <td>529845.0</td>\n",
              "      <td>241610.0</td>\n",
              "      <td>36.67</td>\n",
              "      <td>77.32</td>\n",
              "      <td>212230.0</td>\n",
              "      <td>41.75</td>\n",
              "      <td>91.55</td>\n",
              "      <td>892.0</td>\n",
              "      <td>697.0</td>\n",
              "      <td>1204.0</td>\n",
              "      <td>0.845</td>\n",
              "    </tr>\n",
              "    <tr>\n",
              "      <th>13280</th>\n",
              "      <td>2021-08-01</td>\n",
              "      <td>Wyoming</td>\n",
              "      <td>447594.0</td>\n",
              "      <td>529845.0</td>\n",
              "      <td>241735.0</td>\n",
              "      <td>36.68</td>\n",
              "      <td>77.34</td>\n",
              "      <td>212317.0</td>\n",
              "      <td>41.77</td>\n",
              "      <td>91.55</td>\n",
              "      <td>121.0</td>\n",
              "      <td>697.0</td>\n",
              "      <td>1204.0</td>\n",
              "      <td>0.845</td>\n",
              "    </tr>\n",
              "    <tr>\n",
              "      <th>13281</th>\n",
              "      <td>2021-08-02</td>\n",
              "      <td>Wyoming</td>\n",
              "      <td>447616.0</td>\n",
              "      <td>529845.0</td>\n",
              "      <td>241769.0</td>\n",
              "      <td>36.69</td>\n",
              "      <td>77.34</td>\n",
              "      <td>212334.0</td>\n",
              "      <td>41.77</td>\n",
              "      <td>91.55</td>\n",
              "      <td>22.0</td>\n",
              "      <td>694.0</td>\n",
              "      <td>1199.0</td>\n",
              "      <td>0.845</td>\n",
              "    </tr>\n",
              "    <tr>\n",
              "      <th>13282</th>\n",
              "      <td>2021-08-03</td>\n",
              "      <td>Wyoming</td>\n",
              "      <td>447632.0</td>\n",
              "      <td>531195.0</td>\n",
              "      <td>241812.0</td>\n",
              "      <td>36.69</td>\n",
              "      <td>77.34</td>\n",
              "      <td>212359.0</td>\n",
              "      <td>41.78</td>\n",
              "      <td>91.78</td>\n",
              "      <td>16.0</td>\n",
              "      <td>693.0</td>\n",
              "      <td>1197.0</td>\n",
              "      <td>0.843</td>\n",
              "    </tr>\n",
              "  </tbody>\n",
              "</table>\n",
              "<p>13283 rows × 14 columns</p>\n",
              "</div>"
            ],
            "text/plain": [
              "             date location  ...  daily_vaccinations_per_million  share_doses_used\n",
              "0      2021-01-12  Alabama  ...                             NaN             0.207\n",
              "1      2021-01-13  Alabama  ...                          1205.0             0.222\n",
              "2      2021-01-14  Alabama  ...                          1445.0             0.212\n",
              "3      2021-01-15  Alabama  ...                          1525.0             0.226\n",
              "4      2021-01-16  Alabama  ...                          1529.0               NaN\n",
              "...           ...      ...  ...                             ...               ...\n",
              "13278  2021-07-30  Wyoming  ...                          1204.0             0.845\n",
              "13279  2021-07-31  Wyoming  ...                          1204.0             0.845\n",
              "13280  2021-08-01  Wyoming  ...                          1204.0             0.845\n",
              "13281  2021-08-02  Wyoming  ...                          1199.0             0.845\n",
              "13282  2021-08-03  Wyoming  ...                          1197.0             0.843\n",
              "\n",
              "[13283 rows x 14 columns]"
            ]
          },
          "metadata": {
            "tags": []
          },
          "execution_count": 2
        }
      ]
    },
    {
      "cell_type": "code",
      "metadata": {
        "colab": {
          "base_uri": "https://localhost:8080/"
        },
        "id": "-2FRixwERDyj",
        "outputId": "f4afaaf7-0397-4129-a4ce-0cb1ac6b16d0"
      },
      "source": [
        "df_i.shape      #to find number of rows and columns"
      ],
      "execution_count": 3,
      "outputs": [
        {
          "output_type": "execute_result",
          "data": {
            "text/plain": [
              "(13283, 14)"
            ]
          },
          "metadata": {
            "tags": []
          },
          "execution_count": 3
        }
      ]
    },
    {
      "cell_type": "code",
      "metadata": {
        "colab": {
          "base_uri": "https://localhost:8080/"
        },
        "id": "Y2fcHSWsRU7_",
        "outputId": "7e150a5f-2698-4d14-e19c-b14c4873a4aa"
      },
      "source": [
        "df_i.info()         #Columns' information"
      ],
      "execution_count": 4,
      "outputs": [
        {
          "output_type": "stream",
          "text": [
            "<class 'pandas.core.frame.DataFrame'>\n",
            "RangeIndex: 13283 entries, 0 to 13282\n",
            "Data columns (total 14 columns):\n",
            " #   Column                               Non-Null Count  Dtype  \n",
            "---  ------                               --------------  -----  \n",
            " 0   date                                 13283 non-null  object \n",
            " 1   location                             13283 non-null  object \n",
            " 2   total_vaccinations                   12883 non-null  float64\n",
            " 3   total_distributed                    12675 non-null  float64\n",
            " 4   people_vaccinated                    12663 non-null  float64\n",
            " 5   people_fully_vaccinated_per_hundred  11957 non-null  float64\n",
            " 6   total_vaccinations_per_hundred       12059 non-null  float64\n",
            " 7   people_fully_vaccinated              12581 non-null  float64\n",
            " 8   people_vaccinated_per_hundred        12034 non-null  float64\n",
            " 9   distributed_per_hundred              12046 non-null  float64\n",
            " 10  daily_vaccinations_raw               13218 non-null  float64\n",
            " 11  daily_vaccinations                   13218 non-null  float64\n",
            " 12  daily_vaccinations_per_million       12371 non-null  float64\n",
            " 13  share_doses_used                     12675 non-null  float64\n",
            "dtypes: float64(12), object(2)\n",
            "memory usage: 1.4+ MB\n"
          ],
          "name": "stdout"
        }
      ]
    },
    {
      "cell_type": "code",
      "metadata": {
        "colab": {
          "base_uri": "https://localhost:8080/",
          "height": 313
        },
        "id": "A632MQKhNNnJ",
        "outputId": "fdf718c0-af34-4a3d-ece7-97ee0bea3bca"
      },
      "source": [
        "df_i.describe()  #numerical values' statistics"
      ],
      "execution_count": 5,
      "outputs": [
        {
          "output_type": "execute_result",
          "data": {
            "text/html": [
              "<div>\n",
              "<style scoped>\n",
              "    .dataframe tbody tr th:only-of-type {\n",
              "        vertical-align: middle;\n",
              "    }\n",
              "\n",
              "    .dataframe tbody tr th {\n",
              "        vertical-align: top;\n",
              "    }\n",
              "\n",
              "    .dataframe thead th {\n",
              "        text-align: right;\n",
              "    }\n",
              "</style>\n",
              "<table border=\"1\" class=\"dataframe\">\n",
              "  <thead>\n",
              "    <tr style=\"text-align: right;\">\n",
              "      <th></th>\n",
              "      <th>total_vaccinations</th>\n",
              "      <th>total_distributed</th>\n",
              "      <th>people_vaccinated</th>\n",
              "      <th>people_fully_vaccinated_per_hundred</th>\n",
              "      <th>total_vaccinations_per_hundred</th>\n",
              "      <th>people_fully_vaccinated</th>\n",
              "      <th>people_vaccinated_per_hundred</th>\n",
              "      <th>distributed_per_hundred</th>\n",
              "      <th>daily_vaccinations_raw</th>\n",
              "      <th>daily_vaccinations</th>\n",
              "      <th>daily_vaccinations_per_million</th>\n",
              "      <th>share_doses_used</th>\n",
              "    </tr>\n",
              "  </thead>\n",
              "  <tbody>\n",
              "    <tr>\n",
              "      <th>count</th>\n",
              "      <td>1.288300e+04</td>\n",
              "      <td>1.267500e+04</td>\n",
              "      <td>1.266300e+04</td>\n",
              "      <td>11957.000000</td>\n",
              "      <td>12059.000000</td>\n",
              "      <td>1.258100e+04</td>\n",
              "      <td>12034.000000</td>\n",
              "      <td>12046.000000</td>\n",
              "      <td>1.321800e+04</td>\n",
              "      <td>1.321800e+04</td>\n",
              "      <td>12371.000000</td>\n",
              "      <td>12675.000000</td>\n",
              "    </tr>\n",
              "    <tr>\n",
              "      <th>mean</th>\n",
              "      <td>6.393010e+06</td>\n",
              "      <td>7.895230e+06</td>\n",
              "      <td>3.749922e+06</td>\n",
              "      <td>26.487264</td>\n",
              "      <td>59.993119</td>\n",
              "      <td>2.796865e+06</td>\n",
              "      <td>34.951431</td>\n",
              "      <td>75.397603</td>\n",
              "      <td>5.309133e+04</td>\n",
              "      <td>5.308615e+04</td>\n",
              "      <td>4872.832350</td>\n",
              "      <td>0.761316</td>\n",
              "    </tr>\n",
              "    <tr>\n",
              "      <th>std</th>\n",
              "      <td>2.863596e+07</td>\n",
              "      <td>3.502084e+07</td>\n",
              "      <td>1.657265e+07</td>\n",
              "      <td>17.917093</td>\n",
              "      <td>35.359693</td>\n",
              "      <td>1.317393e+07</td>\n",
              "      <td>18.784258</td>\n",
              "      <td>39.821758</td>\n",
              "      <td>2.392133e+05</td>\n",
              "      <td>2.300846e+05</td>\n",
              "      <td>3078.629711</td>\n",
              "      <td>0.139168</td>\n",
              "    </tr>\n",
              "    <tr>\n",
              "      <th>min</th>\n",
              "      <td>4.160000e+02</td>\n",
              "      <td>6.000000e+03</td>\n",
              "      <td>4.010000e+02</td>\n",
              "      <td>0.000000</td>\n",
              "      <td>0.170000</td>\n",
              "      <td>1.000000e+00</td>\n",
              "      <td>0.240000</td>\n",
              "      <td>6.140000</td>\n",
              "      <td>-3.316400e+05</td>\n",
              "      <td>-3.511300e+04</td>\n",
              "      <td>-16746.000000</td>\n",
              "      <td>0.043000</td>\n",
              "    </tr>\n",
              "    <tr>\n",
              "      <th>25%</th>\n",
              "      <td>4.360315e+05</td>\n",
              "      <td>6.104750e+05</td>\n",
              "      <td>2.901775e+05</td>\n",
              "      <td>9.820000</td>\n",
              "      <td>27.715000</td>\n",
              "      <td>1.214910e+05</td>\n",
              "      <td>18.002500</td>\n",
              "      <td>37.945000</td>\n",
              "      <td>1.977750e+03</td>\n",
              "      <td>3.776500e+03</td>\n",
              "      <td>2394.500000</td>\n",
              "      <td>0.712000</td>\n",
              "    </tr>\n",
              "    <tr>\n",
              "      <th>50%</th>\n",
              "      <td>1.525794e+06</td>\n",
              "      <td>1.890870e+06</td>\n",
              "      <td>9.127080e+05</td>\n",
              "      <td>27.340000</td>\n",
              "      <td>63.060000</td>\n",
              "      <td>6.166240e+05</td>\n",
              "      <td>37.035000</td>\n",
              "      <td>83.410000</td>\n",
              "      <td>1.061600e+04</td>\n",
              "      <td>1.294750e+04</td>\n",
              "      <td>4314.000000</td>\n",
              "      <td>0.791000</td>\n",
              "    </tr>\n",
              "    <tr>\n",
              "      <th>75%</th>\n",
              "      <td>4.416498e+06</td>\n",
              "      <td>5.223665e+06</td>\n",
              "      <td>2.466296e+06</td>\n",
              "      <td>40.340000</td>\n",
              "      <td>87.410000</td>\n",
              "      <td>1.855140e+06</td>\n",
              "      <td>49.150000</td>\n",
              "      <td>106.350000</td>\n",
              "      <td>3.402275e+04</td>\n",
              "      <td>3.550300e+04</td>\n",
              "      <td>6850.000000</td>\n",
              "      <td>0.849000</td>\n",
              "    </tr>\n",
              "    <tr>\n",
              "      <th>max</th>\n",
              "      <td>3.473771e+08</td>\n",
              "      <td>4.012300e+08</td>\n",
              "      <td>1.921206e+08</td>\n",
              "      <td>76.090000</td>\n",
              "      <td>148.960000</td>\n",
              "      <td>1.650814e+08</td>\n",
              "      <td>86.420000</td>\n",
              "      <td>159.990000</td>\n",
              "      <td>4.629928e+06</td>\n",
              "      <td>3.384387e+06</td>\n",
              "      <td>27652.000000</td>\n",
              "      <td>1.105000</td>\n",
              "    </tr>\n",
              "  </tbody>\n",
              "</table>\n",
              "</div>"
            ],
            "text/plain": [
              "       total_vaccinations  ...  share_doses_used\n",
              "count        1.288300e+04  ...      12675.000000\n",
              "mean         6.393010e+06  ...          0.761316\n",
              "std          2.863596e+07  ...          0.139168\n",
              "min          4.160000e+02  ...          0.043000\n",
              "25%          4.360315e+05  ...          0.712000\n",
              "50%          1.525794e+06  ...          0.791000\n",
              "75%          4.416498e+06  ...          0.849000\n",
              "max          3.473771e+08  ...          1.105000\n",
              "\n",
              "[8 rows x 12 columns]"
            ]
          },
          "metadata": {
            "tags": []
          },
          "execution_count": 5
        }
      ]
    },
    {
      "cell_type": "code",
      "metadata": {
        "colab": {
          "base_uri": "https://localhost:8080/",
          "height": 598
        },
        "id": "txpIxssFTYP9",
        "outputId": "c871aadc-c6ff-4956-a5e5-f7a96e2de595"
      },
      "source": [
        "df_1=df_i[['date','location','total_vaccinations','total_distributed','people_vaccinated','people_fully_vaccinated','daily_vaccinations','people_fully_vaccinated_per_hundred','distributed_per_hundred']]\n",
        "df_1     #create sub-dataframe from main data frame"
      ],
      "execution_count": 6,
      "outputs": [
        {
          "output_type": "execute_result",
          "data": {
            "text/html": [
              "<div>\n",
              "<style scoped>\n",
              "    .dataframe tbody tr th:only-of-type {\n",
              "        vertical-align: middle;\n",
              "    }\n",
              "\n",
              "    .dataframe tbody tr th {\n",
              "        vertical-align: top;\n",
              "    }\n",
              "\n",
              "    .dataframe thead th {\n",
              "        text-align: right;\n",
              "    }\n",
              "</style>\n",
              "<table border=\"1\" class=\"dataframe\">\n",
              "  <thead>\n",
              "    <tr style=\"text-align: right;\">\n",
              "      <th></th>\n",
              "      <th>date</th>\n",
              "      <th>location</th>\n",
              "      <th>total_vaccinations</th>\n",
              "      <th>total_distributed</th>\n",
              "      <th>people_vaccinated</th>\n",
              "      <th>people_fully_vaccinated</th>\n",
              "      <th>daily_vaccinations</th>\n",
              "      <th>people_fully_vaccinated_per_hundred</th>\n",
              "      <th>distributed_per_hundred</th>\n",
              "    </tr>\n",
              "  </thead>\n",
              "  <tbody>\n",
              "    <tr>\n",
              "      <th>0</th>\n",
              "      <td>2021-01-12</td>\n",
              "      <td>Alabama</td>\n",
              "      <td>78134.0</td>\n",
              "      <td>377025.0</td>\n",
              "      <td>70861.0</td>\n",
              "      <td>7270.0</td>\n",
              "      <td>NaN</td>\n",
              "      <td>0.15</td>\n",
              "      <td>7.69</td>\n",
              "    </tr>\n",
              "    <tr>\n",
              "      <th>1</th>\n",
              "      <td>2021-01-13</td>\n",
              "      <td>Alabama</td>\n",
              "      <td>84040.0</td>\n",
              "      <td>378975.0</td>\n",
              "      <td>74792.0</td>\n",
              "      <td>9245.0</td>\n",
              "      <td>5906.0</td>\n",
              "      <td>0.19</td>\n",
              "      <td>7.73</td>\n",
              "    </tr>\n",
              "    <tr>\n",
              "      <th>2</th>\n",
              "      <td>2021-01-14</td>\n",
              "      <td>Alabama</td>\n",
              "      <td>92300.0</td>\n",
              "      <td>435350.0</td>\n",
              "      <td>80480.0</td>\n",
              "      <td>NaN</td>\n",
              "      <td>7083.0</td>\n",
              "      <td>NaN</td>\n",
              "      <td>8.88</td>\n",
              "    </tr>\n",
              "    <tr>\n",
              "      <th>3</th>\n",
              "      <td>2021-01-15</td>\n",
              "      <td>Alabama</td>\n",
              "      <td>100567.0</td>\n",
              "      <td>444650.0</td>\n",
              "      <td>86956.0</td>\n",
              "      <td>13488.0</td>\n",
              "      <td>7478.0</td>\n",
              "      <td>0.28</td>\n",
              "      <td>9.07</td>\n",
              "    </tr>\n",
              "    <tr>\n",
              "      <th>4</th>\n",
              "      <td>2021-01-16</td>\n",
              "      <td>Alabama</td>\n",
              "      <td>NaN</td>\n",
              "      <td>NaN</td>\n",
              "      <td>NaN</td>\n",
              "      <td>NaN</td>\n",
              "      <td>7498.0</td>\n",
              "      <td>NaN</td>\n",
              "      <td>NaN</td>\n",
              "    </tr>\n",
              "    <tr>\n",
              "      <th>...</th>\n",
              "      <td>...</td>\n",
              "      <td>...</td>\n",
              "      <td>...</td>\n",
              "      <td>...</td>\n",
              "      <td>...</td>\n",
              "      <td>...</td>\n",
              "      <td>...</td>\n",
              "      <td>...</td>\n",
              "      <td>...</td>\n",
              "    </tr>\n",
              "    <tr>\n",
              "      <th>13278</th>\n",
              "      <td>2021-07-30</td>\n",
              "      <td>Wyoming</td>\n",
              "      <td>446581.0</td>\n",
              "      <td>528245.0</td>\n",
              "      <td>240961.0</td>\n",
              "      <td>211874.0</td>\n",
              "      <td>697.0</td>\n",
              "      <td>36.61</td>\n",
              "      <td>91.27</td>\n",
              "    </tr>\n",
              "    <tr>\n",
              "      <th>13279</th>\n",
              "      <td>2021-07-31</td>\n",
              "      <td>Wyoming</td>\n",
              "      <td>447473.0</td>\n",
              "      <td>529845.0</td>\n",
              "      <td>241610.0</td>\n",
              "      <td>212230.0</td>\n",
              "      <td>697.0</td>\n",
              "      <td>36.67</td>\n",
              "      <td>91.55</td>\n",
              "    </tr>\n",
              "    <tr>\n",
              "      <th>13280</th>\n",
              "      <td>2021-08-01</td>\n",
              "      <td>Wyoming</td>\n",
              "      <td>447594.0</td>\n",
              "      <td>529845.0</td>\n",
              "      <td>241735.0</td>\n",
              "      <td>212317.0</td>\n",
              "      <td>697.0</td>\n",
              "      <td>36.68</td>\n",
              "      <td>91.55</td>\n",
              "    </tr>\n",
              "    <tr>\n",
              "      <th>13281</th>\n",
              "      <td>2021-08-02</td>\n",
              "      <td>Wyoming</td>\n",
              "      <td>447616.0</td>\n",
              "      <td>529845.0</td>\n",
              "      <td>241769.0</td>\n",
              "      <td>212334.0</td>\n",
              "      <td>694.0</td>\n",
              "      <td>36.69</td>\n",
              "      <td>91.55</td>\n",
              "    </tr>\n",
              "    <tr>\n",
              "      <th>13282</th>\n",
              "      <td>2021-08-03</td>\n",
              "      <td>Wyoming</td>\n",
              "      <td>447632.0</td>\n",
              "      <td>531195.0</td>\n",
              "      <td>241812.0</td>\n",
              "      <td>212359.0</td>\n",
              "      <td>693.0</td>\n",
              "      <td>36.69</td>\n",
              "      <td>91.78</td>\n",
              "    </tr>\n",
              "  </tbody>\n",
              "</table>\n",
              "<p>13283 rows × 9 columns</p>\n",
              "</div>"
            ],
            "text/plain": [
              "             date  ... distributed_per_hundred\n",
              "0      2021-01-12  ...                    7.69\n",
              "1      2021-01-13  ...                    7.73\n",
              "2      2021-01-14  ...                    8.88\n",
              "3      2021-01-15  ...                    9.07\n",
              "4      2021-01-16  ...                     NaN\n",
              "...           ...  ...                     ...\n",
              "13278  2021-07-30  ...                   91.27\n",
              "13279  2021-07-31  ...                   91.55\n",
              "13280  2021-08-01  ...                   91.55\n",
              "13281  2021-08-02  ...                   91.55\n",
              "13282  2021-08-03  ...                   91.78\n",
              "\n",
              "[13283 rows x 9 columns]"
            ]
          },
          "metadata": {
            "tags": []
          },
          "execution_count": 6
        }
      ]
    },
    {
      "cell_type": "code",
      "metadata": {
        "colab": {
          "base_uri": "https://localhost:8080/"
        },
        "id": "F4duvY2A_GEP",
        "outputId": "e40b94c3-9d76-4106-e990-21b102332055"
      },
      "source": [
        "df_1.shape   #row and column of the sub-Dataframe"
      ],
      "execution_count": 7,
      "outputs": [
        {
          "output_type": "execute_result",
          "data": {
            "text/plain": [
              "(13283, 9)"
            ]
          },
          "metadata": {
            "tags": []
          },
          "execution_count": 7
        }
      ]
    },
    {
      "cell_type": "code",
      "metadata": {
        "colab": {
          "base_uri": "https://localhost:8080/"
        },
        "id": "NSRaOZuD_JXY",
        "outputId": "abbf3d18-0fa6-4846-e21b-f6462a21c4c9"
      },
      "source": [
        "df_1.info()       #show the type and the number of the non_null objects for each column"
      ],
      "execution_count": 8,
      "outputs": [
        {
          "output_type": "stream",
          "text": [
            "<class 'pandas.core.frame.DataFrame'>\n",
            "RangeIndex: 13283 entries, 0 to 13282\n",
            "Data columns (total 9 columns):\n",
            " #   Column                               Non-Null Count  Dtype  \n",
            "---  ------                               --------------  -----  \n",
            " 0   date                                 13283 non-null  object \n",
            " 1   location                             13283 non-null  object \n",
            " 2   total_vaccinations                   12883 non-null  float64\n",
            " 3   total_distributed                    12675 non-null  float64\n",
            " 4   people_vaccinated                    12663 non-null  float64\n",
            " 5   people_fully_vaccinated              12581 non-null  float64\n",
            " 6   daily_vaccinations                   13218 non-null  float64\n",
            " 7   people_fully_vaccinated_per_hundred  11957 non-null  float64\n",
            " 8   distributed_per_hundred              12046 non-null  float64\n",
            "dtypes: float64(7), object(2)\n",
            "memory usage: 934.1+ KB\n"
          ],
          "name": "stdout"
        }
      ]
    },
    {
      "cell_type": "code",
      "metadata": {
        "colab": {
          "base_uri": "https://localhost:8080/"
        },
        "id": "T604nTvY_4aL",
        "outputId": "e054cf43-db82-42d8-af41-950cb53b08ac"
      },
      "source": [
        "df_1.isnull().sum()       #number of null values in each column"
      ],
      "execution_count": 9,
      "outputs": [
        {
          "output_type": "execute_result",
          "data": {
            "text/plain": [
              "date                                      0\n",
              "location                                  0\n",
              "total_vaccinations                      400\n",
              "total_distributed                       608\n",
              "people_vaccinated                       620\n",
              "people_fully_vaccinated                 702\n",
              "daily_vaccinations                       65\n",
              "people_fully_vaccinated_per_hundred    1326\n",
              "distributed_per_hundred                1237\n",
              "dtype: int64"
            ]
          },
          "metadata": {
            "tags": []
          },
          "execution_count": 9
        }
      ]
    },
    {
      "cell_type": "code",
      "metadata": {
        "colab": {
          "base_uri": "https://localhost:8080/",
          "height": 313
        },
        "id": "7aoiN-gQ_rZB",
        "outputId": "d407ef19-3ecf-4799-b969-1f39a2ea7c2c"
      },
      "source": [
        "df_1.describe()      #statistics of the numerical columns"
      ],
      "execution_count": 10,
      "outputs": [
        {
          "output_type": "execute_result",
          "data": {
            "text/html": [
              "<div>\n",
              "<style scoped>\n",
              "    .dataframe tbody tr th:only-of-type {\n",
              "        vertical-align: middle;\n",
              "    }\n",
              "\n",
              "    .dataframe tbody tr th {\n",
              "        vertical-align: top;\n",
              "    }\n",
              "\n",
              "    .dataframe thead th {\n",
              "        text-align: right;\n",
              "    }\n",
              "</style>\n",
              "<table border=\"1\" class=\"dataframe\">\n",
              "  <thead>\n",
              "    <tr style=\"text-align: right;\">\n",
              "      <th></th>\n",
              "      <th>total_vaccinations</th>\n",
              "      <th>total_distributed</th>\n",
              "      <th>people_vaccinated</th>\n",
              "      <th>people_fully_vaccinated</th>\n",
              "      <th>daily_vaccinations</th>\n",
              "      <th>people_fully_vaccinated_per_hundred</th>\n",
              "      <th>distributed_per_hundred</th>\n",
              "    </tr>\n",
              "  </thead>\n",
              "  <tbody>\n",
              "    <tr>\n",
              "      <th>count</th>\n",
              "      <td>1.288300e+04</td>\n",
              "      <td>1.267500e+04</td>\n",
              "      <td>1.266300e+04</td>\n",
              "      <td>1.258100e+04</td>\n",
              "      <td>1.321800e+04</td>\n",
              "      <td>11957.000000</td>\n",
              "      <td>12046.000000</td>\n",
              "    </tr>\n",
              "    <tr>\n",
              "      <th>mean</th>\n",
              "      <td>6.393010e+06</td>\n",
              "      <td>7.895230e+06</td>\n",
              "      <td>3.749922e+06</td>\n",
              "      <td>2.796865e+06</td>\n",
              "      <td>5.308615e+04</td>\n",
              "      <td>26.487264</td>\n",
              "      <td>75.397603</td>\n",
              "    </tr>\n",
              "    <tr>\n",
              "      <th>std</th>\n",
              "      <td>2.863596e+07</td>\n",
              "      <td>3.502084e+07</td>\n",
              "      <td>1.657265e+07</td>\n",
              "      <td>1.317393e+07</td>\n",
              "      <td>2.300846e+05</td>\n",
              "      <td>17.917093</td>\n",
              "      <td>39.821758</td>\n",
              "    </tr>\n",
              "    <tr>\n",
              "      <th>min</th>\n",
              "      <td>4.160000e+02</td>\n",
              "      <td>6.000000e+03</td>\n",
              "      <td>4.010000e+02</td>\n",
              "      <td>1.000000e+00</td>\n",
              "      <td>-3.511300e+04</td>\n",
              "      <td>0.000000</td>\n",
              "      <td>6.140000</td>\n",
              "    </tr>\n",
              "    <tr>\n",
              "      <th>25%</th>\n",
              "      <td>4.360315e+05</td>\n",
              "      <td>6.104750e+05</td>\n",
              "      <td>2.901775e+05</td>\n",
              "      <td>1.214910e+05</td>\n",
              "      <td>3.776500e+03</td>\n",
              "      <td>9.820000</td>\n",
              "      <td>37.945000</td>\n",
              "    </tr>\n",
              "    <tr>\n",
              "      <th>50%</th>\n",
              "      <td>1.525794e+06</td>\n",
              "      <td>1.890870e+06</td>\n",
              "      <td>9.127080e+05</td>\n",
              "      <td>6.166240e+05</td>\n",
              "      <td>1.294750e+04</td>\n",
              "      <td>27.340000</td>\n",
              "      <td>83.410000</td>\n",
              "    </tr>\n",
              "    <tr>\n",
              "      <th>75%</th>\n",
              "      <td>4.416498e+06</td>\n",
              "      <td>5.223665e+06</td>\n",
              "      <td>2.466296e+06</td>\n",
              "      <td>1.855140e+06</td>\n",
              "      <td>3.550300e+04</td>\n",
              "      <td>40.340000</td>\n",
              "      <td>106.350000</td>\n",
              "    </tr>\n",
              "    <tr>\n",
              "      <th>max</th>\n",
              "      <td>3.473771e+08</td>\n",
              "      <td>4.012300e+08</td>\n",
              "      <td>1.921206e+08</td>\n",
              "      <td>1.650814e+08</td>\n",
              "      <td>3.384387e+06</td>\n",
              "      <td>76.090000</td>\n",
              "      <td>159.990000</td>\n",
              "    </tr>\n",
              "  </tbody>\n",
              "</table>\n",
              "</div>"
            ],
            "text/plain": [
              "       total_vaccinations  ...  distributed_per_hundred\n",
              "count        1.288300e+04  ...             12046.000000\n",
              "mean         6.393010e+06  ...                75.397603\n",
              "std          2.863596e+07  ...                39.821758\n",
              "min          4.160000e+02  ...                 6.140000\n",
              "25%          4.360315e+05  ...                37.945000\n",
              "50%          1.525794e+06  ...                83.410000\n",
              "75%          4.416498e+06  ...               106.350000\n",
              "max          3.473771e+08  ...               159.990000\n",
              "\n",
              "[8 rows x 7 columns]"
            ]
          },
          "metadata": {
            "tags": []
          },
          "execution_count": 10
        }
      ]
    },
    {
      "cell_type": "code",
      "metadata": {
        "colab": {
          "base_uri": "https://localhost:8080/"
        },
        "id": "Khb5cBOX_5il",
        "outputId": "ebdc669a-8ac1-40d7-8465-4e49421c1eb1"
      },
      "source": [
        "df_1.duplicated().sum()      #show the duplicated values in the dataset"
      ],
      "execution_count": 11,
      "outputs": [
        {
          "output_type": "execute_result",
          "data": {
            "text/plain": [
              "0"
            ]
          },
          "metadata": {
            "tags": []
          },
          "execution_count": 11
        }
      ]
    },
    {
      "cell_type": "code",
      "metadata": {
        "colab": {
          "base_uri": "https://localhost:8080/",
          "height": 170
        },
        "id": "EcOMRYZD_5dB",
        "outputId": "0434c622-7971-40e9-efc6-c06cafda9eab"
      },
      "source": [
        "df_1.describe(include=['object'])"
      ],
      "execution_count": 12,
      "outputs": [
        {
          "output_type": "execute_result",
          "data": {
            "text/html": [
              "<div>\n",
              "<style scoped>\n",
              "    .dataframe tbody tr th:only-of-type {\n",
              "        vertical-align: middle;\n",
              "    }\n",
              "\n",
              "    .dataframe tbody tr th {\n",
              "        vertical-align: top;\n",
              "    }\n",
              "\n",
              "    .dataframe thead th {\n",
              "        text-align: right;\n",
              "    }\n",
              "</style>\n",
              "<table border=\"1\" class=\"dataframe\">\n",
              "  <thead>\n",
              "    <tr style=\"text-align: right;\">\n",
              "      <th></th>\n",
              "      <th>date</th>\n",
              "      <th>location</th>\n",
              "    </tr>\n",
              "  </thead>\n",
              "  <tbody>\n",
              "    <tr>\n",
              "      <th>count</th>\n",
              "      <td>13283</td>\n",
              "      <td>13283</td>\n",
              "    </tr>\n",
              "    <tr>\n",
              "      <th>unique</th>\n",
              "      <td>227</td>\n",
              "      <td>65</td>\n",
              "    </tr>\n",
              "    <tr>\n",
              "      <th>top</th>\n",
              "      <td>2021-06-01</td>\n",
              "      <td>United States</td>\n",
              "    </tr>\n",
              "    <tr>\n",
              "      <th>freq</th>\n",
              "      <td>65</td>\n",
              "      <td>227</td>\n",
              "    </tr>\n",
              "  </tbody>\n",
              "</table>\n",
              "</div>"
            ],
            "text/plain": [
              "              date       location\n",
              "count        13283          13283\n",
              "unique         227             65\n",
              "top     2021-06-01  United States\n",
              "freq            65            227"
            ]
          },
          "metadata": {
            "tags": []
          },
          "execution_count": 12
        }
      ]
    },
    {
      "cell_type": "code",
      "metadata": {
        "colab": {
          "base_uri": "https://localhost:8080/",
          "height": 527
        },
        "id": "HJK1WqY9_5W1",
        "outputId": "ea60c242-c456-4433-b922-9b9e2b6445df"
      },
      "source": [
        "df1=df_1.groupby(['location'])[['total_vaccinations','total_distributed','people_vaccinated','people_fully_vaccinated','daily_vaccinations','people_fully_vaccinated_per_hundred','distributed_per_hundred']].agg([np.max, np.min, np.mean, np.std])\n",
        "df1                       "
      ],
      "execution_count": 13,
      "outputs": [
        {
          "output_type": "execute_result",
          "data": {
            "text/html": [
              "<div>\n",
              "<style scoped>\n",
              "    .dataframe tbody tr th:only-of-type {\n",
              "        vertical-align: middle;\n",
              "    }\n",
              "\n",
              "    .dataframe tbody tr th {\n",
              "        vertical-align: top;\n",
              "    }\n",
              "\n",
              "    .dataframe thead tr th {\n",
              "        text-align: left;\n",
              "    }\n",
              "\n",
              "    .dataframe thead tr:last-of-type th {\n",
              "        text-align: right;\n",
              "    }\n",
              "</style>\n",
              "<table border=\"1\" class=\"dataframe\">\n",
              "  <thead>\n",
              "    <tr>\n",
              "      <th></th>\n",
              "      <th colspan=\"4\" halign=\"left\">total_vaccinations</th>\n",
              "      <th colspan=\"4\" halign=\"left\">total_distributed</th>\n",
              "      <th colspan=\"4\" halign=\"left\">people_vaccinated</th>\n",
              "      <th colspan=\"4\" halign=\"left\">people_fully_vaccinated</th>\n",
              "      <th colspan=\"4\" halign=\"left\">daily_vaccinations</th>\n",
              "      <th colspan=\"4\" halign=\"left\">people_fully_vaccinated_per_hundred</th>\n",
              "      <th colspan=\"4\" halign=\"left\">distributed_per_hundred</th>\n",
              "    </tr>\n",
              "    <tr>\n",
              "      <th></th>\n",
              "      <th>amax</th>\n",
              "      <th>amin</th>\n",
              "      <th>mean</th>\n",
              "      <th>std</th>\n",
              "      <th>amax</th>\n",
              "      <th>amin</th>\n",
              "      <th>mean</th>\n",
              "      <th>std</th>\n",
              "      <th>amax</th>\n",
              "      <th>amin</th>\n",
              "      <th>mean</th>\n",
              "      <th>std</th>\n",
              "      <th>amax</th>\n",
              "      <th>amin</th>\n",
              "      <th>mean</th>\n",
              "      <th>std</th>\n",
              "      <th>amax</th>\n",
              "      <th>amin</th>\n",
              "      <th>mean</th>\n",
              "      <th>std</th>\n",
              "      <th>amax</th>\n",
              "      <th>amin</th>\n",
              "      <th>mean</th>\n",
              "      <th>std</th>\n",
              "      <th>amax</th>\n",
              "      <th>amin</th>\n",
              "      <th>mean</th>\n",
              "      <th>std</th>\n",
              "    </tr>\n",
              "    <tr>\n",
              "      <th>location</th>\n",
              "      <th></th>\n",
              "      <th></th>\n",
              "      <th></th>\n",
              "      <th></th>\n",
              "      <th></th>\n",
              "      <th></th>\n",
              "      <th></th>\n",
              "      <th></th>\n",
              "      <th></th>\n",
              "      <th></th>\n",
              "      <th></th>\n",
              "      <th></th>\n",
              "      <th></th>\n",
              "      <th></th>\n",
              "      <th></th>\n",
              "      <th></th>\n",
              "      <th></th>\n",
              "      <th></th>\n",
              "      <th></th>\n",
              "      <th></th>\n",
              "      <th></th>\n",
              "      <th></th>\n",
              "      <th></th>\n",
              "      <th></th>\n",
              "      <th></th>\n",
              "      <th></th>\n",
              "      <th></th>\n",
              "      <th></th>\n",
              "    </tr>\n",
              "  </thead>\n",
              "  <tbody>\n",
              "    <tr>\n",
              "      <th>Alabama</th>\n",
              "      <td>3634744.0</td>\n",
              "      <td>78134.0</td>\n",
              "      <td>2.138906e+06</td>\n",
              "      <td>1.141871e+06</td>\n",
              "      <td>5167970.0</td>\n",
              "      <td>377025.0</td>\n",
              "      <td>3.225757e+06</td>\n",
              "      <td>1.625465e+06</td>\n",
              "      <td>2154479.0</td>\n",
              "      <td>70861.0</td>\n",
              "      <td>1.310005e+06</td>\n",
              "      <td>6.323005e+05</td>\n",
              "      <td>1693504.0</td>\n",
              "      <td>7270.0</td>\n",
              "      <td>9.479595e+05</td>\n",
              "      <td>5.892081e+05</td>\n",
              "      <td>33381.0</td>\n",
              "      <td>1770.0</td>\n",
              "      <td>17403.985222</td>\n",
              "      <td>8661.080664</td>\n",
              "      <td>34.54</td>\n",
              "      <td>0.15</td>\n",
              "      <td>19.333299</td>\n",
              "      <td>12.016759</td>\n",
              "      <td>105.40</td>\n",
              "      <td>7.69</td>\n",
              "      <td>65.788535</td>\n",
              "      <td>33.151044</td>\n",
              "    </tr>\n",
              "    <tr>\n",
              "      <th>Alaska</th>\n",
              "      <td>699605.0</td>\n",
              "      <td>35838.0</td>\n",
              "      <td>4.591857e+05</td>\n",
              "      <td>2.038323e+05</td>\n",
              "      <td>861995.0</td>\n",
              "      <td>141600.0</td>\n",
              "      <td>6.211646e+05</td>\n",
              "      <td>2.426200e+05</td>\n",
              "      <td>378395.0</td>\n",
              "      <td>22486.0</td>\n",
              "      <td>2.613855e+05</td>\n",
              "      <td>1.009336e+05</td>\n",
              "      <td>333879.0</td>\n",
              "      <td>5400.0</td>\n",
              "      <td>2.059137e+05</td>\n",
              "      <td>1.082264e+05</td>\n",
              "      <td>9046.0</td>\n",
              "      <td>211.0</td>\n",
              "      <td>3311.009852</td>\n",
              "      <td>1932.693332</td>\n",
              "      <td>45.64</td>\n",
              "      <td>0.74</td>\n",
              "      <td>28.147716</td>\n",
              "      <td>14.794172</td>\n",
              "      <td>117.83</td>\n",
              "      <td>19.36</td>\n",
              "      <td>84.911162</td>\n",
              "      <td>33.165508</td>\n",
              "    </tr>\n",
              "    <tr>\n",
              "      <th>American Samoa</th>\n",
              "      <td>52214.0</td>\n",
              "      <td>2124.0</td>\n",
              "      <td>3.299170e+04</td>\n",
              "      <td>1.390250e+04</td>\n",
              "      <td>55830.0</td>\n",
              "      <td>10650.0</td>\n",
              "      <td>4.420485e+04</td>\n",
              "      <td>1.240068e+04</td>\n",
              "      <td>29008.0</td>\n",
              "      <td>842.0</td>\n",
              "      <td>1.905664e+04</td>\n",
              "      <td>6.916372e+03</td>\n",
              "      <td>23859.0</td>\n",
              "      <td>260.0</td>\n",
              "      <td>1.418966e+04</td>\n",
              "      <td>7.168912e+03</td>\n",
              "      <td>604.0</td>\n",
              "      <td>44.0</td>\n",
              "      <td>252.216749</td>\n",
              "      <td>139.959656</td>\n",
              "      <td>42.84</td>\n",
              "      <td>0.47</td>\n",
              "      <td>25.480102</td>\n",
              "      <td>12.873213</td>\n",
              "      <td>100.25</td>\n",
              "      <td>19.12</td>\n",
              "      <td>79.377424</td>\n",
              "      <td>22.268316</td>\n",
              "    </tr>\n",
              "    <tr>\n",
              "      <th>Arizona</th>\n",
              "      <td>7133606.0</td>\n",
              "      <td>141355.0</td>\n",
              "      <td>4.201294e+06</td>\n",
              "      <td>2.288952e+06</td>\n",
              "      <td>8586430.0</td>\n",
              "      <td>563025.0</td>\n",
              "      <td>5.321786e+06</td>\n",
              "      <td>2.802802e+06</td>\n",
              "      <td>3884930.0</td>\n",
              "      <td>95141.0</td>\n",
              "      <td>2.440898e+06</td>\n",
              "      <td>1.191036e+06</td>\n",
              "      <td>3305583.0</td>\n",
              "      <td>8343.0</td>\n",
              "      <td>1.772429e+06</td>\n",
              "      <td>1.127396e+06</td>\n",
              "      <td>63074.0</td>\n",
              "      <td>9787.0</td>\n",
              "      <td>34501.236453</td>\n",
              "      <td>17130.327252</td>\n",
              "      <td>45.41</td>\n",
              "      <td>0.11</td>\n",
              "      <td>24.350558</td>\n",
              "      <td>15.488690</td>\n",
              "      <td>117.97</td>\n",
              "      <td>7.74</td>\n",
              "      <td>73.114141</td>\n",
              "      <td>38.507235</td>\n",
              "    </tr>\n",
              "    <tr>\n",
              "      <th>Arkansas</th>\n",
              "      <td>2466403.0</td>\n",
              "      <td>40879.0</td>\n",
              "      <td>1.466871e+06</td>\n",
              "      <td>7.579522e+05</td>\n",
              "      <td>3064570.0</td>\n",
              "      <td>274400.0</td>\n",
              "      <td>1.995383e+06</td>\n",
              "      <td>9.502460e+05</td>\n",
              "      <td>1430838.0</td>\n",
              "      <td>39357.0</td>\n",
              "      <td>8.801465e+05</td>\n",
              "      <td>4.081133e+05</td>\n",
              "      <td>1104020.0</td>\n",
              "      <td>8.0</td>\n",
              "      <td>6.248379e+05</td>\n",
              "      <td>3.773779e+05</td>\n",
              "      <td>53975.0</td>\n",
              "      <td>3951.0</td>\n",
              "      <td>12326.704433</td>\n",
              "      <td>6685.257063</td>\n",
              "      <td>36.58</td>\n",
              "      <td>0.00</td>\n",
              "      <td>20.705279</td>\n",
              "      <td>12.504998</td>\n",
              "      <td>101.55</td>\n",
              "      <td>9.09</td>\n",
              "      <td>66.120606</td>\n",
              "      <td>31.488118</td>\n",
              "    </tr>\n",
              "    <tr>\n",
              "      <th>...</th>\n",
              "      <td>...</td>\n",
              "      <td>...</td>\n",
              "      <td>...</td>\n",
              "      <td>...</td>\n",
              "      <td>...</td>\n",
              "      <td>...</td>\n",
              "      <td>...</td>\n",
              "      <td>...</td>\n",
              "      <td>...</td>\n",
              "      <td>...</td>\n",
              "      <td>...</td>\n",
              "      <td>...</td>\n",
              "      <td>...</td>\n",
              "      <td>...</td>\n",
              "      <td>...</td>\n",
              "      <td>...</td>\n",
              "      <td>...</td>\n",
              "      <td>...</td>\n",
              "      <td>...</td>\n",
              "      <td>...</td>\n",
              "      <td>...</td>\n",
              "      <td>...</td>\n",
              "      <td>...</td>\n",
              "      <td>...</td>\n",
              "      <td>...</td>\n",
              "      <td>...</td>\n",
              "      <td>...</td>\n",
              "      <td>...</td>\n",
              "    </tr>\n",
              "    <tr>\n",
              "      <th>Virginia</th>\n",
              "      <td>9724507.0</td>\n",
              "      <td>190607.0</td>\n",
              "      <td>5.594172e+06</td>\n",
              "      <td>3.267572e+06</td>\n",
              "      <td>10844565.0</td>\n",
              "      <td>797150.0</td>\n",
              "      <td>6.560813e+06</td>\n",
              "      <td>3.619285e+06</td>\n",
              "      <td>5294621.0</td>\n",
              "      <td>192918.0</td>\n",
              "      <td>3.300097e+06</td>\n",
              "      <td>1.692059e+06</td>\n",
              "      <td>4669654.0</td>\n",
              "      <td>28164.0</td>\n",
              "      <td>2.489528e+06</td>\n",
              "      <td>1.653253e+06</td>\n",
              "      <td>101058.0</td>\n",
              "      <td>11920.0</td>\n",
              "      <td>47047.246305</td>\n",
              "      <td>24357.035574</td>\n",
              "      <td>54.71</td>\n",
              "      <td>0.33</td>\n",
              "      <td>29.166923</td>\n",
              "      <td>19.368865</td>\n",
              "      <td>127.05</td>\n",
              "      <td>9.34</td>\n",
              "      <td>76.864545</td>\n",
              "      <td>42.402303</td>\n",
              "    </tr>\n",
              "    <tr>\n",
              "      <th>Washington</th>\n",
              "      <td>9036298.0</td>\n",
              "      <td>195567.0</td>\n",
              "      <td>5.068535e+06</td>\n",
              "      <td>3.047443e+06</td>\n",
              "      <td>9756085.0</td>\n",
              "      <td>567725.0</td>\n",
              "      <td>5.928382e+06</td>\n",
              "      <td>3.286401e+06</td>\n",
              "      <td>4892508.0</td>\n",
              "      <td>162105.0</td>\n",
              "      <td>2.938858e+06</td>\n",
              "      <td>1.599231e+06</td>\n",
              "      <td>4403203.0</td>\n",
              "      <td>17689.0</td>\n",
              "      <td>2.266124e+06</td>\n",
              "      <td>1.559587e+06</td>\n",
              "      <td>77843.0</td>\n",
              "      <td>10802.0</td>\n",
              "      <td>43595.965517</td>\n",
              "      <td>21058.455962</td>\n",
              "      <td>57.82</td>\n",
              "      <td>0.23</td>\n",
              "      <td>29.759239</td>\n",
              "      <td>20.481005</td>\n",
              "      <td>128.12</td>\n",
              "      <td>7.46</td>\n",
              "      <td>77.852172</td>\n",
              "      <td>43.157714</td>\n",
              "    </tr>\n",
              "    <tr>\n",
              "      <th>West Virginia</th>\n",
              "      <td>1488339.0</td>\n",
              "      <td>103330.0</td>\n",
              "      <td>9.784976e+05</td>\n",
              "      <td>4.412050e+05</td>\n",
              "      <td>1978745.0</td>\n",
              "      <td>160975.0</td>\n",
              "      <td>1.303775e+06</td>\n",
              "      <td>6.234229e+05</td>\n",
              "      <td>825993.0</td>\n",
              "      <td>99061.0</td>\n",
              "      <td>5.633819e+05</td>\n",
              "      <td>2.226842e+05</td>\n",
              "      <td>700291.0</td>\n",
              "      <td>21162.0</td>\n",
              "      <td>4.388573e+05</td>\n",
              "      <td>2.247026e+05</td>\n",
              "      <td>15123.0</td>\n",
              "      <td>420.0</td>\n",
              "      <td>6939.453202</td>\n",
              "      <td>3765.281867</td>\n",
              "      <td>39.08</td>\n",
              "      <td>1.18</td>\n",
              "      <td>24.487949</td>\n",
              "      <td>12.538446</td>\n",
              "      <td>110.41</td>\n",
              "      <td>8.98</td>\n",
              "      <td>72.749293</td>\n",
              "      <td>34.786757</td>\n",
              "    </tr>\n",
              "    <tr>\n",
              "      <th>Wisconsin</th>\n",
              "      <td>6182459.0</td>\n",
              "      <td>137253.0</td>\n",
              "      <td>3.727577e+06</td>\n",
              "      <td>2.084437e+06</td>\n",
              "      <td>6394825.0</td>\n",
              "      <td>429500.0</td>\n",
              "      <td>4.069323e+06</td>\n",
              "      <td>2.117826e+06</td>\n",
              "      <td>3251669.0</td>\n",
              "      <td>125895.0</td>\n",
              "      <td>2.108870e+06</td>\n",
              "      <td>1.046631e+06</td>\n",
              "      <td>3022244.0</td>\n",
              "      <td>11343.0</td>\n",
              "      <td>1.677759e+06</td>\n",
              "      <td>1.085006e+06</td>\n",
              "      <td>66817.0</td>\n",
              "      <td>0.0</td>\n",
              "      <td>29776.443350</td>\n",
              "      <td>17856.115508</td>\n",
              "      <td>51.91</td>\n",
              "      <td>0.19</td>\n",
              "      <td>28.814975</td>\n",
              "      <td>18.635215</td>\n",
              "      <td>109.83</td>\n",
              "      <td>7.38</td>\n",
              "      <td>69.890606</td>\n",
              "      <td>36.373367</td>\n",
              "    </tr>\n",
              "    <tr>\n",
              "      <th>Wyoming</th>\n",
              "      <td>447632.0</td>\n",
              "      <td>16467.0</td>\n",
              "      <td>2.898210e+05</td>\n",
              "      <td>1.380971e+05</td>\n",
              "      <td>531195.0</td>\n",
              "      <td>47800.0</td>\n",
              "      <td>3.770813e+05</td>\n",
              "      <td>1.659092e+05</td>\n",
              "      <td>241812.0</td>\n",
              "      <td>13577.0</td>\n",
              "      <td>1.639153e+05</td>\n",
              "      <td>6.842377e+04</td>\n",
              "      <td>212359.0</td>\n",
              "      <td>2116.0</td>\n",
              "      <td>1.280707e+05</td>\n",
              "      <td>7.167277e+04</td>\n",
              "      <td>6092.0</td>\n",
              "      <td>318.0</td>\n",
              "      <td>2145.044335</td>\n",
              "      <td>1337.772466</td>\n",
              "      <td>36.69</td>\n",
              "      <td>0.37</td>\n",
              "      <td>22.128579</td>\n",
              "      <td>12.383877</td>\n",
              "      <td>91.78</td>\n",
              "      <td>8.26</td>\n",
              "      <td>65.153232</td>\n",
              "      <td>28.666378</td>\n",
              "    </tr>\n",
              "  </tbody>\n",
              "</table>\n",
              "<p>65 rows × 28 columns</p>\n",
              "</div>"
            ],
            "text/plain": [
              "               total_vaccinations            ... distributed_per_hundred           \n",
              "                             amax      amin  ...                    mean        std\n",
              "location                                     ...                                   \n",
              "Alabama                 3634744.0   78134.0  ...               65.788535  33.151044\n",
              "Alaska                   699605.0   35838.0  ...               84.911162  33.165508\n",
              "American Samoa            52214.0    2124.0  ...               79.377424  22.268316\n",
              "Arizona                 7133606.0  141355.0  ...               73.114141  38.507235\n",
              "Arkansas                2466403.0   40879.0  ...               66.120606  31.488118\n",
              "...                           ...       ...  ...                     ...        ...\n",
              "Virginia                9724507.0  190607.0  ...               76.864545  42.402303\n",
              "Washington              9036298.0  195567.0  ...               77.852172  43.157714\n",
              "West Virginia           1488339.0  103330.0  ...               72.749293  34.786757\n",
              "Wisconsin               6182459.0  137253.0  ...               69.890606  36.373367\n",
              "Wyoming                  447632.0   16467.0  ...               65.153232  28.666378\n",
              "\n",
              "[65 rows x 28 columns]"
            ]
          },
          "metadata": {
            "tags": []
          },
          "execution_count": 13
        }
      ]
    },
    {
      "cell_type": "code",
      "metadata": {
        "colab": {
          "base_uri": "https://localhost:8080/"
        },
        "id": "YAO9M3dSzy9e",
        "outputId": "8a2f2fe1-8462-484e-b837-5db5681f2566"
      },
      "source": [
        "my_imputer = SimpleImputer()\n",
        "#df_imputed= my_imputer.fit_transform(df_1)\n",
        "df_imputed= my_imputer.fit_transform(df_1[['total_vaccinations','total_distributed','people_vaccinated','people_fully_vaccinated','daily_vaccinations','people_fully_vaccinated_per_hundred','distributed_per_hundred']])\n",
        "df_imputed"
      ],
      "execution_count": 14,
      "outputs": [
        {
          "output_type": "execute_result",
          "data": {
            "text/plain": [
              "array([[7.81340000e+04, 3.77025000e+05, 7.08610000e+04, ...,\n",
              "        5.30861537e+04, 1.50000000e-01, 7.69000000e+00],\n",
              "       [8.40400000e+04, 3.78975000e+05, 7.47920000e+04, ...,\n",
              "        5.90600000e+03, 1.90000000e-01, 7.73000000e+00],\n",
              "       [9.23000000e+04, 4.35350000e+05, 8.04800000e+04, ...,\n",
              "        7.08300000e+03, 2.64872635e+01, 8.88000000e+00],\n",
              "       ...,\n",
              "       [4.47594000e+05, 5.29845000e+05, 2.41735000e+05, ...,\n",
              "        6.97000000e+02, 3.66800000e+01, 9.15500000e+01],\n",
              "       [4.47616000e+05, 5.29845000e+05, 2.41769000e+05, ...,\n",
              "        6.94000000e+02, 3.66900000e+01, 9.15500000e+01],\n",
              "       [4.47632000e+05, 5.31195000e+05, 2.41812000e+05, ...,\n",
              "        6.93000000e+02, 3.66900000e+01, 9.17800000e+01]])"
            ]
          },
          "metadata": {
            "tags": []
          },
          "execution_count": 14
        }
      ]
    },
    {
      "cell_type": "code",
      "metadata": {
        "colab": {
          "base_uri": "https://localhost:8080/",
          "height": 433
        },
        "id": "jBFvktOBxsr-",
        "outputId": "f7f51157-3178-4095-afa0-cac9b1a91e61"
      },
      "source": [
        "df=pd.DataFrame(df_imputed, columns=['total_vaccinations','total_distributed','people_vaccinated','people_fully_vaccinated','daily_vaccinations','people_fully_vaccinated_per_hundred','distributed_per_hundred'])\n",
        "df"
      ],
      "execution_count": 15,
      "outputs": [
        {
          "output_type": "execute_result",
          "data": {
            "text/html": [
              "<div>\n",
              "<style scoped>\n",
              "    .dataframe tbody tr th:only-of-type {\n",
              "        vertical-align: middle;\n",
              "    }\n",
              "\n",
              "    .dataframe tbody tr th {\n",
              "        vertical-align: top;\n",
              "    }\n",
              "\n",
              "    .dataframe thead th {\n",
              "        text-align: right;\n",
              "    }\n",
              "</style>\n",
              "<table border=\"1\" class=\"dataframe\">\n",
              "  <thead>\n",
              "    <tr style=\"text-align: right;\">\n",
              "      <th></th>\n",
              "      <th>total_vaccinations</th>\n",
              "      <th>total_distributed</th>\n",
              "      <th>people_vaccinated</th>\n",
              "      <th>people_fully_vaccinated</th>\n",
              "      <th>daily_vaccinations</th>\n",
              "      <th>people_fully_vaccinated_per_hundred</th>\n",
              "      <th>distributed_per_hundred</th>\n",
              "    </tr>\n",
              "  </thead>\n",
              "  <tbody>\n",
              "    <tr>\n",
              "      <th>0</th>\n",
              "      <td>7.813400e+04</td>\n",
              "      <td>3.770250e+05</td>\n",
              "      <td>7.086100e+04</td>\n",
              "      <td>7.270000e+03</td>\n",
              "      <td>53086.15373</td>\n",
              "      <td>0.150000</td>\n",
              "      <td>7.690000</td>\n",
              "    </tr>\n",
              "    <tr>\n",
              "      <th>1</th>\n",
              "      <td>8.404000e+04</td>\n",
              "      <td>3.789750e+05</td>\n",
              "      <td>7.479200e+04</td>\n",
              "      <td>9.245000e+03</td>\n",
              "      <td>5906.00000</td>\n",
              "      <td>0.190000</td>\n",
              "      <td>7.730000</td>\n",
              "    </tr>\n",
              "    <tr>\n",
              "      <th>2</th>\n",
              "      <td>9.230000e+04</td>\n",
              "      <td>4.353500e+05</td>\n",
              "      <td>8.048000e+04</td>\n",
              "      <td>2.796865e+06</td>\n",
              "      <td>7083.00000</td>\n",
              "      <td>26.487264</td>\n",
              "      <td>8.880000</td>\n",
              "    </tr>\n",
              "    <tr>\n",
              "      <th>3</th>\n",
              "      <td>1.005670e+05</td>\n",
              "      <td>4.446500e+05</td>\n",
              "      <td>8.695600e+04</td>\n",
              "      <td>1.348800e+04</td>\n",
              "      <td>7478.00000</td>\n",
              "      <td>0.280000</td>\n",
              "      <td>9.070000</td>\n",
              "    </tr>\n",
              "    <tr>\n",
              "      <th>4</th>\n",
              "      <td>6.393010e+06</td>\n",
              "      <td>7.895230e+06</td>\n",
              "      <td>3.749922e+06</td>\n",
              "      <td>2.796865e+06</td>\n",
              "      <td>7498.00000</td>\n",
              "      <td>26.487264</td>\n",
              "      <td>75.397603</td>\n",
              "    </tr>\n",
              "    <tr>\n",
              "      <th>...</th>\n",
              "      <td>...</td>\n",
              "      <td>...</td>\n",
              "      <td>...</td>\n",
              "      <td>...</td>\n",
              "      <td>...</td>\n",
              "      <td>...</td>\n",
              "      <td>...</td>\n",
              "    </tr>\n",
              "    <tr>\n",
              "      <th>13278</th>\n",
              "      <td>4.465810e+05</td>\n",
              "      <td>5.282450e+05</td>\n",
              "      <td>2.409610e+05</td>\n",
              "      <td>2.118740e+05</td>\n",
              "      <td>697.00000</td>\n",
              "      <td>36.610000</td>\n",
              "      <td>91.270000</td>\n",
              "    </tr>\n",
              "    <tr>\n",
              "      <th>13279</th>\n",
              "      <td>4.474730e+05</td>\n",
              "      <td>5.298450e+05</td>\n",
              "      <td>2.416100e+05</td>\n",
              "      <td>2.122300e+05</td>\n",
              "      <td>697.00000</td>\n",
              "      <td>36.670000</td>\n",
              "      <td>91.550000</td>\n",
              "    </tr>\n",
              "    <tr>\n",
              "      <th>13280</th>\n",
              "      <td>4.475940e+05</td>\n",
              "      <td>5.298450e+05</td>\n",
              "      <td>2.417350e+05</td>\n",
              "      <td>2.123170e+05</td>\n",
              "      <td>697.00000</td>\n",
              "      <td>36.680000</td>\n",
              "      <td>91.550000</td>\n",
              "    </tr>\n",
              "    <tr>\n",
              "      <th>13281</th>\n",
              "      <td>4.476160e+05</td>\n",
              "      <td>5.298450e+05</td>\n",
              "      <td>2.417690e+05</td>\n",
              "      <td>2.123340e+05</td>\n",
              "      <td>694.00000</td>\n",
              "      <td>36.690000</td>\n",
              "      <td>91.550000</td>\n",
              "    </tr>\n",
              "    <tr>\n",
              "      <th>13282</th>\n",
              "      <td>4.476320e+05</td>\n",
              "      <td>5.311950e+05</td>\n",
              "      <td>2.418120e+05</td>\n",
              "      <td>2.123590e+05</td>\n",
              "      <td>693.00000</td>\n",
              "      <td>36.690000</td>\n",
              "      <td>91.780000</td>\n",
              "    </tr>\n",
              "  </tbody>\n",
              "</table>\n",
              "<p>13283 rows × 7 columns</p>\n",
              "</div>"
            ],
            "text/plain": [
              "       total_vaccinations  ...  distributed_per_hundred\n",
              "0            7.813400e+04  ...                 7.690000\n",
              "1            8.404000e+04  ...                 7.730000\n",
              "2            9.230000e+04  ...                 8.880000\n",
              "3            1.005670e+05  ...                 9.070000\n",
              "4            6.393010e+06  ...                75.397603\n",
              "...                   ...  ...                      ...\n",
              "13278        4.465810e+05  ...                91.270000\n",
              "13279        4.474730e+05  ...                91.550000\n",
              "13280        4.475940e+05  ...                91.550000\n",
              "13281        4.476160e+05  ...                91.550000\n",
              "13282        4.476320e+05  ...                91.780000\n",
              "\n",
              "[13283 rows x 7 columns]"
            ]
          },
          "metadata": {
            "tags": []
          },
          "execution_count": 15
        }
      ]
    },
    {
      "cell_type": "code",
      "metadata": {
        "colab": {
          "base_uri": "https://localhost:8080/",
          "height": 598
        },
        "id": "RcarUB2FzQDp",
        "outputId": "9cdfb64e-de7f-4d07-d0b4-3108f00bb0c8"
      },
      "source": [
        "df=df.join(df_1[['date','location']])\n",
        "df"
      ],
      "execution_count": 16,
      "outputs": [
        {
          "output_type": "execute_result",
          "data": {
            "text/html": [
              "<div>\n",
              "<style scoped>\n",
              "    .dataframe tbody tr th:only-of-type {\n",
              "        vertical-align: middle;\n",
              "    }\n",
              "\n",
              "    .dataframe tbody tr th {\n",
              "        vertical-align: top;\n",
              "    }\n",
              "\n",
              "    .dataframe thead th {\n",
              "        text-align: right;\n",
              "    }\n",
              "</style>\n",
              "<table border=\"1\" class=\"dataframe\">\n",
              "  <thead>\n",
              "    <tr style=\"text-align: right;\">\n",
              "      <th></th>\n",
              "      <th>total_vaccinations</th>\n",
              "      <th>total_distributed</th>\n",
              "      <th>people_vaccinated</th>\n",
              "      <th>people_fully_vaccinated</th>\n",
              "      <th>daily_vaccinations</th>\n",
              "      <th>people_fully_vaccinated_per_hundred</th>\n",
              "      <th>distributed_per_hundred</th>\n",
              "      <th>date</th>\n",
              "      <th>location</th>\n",
              "    </tr>\n",
              "  </thead>\n",
              "  <tbody>\n",
              "    <tr>\n",
              "      <th>0</th>\n",
              "      <td>7.813400e+04</td>\n",
              "      <td>3.770250e+05</td>\n",
              "      <td>7.086100e+04</td>\n",
              "      <td>7.270000e+03</td>\n",
              "      <td>53086.15373</td>\n",
              "      <td>0.150000</td>\n",
              "      <td>7.690000</td>\n",
              "      <td>2021-01-12</td>\n",
              "      <td>Alabama</td>\n",
              "    </tr>\n",
              "    <tr>\n",
              "      <th>1</th>\n",
              "      <td>8.404000e+04</td>\n",
              "      <td>3.789750e+05</td>\n",
              "      <td>7.479200e+04</td>\n",
              "      <td>9.245000e+03</td>\n",
              "      <td>5906.00000</td>\n",
              "      <td>0.190000</td>\n",
              "      <td>7.730000</td>\n",
              "      <td>2021-01-13</td>\n",
              "      <td>Alabama</td>\n",
              "    </tr>\n",
              "    <tr>\n",
              "      <th>2</th>\n",
              "      <td>9.230000e+04</td>\n",
              "      <td>4.353500e+05</td>\n",
              "      <td>8.048000e+04</td>\n",
              "      <td>2.796865e+06</td>\n",
              "      <td>7083.00000</td>\n",
              "      <td>26.487264</td>\n",
              "      <td>8.880000</td>\n",
              "      <td>2021-01-14</td>\n",
              "      <td>Alabama</td>\n",
              "    </tr>\n",
              "    <tr>\n",
              "      <th>3</th>\n",
              "      <td>1.005670e+05</td>\n",
              "      <td>4.446500e+05</td>\n",
              "      <td>8.695600e+04</td>\n",
              "      <td>1.348800e+04</td>\n",
              "      <td>7478.00000</td>\n",
              "      <td>0.280000</td>\n",
              "      <td>9.070000</td>\n",
              "      <td>2021-01-15</td>\n",
              "      <td>Alabama</td>\n",
              "    </tr>\n",
              "    <tr>\n",
              "      <th>4</th>\n",
              "      <td>6.393010e+06</td>\n",
              "      <td>7.895230e+06</td>\n",
              "      <td>3.749922e+06</td>\n",
              "      <td>2.796865e+06</td>\n",
              "      <td>7498.00000</td>\n",
              "      <td>26.487264</td>\n",
              "      <td>75.397603</td>\n",
              "      <td>2021-01-16</td>\n",
              "      <td>Alabama</td>\n",
              "    </tr>\n",
              "    <tr>\n",
              "      <th>...</th>\n",
              "      <td>...</td>\n",
              "      <td>...</td>\n",
              "      <td>...</td>\n",
              "      <td>...</td>\n",
              "      <td>...</td>\n",
              "      <td>...</td>\n",
              "      <td>...</td>\n",
              "      <td>...</td>\n",
              "      <td>...</td>\n",
              "    </tr>\n",
              "    <tr>\n",
              "      <th>13278</th>\n",
              "      <td>4.465810e+05</td>\n",
              "      <td>5.282450e+05</td>\n",
              "      <td>2.409610e+05</td>\n",
              "      <td>2.118740e+05</td>\n",
              "      <td>697.00000</td>\n",
              "      <td>36.610000</td>\n",
              "      <td>91.270000</td>\n",
              "      <td>2021-07-30</td>\n",
              "      <td>Wyoming</td>\n",
              "    </tr>\n",
              "    <tr>\n",
              "      <th>13279</th>\n",
              "      <td>4.474730e+05</td>\n",
              "      <td>5.298450e+05</td>\n",
              "      <td>2.416100e+05</td>\n",
              "      <td>2.122300e+05</td>\n",
              "      <td>697.00000</td>\n",
              "      <td>36.670000</td>\n",
              "      <td>91.550000</td>\n",
              "      <td>2021-07-31</td>\n",
              "      <td>Wyoming</td>\n",
              "    </tr>\n",
              "    <tr>\n",
              "      <th>13280</th>\n",
              "      <td>4.475940e+05</td>\n",
              "      <td>5.298450e+05</td>\n",
              "      <td>2.417350e+05</td>\n",
              "      <td>2.123170e+05</td>\n",
              "      <td>697.00000</td>\n",
              "      <td>36.680000</td>\n",
              "      <td>91.550000</td>\n",
              "      <td>2021-08-01</td>\n",
              "      <td>Wyoming</td>\n",
              "    </tr>\n",
              "    <tr>\n",
              "      <th>13281</th>\n",
              "      <td>4.476160e+05</td>\n",
              "      <td>5.298450e+05</td>\n",
              "      <td>2.417690e+05</td>\n",
              "      <td>2.123340e+05</td>\n",
              "      <td>694.00000</td>\n",
              "      <td>36.690000</td>\n",
              "      <td>91.550000</td>\n",
              "      <td>2021-08-02</td>\n",
              "      <td>Wyoming</td>\n",
              "    </tr>\n",
              "    <tr>\n",
              "      <th>13282</th>\n",
              "      <td>4.476320e+05</td>\n",
              "      <td>5.311950e+05</td>\n",
              "      <td>2.418120e+05</td>\n",
              "      <td>2.123590e+05</td>\n",
              "      <td>693.00000</td>\n",
              "      <td>36.690000</td>\n",
              "      <td>91.780000</td>\n",
              "      <td>2021-08-03</td>\n",
              "      <td>Wyoming</td>\n",
              "    </tr>\n",
              "  </tbody>\n",
              "</table>\n",
              "<p>13283 rows × 9 columns</p>\n",
              "</div>"
            ],
            "text/plain": [
              "       total_vaccinations  total_distributed  ...        date  location\n",
              "0            7.813400e+04       3.770250e+05  ...  2021-01-12   Alabama\n",
              "1            8.404000e+04       3.789750e+05  ...  2021-01-13   Alabama\n",
              "2            9.230000e+04       4.353500e+05  ...  2021-01-14   Alabama\n",
              "3            1.005670e+05       4.446500e+05  ...  2021-01-15   Alabama\n",
              "4            6.393010e+06       7.895230e+06  ...  2021-01-16   Alabama\n",
              "...                   ...                ...  ...         ...       ...\n",
              "13278        4.465810e+05       5.282450e+05  ...  2021-07-30   Wyoming\n",
              "13279        4.474730e+05       5.298450e+05  ...  2021-07-31   Wyoming\n",
              "13280        4.475940e+05       5.298450e+05  ...  2021-08-01   Wyoming\n",
              "13281        4.476160e+05       5.298450e+05  ...  2021-08-02   Wyoming\n",
              "13282        4.476320e+05       5.311950e+05  ...  2021-08-03   Wyoming\n",
              "\n",
              "[13283 rows x 9 columns]"
            ]
          },
          "metadata": {
            "tags": []
          },
          "execution_count": 16
        }
      ]
    },
    {
      "cell_type": "code",
      "metadata": {
        "colab": {
          "base_uri": "https://localhost:8080/"
        },
        "id": "3SXvPnZO3L3x",
        "outputId": "ba0d95b6-1aa8-4a61-f1d3-0134a52860c0"
      },
      "source": [
        "df.isnull().sum()       #number of null values in each column"
      ],
      "execution_count": 17,
      "outputs": [
        {
          "output_type": "execute_result",
          "data": {
            "text/plain": [
              "total_vaccinations                     0\n",
              "total_distributed                      0\n",
              "people_vaccinated                      0\n",
              "people_fully_vaccinated                0\n",
              "daily_vaccinations                     0\n",
              "people_fully_vaccinated_per_hundred    0\n",
              "distributed_per_hundred                0\n",
              "date                                   0\n",
              "location                               0\n",
              "dtype: int64"
            ]
          },
          "metadata": {
            "tags": []
          },
          "execution_count": 17
        }
      ]
    },
    {
      "cell_type": "code",
      "metadata": {
        "colab": {
          "base_uri": "https://localhost:8080/"
        },
        "id": "slu6S5lO0rvv",
        "outputId": "3d807886-6987-4436-93ef-a722985b21bb"
      },
      "source": [
        "df.shape"
      ],
      "execution_count": 18,
      "outputs": [
        {
          "output_type": "execute_result",
          "data": {
            "text/plain": [
              "(13283, 9)"
            ]
          },
          "metadata": {
            "tags": []
          },
          "execution_count": 18
        }
      ]
    },
    {
      "cell_type": "code",
      "metadata": {
        "id": "lawxiny2_5f7"
      },
      "source": [
        "#df.boxplot(column=['total_vaccinations','total_distributed','people_vaccinated','people_fully_vaccinated','daily_vaccinations','people_fully_vaccinated_per_hundred','distributed_per_hundred'])"
      ],
      "execution_count": 19,
      "outputs": []
    },
    {
      "cell_type": "code",
      "metadata": {
        "colab": {
          "base_uri": "https://localhost:8080/",
          "height": 291
        },
        "id": "hJWS0bW3_5Ql",
        "outputId": "3730828d-2ce2-408a-bc25-a48c3612416c"
      },
      "source": [
        "df.plot.scatter('total_distributed','total_vaccinations', c=df.index, \n",
        "                cmap=plt.cm.viridis, colorbar=False)\n",
        "plt.show()"
      ],
      "execution_count": 20,
      "outputs": [
        {
          "output_type": "display_data",
          "data": {
            "image/png": "[encoded data removed]",
            "text/plain": [
              "<Figure size 432x288 with 1 Axes>"
            ]
          },
          "metadata": {
            "tags": [],
            "needs_background": "light"
          }
        }
      ]
    },
    {
      "cell_type": "code",
      "metadata": {
        "colab": {
          "base_uri": "https://localhost:8080/",
          "height": 280
        },
        "id": "Rf3cTs5T_5Ju",
        "outputId": "fa896dc9-e31a-4ce0-d8a6-a37498142c3c"
      },
      "source": [
        "df.plot.scatter('distributed_per_hundred','people_fully_vaccinated_per_hundred', c=df.index, \n",
        "                cmap=plt.cm.viridis, colorbar=False)\n",
        "plt.show()"
      ],
      "execution_count": 21,
      "outputs": [
        {
          "output_type": "display_data",
          "data": {
            "image/png": "[encoded data removed]",
            "text/plain": [
              "<Figure size 432x288 with 1 Axes>"
            ]
          },
          "metadata": {
            "tags": [],
            "needs_background": "light"
          }
        }
      ]
    },
    {
      "cell_type": "code",
      "metadata": {
        "colab": {
          "base_uri": "https://localhost:8080/",
          "height": 292
        },
        "id": "NQqV0eYiDIST",
        "outputId": "674c3839-02a9-4096-da43-3e6d9f551ee5"
      },
      "source": [
        "plt.plot(df['total_vaccinations'],label='Total Vaccinations',color='red')\n",
        "plt.plot(df['total_distributed'],label='Total Distributed',color='blue')\n",
        "plt.legend()"
      ],
      "execution_count": 22,
      "outputs": [
        {
          "output_type": "execute_result",
          "data": {
            "text/plain": [
              "<matplotlib.legend.Legend at 0x7f30fb687690>"
            ]
          },
          "metadata": {
            "tags": []
          },
          "execution_count": 22
        },
        {
          "output_type": "display_data",
          "data": {
            "image/png": "[encoded data removed]",
            "text/plain": [
              "<Figure size 432x288 with 1 Axes>"
            ]
          },
          "metadata": {
            "tags": [],
            "needs_background": "light"
          }
        }
      ]
    },
    {
      "cell_type": "code",
      "metadata": {
        "colab": {
          "base_uri": "https://localhost:8080/",
          "height": 282
        },
        "id": "G-F0YOkt9NGB",
        "outputId": "c70138be-1540-448e-885d-ede0eae71e60"
      },
      "source": [
        "plt.plot(df['people_fully_vaccinated_per_hundred'],label='Vaccinated per Hundred',color='red')\n",
        "plt.plot(df['distributed_per_hundred'],label='Distributed per Hundred',color='blue')\n",
        "plt.legend()"
      ],
      "execution_count": 23,
      "outputs": [
        {
          "output_type": "execute_result",
          "data": {
            "text/plain": [
              "<matplotlib.legend.Legend at 0x7f30fb6b2e90>"
            ]
          },
          "metadata": {
            "tags": []
          },
          "execution_count": 23
        },
        {
          "output_type": "display_data",
          "data": {
            "image/png": "[encoded data removed]",
            "text/plain": [
              "<Figure size 432x288 with 1 Axes>"
            ]
          },
          "metadata": {
            "tags": [],
            "needs_background": "light"
          }
        }
      ]
    },
    {
      "cell_type": "code",
      "metadata": {
        "id": "xSH20cK1__Jm"
      },
      "source": [
        "#covid_data=df.to_csv\n",
        "#covid_data"
      ],
      "execution_count": 24,
      "outputs": []
    },
    {
      "cell_type": "markdown",
      "metadata": {
        "id": "vmDZr4ybcsfq"
      },
      "source": [
        "#**KNN Model**"
      ]
    },
    {
      "cell_type": "code",
      "metadata": {
        "id": "eJwop0AR78gA"
      },
      "source": [
        "x=df[['total_distributed','daily_vaccinations']].values  #define x & y\n",
        "y=df['total_vaccinations'].values"
      ],
      "execution_count": 25,
      "outputs": []
    },
    {
      "cell_type": "code",
      "metadata": {
        "id": "Xe4Xja3hHtXm"
      },
      "source": [
        "x=preprocessing.StandardScaler().fit(x).transform(x.astype(float))"
      ],
      "execution_count": 26,
      "outputs": []
    },
    {
      "cell_type": "code",
      "metadata": {
        "id": "XKdLtZDA_5Bz"
      },
      "source": [
        "#split dataset to train and test dataset          \n",
        "x_train, x_test, y_train, y_test = train_test_split(x, y, test_size=0.20, random_state=4)"
      ],
      "execution_count": 27,
      "outputs": []
    },
    {
      "cell_type": "code",
      "metadata": {
        "colab": {
          "base_uri": "https://localhost:8080/"
        },
        "id": "eE2OyqK8IeTD",
        "outputId": "ee8e5565-ec05-49ce-a99f-6212dcb84a56"
      },
      "source": [
        "x_train"
      ],
      "execution_count": 28,
      "outputs": [
        {
          "output_type": "execute_result",
          "data": {
            "text/plain": [
              "array([[-0.22722589, -0.21490423],\n",
              "       [-0.14592353, -0.07205347],\n",
              "       [-0.18334117, -0.19063537],\n",
              "       ...,\n",
              "       [-0.21482477, -0.19936693],\n",
              "       [-0.20244996, -0.10799055],\n",
              "       [-0.22559765, -0.22675545]])"
            ]
          },
          "metadata": {
            "tags": []
          },
          "execution_count": 28
        }
      ]
    },
    {
      "cell_type": "code",
      "metadata": {
        "colab": {
          "base_uri": "https://localhost:8080/"
        },
        "id": "aoS6Mnw2Dln1",
        "outputId": "e778cb5c-9aa0-4017-a499-f89ad6822bb8"
      },
      "source": [
        "x_train.shape,y_train.shape"
      ],
      "execution_count": 29,
      "outputs": [
        {
          "output_type": "execute_result",
          "data": {
            "text/plain": [
              "((10626, 2), (10626,))"
            ]
          },
          "metadata": {
            "tags": []
          },
          "execution_count": 29
        }
      ]
    },
    {
      "cell_type": "code",
      "metadata": {
        "colab": {
          "base_uri": "https://localhost:8080/"
        },
        "id": "4eyNPNJPIjbQ",
        "outputId": "61ae6f50-3833-4a57-f760-a02493437e5d"
      },
      "source": [
        "x_test"
      ],
      "execution_count": 30,
      "outputs": [
        {
          "output_type": "execute_result",
          "data": {
            "text/plain": [
              "array([[-0.13775892, -0.20826406],\n",
              "       [-0.06411735, -0.20619446],\n",
              "       [-0.21373397, -0.17165599],\n",
              "       ...,\n",
              "       [-0.13290576, -0.2096104 ],\n",
              "       [-0.10309293, -0.19169414],\n",
              "       [-0.23036399, -0.23129987]])"
            ]
          },
          "metadata": {
            "tags": []
          },
          "execution_count": 30
        }
      ]
    },
    {
      "cell_type": "code",
      "metadata": {
        "colab": {
          "base_uri": "https://localhost:8080/"
        },
        "id": "CviaDIlRDpbA",
        "outputId": "34617932-b908-4562-a179-edabd165f47f"
      },
      "source": [
        "x_test.shape, y_test.shape"
      ],
      "execution_count": 31,
      "outputs": [
        {
          "output_type": "execute_result",
          "data": {
            "text/plain": [
              "((2657, 2), (2657,))"
            ]
          },
          "metadata": {
            "tags": []
          },
          "execution_count": 31
        }
      ]
    },
    {
      "cell_type": "code",
      "metadata": {
        "colab": {
          "base_uri": "https://localhost:8080/"
        },
        "id": "bD-VE_GIDtX2",
        "outputId": "581d679b-ef6a-4de4-e3d8-4c80b56c1869"
      },
      "source": [
        "y_train"
      ],
      "execution_count": 32,
      "outputs": [
        {
          "output_type": "execute_result",
          "data": {
            "text/plain": [
              "array([ 103572., 2093895., 1091286., ...,  436290.,  268212.,  171089.])"
            ]
          },
          "metadata": {
            "tags": []
          },
          "execution_count": 32
        }
      ]
    },
    {
      "cell_type": "code",
      "metadata": {
        "colab": {
          "base_uri": "https://localhost:8080/"
        },
        "id": "UXoGBG5PEDyG",
        "outputId": "6c68cc14-ac50-413f-d530-b4790c44546d"
      },
      "source": [
        "y_test"
      ],
      "execution_count": 33,
      "outputs": [
        {
          "output_type": "execute_result",
          "data": {
            "text/plain": [
              "array([2873721., 4663355.,  523269., ..., 2993638., 3708043.,    8185.])"
            ]
          },
          "metadata": {
            "tags": []
          },
          "execution_count": 33
        }
      ]
    },
    {
      "cell_type": "markdown",
      "metadata": {
        "id": "c5MIRQ72Lh9C"
      },
      "source": [
        "###**KNN First Model**"
      ]
    },
    {
      "cell_type": "code",
      "metadata": {
        "colab": {
          "base_uri": "https://localhost:8080/"
        },
        "id": "Xtkc-k0b7yG3",
        "outputId": "e897c30f-89d6-4be9-f58b-b535b6bbe0dc"
      },
      "source": [
        "knn=KNeighborsRegressor(n_neighbors=3)    #implement KNN model\n",
        "knn.fit(x_train,y_train)"
      ],
      "execution_count": 34,
      "outputs": [
        {
          "output_type": "execute_result",
          "data": {
            "text/plain": [
              "KNeighborsRegressor(algorithm='auto', leaf_size=30, metric='minkowski',\n",
              "                    metric_params=None, n_jobs=None, n_neighbors=3, p=2,\n",
              "                    weights='uniform')"
            ]
          },
          "metadata": {
            "tags": []
          },
          "execution_count": 34
        }
      ]
    },
    {
      "cell_type": "code",
      "metadata": {
        "colab": {
          "base_uri": "https://localhost:8080/"
        },
        "id": "VuCraUwG7yDi",
        "outputId": "bdaf40fe-83f8-476a-f5fd-d255d9d662b6"
      },
      "source": [
        "print('KNN Score: %.5f' % knn.score(x_test,y_test)) #get KNN score"
      ],
      "execution_count": 35,
      "outputs": [
        {
          "output_type": "stream",
          "text": [
            "KNN Score: 0.99922\n"
          ],
          "name": "stdout"
        }
      ]
    },
    {
      "cell_type": "code",
      "metadata": {
        "colab": {
          "base_uri": "https://localhost:8080/"
        },
        "id": "JUMDMbia7x__",
        "outputId": "4aefbdc2-e9bd-408e-978d-c26279acb923"
      },
      "source": [
        "y_pred=knn.predict(x_test)     #define y_pred \n",
        "y_pred"
      ],
      "execution_count": 36,
      "outputs": [
        {
          "output_type": "execute_result",
          "data": {
            "text/plain": [
              "array([2872713.        , 4659524.        ,  419207.33333333, ...,\n",
              "       2990507.33333333, 4181484.33333333,    8185.        ])"
            ]
          },
          "metadata": {
            "tags": []
          },
          "execution_count": 36
        }
      ]
    },
    {
      "cell_type": "code",
      "metadata": {
        "colab": {
          "base_uri": "https://localhost:8080/"
        },
        "id": "ENVOOWPy7x8W",
        "outputId": "11991940-5c42-41cf-a35d-3c8b1ce63518"
      },
      "source": [
        "knn.predict(x_test)[0:5]    #KNN model prediction"
      ],
      "execution_count": 37,
      "outputs": [
        {
          "output_type": "execute_result",
          "data": {
            "text/plain": [
              "array([2872713.        , 4659524.        ,  419207.33333333,\n",
              "       6393010.29519522, 1047708.        ])"
            ]
          },
          "metadata": {
            "tags": []
          },
          "execution_count": 37
        }
      ]
    },
    {
      "cell_type": "code",
      "metadata": {
        "colab": {
          "base_uri": "https://localhost:8080/"
        },
        "id": "UEMYFfbKNbOm",
        "outputId": "c0313150-7a76-425a-eeb1-9f6ae957f382"
      },
      "source": [
        "#apply cross validation\n",
        "knn_cross_test_scores=cross_val_score(knn,x_test,y_test,cv=10)\n",
        "knn_cross_test_scores"
      ],
      "execution_count": 38,
      "outputs": [
        {
          "output_type": "execute_result",
          "data": {
            "text/plain": [
              "array([0.99909682, 0.99288124, 0.99823007, 0.99457322, 0.98806146,\n",
              "       0.99886436, 0.98961102, 0.97243901, 0.99346961, 0.99829594])"
            ]
          },
          "metadata": {
            "tags": []
          },
          "execution_count": 38
        }
      ]
    },
    {
      "cell_type": "code",
      "metadata": {
        "colab": {
          "base_uri": "https://localhost:8080/"
        },
        "id": "s8uR73T8Nj1Z",
        "outputId": "bb3fb117-a8be-47ad-f733-bd8d4207de3a"
      },
      "source": [
        "#get the overall accuracy of the cross validation\n",
        "print(\"%0.2f%% accuracy with a standard deviation of %0.2f\" % (knn_cross_test_scores.mean()*100, knn_cross_test_scores.std()))"
      ],
      "execution_count": 40,
      "outputs": [
        {
          "output_type": "stream",
          "text": [
            "99.26% accuracy with a standard deviation of 0.01\n"
          ],
          "name": "stdout"
        }
      ]
    },
    {
      "cell_type": "code",
      "metadata": {
        "colab": {
          "base_uri": "https://localhost:8080/"
        },
        "id": "zwRH99a2Nt0T",
        "outputId": "bfbd23e8-85c9-4f44-945c-d5bf776f3949"
      },
      "source": [
        "k_cv_score=[]             #call the k range in cross validation to find the optimal k value\n",
        "k_cv_num=range(1,30)\n",
        "for k in k_cv_num:\n",
        " knn= KNeighborsRegressor(n_neighbors=k)\n",
        " knn_cross_test_scores=cross_val_score(knn,x_test,y_test,cv=10)\n",
        " k_cv_score.append(knn_cross_test_scores.mean())\n",
        "print(k_cv_score)"
      ],
      "execution_count": 41,
      "outputs": [
        {
          "output_type": "stream",
          "text": [
            "[0.9926857328687195, 0.9928638793717427, 0.9925522759261417, 0.9907918527425824, 0.9898785591951749, 0.990006924072181, 0.9883735198784567, 0.9892959458309022, 0.9887126243943181, 0.9886461256838196, 0.9909992305870488, 0.9896132827170983, 0.9884535463379722, 0.986499437387635, 0.9799237725109673, 0.9749598418763709, 0.9652866587269392, 0.9528442601673361, 0.9408921641782545, 0.9310755711762615, 0.9166561341458938, 0.9072256818467853, 0.8993764014606409, 0.8893218931864396, 0.8771359695775836, 0.8695746166813969, 0.8551191578614528, 0.8509995327537737, 0.8471225952002213]\n"
          ],
          "name": "stdout"
        }
      ]
    },
    {
      "cell_type": "code",
      "metadata": {
        "colab": {
          "base_uri": "https://localhost:8080/",
          "height": 311
        },
        "id": "iT9mBfaORgvV",
        "outputId": "0f3a00d6-2a13-453c-8ab0-09de96bb956c"
      },
      "source": [
        "#draw the graph of accuracy for k range from the cross validation\n",
        "plt.plot(k_cv_num,k_cv_score,color='b') \n",
        "plt.title('KNN Model K Value vs. 10 Fold Cross Validation Accuracy',color='b')\n",
        "plt.xlabel('K Value',color='b')\n",
        "plt.ylabel('Cross Validation Accuracy',color='b')"
      ],
      "execution_count": 72,
      "outputs": [
        {
          "output_type": "execute_result",
          "data": {
            "text/plain": [
              "Text(0, 0.5, 'Cross Validation Accuracy')"
            ]
          },
          "metadata": {
            "tags": []
          },
          "execution_count": 72
        },
        {
          "output_type": "display_data",
          "data": {
            "image/png": "[encoded data removed]",
            "text/plain": [
              "<Figure size 432x288 with 1 Axes>"
            ]
          },
          "metadata": {
            "tags": [],
            "needs_background": "light"
          }
        }
      ]
    },
    {
      "cell_type": "code",
      "metadata": {
        "colab": {
          "base_uri": "https://localhost:8080/"
        },
        "id": "KTetJ35HRgru",
        "outputId": "94ec5459-212f-48a4-e112-d3f3f2f04b1e"
      },
      "source": [
        "#apply cross validation\n",
        "knn5_cross_test_scores=cross_val_score(knn,x_test,y_test,cv=5)\n",
        "knn5_cross_test_scores"
      ],
      "execution_count": 47,
      "outputs": [
        {
          "output_type": "execute_result",
          "data": {
            "text/plain": [
              "array([0.82844426, 0.79057688, 0.79286323, 0.92616994, 0.69819816])"
            ]
          },
          "metadata": {
            "tags": []
          },
          "execution_count": 47
        }
      ]
    },
    {
      "cell_type": "code",
      "metadata": {
        "colab": {
          "base_uri": "https://localhost:8080/"
        },
        "id": "LCu4bMufRgnz",
        "outputId": "a4d5b33c-fab3-413c-d8e8-23eeed5ee8f5"
      },
      "source": [
        "#get the overall accuracy of the cross validation\n",
        "print(\"%0.2f%% accuracy with a standard deviation of %0.2f\" % (knn5_cross_test_scores.mean()*100, knn5_cross_test_scores.std()))"
      ],
      "execution_count": 51,
      "outputs": [
        {
          "output_type": "stream",
          "text": [
            "84.71% accuracy with a standard deviation of 0.06\n"
          ],
          "name": "stdout"
        }
      ]
    },
    {
      "cell_type": "code",
      "metadata": {
        "colab": {
          "base_uri": "https://localhost:8080/"
        },
        "id": "zZ0XVtW9Rgy_",
        "outputId": "ccf707b7-a5d2-4d46-9246-2da522ab7900"
      },
      "source": [
        "k_cv_score=[]             #call the k range in cross validation to find the optimal k value\n",
        "k_cv_num=range(1,30)\n",
        "for k in k_cv_num:\n",
        " knn5= KNeighborsRegressor(n_neighbors=k)\n",
        " knn5_cross_test_scores=cross_val_score(knn5,x_test,y_test,cv=10)\n",
        " k_cv_score.append(knn5_cross_test_scores.mean())\n",
        "print(k_cv_score)\n"
      ],
      "execution_count": 74,
      "outputs": [
        {
          "output_type": "stream",
          "text": [
            "[0.9926857328687195, 0.9928638793717427, 0.9925522759261417, 0.9907918527425824, 0.9898785591951749, 0.990006924072181, 0.9883735198784567, 0.9892959458309022, 0.9887126243943181, 0.9886461256838196, 0.9909992305870488, 0.9896132827170983, 0.9884535463379722, 0.986499437387635, 0.9799237725109673, 0.9749598418763709, 0.9652866587269392, 0.9528442601673361, 0.9408921641782545, 0.9310755711762615, 0.9166561341458938, 0.9072256818467853, 0.8993764014606409, 0.8893218931864396, 0.8771359695775836, 0.8695746166813969, 0.8551191578614528, 0.8509995327537737, 0.8471225952002213]\n"
          ],
          "name": "stdout"
        }
      ]
    },
    {
      "cell_type": "code",
      "metadata": {
        "colab": {
          "base_uri": "https://localhost:8080/",
          "height": 311
        },
        "id": "5XIyKreKO44_",
        "outputId": "f2ddb432-6da5-45d0-b53c-b7d72778b215"
      },
      "source": [
        "#draw the graph of accuracy for k range from the cross validation \n",
        "plt.plot(k_cv_num,k_cv_score,color='b') \n",
        "plt.title('KNN Model K Value vs. 5 Fold Cross Validation Accuracy',color='b')\n",
        "plt.xlabel('K Value',color='b')\n",
        "plt.ylabel('Cross Validation Accuracy',color='b')"
      ],
      "execution_count": 73,
      "outputs": [
        {
          "output_type": "execute_result",
          "data": {
            "text/plain": [
              "Text(0, 0.5, 'Cross Validation Accuracy')"
            ]
          },
          "metadata": {
            "tags": []
          },
          "execution_count": 73
        },
        {
          "output_type": "display_data",
          "data": {
            "image/png": "[encoded data removed]",
            "text/plain": [
              "<Figure size 432x288 with 1 Axes>"
            ]
          },
          "metadata": {
            "tags": [],
            "needs_background": "light"
          }
        }
      ]
    },
    {
      "cell_type": "markdown",
      "metadata": {
        "id": "KnxfVO4CLv7W"
      },
      "source": [
        "###**KNN Second Model**"
      ]
    },
    {
      "cell_type": "code",
      "metadata": {
        "colab": {
          "base_uri": "https://localhost:8080/"
        },
        "id": "pfq4k_y57xxa",
        "outputId": "172e7320-8cb1-4d2a-f280-3ba31c06b30c"
      },
      "source": [
        "knn1= KNeighborsRegressor(n_neighbors=30)   #KNN model tested with different k value\n",
        "knn1.fit(x_train, y_train)"
      ],
      "execution_count": 54,
      "outputs": [
        {
          "output_type": "execute_result",
          "data": {
            "text/plain": [
              "KNeighborsRegressor(algorithm='auto', leaf_size=30, metric='minkowski',\n",
              "                    metric_params=None, n_jobs=None, n_neighbors=30, p=2,\n",
              "                    weights='uniform')"
            ]
          },
          "metadata": {
            "tags": []
          },
          "execution_count": 54
        }
      ]
    },
    {
      "cell_type": "code",
      "metadata": {
        "colab": {
          "base_uri": "https://localhost:8080/"
        },
        "id": "0HVxLx-47xt0",
        "outputId": "52e3bb9b-30bf-4d3c-e078-cd512fab32b5"
      },
      "source": [
        "print('KNN Score: %.5f' % knn1.score(x_test,y_test))"
      ],
      "execution_count": 55,
      "outputs": [
        {
          "output_type": "stream",
          "text": [
            "KNN Score: 0.99756\n"
          ],
          "name": "stdout"
        }
      ]
    },
    {
      "cell_type": "code",
      "metadata": {
        "colab": {
          "base_uri": "https://localhost:8080/"
        },
        "id": "KJ9ONGk0Rg6a",
        "outputId": "3c35a671-3f22-45e8-9d6d-303768b818c6"
      },
      "source": [
        "#apply cross validation\n",
        "knn1_cross_test_scores=cross_val_score(knn1,x_test,y_test,cv=10)\n",
        "knn1_cross_test_scores"
      ],
      "execution_count": 56,
      "outputs": [
        {
          "output_type": "execute_result",
          "data": {
            "text/plain": [
              "array([0.81111782, 0.91184181, 0.77440053, 0.86896661, 0.80882045,\n",
              "       0.77555366, 0.91719398, 0.95075111, 0.80049829, 0.83560105])"
            ]
          },
          "metadata": {
            "tags": []
          },
          "execution_count": 56
        }
      ]
    },
    {
      "cell_type": "code",
      "metadata": {
        "colab": {
          "base_uri": "https://localhost:8080/"
        },
        "id": "53QMNnotRg22",
        "outputId": "c3cc4891-acef-42e6-96ce-eff73a9dfea4"
      },
      "source": [
        "#get the overall accuracy of the cross validation\n",
        "print(\"%0.2f%% accuracy with a standard deviation of %0.2f\" % (knn1_cross_test_scores.mean()*100, knn1_cross_test_scores.std()))"
      ],
      "execution_count": 57,
      "outputs": [
        {
          "output_type": "stream",
          "text": [
            "84.55% accuracy with a standard deviation of 0.06\n"
          ],
          "name": "stdout"
        }
      ]
    },
    {
      "cell_type": "code",
      "metadata": {
        "colab": {
          "base_uri": "https://localhost:8080/"
        },
        "id": "lnUOzH50Rgjr",
        "outputId": "ae42c9cc-dcf9-4e98-df3a-110b41b58270"
      },
      "source": [
        "k_cv_score=[]             #call the same k range in cross validation to find the optimal k value\n",
        "k_cv_num=range(1,25)\n",
        "for k in k_cv_num:\n",
        " knn1= KNeighborsRegressor(n_neighbors=k)\n",
        " knn1_cross_test_scores=cross_val_score(knn1,x_test,y_test,cv=5)\n",
        " k_cv_score.append(knn1_cross_test_scores.mean())\n",
        "print(k_cv_score)"
      ],
      "execution_count": 58,
      "outputs": [
        {
          "output_type": "stream",
          "text": [
            "[0.9951261885578088, 0.9957620225821857, 0.9956091574245232, 0.9928509205022769, 0.9908362682362188, 0.9921310777823992, 0.9902041252116668, 0.989374040406792, 0.9860401639141658, 0.981495193543456, 0.9806114318740267, 0.9761355024862757, 0.972783528842248, 0.9692627245453798, 0.9604013091471751, 0.9510813786167871, 0.9409708358945659, 0.9295725988272778, 0.9203857199282272, 0.9086923890043976, 0.8973647932702351, 0.8842937226408027, 0.8722342778899475, 0.8590704359105865]\n"
          ],
          "name": "stdout"
        }
      ]
    },
    {
      "cell_type": "code",
      "metadata": {
        "colab": {
          "base_uri": "https://localhost:8080/",
          "height": 311
        },
        "id": "myxB-Q6YS02w",
        "outputId": "a523dd36-642c-49dc-88d5-5acc296af6c7"
      },
      "source": [
        "#draw the graph of accuracy for k range from the cross validation \n",
        "plt.plot(k_cv_num,k_cv_score,color='b') \n",
        "plt.title('KNN Model K Value vs. Cross Validation Accuracy',color='b')\n",
        "plt.xlabel('K Value',color='b')\n",
        "plt.ylabel('Cross Validation Accuracy',color='b')"
      ],
      "execution_count": 59,
      "outputs": [
        {
          "output_type": "execute_result",
          "data": {
            "text/plain": [
              "Text(0, 0.5, 'Cross Validation Accuracy')"
            ]
          },
          "metadata": {
            "tags": []
          },
          "execution_count": 59
        },
        {
          "output_type": "display_data",
          "data": {
            "image/png": "[encoded data removed]",
            "text/plain": [
              "<Figure size 432x288 with 1 Axes>"
            ]
          },
          "metadata": {
            "tags": [],
            "needs_background": "light"
          }
        }
      ]
    },
    {
      "cell_type": "markdown",
      "metadata": {
        "id": "v5IowrzkMEyU"
      },
      "source": [
        "###**KNN Third Model**"
      ]
    },
    {
      "cell_type": "code",
      "metadata": {
        "id": "s2Y0BFL5fAwO"
      },
      "source": [
        "x_t=df[['total_distributed','people_vaccinated','people_fully_vaccinated','daily_vaccinations','people_fully_vaccinated_per_hundred','distributed_per_hundred']].values  #define x & y\n",
        "y_t=df['total_vaccinations'].values"
      ],
      "execution_count": 60,
      "outputs": []
    },
    {
      "cell_type": "code",
      "metadata": {
        "id": "S4zrAtaegqI6"
      },
      "source": [
        "x_t=preprocessing.StandardScaler().fit(x_t).transform(x_t.astype(float))"
      ],
      "execution_count": 61,
      "outputs": []
    },
    {
      "cell_type": "code",
      "metadata": {
        "id": "4OqlnRHXgqGL"
      },
      "source": [
        "#split dataset to train and test dataset          \n",
        "x_t_train, x_t_test, y_t_train, y_t_test = train_test_split(x_t, y_t, test_size=0.20, random_state=4)"
      ],
      "execution_count": 62,
      "outputs": []
    },
    {
      "cell_type": "code",
      "metadata": {
        "colab": {
          "base_uri": "https://localhost:8080/"
        },
        "id": "T3txVba-hQNP",
        "outputId": "e89e8b54-d708-4cbd-ee1a-b2013048601a"
      },
      "source": [
        "x_t_train.shape,y_t_train.shape"
      ],
      "execution_count": 63,
      "outputs": [
        {
          "output_type": "execute_result",
          "data": {
            "text/plain": [
              "((10626, 6), (10626,))"
            ]
          },
          "metadata": {
            "tags": []
          },
          "execution_count": 63
        }
      ]
    },
    {
      "cell_type": "code",
      "metadata": {
        "colab": {
          "base_uri": "https://localhost:8080/"
        },
        "id": "Aa3H0N86gqCN",
        "outputId": "9ba64365-842c-405d-e862-5d56d61c3bf5"
      },
      "source": [
        "x_t_test.shape, y_t_test.shape"
      ],
      "execution_count": 64,
      "outputs": [
        {
          "output_type": "execute_result",
          "data": {
            "text/plain": [
              "((2657, 6), (2657,))"
            ]
          },
          "metadata": {
            "tags": []
          },
          "execution_count": 64
        }
      ]
    },
    {
      "cell_type": "code",
      "metadata": {
        "colab": {
          "base_uri": "https://localhost:8080/"
        },
        "id": "_xmJ9oTJgp-S",
        "outputId": "b0b3870e-ca7b-4a2c-f24b-5dcca173cf23"
      },
      "source": [
        "knn=KNeighborsRegressor(n_neighbors=3)    #implement KNN model\n",
        "knn.fit(x_t_train,y_t_train)"
      ],
      "execution_count": 65,
      "outputs": [
        {
          "output_type": "execute_result",
          "data": {
            "text/plain": [
              "KNeighborsRegressor(algorithm='auto', leaf_size=30, metric='minkowski',\n",
              "                    metric_params=None, n_jobs=None, n_neighbors=3, p=2,\n",
              "                    weights='uniform')"
            ]
          },
          "metadata": {
            "tags": []
          },
          "execution_count": 65
        }
      ]
    },
    {
      "cell_type": "code",
      "metadata": {
        "colab": {
          "base_uri": "https://localhost:8080/"
        },
        "id": "Rt2ONLpfgp6r",
        "outputId": "3f5ad78a-5651-427d-b636-62b3c7c3ed4d"
      },
      "source": [
        "print('KNN Score: %.5f' % knn.score(x_t_test,y_t_test)) #get KNN score"
      ],
      "execution_count": 66,
      "outputs": [
        {
          "output_type": "stream",
          "text": [
            "KNN Score: 0.99980\n"
          ],
          "name": "stdout"
        }
      ]
    },
    {
      "cell_type": "code",
      "metadata": {
        "colab": {
          "base_uri": "https://localhost:8080/"
        },
        "id": "U9wnL4OUgp2w",
        "outputId": "9ae5959e-9a5e-4f00-8b11-93479b734e7c"
      },
      "source": [
        "#apply cross validation\n",
        "knn_cross_test_scores=cross_val_score(knn,x_t_test,y_t_test,cv=10)\n",
        "knn_cross_test_scores"
      ],
      "execution_count": 67,
      "outputs": [
        {
          "output_type": "execute_result",
          "data": {
            "text/plain": [
              "array([0.99924085, 0.9937646 , 0.99835738, 0.99536852, 0.99684465,\n",
              "       0.99908275, 0.9896602 , 0.99172252, 0.99397109, 0.9988322 ])"
            ]
          },
          "metadata": {
            "tags": []
          },
          "execution_count": 67
        }
      ]
    },
    {
      "cell_type": "code",
      "metadata": {
        "colab": {
          "base_uri": "https://localhost:8080/"
        },
        "id": "B4xl8qTKhieb",
        "outputId": "5ffa8b6a-1da4-4baf-94e3-cd98084777d8"
      },
      "source": [
        "#get the overall accuracy of the cross validation\n",
        "print(\"%0.2f%% accuracy with a standard deviation of %0.2f\" % (knn_cross_test_scores.mean()*100, knn_cross_test_scores.std()))"
      ],
      "execution_count": 68,
      "outputs": [
        {
          "output_type": "stream",
          "text": [
            "99.57% accuracy with a standard deviation of 0.00\n"
          ],
          "name": "stdout"
        }
      ]
    },
    {
      "cell_type": "code",
      "metadata": {
        "colab": {
          "base_uri": "https://localhost:8080/"
        },
        "id": "UF6z3mDFhicM",
        "outputId": "6aa80cf3-5733-4942-e13c-07d499eedb2f"
      },
      "source": [
        "k_cv_score=[]             #call the k range in cross validation to find the optimal k value\n",
        "k_cv_num=range(1,30)\n",
        "for k in k_cv_num:\n",
        " knn= KNeighborsRegressor(n_neighbors=k)\n",
        " knn_cross_test_scores=cross_val_score(knn,x_t_test,y_t_test,cv=10)\n",
        " k_cv_score.append(knn_cross_test_scores.mean())\n",
        "print(k_cv_score)"
      ],
      "execution_count": 69,
      "outputs": [
        {
          "output_type": "stream",
          "text": [
            "[0.9970372909127496, 0.995951348379708, 0.9956844749101126, 0.9956670013339227, 0.9939819966322107, 0.9926189138536203, 0.992681689267377, 0.9921652874561795, 0.9907870527069063, 0.9897653991678222, 0.9910841035044955, 0.9912512291218954, 0.9915653810675821, 0.9896183590422177, 0.9861443296632897, 0.9843440759817549, 0.9814918615616663, 0.9790805812273493, 0.9735963878100475, 0.9668296073062225, 0.9600980526699325, 0.9521181650339858, 0.9441475332166162, 0.9356604060695084, 0.9268769000747856, 0.918024231266336, 0.9086739903957174, 0.8990187734215722, 0.8887537438589395]\n"
          ],
          "name": "stdout"
        }
      ]
    },
    {
      "cell_type": "code",
      "metadata": {
        "colab": {
          "base_uri": "https://localhost:8080/",
          "height": 311
        },
        "id": "rtGiRV9OhiZd",
        "outputId": "847eb188-fc8e-4ef1-a4c6-b788ee81e520"
      },
      "source": [
        "#draw the graph of accuracy for k range from the cross validation\n",
        "plt.plot(k_cv_num,k_cv_score,color='b') \n",
        "plt.title('KNN Model K Value vs. Cross Validation Accuracy',color='b')\n",
        "plt.xlabel('K Value',color='b')\n",
        "plt.ylabel('Cross Validation Accuracy',color='b')"
      ],
      "execution_count": 70,
      "outputs": [
        {
          "output_type": "execute_result",
          "data": {
            "text/plain": [
              "Text(0, 0.5, 'Cross Validation Accuracy')"
            ]
          },
          "metadata": {
            "tags": []
          },
          "execution_count": 70
        },
        {
          "output_type": "display_data",
          "data": {
            "image/png": "[encoded data removed]",
            "text/plain": [
              "<Figure size 432x288 with 1 Axes>"
            ]
          },
          "metadata": {
            "tags": [],
            "needs_background": "light"
          }
        }
      ]
    },
    {
      "cell_type": "markdown",
      "metadata": {
        "id": "_Nb2MIYCccKV"
      },
      "source": [
        "#**Linear Regression Model**"
      ]
    },
    {
      "cell_type": "markdown",
      "metadata": {
        "id": "uy8fHhOLW8uf"
      },
      "source": [
        "###**Linear Regression First Model**"
      ]
    },
    {
      "cell_type": "code",
      "metadata": {
        "id": "9ozvvzO3efQ-"
      },
      "source": [
        "x1=df['total_distributed'].values  #define x & y \n",
        "y1=df['total_vaccinations'].values"
      ],
      "execution_count": 59,
      "outputs": []
    },
    {
      "cell_type": "code",
      "metadata": {
        "id": "u3OP5o2-fAnr"
      },
      "source": [
        "#split dataset to train and test dataset\n",
        "x1_train, x1_test, y1_train, y1_test = train_test_split(x1, y1, test_size=0.20, random_state=4)"
      ],
      "execution_count": 60,
      "outputs": []
    },
    {
      "cell_type": "code",
      "metadata": {
        "colab": {
          "base_uri": "https://localhost:8080/",
          "height": 0
        },
        "id": "eCz-9_7iYi5s",
        "outputId": "fba47d9d-cfc2-4817-d306-e531c87648cc"
      },
      "source": [
        "lin_reg = LinearRegression()                     #implement linear regression model\n",
        "lin_reg.fit(x1_train.reshape(-1,1), y1_train)"
      ],
      "execution_count": 61,
      "outputs": [
        {
          "output_type": "execute_result",
          "data": {
            "text/plain": [
              "LinearRegression(copy_X=True, fit_intercept=True, n_jobs=None, normalize=False)"
            ]
          },
          "metadata": {
            "tags": []
          },
          "execution_count": 61
        }
      ]
    },
    {
      "cell_type": "code",
      "metadata": {
        "colab": {
          "base_uri": "https://localhost:8080/",
          "height": 0
        },
        "id": "3dDqhIhoYsBx",
        "outputId": "40679090-0110-4462-9ff1-37cea1671153"
      },
      "source": [
        "#linear regression score\n",
        "print('Linear Regression Score: %.5f' % lin_reg.score(x1_test.reshape(-1,1),y1_test))"
      ],
      "execution_count": 62,
      "outputs": [
        {
          "output_type": "stream",
          "text": [
            "Linear Regression Score: 0.99756\n"
          ],
          "name": "stdout"
        }
      ]
    },
    {
      "cell_type": "code",
      "metadata": {
        "id": "ZPr9-jU9cX_f"
      },
      "source": [
        "y1_pred = lin_reg.predict(x1_test.reshape(-1,1))"
      ],
      "execution_count": 63,
      "outputs": []
    },
    {
      "cell_type": "code",
      "metadata": {
        "colab": {
          "base_uri": "https://localhost:8080/",
          "height": 0
        },
        "id": "ayu5U7ekcpWG",
        "outputId": "46cf6e3d-4381-457a-cedb-05d4901d7f8f"
      },
      "source": [
        "lin_reg.coef_      #find Coefficients"
      ],
      "execution_count": 64,
      "outputs": [
        {
          "output_type": "execute_result",
          "data": {
            "text/plain": [
              "array([0.82295136])"
            ]
          },
          "metadata": {
            "tags": []
          },
          "execution_count": 64
        }
      ]
    },
    {
      "cell_type": "code",
      "metadata": {
        "colab": {
          "base_uri": "https://localhost:8080/",
          "height": 0
        },
        "id": "MAiMlgMvn5P0",
        "outputId": "a81e3496-f7b2-4a2b-9718-735628b31bb4"
      },
      "source": [
        "lin_reg.intercept_"
      ],
      "execution_count": 65,
      "outputs": [
        {
          "output_type": "execute_result",
          "data": {
            "text/plain": [
              "-105399.66607495025"
            ]
          },
          "metadata": {
            "tags": []
          },
          "execution_count": 65
        }
      ]
    },
    {
      "cell_type": "code",
      "metadata": {
        "colab": {
          "base_uri": "https://localhost:8080/",
          "height": 0
        },
        "id": "uFrP1sbusBNP",
        "outputId": "306c7519-3ccf-4669-8eb4-07ccb67f4a97"
      },
      "source": [
        "metrics.mean_absolute_error(y1_test, y1_pred)"
      ],
      "execution_count": 66,
      "outputs": [
        {
          "output_type": "execute_result",
          "data": {
            "text/plain": [
              "385035.7533439623"
            ]
          },
          "metadata": {
            "tags": []
          },
          "execution_count": 66
        }
      ]
    },
    {
      "cell_type": "code",
      "metadata": {
        "colab": {
          "base_uri": "https://localhost:8080/",
          "height": 0
        },
        "id": "6HanagcHsBHS",
        "outputId": "c2659230-c7de-4771-9893-cde7ce2a8771"
      },
      "source": [
        "metrics.mean_squared_error(y1_test, y1_pred)"
      ],
      "execution_count": 67,
      "outputs": [
        {
          "output_type": "execute_result",
          "data": {
            "text/plain": [
              "1609462456828.3213"
            ]
          },
          "metadata": {
            "tags": []
          },
          "execution_count": 67
        }
      ]
    },
    {
      "cell_type": "code",
      "metadata": {
        "colab": {
          "base_uri": "https://localhost:8080/",
          "height": 0
        },
        "id": "AfnhC3V5oDoj",
        "outputId": "ceffb3be-bacf-4f3d-a384-0fb7859dacd4"
      },
      "source": [
        "r2_score(y1_test, y1_pred)"
      ],
      "execution_count": 68,
      "outputs": [
        {
          "output_type": "execute_result",
          "data": {
            "text/plain": [
              "0.9975620895914804"
            ]
          },
          "metadata": {
            "tags": []
          },
          "execution_count": 68
        }
      ]
    },
    {
      "cell_type": "code",
      "metadata": {
        "colab": {
          "base_uri": "https://localhost:8080/",
          "height": 262
        },
        "id": "sdRdbIrzl3G3",
        "outputId": "89c6a587-cd2e-4224-fe13-0b0c01a7f073"
      },
      "source": [
        "plt.scatter(x1_test.reshape(-1,1), y1_test,  color='green')\n",
        "plt.plot(x1_test.reshape(-1,1), y1_pred, color='blue', linewidth=3)\n",
        "\n",
        "plt.xticks(())\n",
        "plt.yticks(())\n",
        "plt.xlabel('Distribution', color='b')\n",
        "plt.ylabel('Vaccination', color='b')\n",
        "\n",
        "plt.show()"
      ],
      "execution_count": 69,
      "outputs": [
        {
          "output_type": "display_data",
          "data": {
            "image/png": "[encoded data removed]",
            "text/plain": [
              "<Figure size 432x288 with 1 Axes>"
            ]
          },
          "metadata": {
            "tags": []
          }
        }
      ]
    },
    {
      "cell_type": "markdown",
      "metadata": {
        "id": "_evQ8KSDXHVY"
      },
      "source": [
        "###**Linear Regression Second Model**"
      ]
    },
    {
      "cell_type": "code",
      "metadata": {
        "id": "cSvBMXXml22Z"
      },
      "source": [
        "x2=df['distributed_per_hundred'].values\n",
        "y2=df['people_fully_vaccinated_per_hundred'].values"
      ],
      "execution_count": 70,
      "outputs": []
    },
    {
      "cell_type": "code",
      "metadata": {
        "id": "vzXShq0Wl2rJ"
      },
      "source": [
        "#split dataset to train and test dataset\n",
        "x2_train, x2_test, y2_train, y2_test = train_test_split(x2, y2, test_size=0.20, random_state=4)"
      ],
      "execution_count": 71,
      "outputs": []
    },
    {
      "cell_type": "code",
      "metadata": {
        "colab": {
          "base_uri": "https://localhost:8080/",
          "height": 0
        },
        "id": "jEnY5ZrhS0vu",
        "outputId": "6c604881-fb5f-4a78-a97e-86fa038354af"
      },
      "source": [
        "lin_reg = LinearRegression()\n",
        "lin_reg.fit(x2_train.reshape(-1,1), y2_train)"
      ],
      "execution_count": 72,
      "outputs": [
        {
          "output_type": "execute_result",
          "data": {
            "text/plain": [
              "LinearRegression(copy_X=True, fit_intercept=True, n_jobs=None, normalize=False)"
            ]
          },
          "metadata": {
            "tags": []
          },
          "execution_count": 72
        }
      ]
    },
    {
      "cell_type": "code",
      "metadata": {
        "colab": {
          "base_uri": "https://localhost:8080/",
          "height": 0
        },
        "id": "SPWGwIWeS0r8",
        "outputId": "c9b54f8c-777e-4056-9ec9-452b42732ddf"
      },
      "source": [
        "print('Linear Regression Score: %.5f' % lin_reg.score(x2_test.reshape(-1,1),y2_test))\n"
      ],
      "execution_count": 73,
      "outputs": [
        {
          "output_type": "stream",
          "text": [
            "Linear Regression Score: 0.92340\n"
          ],
          "name": "stdout"
        }
      ]
    },
    {
      "cell_type": "code",
      "metadata": {
        "id": "KhiymqzAS0nd"
      },
      "source": [
        "y2_pred = lin_reg.predict(x2_test.reshape(-1,1))"
      ],
      "execution_count": 74,
      "outputs": []
    },
    {
      "cell_type": "code",
      "metadata": {
        "colab": {
          "base_uri": "https://localhost:8080/",
          "height": 0
        },
        "id": "56fcXsvZS0jU",
        "outputId": "0fe10e3f-9c5a-45fa-b8f9-0fcfa7eb83b2"
      },
      "source": [
        "lin_reg.coef_"
      ],
      "execution_count": 75,
      "outputs": [
        {
          "output_type": "execute_result",
          "data": {
            "text/plain": [
              "array([0.43019758])"
            ]
          },
          "metadata": {
            "tags": []
          },
          "execution_count": 75
        }
      ]
    },
    {
      "cell_type": "code",
      "metadata": {
        "colab": {
          "base_uri": "https://localhost:8080/",
          "height": 0
        },
        "id": "ZKRaS0KCodFt",
        "outputId": "39db64de-b249-4e7a-a6a1-ec989ea2b00c"
      },
      "source": [
        "lin_reg.intercept_"
      ],
      "execution_count": 76,
      "outputs": [
        {
          "output_type": "execute_result",
          "data": {
            "text/plain": [
              "-5.9538265291096835"
            ]
          },
          "metadata": {
            "tags": []
          },
          "execution_count": 76
        }
      ]
    },
    {
      "cell_type": "code",
      "metadata": {
        "colab": {
          "base_uri": "https://localhost:8080/",
          "height": 0
        },
        "id": "afDisOc6ow8a",
        "outputId": "fee998ee-8611-4f1f-a318-951a2dd8a71d"
      },
      "source": [
        "metrics.mean_absolute_error(y2_test, y2_pred)"
      ],
      "execution_count": 77,
      "outputs": [
        {
          "output_type": "execute_result",
          "data": {
            "text/plain": [
              "3.1017203630741186"
            ]
          },
          "metadata": {
            "tags": []
          },
          "execution_count": 77
        }
      ]
    },
    {
      "cell_type": "code",
      "metadata": {
        "colab": {
          "base_uri": "https://localhost:8080/",
          "height": 0
        },
        "id": "r09eH85dow0Y",
        "outputId": "51f215fd-5e65-49ea-bba5-371d247b83d7"
      },
      "source": [
        "metrics.mean_squared_error(y2_test, y2_pred)"
      ],
      "execution_count": 78,
      "outputs": [
        {
          "output_type": "execute_result",
          "data": {
            "text/plain": [
              "22.23366181275665"
            ]
          },
          "metadata": {
            "tags": []
          },
          "execution_count": 78
        }
      ]
    },
    {
      "cell_type": "code",
      "metadata": {
        "colab": {
          "base_uri": "https://localhost:8080/",
          "height": 0
        },
        "id": "MzUq7vHIowqy",
        "outputId": "e0ac2dbf-06d1-475d-b0f0-0b8c23a39baa"
      },
      "source": [
        "r2_score(y2_test, y2_pred)"
      ],
      "execution_count": 79,
      "outputs": [
        {
          "output_type": "execute_result",
          "data": {
            "text/plain": [
              "0.9233984580811064"
            ]
          },
          "metadata": {
            "tags": []
          },
          "execution_count": 79
        }
      ]
    },
    {
      "cell_type": "code",
      "metadata": {
        "colab": {
          "base_uri": "https://localhost:8080/",
          "height": 262
        },
        "id": "ROWheAxMS0eR",
        "outputId": "457373fc-0c7d-4ce7-e621-33b8ef3cecc1"
      },
      "source": [
        "plt.scatter(x2_test.reshape(-1,1), y2_test, color='green')\n",
        "plt.plot(x2_test.reshape(-1,1), y2_pred, color='blue', linewidth=3)\n",
        "\n",
        "plt.xticks(())\n",
        "plt.yticks(())\n",
        "plt.xlabel('Distribution', color='b')\n",
        "plt.ylabel('Vaccination', color='b')\n",
        "\n",
        "plt.show()"
      ],
      "execution_count": 80,
      "outputs": [
        {
          "output_type": "display_data",
          "data": {
            "image/png": "[encoded data removed]",
            "text/plain": [
              "<Figure size 432x288 with 1 Axes>"
            ]
          },
          "metadata": {
            "tags": []
          }
        }
      ]
    },
    {
      "cell_type": "markdown",
      "metadata": {
        "id": "6N2Bwc3sXORC"
      },
      "source": [
        "###**Linear Regression Third Model**"
      ]
    },
    {
      "cell_type": "code",
      "metadata": {
        "colab": {
          "base_uri": "https://localhost:8080/",
          "height": 0
        },
        "id": "QoiQo0U3jwvY",
        "outputId": "54674b14-6224-499c-da2e-a6d5f932dd5d"
      },
      "source": [
        "x_t=df[['total_distributed','people_vaccinated','people_fully_vaccinated','daily_vaccinations','people_fully_vaccinated_per_hundred','distributed_per_hundred']].values  #define x & y\n",
        "x_t"
      ],
      "execution_count": 81,
      "outputs": [
        {
          "output_type": "execute_result",
          "data": {
            "text/plain": [
              "array([[3.77025000e+05, 7.08610000e+04, 7.27000000e+03, 5.30861537e+04,\n",
              "        1.50000000e-01, 7.69000000e+00],\n",
              "       [3.78975000e+05, 7.47920000e+04, 9.24500000e+03, 5.90600000e+03,\n",
              "        1.90000000e-01, 7.73000000e+00],\n",
              "       [4.35350000e+05, 8.04800000e+04, 2.79686480e+06, 7.08300000e+03,\n",
              "        2.64872635e+01, 8.88000000e+00],\n",
              "       ...,\n",
              "       [5.29845000e+05, 2.41735000e+05, 2.12317000e+05, 6.97000000e+02,\n",
              "        3.66800000e+01, 9.15500000e+01],\n",
              "       [5.29845000e+05, 2.41769000e+05, 2.12334000e+05, 6.94000000e+02,\n",
              "        3.66900000e+01, 9.15500000e+01],\n",
              "       [5.31195000e+05, 2.41812000e+05, 2.12359000e+05, 6.93000000e+02,\n",
              "        3.66900000e+01, 9.17800000e+01]])"
            ]
          },
          "metadata": {
            "tags": []
          },
          "execution_count": 81
        }
      ]
    },
    {
      "cell_type": "code",
      "metadata": {
        "id": "HTomF-git-Wh"
      },
      "source": [
        "#split dataset to train and test dataset          \n",
        "x_t_train, x_t_test, y_t_train, y_t_test = train_test_split(x_t, y_t, test_size=0.20, random_state=4)"
      ],
      "execution_count": 82,
      "outputs": []
    },
    {
      "cell_type": "code",
      "metadata": {
        "colab": {
          "base_uri": "https://localhost:8080/",
          "height": 0
        },
        "id": "CELWCDrsj_og",
        "outputId": "8acbb362-9e05-4bbe-e888-016d3fa6b9fa"
      },
      "source": [
        "y_t=df['total_vaccinations'].values\n",
        "y_t"
      ],
      "execution_count": 83,
      "outputs": [
        {
          "output_type": "execute_result",
          "data": {
            "text/plain": [
              "array([ 78134.,  84040.,  92300., ..., 447594., 447616., 447632.])"
            ]
          },
          "metadata": {
            "tags": []
          },
          "execution_count": 83
        }
      ]
    },
    {
      "cell_type": "code",
      "metadata": {
        "colab": {
          "base_uri": "https://localhost:8080/",
          "height": 0
        },
        "id": "SM79HlqMizJr",
        "outputId": "b59425e6-592a-442e-a907-c3ffc7115df4"
      },
      "source": [
        "lin_reg = LinearRegression()\n",
        "lin_reg.fit(x_t_train, y_t_train)"
      ],
      "execution_count": 84,
      "outputs": [
        {
          "output_type": "execute_result",
          "data": {
            "text/plain": [
              "LinearRegression(copy_X=True, fit_intercept=True, n_jobs=None, normalize=False)"
            ]
          },
          "metadata": {
            "tags": []
          },
          "execution_count": 84
        }
      ]
    },
    {
      "cell_type": "code",
      "metadata": {
        "colab": {
          "base_uri": "https://localhost:8080/",
          "height": 0
        },
        "id": "b4VjAQDGizHC",
        "outputId": "a2f0b179-bcf9-4ceb-fc26-cc84c4ed6de4"
      },
      "source": [
        "#linear regression score\n",
        "print('Linear Regression Score: %.5f' % lin_reg.score(x_t_test,y_t_test))"
      ],
      "execution_count": 85,
      "outputs": [
        {
          "output_type": "stream",
          "text": [
            "Linear Regression Score: 0.99979\n"
          ],
          "name": "stdout"
        }
      ]
    },
    {
      "cell_type": "code",
      "metadata": {
        "id": "rvM9gBK5izD9"
      },
      "source": [
        "y_t_pred = lin_reg.predict(x_t_test)"
      ],
      "execution_count": 86,
      "outputs": []
    },
    {
      "cell_type": "code",
      "metadata": {
        "colab": {
          "base_uri": "https://localhost:8080/",
          "height": 0
        },
        "id": "lj_OqzJ8izB3",
        "outputId": "ba6707cd-cc92-480a-a3b1-1d1db6550757"
      },
      "source": [
        "lin_reg.coef_"
      ],
      "execution_count": 87,
      "outputs": [
        {
          "output_type": "execute_result",
          "data": {
            "text/plain": [
              "array([ 4.21369559e-02,  1.12699205e+00,  6.97031475e-01, -2.24735809e+00,\n",
              "       -1.85213284e+04,  8.56907904e+03])"
            ]
          },
          "metadata": {
            "tags": []
          },
          "execution_count": 87
        }
      ]
    },
    {
      "cell_type": "code",
      "metadata": {
        "colab": {
          "base_uri": "https://localhost:8080/",
          "height": 0
        },
        "id": "fpTshkDwiy9p",
        "outputId": "85ceb4ab-3ec1-41f0-d90a-142d26bfa24c"
      },
      "source": [
        "lin_reg.intercept_"
      ],
      "execution_count": 88,
      "outputs": [
        {
          "output_type": "execute_result",
          "data": {
            "text/plain": [
              "-150404.23902515136"
            ]
          },
          "metadata": {
            "tags": []
          },
          "execution_count": 88
        }
      ]
    },
    {
      "cell_type": "code",
      "metadata": {
        "colab": {
          "base_uri": "https://localhost:8080/",
          "height": 0
        },
        "id": "6WqrKOjto9gl",
        "outputId": "709044c3-b229-4495-fe9d-e42143cb33b4"
      },
      "source": [
        "metrics.mean_absolute_error(y_t_test, y_t_pred)"
      ],
      "execution_count": 89,
      "outputs": [
        {
          "output_type": "execute_result",
          "data": {
            "text/plain": [
              "141938.69684344134"
            ]
          },
          "metadata": {
            "tags": []
          },
          "execution_count": 89
        }
      ]
    },
    {
      "cell_type": "code",
      "metadata": {
        "colab": {
          "base_uri": "https://localhost:8080/",
          "height": 0
        },
        "id": "Fv-UwpKJo9XV",
        "outputId": "7a544f34-f408-4f0e-8ed4-e5f0ca40b1da"
      },
      "source": [
        "metrics.mean_squared_error(y_t_test, y_t_pred)"
      ],
      "execution_count": 90,
      "outputs": [
        {
          "output_type": "execute_result",
          "data": {
            "text/plain": [
              "136139616868.08049"
            ]
          },
          "metadata": {
            "tags": []
          },
          "execution_count": 90
        }
      ]
    },
    {
      "cell_type": "code",
      "metadata": {
        "colab": {
          "base_uri": "https://localhost:8080/",
          "height": 0
        },
        "id": "hTded9SEpWoT",
        "outputId": "4f9d068b-7c4b-4736-b9f2-b17ba876c167"
      },
      "source": [
        "r2_score(y_t_test, y_t_pred)"
      ],
      "execution_count": 91,
      "outputs": [
        {
          "output_type": "execute_result",
          "data": {
            "text/plain": [
              "0.9997937844479898"
            ]
          },
          "metadata": {
            "tags": []
          },
          "execution_count": 91
        }
      ]
    },
    {
      "cell_type": "code",
      "metadata": {
        "colab": {
          "base_uri": "https://localhost:8080/",
          "height": 262
        },
        "id": "eDsGpBhDiy6k",
        "outputId": "7fb8924f-f3d5-4d84-ca3b-fa2211ecded5"
      },
      "source": [
        "plt.scatter(x_t_test[:,0], y_t_test, color='red')\n",
        "plt.plot(x_t_test[:,0], y_t_pred, color='green', linewidth=3)\n",
        "\n",
        "plt.xticks(())\n",
        "plt.yticks(())\n",
        "plt.xlabel('Distribution', color='b')\n",
        "plt.ylabel('Vaccination', color='b')\n",
        "\n",
        "plt.show()"
      ],
      "execution_count": 92,
      "outputs": [
        {
          "output_type": "display_data",
          "data": {
            "image/png": "[encoded data removed]",
            "text/plain": [
              "<Figure size 432x288 with 1 Axes>"
            ]
          },
          "metadata": {
            "tags": []
          }
        }
      ]
    }
  ]
}