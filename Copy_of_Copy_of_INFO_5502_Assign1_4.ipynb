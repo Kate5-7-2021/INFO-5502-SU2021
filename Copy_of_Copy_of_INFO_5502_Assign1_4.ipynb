{
  "nbformat": 4,
  "nbformat_minor": 0,
  "metadata": {
    "colab": {
      "name": "Copy of Copy of INFO 5502-Assign1-4.ipynb",
      "provenance": [],
      "collapsed_sections": [],
      "authorship_tag": "ABX9TyNJaOooBIjnKCEgtbIow1gb",
      "include_colab_link": true
    },
    "kernelspec": {
      "name": "python3",
      "display_name": "Python 3"
    },
    "language_info": {
      "name": "python"
    }
  },
  "cells": [
    {
      "cell_type": "markdown",
      "metadata": {
        "id": "view-in-github",
        "colab_type": "text"
      },
      "source": [
        "<a href=\"https://colab.research.google.com/github/Kate5-7-2021/INFO-5502-SU2021/blob/main/Copy_of_Copy_of_INFO_5502_Assign1_4.ipynb\" target=\"_parent\"><img src=\"https://colab.research.google.com/assets/colab-badge.svg\" alt=\"Open In Colab\"/></a>"
      ]
    },
    {
      "cell_type": "markdown",
      "metadata": {
        "id": "zBX2_rv-8iw8"
      },
      "source": [
        "Programming Assignment 1\n",
        "\n",
        "Write a Python program that can take different numbers of strings (each string may include digits, characters, and special symbols) and then sorted them. You need first define the rule for sorting and then implement the sorting function using Python (DO NOT use any existing sort function). Visualize a list of input strings (the list must include at least 500 strings) using a scatter plot (one dimension will be the length of each string, and the other dimension could be the order of the string in the list).\n",
        "Submit the python program, a report to describe the sorting rule, visualization result and testing results with 5 test cases.\n"
      ]
    },
    {
      "cell_type": "code",
      "metadata": {
        "id": "tc-DgMKChJLl"
      },
      "source": [
        "import pandas as pd\n",
        "import numpy as np"
      ],
      "execution_count": 1,
      "outputs": []
    },
    {
      "cell_type": "code",
      "metadata": {
        "id": "NsscXMTqhfvW"
      },
      "source": [
        "#call dataset\n",
        "df = pd.read_csv('/content/Petfinder_shelters.csv', usecols=['country','email','id'])"
      ],
      "execution_count": 2,
      "outputs": []
    },
    {
      "cell_type": "code",
      "metadata": {
        "colab": {
          "base_uri": "https://localhost:8080/",
          "height": 420
        },
        "id": "M29bywAAhfoD",
        "outputId": "dcfea71d-f6bf-46f4-b84e-e65f7ec2e334"
      },
      "source": [
        "#combine selected columns from dataset with space between\n",
        "df['info']= df['email'] + ' ' +  df['country'] + ' ' + df['id']\n",
        "df['info']= df['info'].str.lower() \n",
        "df\n",
        "\n"
      ],
      "execution_count": 3,
      "outputs": [
        {
          "output_type": "execute_result",
          "data": {
            "text/html": [
              "<div>\n",
              "<style scoped>\n",
              "    .dataframe tbody tr th:only-of-type {\n",
              "        vertical-align: middle;\n",
              "    }\n",
              "\n",
              "    .dataframe tbody tr th {\n",
              "        vertical-align: top;\n",
              "    }\n",
              "\n",
              "    .dataframe thead th {\n",
              "        text-align: right;\n",
              "    }\n",
              "</style>\n",
              "<table border=\"1\" class=\"dataframe\">\n",
              "  <thead>\n",
              "    <tr style=\"text-align: right;\">\n",
              "      <th></th>\n",
              "      <th>country</th>\n",
              "      <th>email</th>\n",
              "      <th>id</th>\n",
              "      <th>info</th>\n",
              "    </tr>\n",
              "  </thead>\n",
              "  <tbody>\n",
              "    <tr>\n",
              "      <th>0</th>\n",
              "      <td>US</td>\n",
              "      <td>AdoptionsKAH@gmail.com</td>\n",
              "      <td>ME118</td>\n",
              "      <td>adoptionskah@gmail.com us me118</td>\n",
              "    </tr>\n",
              "    <tr>\n",
              "      <th>1</th>\n",
              "      <td>US</td>\n",
              "      <td>lgrovefarm@aol.com</td>\n",
              "      <td>NH81</td>\n",
              "      <td>lgrovefarm@aol.com us nh81</td>\n",
              "    </tr>\n",
              "    <tr>\n",
              "      <th>2</th>\n",
              "      <td>US</td>\n",
              "      <td>Rescue@NNEwestierescue.org</td>\n",
              "      <td>NH140</td>\n",
              "      <td>rescue@nnewestierescue.org us nh140</td>\n",
              "    </tr>\n",
              "    <tr>\n",
              "      <th>3</th>\n",
              "      <td>US</td>\n",
              "      <td>info@nhspca.org</td>\n",
              "      <td>NH31</td>\n",
              "      <td>info@nhspca.org us nh31</td>\n",
              "    </tr>\n",
              "    <tr>\n",
              "      <th>4</th>\n",
              "      <td>US</td>\n",
              "      <td>thegratefuldoganimalrescue@gmail.com</td>\n",
              "      <td>ME158</td>\n",
              "      <td>thegratefuldoganimalrescue@gmail.com us me158</td>\n",
              "    </tr>\n",
              "    <tr>\n",
              "      <th>...</th>\n",
              "      <td>...</td>\n",
              "      <td>...</td>\n",
              "      <td>...</td>\n",
              "      <td>...</td>\n",
              "    </tr>\n",
              "    <tr>\n",
              "      <th>10131</th>\n",
              "      <td>US</td>\n",
              "      <td>atlbrescue@gmail.com</td>\n",
              "      <td>IL717</td>\n",
              "      <td>atlbrescue@gmail.com us il717</td>\n",
              "    </tr>\n",
              "    <tr>\n",
              "      <th>10132</th>\n",
              "      <td>US</td>\n",
              "      <td>arrowdogrescue@gmail.com</td>\n",
              "      <td>IL806</td>\n",
              "      <td>arrowdogrescue@gmail.com us il806</td>\n",
              "    </tr>\n",
              "    <tr>\n",
              "      <th>10133</th>\n",
              "      <td>US</td>\n",
              "      <td>1788-ng99@spamex.com</td>\n",
              "      <td>IN23</td>\n",
              "      <td>1788-ng99@spamex.com us in23</td>\n",
              "    </tr>\n",
              "    <tr>\n",
              "      <th>10134</th>\n",
              "      <td>US</td>\n",
              "      <td>Quincyone2@aol.com</td>\n",
              "      <td>MI649</td>\n",
              "      <td>quincyone2@aol.com us mi649</td>\n",
              "    </tr>\n",
              "    <tr>\n",
              "      <th>10135</th>\n",
              "      <td>US</td>\n",
              "      <td>dennimccolm@yahoo.com</td>\n",
              "      <td>MO656</td>\n",
              "      <td>dennimccolm@yahoo.com us mo656</td>\n",
              "    </tr>\n",
              "  </tbody>\n",
              "</table>\n",
              "<p>10136 rows × 4 columns</p>\n",
              "</div>"
            ],
            "text/plain": [
              "      country  ...                                           info\n",
              "0          US  ...                adoptionskah@gmail.com us me118\n",
              "1          US  ...                     lgrovefarm@aol.com us nh81\n",
              "2          US  ...            rescue@nnewestierescue.org us nh140\n",
              "3          US  ...                        info@nhspca.org us nh31\n",
              "4          US  ...  thegratefuldoganimalrescue@gmail.com us me158\n",
              "...       ...  ...                                            ...\n",
              "10131      US  ...                  atlbrescue@gmail.com us il717\n",
              "10132      US  ...              arrowdogrescue@gmail.com us il806\n",
              "10133      US  ...                   1788-ng99@spamex.com us in23\n",
              "10134      US  ...                    quincyone2@aol.com us mi649\n",
              "10135      US  ...                 dennimccolm@yahoo.com us mo656\n",
              "\n",
              "[10136 rows x 4 columns]"
            ]
          },
          "metadata": {
            "tags": []
          },
          "execution_count": 3
        }
      ]
    },
    {
      "cell_type": "code",
      "metadata": {
        "colab": {
          "base_uri": "https://localhost:8080/"
        },
        "id": "JenApHVlhfkT",
        "outputId": "6eaf2adf-202b-44ba-b250-b822c358dfbe"
      },
      "source": [
        "info = df['info'].to_list()   #convert combined column to list\n",
        "print('info:', info[0:500])\n",
        "print(type(info))"
      ],
      "execution_count": 4,
      "outputs": [
        {
          "output_type": "stream",
          "text": [
            "info: ['adoptionskah@gmail.com us me118', 'lgrovefarm@aol.com us nh81', 'rescue@nnewestierescue.org us nh140', 'info@nhspca.org us nh31', 'thegratefuldoganimalrescue@gmail.com us me158', 'info@cats1st.org us nh105', 'adoption@cvhsonline.org us nh54', 'daisyandrambo@comcast.net us nh96', 'makepeace4paws@comcast.net us nh48', 'adoptioncounselor@mrfrs.org us ma65', 'axel1759@aol.com us me151', 'adoption@furrr.org us nh154', 'laurie@safetails.org us ma525', 'info@safehavenhumanesociety.org us me69', 'info@neernorth.org us ma465', 'pronepups@gmail.com us nh147', 'onetail@onetailatatime.com us ma265', 'cairnrescueleague@gmail.com us nh75', 'alphadogrescue@gmail.com us me97', 'marysdogsadoptions@gmail.com us nh138', 'luckypuprescue@yahoo.com us me89', 'ileashakees@gmail.com us ma135', 'in2catz@gmail.com us nh112', 'contact@derryhumanesociety.com us nh10', 'felinefral@gmail.com us nh32', 'tmartin@sarlnh.org us nh71', 'methuen@mspca.org us ma147', 'odddogrescue@aol.com us ma90', 'info@capeannanimalaid.org us ma128', 'director@gpa-cnhc.org us nh50', 'info@gdrne.com us ma224', 'tehorse@aol.com us nh65', 'homes4happydogs@gmail.com us nh149', 'info@animalallies.org us nh67', 'neahr@comcast.net us ma477', nan, 'dk@darbster.net us nh160', 'heidiroberts@comcast.net us ma376', 'info@luckymuttanimalrescue.com us ma459', 'info@hopeharboranimalsociety.org us me136', 'info@arnne.org us nh95', 'lisa@manchesteranimalshelter.org us nh25', 'info@fordogssakerescue.org us nh139', 'annamarietaylor@verizon.net us ma41', 'info@neas.org us ma171', 'adoptions@palsanimallifesavers.com us ma199', 'theoddcatsanctuary@gmail.com us ma511', 'njohnston@rescueleague.org us nh03', 'info@blinddogrescue.com us ma423', 'bubbeg55@aol.com us ma18', 'jean@bigfluffydogs.com us ma370', 'info@popememorialspca.org us nh09', 'crystal@lowellhumanesociety.org us ma106', 'juliescbr@gmail.com us ma74', 'granitestatepawadoptions@gmail.com us nh155', 'pawswakefield@outlook.com us ma142', 'info@kittyangels.org us ma33', 'info@peisandstrays.com us nh89', 'adoptions@billericacatcarecoalition.org us ma284', 'fert_resq@yahoo.com us me54', 'nelr@newenglandlabrescue.com us me125', 'tendertouchveterinary@yahoo.com us me106', 'brian.aurilio@gmail.com us ma393', 'woburncats@gmail.com us ma343', 'info@rabbitnetwork.org us ma40', 'adopt@germanshepherdcenter.org us ma447', 'lhsk9@comcast.net us nh33', 'barepawsrescue@yahoo.com us nh111', 'mfichter@lrhs.net us nh14', nan, 'info@forgottenangelsshelter.org us ma320', 'furrytails913@yahoo.com us ma377', 'pf@siameserescue.org us nh39', 'satoheartadoptions@gmail.com us nh99', 'contactus@thepixelfund.org us me127', 'kc@kittyconnection.net us ma373', 'ross@caninecommit.org us nh119', 'helpingpawsme@gmail.com us me137', 'pittieposse@gmail.com us me159', 'fetchinghoperescue@gmail.com us me130', 'necoonhoundrescue@gmail.com us ma424', 'stephanie@mttom.com us me107', 'impsnewengland@gmail.com us me19', 'whiskersofhope@gmail.com us ma293', 'masspaws@aol.com us ma292', 'kasthillfarm@gmail.com us nh157', 'mainesheltierescue@gmail.com us me80', 'application_screeners@yahoogroups.com us ma09', 'susanna@blackcatrescue.com us ma378', 'wearewag@gsinet.net us nh42', 'info@friendsofwillow.org us me139', 'adoptions@lasthopek9.org us ma484', 'thistle88@centurytel.net us me114', 'info@buddyupanimalsociety.org us me126', 'info@thegreenark.me us me146', 'manager_fas@yahoo.com us nh52', 'adoption@arlboston.org us ma13', 'info@thecatconnection.org us ma190', 'giffordcats@giffordcatshelter.org us ma44', 'cavalieralliance2014@gmail.com us ma501', 'adoption@mspca.org us ma38', 'sheerak@verizon.net us ma77', 'riopuppy3@gmail.com us me77', 'mrr.adopt@gmail.com us me87', 'fortheloveofdog@tds.net us nh74', 'jjfahey@verizon.net us ma137', 'adoptions@survivortails.org us ma487', 'artonpark@aol.com us nh01', 'animaladopt@boston.gov us ma94', 'catadoptions@bostonsforgottenfelines.org us ma506', 'denise@eskiesonline.com us ma161', 'adoptions@quincyanimalshelter.org us ma54', 'inquiries@saveadog.org us ma04', 'guardianangelscatrescue@gmail.com us ma385', 'adoptinfo@gsrne.org us ma45', 'tiwat@aol.com us ma14', 'pbs@catsontheweb.org us ma11', 'info@hartofme.com us me26', nan, 'adopt@sghrescue.org us ma432', 'masshumane@aol.com us ma275', 'maryconnolly.sshs@comcast.net us ma317', 'vickie@rescueangels.org us ma390', 'woof@olddogsnewdigs.com us me152', 'info@alldogrescue.org us ma219', 'adoptacat@carmah.org us ma208', 'info@pittieloverescue.org us ma272', 'hilltophumane@gmail.com us ma138', 'merylwright@aol.com us ma513', 'fortheloveofgsd@gmail.com us ma494', 'nvhumanesociety@gmail.com us ma104', 'masshumane@aol.com us ma458', 'sknoll2@verizon.net us ma454', 'info@talltailsbeaglerescue.org us me53', 'maureen@journeyhomedogrescue.org us me78', 'impsnewengland@gmail.com us ma358', 'martyscatrescue@gmail.com us ma495', 'foreverhomerescue@gmail.com us ma368', 'info@medfieldshelter.com us ma57', nan, 'staff@sterlingshelter.org us ma131', 'tweety7437@charter.net us ma86', 'info@apcsm.org us ma409', 'catloversrescue@comcast.net us ma464', 'adopt@baypathhumane.org us ma141', 'browndogcoalitionandrescue@gmail.com us ma515', 'kroycroft8@gmail.com us ma379', 'lulupal@hotmail.com us ma185', 'info@harvesthills.org us me39', 'journeyanimalrescue@gmail.com us me88', 'animaladoption@gardner-ma.gov us ma475', 'susan.j.curtis@comcast.net us ma26', 'standishhumane@comcast.net us ma71', 'sberry@neads.org us ma124', 'connectapetne@gmail.com us nh156', 'ed@puppyloveme.org us me119', 'info@coastalhumanesociety.org us me30', 'info@brokentailrescue.org us ma427', 'info@worcesterarl.org us ma63', 'milfordaco@yahoo.com us ma281', 'coastaldanes@gmail.com us me90', 'communityspayneuterclinicmaine@gmail.com us me154', 'volunteers@mansfieldshelter.org us ma34', 'thepittiestoprescue@gmail.com us ma507', 'wags.n.wiggles.rescue@gmail.com us nh159', 'info@acdra.org us me24', 'ksautter@gmail.com us ma466', 'info@ahimsahaven.org us ma115', 'blackslate@aol.com us ma325', 'pawinthedoor@gmail.com us me121', 'soulymainepetsrescue@comcast.net us me150', 'willyskittyangelsinfo@gmail.com us ma398', 'er2bvcats@gmail.com us ma451', 'adoptions@rufftalesrescue.org us ma503', 'juliescbr@gmail.com us me02', 'sweetpeafora@verizon.net us ma140', 'sharron_thomas@hotmail.com us nh60', 'casas4rescue@comcast.net us ma369', 'adoptions@angelcathaven.com us ma335', 'noahcats@aol.com us ma262', 'bonnievendig@yahoo.com us nh133', 'becca.pawfectlife@gmail.com us ma486', 'whiskersandmittenstnr@gmail.com us ma498', 'finefelinecatrescue@gmail.com us ma522', 'info@draftgratitude.com us nh161', 'info@baystateequinerescue.com us ma433', 'bjeannekitty@comcast.net us ma380', 'cthayer@townhall.plymouth.ma.us us ma80', 'paws4blue@aol.com us ma72', 'sullivanhumane@hotmail.com us nh83', 'cathy3sullivan@yahoo.com us nh114', 'laurasdoxies@gmail.com us ri105', 'attleboropets@hotmail.com us ma78', 'friendsofcats@yahoo.com us ma98', 'cats@mafiacatgroup.org us ma520', 'gail@repm.com us ri43', 'rvapl@comcast.net us nh93', 'responsiblepetcare@yahoo.com us me44', 'info@dogorphans.com us ma17', 'info@secondchanceanimals.org us ma30', 'adoptions@centralfallsanimals.org us ri64', 'sandi_ruscetta@yahoo.com us ma152', nan, 'contact@newenglandhumanesociety.com us ri113', 'aco@burrillville.org us ri40', 'lisa@longtraildogs.org us vt72', 'spfldhumane@vermontel.net us vt21', 'info@ccatconnect.org us ma266', 'pawswatchep@gmail.com us ri19', nan, 'wwanimalshelter@gmail.com us ri28', 'adoptions@whiteriveranimalrescue.org us vt49', 'phyllis@hanri.org us ri49', 'ohnokitty1@gmail.com us ma455', 'friendsoha@yahoo.com us ri76', 'info@lucymac.org us vt07', 'epacc@hotmail.com us ri46', 'vsaheadquarters@yahoo.com us ri11', 'support@almosthomersq.org us ri84', 'reception@parl.org us ri03', 'jennyshoperescue@aol.com us ri83', 'littlerhodyrescue@gmail.com us ri96', 'abandoneddogsofri@gmail.com us ri124', 'rhodehomerescue@gmail.com us ri130', 'scruffypawsanimalrescue@gmail.com us ri129', 'windybleu@verizon.com us ma514', 'newenglandallbreedrescue@yahoo.com us ct366', 'clyk9s@gmail.com us ma195', 'ttorres@aspectsinc.com us ri79', 'heather@obhounds.com us ri108', 'bighairanimalrescue@gmail.com us ma505', 'projectspayrescue@gmail.com us ma359', 'swanseashelter@yahoo.com us ma75', 'training@rispca.com us ri48', 'catadoptionteam@aol.com us ri72', 'lucywgoodrum@earthlink.net us vt65', 'secondchancear.org@gmail.com us nh132', 'rachael@heretodaysanctuary.org us ma468', 'tigersden6684@yahoo.com us ri132', 'renee@arlfr.org us ma12', 'cricket13@comcast.net us ma410', 'nereptilewelfare@gmail.com us nh125', 'newdigsfordogs@gmail.com us nh135', 'wahadoptions@aol.com us ri78', 'palsnokillshelter@yahoo.com us me155', 'fcsodogshelter@gmail.com us ma476', 'info@pawsnewengland.com us ri77', 'sylvia@scargowagsandwiggles.com us ma448', 'sage999cat@cox.net us ri56', 'fpas1@foreverpaws.com us ma143', 'brewster@arlboston.org us ma59', 'loveofadog@gmail.com us ma456', 'new2udogrescue@yahoo.com us ma516', 'gerdasequinerescue@gmail.com us vt68', 'aco@fairhaven-ma.gov us ma527', 'friendsofbristolanimalshelter@gmail.com us ri53', 'mventura6089@comcast.net us ma116', 'lighthouseanimalshelter@gmail.com us ma489', 'nextstopforever@aol.com us ct354', 'pawsctadopt@gmail.com us ct480', 'moreilly@mspca.org us ma243', 'cats@pawswatch.org us ri14', 'skellya29@gmail.com us ri109', 'laziadopt@gmail.com us ri114', 'socialmedia@pugrescueofnewengland.org us ma333', 'geminispamperedgreyhounds@gmail.com us ma488', 'info@passion4paws.org us ct362', 'animalcontrol@neccog.com us ct89', 'nataliepatterson.ark@gmail.com us me149', 'info@dogslednh.com us nh145', 'scituatepound1@juno.com us ri20', 'kdepoy@vetcor.com us ri60', 'furryangelsdachshundrescue@yahoo.com us ri119', 'greyhoundkennel@roadrunner.com us me42', 'shelter_44beagleln@aol.com us ma232', 'stacia.pietropaolo@gmail.com us ri104', 'maramuser@gmail.com us ri117', 'justdoodlesrescue@yahoo.com us ri123', 'odiesplace508@gmail.com us ma502', 'kentcountycats@gmail.com us ri131', 'lindarollins38@comcast.net us ma324', 'eastcoastcaninerescue@gmail.com us ct560', 'egaplevents@gmail.com us ri08', 'midnightrunrescue@gmail.com us ri133', 'riversiderescue@hotmail.com us vt36', 'sln2310@yahoo.com us me96', 'nkas395@yahoo.com us ri09', 'ddoehrmann@yahoo.com us ri23', 'priderockrescue@gmail.com us ct553', 'info@potterleague.org us ri04', 'manager@hskcme.org us me04', 'muttrescueofmassachusetts@gmail.com us ma519', 'info@pottersangelsrescue.org us vt75', 'exeteranimalshelter@town.exeter.ri.us us ri55', 'whiskersas@hotmail.com us ct37', 'tartanrescue@hotmail.com us ct162', 'animalcontrol@willingtonct.org us ct482', 'hurdpub@gmail.com us ma480', 'scarofmv@gmail.com us ma366', 'info@tjoconnoradoptioncenter.com us ma136', 'wbmurphys@yahoo.com us ma450', 'denise@eskiesonline.com us ct534', 'adoptions@kingdomanimalshelter.com us vt59', 'adoptions@rchsvt.org us vt11', 'aco@mansfieldct.org us ct23', 'catsnortheast@outlook.com us ct142', 'info@americanlabrescue.com us ct264', 'randomrescue@gmail.com us vt37', 'info@pawsforlifect.com us ct573', 'acefido@richmondpd.org us ri22', 'wigglepupzrescue@gmail.com us ct347', 'bmurdach@ellington-ct.gov us ct68', 'pugmama7@yahoo.com us vt19', 'mapleleafmutts@gmail.com us vt78', 'marys.kitty.korner@sbcglobal.net us ct199', 'carrienylen@comcast.net us ct410', 'wofarinc@gmail.com us ct525', 'info@sosarl.org us ri121', 'catsnortheast@outlook.com us ct386', nan, 'wow.rescue@yahoo.com us ct549', 'skanimalshelter@southkingstownri.com us ri33', 'westfieldhcp@aol.com us ma341', 'm.terkelsen@cityofwestfield.org us ma70', 'info@centralvermonthumane.org us vt08', 'sarahs2ndchance@yahoo.com us ct453', 'lfbhr@yahoo.com us ct504', 'thecatsmeowrescue@gmail.com us ct522', 'miraclegsdmaine@gmail.com us me156', 'floures1@msn.com us ma210', 'brookesangelsct@gmail.com us ct544', 'secondchance@wildblue.net us vt18', 'info@saveourstraysinmaine.org us me41', 'aco@swkpd.com us ma202', 'goodkarmarescue@gmail.com us vt50', 'holeinoneanimalrescue@yahoo.com us ct540', 'adoption@sadiemaefoundation.org us ct220', 'director@majesticwaterfowl.org us ct248', 'cthdr@yahoo.com us ct474', 'robin.bond@southwindsor.org us ct96', 'tkkakane@comcast.net us ct110', nan, 'kathy.petsitting@gmail.com   us ri120', 'monkeyspack@yahoo.com us ct556', 'queeniefound@hotmail.com us ct272', 'packleadersrescuect@gmail.com us ct477', 'helpline@ourcompanions.org us ct145', 'applications@rainbowrescues.org us ma363', 'davis@townofwindsorct.com us ct260', 'adoptions@ctcatconnection.org us ct291', 'albigor1@cox.net us ct148', 'aco@ledyardct.org us ct90', 'info@ackshelter.org us ma129', 'banditsplace1@gmail.com us ct228', 'foreverfeisty.adopt@gmail.com us ct324', 'tloughlin@westerlyri.gov us ri06', 'twescovich@stonington-ct.gov us ct287', 'stoningtonanimalrescueproject@yahoo.com us ct481', nan, 'info@goldenhuggs.org us vt47', 'michelle9121@live.com us ct409', 'shsanimals.forever@yahoo.com us me20', 'poaplacement@gmail.com us ct109', 'adopt@thesimonfoundation.org us ct258', nan, 'adoption@weadoptgreyhounds.org us ct246', 'thechisociety@gmail.com us ct371', 'oohrescue@gmail.com us ct547', 'ctahinfo@gmail.com us ct456', 'justicefordogs@aol.com us vt54', 'lvgruden@ferretassn.org us ct388', 'info@heartsherd.com us ny1020', 'elizabeth.fridaysrescue@gmail.com us ct509', 'ctdraftrescue@aol.com us ct502', 'animalcontrol@westhartfordct.gov us ct132', 'addicuslegacydr@aol.com us ct531', 'nepyresq@nepyresq.org us ma213', 'heartsunited.catrescue@yahoo.com us ct557', 'bootnkit@gmail.com us ct421', 'adopt@dogstarrescue.org us ct523', 'wendy@homewardboundanimals.org us vt12', 'info@cthumane.org us ct323', 'westleyswishk9rescue@gmail.com us ct516', 'adoptions@emilysfriendsrescue.com us ct484', 'pkeller@newbritainct.gov us ct369', 'saveabestfriend@gmail.com us ct430', 'ddr@doubledogrescue.org us ct309', nan, 'info@cattalesct.org us ct104', 'impsnewengland@gmail.com us ct352', 'beata778@yahoo.com us ct397', 'ht-ac@comcast.net us ct237', 'taspinfo@yahoo.com us ny976', nan, 'adoptions@spcauny.org us ny179', 'caapnotforprofit@gmail.com us ny1260', 'weinhofer@plainville-ct.gov us ct144', 'furgottentailsanimalrescue@yahoo.com us ct532', 'bbassis@earthlink.net us ma122', 'daberloni@sbcglobal.net us ct537', 'acojoy@msn.com us me129', 'villagepeople32@yahoo.com us ct452', 'everybunnycounts@yahoo.com us ct536', 'nehgs@gmavt.net us vt90', '802dogrescue@gmail.com us vt87', 'cnarducci@southingtonpolice.org us ct247', 'pigpen389@cox.net us ct280', 'tomcatrescue@gmail.com us ct490', 'friendsbristolanimalshelter@gmail.com us ct498', 'furryfriendsct@yahoo.com us ct539', 'purrfelinefriends@hotmail.com us ct383', 'cynthia@eastcoasthumanesociety.com us ct412', 'tracyc@fortheloveoflabs.org us ct438', 'juliescbr@gmail.com us ct53', 'northwesthillsk9rescue@yahoo.com us ct460', 'factanimalrescue@outlook.com us ny1155', 'summer@friendsofphoebie.org us ny1228', 'heidishaven@gmail.com us vt61', 'tashmoo53@yahoo.com us ct308', 'kimsfosterdogs@yahoo.com us ct463', 'jfranklin@oldsaybrookpolice.com us ct196', 'adopt@savingpawsct.org us ct79', 'adoptnbff@gmail.com us ct567', 'info@hopeanimalrescue.org us ny508', 'barbara.ehrny@gmail.com us ny1035', 'info@meridenhumanesocietyrescue.com us ct20', 'afoc@afocinc.org us ct88', 'petfinder.inquiry@labs4rescue.org us ct178', 'ctdrps@comcast.net us ct437', 'adoptapetclinic1@aol.com us ny1018', 'lisa.ventura@arfct.org us ct60', 'pawsomepupspersevere@yahoo.com us ny1124', 'animals@fasv.comcastbiz.net us vt09', 'valleyshore@comcast.net us ct72', 'boghtadoptions@gmail.com us ny1106', 'frontieranimalsociety@gmail.com ca qc81', 'nvecats@gmail.com us ct515', 'allbreedvt@allbreedrescuevt.com us vt58', 'staurolitefarm@aol.com us vt85', 'adoptapup@hotmail.com us ny1061', 'adopt@rescueparrots.org us ny1196', 'adoptions@forgottenfelinesct.org us ct188', 'rottieempirerescue@gmail.com us ny974', nan, 'ctrabbitrescue@gmail.com us ct563', 'rescue@helporphanpuppies.org us ny604', 'tammy@cvcaninerescue.org us vt52', 'passion4pawsvt@gmail.com us vt84', 'info@poodlerescuevt.org us vt71', 'noahandlea@aol.com us ct22', 'tmejfitz@earthlink.net us ct252', 'littlewoofvt@gmail.com us vt89', 'adopt@littleguild.org us ct140', 'cdhaadopt@gmail.com us ny263', 'admin@ewhiskers.com us ny295', 'info@capp-petplacement.org us ny170', 'rescue@peppertree.org us ny98', 'osc@orangestreetcats.org us ny1052', nan, 'northcountryspca@yahoo.com us ny314', 'animalovers@empireone.net us ny64', 'adirondacksaveastray@yahoo.com us ny61', 'stephanie@karmak9.org us ny1060', 'esthervilleanimalshelter54@gmail.com us ny907', 'cswan@saratogacountyny.gov us ny1378', 'bsvcinfo@gmail.com us ny1391', 'kittykatrescuect@gmail.com us ct574', 'animallover40590@aol.com us ct103', 'info@spottydogrescue.org us ct489', 'info@homewardbounddogrescue.com us ny480', 'jeans-haven@nycap.rr.com us ny848', 'info@blinddogrescue.com us ct407', 'mollibo@gmail.com us ct414', 'trishaperfectimperfections@gmail.com us ct572', 'allthekingshorsesequinerescue@gmail.com us ct426', 'patbob@reagan.com us ct112', 'info@spcahancockcounty.org us me79', 'contact_us@branfordcompassionclub.org us ct98', 'halfwayhomeonline@yahoo.com us ct211', 'theanimalhavenstaff@gmail.com us ct40', 'lisa@fixandfeednorthhaven.org  us ct533', 'adoptions@kittenangels.org us ny868', 'freetobemerescue@gmail.com us ny1257', 'gsrescueny@gmail.com us ny1325', 'sweetestdogrescue@gmail.com us ny1189', 'brodeur747@gmail.com us ny1039', 'brightsky@nycap.rr.com us ny1373', 'jsardo5868@charter.net us ct415', 'acaninegemrescue@gmail.com us vt91', 'floradog2003@yahoo.com us ct27', 'contact@animalsforlife.org us ct61', 'fosterandforever@gmail.com us ct528', 'furryflightstofreedom@gmail.com us ct559', 'elsasark@optonline.net us ny288', 'simba32188@yahoo.com us ny1382', 'info@regapct.com us ct429', 'wheretheloveis41@yahoo.com us ct505', 'lburban@branford-ct.gov us ct181', 'nutmegrescue@gmail.com us ct436', 'furballsrescueny@gmail.com us ny1383']\n",
            "<class 'list'>\n"
          ],
          "name": "stdout"
        }
      ]
    },
    {
      "cell_type": "code",
      "metadata": {
        "colab": {
          "base_uri": "https://localhost:8080/"
        },
        "id": "Moi2GGHOw9Ae",
        "outputId": "9c2ae5cf-4872-4bf3-f00b-f8436d6aaf13"
      },
      "source": [
        "index_list=[]                 #get index list\n",
        "for i in range(len(info)):\n",
        "    index_list.append(i)\n",
        "    index_list=index_list[0:500]\n",
        "print(index_list)\n"
      ],
      "execution_count": 5,
      "outputs": [
        {
          "output_type": "stream",
          "text": [
            "[0, 1, 2, 3, 4, 5, 6, 7, 8, 9, 10, 11, 12, 13, 14, 15, 16, 17, 18, 19, 20, 21, 22, 23, 24, 25, 26, 27, 28, 29, 30, 31, 32, 33, 34, 35, 36, 37, 38, 39, 40, 41, 42, 43, 44, 45, 46, 47, 48, 49, 50, 51, 52, 53, 54, 55, 56, 57, 58, 59, 60, 61, 62, 63, 64, 65, 66, 67, 68, 69, 70, 71, 72, 73, 74, 75, 76, 77, 78, 79, 80, 81, 82, 83, 84, 85, 86, 87, 88, 89, 90, 91, 92, 93, 94, 95, 96, 97, 98, 99, 100, 101, 102, 103, 104, 105, 106, 107, 108, 109, 110, 111, 112, 113, 114, 115, 116, 117, 118, 119, 120, 121, 122, 123, 124, 125, 126, 127, 128, 129, 130, 131, 132, 133, 134, 135, 136, 137, 138, 139, 140, 141, 142, 143, 144, 145, 146, 147, 148, 149, 150, 151, 152, 153, 154, 155, 156, 157, 158, 159, 160, 161, 162, 163, 164, 165, 166, 167, 168, 169, 170, 171, 172, 173, 174, 175, 176, 177, 178, 179, 180, 181, 182, 183, 184, 185, 186, 187, 188, 189, 190, 191, 192, 193, 194, 195, 196, 197, 198, 199, 200, 201, 202, 203, 204, 205, 206, 207, 208, 209, 210, 211, 212, 213, 214, 215, 216, 217, 218, 219, 220, 221, 222, 223, 224, 225, 226, 227, 228, 229, 230, 231, 232, 233, 234, 235, 236, 237, 238, 239, 240, 241, 242, 243, 244, 245, 246, 247, 248, 249, 250, 251, 252, 253, 254, 255, 256, 257, 258, 259, 260, 261, 262, 263, 264, 265, 266, 267, 268, 269, 270, 271, 272, 273, 274, 275, 276, 277, 278, 279, 280, 281, 282, 283, 284, 285, 286, 287, 288, 289, 290, 291, 292, 293, 294, 295, 296, 297, 298, 299, 300, 301, 302, 303, 304, 305, 306, 307, 308, 309, 310, 311, 312, 313, 314, 315, 316, 317, 318, 319, 320, 321, 322, 323, 324, 325, 326, 327, 328, 329, 330, 331, 332, 333, 334, 335, 336, 337, 338, 339, 340, 341, 342, 343, 344, 345, 346, 347, 348, 349, 350, 351, 352, 353, 354, 355, 356, 357, 358, 359, 360, 361, 362, 363, 364, 365, 366, 367, 368, 369, 370, 371, 372, 373, 374, 375, 376, 377, 378, 379, 380, 381, 382, 383, 384, 385, 386, 387, 388, 389, 390, 391, 392, 393, 394, 395, 396, 397, 398, 399, 400, 401, 402, 403, 404, 405, 406, 407, 408, 409, 410, 411, 412, 413, 414, 415, 416, 417, 418, 419, 420, 421, 422, 423, 424, 425, 426, 427, 428, 429, 430, 431, 432, 433, 434, 435, 436, 437, 438, 439, 440, 441, 442, 443, 444, 445, 446, 447, 448, 449, 450, 451, 452, 453, 454, 455, 456, 457, 458, 459, 460, 461, 462, 463, 464, 465, 466, 467, 468, 469, 470, 471, 472, 473, 474, 475, 476, 477, 478, 479, 480, 481, 482, 483, 484, 485, 486, 487, 488, 489, 490, 491, 492, 493, 494, 495, 496, 497, 498, 499]\n"
          ],
          "name": "stdout"
        }
      ]
    },
    {
      "cell_type": "code",
      "metadata": {
        "colab": {
          "base_uri": "https://localhost:8080/"
        },
        "id": "Kpz8koDmyD8I",
        "outputId": "780fda7b-9932-4521-bbcf-f8d90b273c46"
      },
      "source": [
        "index_array=np.array(index_list)          #convert index list to array\n",
        "print(index_array)"
      ],
      "execution_count": 6,
      "outputs": [
        {
          "output_type": "stream",
          "text": [
            "[  0   1   2   3   4   5   6   7   8   9  10  11  12  13  14  15  16  17\n",
            "  18  19  20  21  22  23  24  25  26  27  28  29  30  31  32  33  34  35\n",
            "  36  37  38  39  40  41  42  43  44  45  46  47  48  49  50  51  52  53\n",
            "  54  55  56  57  58  59  60  61  62  63  64  65  66  67  68  69  70  71\n",
            "  72  73  74  75  76  77  78  79  80  81  82  83  84  85  86  87  88  89\n",
            "  90  91  92  93  94  95  96  97  98  99 100 101 102 103 104 105 106 107\n",
            " 108 109 110 111 112 113 114 115 116 117 118 119 120 121 122 123 124 125\n",
            " 126 127 128 129 130 131 132 133 134 135 136 137 138 139 140 141 142 143\n",
            " 144 145 146 147 148 149 150 151 152 153 154 155 156 157 158 159 160 161\n",
            " 162 163 164 165 166 167 168 169 170 171 172 173 174 175 176 177 178 179\n",
            " 180 181 182 183 184 185 186 187 188 189 190 191 192 193 194 195 196 197\n",
            " 198 199 200 201 202 203 204 205 206 207 208 209 210 211 212 213 214 215\n",
            " 216 217 218 219 220 221 222 223 224 225 226 227 228 229 230 231 232 233\n",
            " 234 235 236 237 238 239 240 241 242 243 244 245 246 247 248 249 250 251\n",
            " 252 253 254 255 256 257 258 259 260 261 262 263 264 265 266 267 268 269\n",
            " 270 271 272 273 274 275 276 277 278 279 280 281 282 283 284 285 286 287\n",
            " 288 289 290 291 292 293 294 295 296 297 298 299 300 301 302 303 304 305\n",
            " 306 307 308 309 310 311 312 313 314 315 316 317 318 319 320 321 322 323\n",
            " 324 325 326 327 328 329 330 331 332 333 334 335 336 337 338 339 340 341\n",
            " 342 343 344 345 346 347 348 349 350 351 352 353 354 355 356 357 358 359\n",
            " 360 361 362 363 364 365 366 367 368 369 370 371 372 373 374 375 376 377\n",
            " 378 379 380 381 382 383 384 385 386 387 388 389 390 391 392 393 394 395\n",
            " 396 397 398 399 400 401 402 403 404 405 406 407 408 409 410 411 412 413\n",
            " 414 415 416 417 418 419 420 421 422 423 424 425 426 427 428 429 430 431\n",
            " 432 433 434 435 436 437 438 439 440 441 442 443 444 445 446 447 448 449\n",
            " 450 451 452 453 454 455 456 457 458 459 460 461 462 463 464 465 466 467\n",
            " 468 469 470 471 472 473 474 475 476 477 478 479 480 481 482 483 484 485\n",
            " 486 487 488 489 490 491 492 493 494 495 496 497 498 499]\n"
          ],
          "name": "stdout"
        }
      ]
    },
    {
      "cell_type": "code",
      "metadata": {
        "colab": {
          "base_uri": "https://localhost:8080/"
        },
        "id": "jvvFVNjTN4RO",
        "outputId": "a914fbb0-0f9d-42bb-af2a-a71df8879baa"
      },
      "source": [
        "index_array.astype(str)             #convert contents of index array to str"
      ],
      "execution_count": 7,
      "outputs": [
        {
          "output_type": "execute_result",
          "data": {
            "text/plain": [
              "array(['0', '1', '2', '3', '4', '5', '6', '7', '8', '9', '10', '11', '12',\n",
              "       '13', '14', '15', '16', '17', '18', '19', '20', '21', '22', '23',\n",
              "       '24', '25', '26', '27', '28', '29', '30', '31', '32', '33', '34',\n",
              "       '35', '36', '37', '38', '39', '40', '41', '42', '43', '44', '45',\n",
              "       '46', '47', '48', '49', '50', '51', '52', '53', '54', '55', '56',\n",
              "       '57', '58', '59', '60', '61', '62', '63', '64', '65', '66', '67',\n",
              "       '68', '69', '70', '71', '72', '73', '74', '75', '76', '77', '78',\n",
              "       '79', '80', '81', '82', '83', '84', '85', '86', '87', '88', '89',\n",
              "       '90', '91', '92', '93', '94', '95', '96', '97', '98', '99', '100',\n",
              "       '101', '102', '103', '104', '105', '106', '107', '108', '109',\n",
              "       '110', '111', '112', '113', '114', '115', '116', '117', '118',\n",
              "       '119', '120', '121', '122', '123', '124', '125', '126', '127',\n",
              "       '128', '129', '130', '131', '132', '133', '134', '135', '136',\n",
              "       '137', '138', '139', '140', '141', '142', '143', '144', '145',\n",
              "       '146', '147', '148', '149', '150', '151', '152', '153', '154',\n",
              "       '155', '156', '157', '158', '159', '160', '161', '162', '163',\n",
              "       '164', '165', '166', '167', '168', '169', '170', '171', '172',\n",
              "       '173', '174', '175', '176', '177', '178', '179', '180', '181',\n",
              "       '182', '183', '184', '185', '186', '187', '188', '189', '190',\n",
              "       '191', '192', '193', '194', '195', '196', '197', '198', '199',\n",
              "       '200', '201', '202', '203', '204', '205', '206', '207', '208',\n",
              "       '209', '210', '211', '212', '213', '214', '215', '216', '217',\n",
              "       '218', '219', '220', '221', '222', '223', '224', '225', '226',\n",
              "       '227', '228', '229', '230', '231', '232', '233', '234', '235',\n",
              "       '236', '237', '238', '239', '240', '241', '242', '243', '244',\n",
              "       '245', '246', '247', '248', '249', '250', '251', '252', '253',\n",
              "       '254', '255', '256', '257', '258', '259', '260', '261', '262',\n",
              "       '263', '264', '265', '266', '267', '268', '269', '270', '271',\n",
              "       '272', '273', '274', '275', '276', '277', '278', '279', '280',\n",
              "       '281', '282', '283', '284', '285', '286', '287', '288', '289',\n",
              "       '290', '291', '292', '293', '294', '295', '296', '297', '298',\n",
              "       '299', '300', '301', '302', '303', '304', '305', '306', '307',\n",
              "       '308', '309', '310', '311', '312', '313', '314', '315', '316',\n",
              "       '317', '318', '319', '320', '321', '322', '323', '324', '325',\n",
              "       '326', '327', '328', '329', '330', '331', '332', '333', '334',\n",
              "       '335', '336', '337', '338', '339', '340', '341', '342', '343',\n",
              "       '344', '345', '346', '347', '348', '349', '350', '351', '352',\n",
              "       '353', '354', '355', '356', '357', '358', '359', '360', '361',\n",
              "       '362', '363', '364', '365', '366', '367', '368', '369', '370',\n",
              "       '371', '372', '373', '374', '375', '376', '377', '378', '379',\n",
              "       '380', '381', '382', '383', '384', '385', '386', '387', '388',\n",
              "       '389', '390', '391', '392', '393', '394', '395', '396', '397',\n",
              "       '398', '399', '400', '401', '402', '403', '404', '405', '406',\n",
              "       '407', '408', '409', '410', '411', '412', '413', '414', '415',\n",
              "       '416', '417', '418', '419', '420', '421', '422', '423', '424',\n",
              "       '425', '426', '427', '428', '429', '430', '431', '432', '433',\n",
              "       '434', '435', '436', '437', '438', '439', '440', '441', '442',\n",
              "       '443', '444', '445', '446', '447', '448', '449', '450', '451',\n",
              "       '452', '453', '454', '455', '456', '457', '458', '459', '460',\n",
              "       '461', '462', '463', '464', '465', '466', '467', '468', '469',\n",
              "       '470', '471', '472', '473', '474', '475', '476', '477', '478',\n",
              "       '479', '480', '481', '482', '483', '484', '485', '486', '487',\n",
              "       '488', '489', '490', '491', '492', '493', '494', '495', '496',\n",
              "       '497', '498', '499'], dtype='<U21')"
            ]
          },
          "metadata": {
            "tags": []
          },
          "execution_count": 7
        }
      ]
    },
    {
      "cell_type": "code",
      "metadata": {
        "colab": {
          "base_uri": "https://localhost:8080/"
        },
        "id": "lVIaRrKP-Xi2",
        "outputId": "8224ba84-d68d-4aba-fff4-ad4d1b0df79d"
      },
      "source": [
        "info_array=np.array(info)\n",
        "print(info_array)"
      ],
      "execution_count": 11,
      "outputs": [
        {
          "output_type": "stream",
          "text": [
            "['adoptionskah@gmail.com us me118' 'lgrovefarm@aol.com us nh81'\n",
            " 'rescue@nnewestierescue.org us nh140' ... '1788-ng99@spamex.com us in23'\n",
            " 'quincyone2@aol.com us mi649' 'dennimccolm@yahoo.com us mo656']\n"
          ],
          "name": "stdout"
        }
      ]
    },
    {
      "cell_type": "code",
      "metadata": {
        "colab": {
          "base_uri": "https://localhost:8080/"
        },
        "id": "_CXEo5A_f2Q0",
        "outputId": "37be0100-c3e7-4650-e205-5d55f4665697"
      },
      "source": [
        "def arrange(info_array,size):                   \n",
        "  for i in range(size):\n",
        "    for j in range(i, size):\n",
        "        if (info[i]>=info[j]):\n",
        "          info[i], info[j]=info[j],info[i]\n",
        "print(info_array)\n"
      ],
      "execution_count": 15,
      "outputs": [
        {
          "output_type": "stream",
          "text": [
            "['adoptionskah@gmail.com us me118' 'lgrovefarm@aol.com us nh81'\n",
            " 'rescue@nnewestierescue.org us nh140' ... '1788-ng99@spamex.com us in23'\n",
            " 'quincyone2@aol.com us mi649' 'dennimccolm@yahoo.com us mo656']\n"
          ],
          "name": "stdout"
        }
      ]
    },
    {
      "cell_type": "code",
      "metadata": {
        "colab": {
          "base_uri": "https://localhost:8080/"
        },
        "id": "AVWbgdEcvFF_",
        "outputId": "e30248c3-cdf8-441f-d15c-7652623a1d8e"
      },
      "source": [
        "def arrange(info_array,size):\n",
        "  for i in range(size):\n",
        "    for j in range(i, size):\n",
        "        if (info_array[i]>=info_array[j]):\n",
        "          info_array[i], info_array[j]=info_array[i],info_array[j]\n",
        "          #info_array[i], info_array[j]=info_array[j],info_array[i]\n",
        "print(info_array)"
      ],
      "execution_count": null,
      "outputs": [
        {
          "output_type": "stream",
          "text": [
            "['adoption@cvhsonline.org us nh54' 'adoption@furrr.org us nh154'\n",
            " 'adoptioncounselor@mrfrs.org us ma65' ... '1788-ng99@spamex.com us in23'\n",
            " 'quincyone2@aol.com us mi649' 'dennimccolm@yahoo.com us mo656']\n"
          ],
          "name": "stdout"
        }
      ]
    },
    {
      "cell_type": "code",
      "metadata": {
        "colab": {
          "base_uri": "https://localhost:8080/"
        },
        "id": "H4bgBP5DxGc9",
        "outputId": "2420ea9c-33ad-4e83-e7a1-4d701d95e805"
      },
      "source": [
        "def insertion_sort(array):               \n",
        "  for index_array in range(1,len(array)):\n",
        "    value = array[index_array]\n",
        "    i = index_array - 1\n",
        "    while i>=0:\n",
        "        if value < array[i]:\n",
        "          array[i+1] = array[i]\n",
        "          array[i] = value\n",
        "          i= i-1 \n",
        "        else:\n",
        "          break\n",
        "insertion_sort(info_array)\n",
        "print(info_array)"
      ],
      "execution_count": null,
      "outputs": [
        {
          "output_type": "stream",
          "text": [
            "['1000dogrescue@gmail.com us ga693'\n",
            " '100plusabandoneddogs@gmail.com us fl1227'\n",
            " '10livescatrescue@gmail.com us nc1013' ...\n",
            " 'zoeshouserescue@gmail.com us pa835' 'zoianimalrescue@yahoo.com us ok183'\n",
            " 'zoianimalrescue@yahoo.com us tx697']\n"
          ],
          "name": "stdout"
        }
      ]
    },
    {
      "cell_type": "code",
      "metadata": {
        "colab": {
          "base_uri": "https://localhost:8080/"
        },
        "id": "KgZXu2QSf2Y9",
        "outputId": "b4f9dd97-e654-486b-f7bc-7119f1570104"
      },
      "source": [
        "def arrange(array):\n",
        "  i=0\n",
        "  temp=0\n",
        "  while i <len(array):\n",
        "    j=i+1\n",
        "    while j<len(array):\n",
        "      if array[i] > array[j]:\n",
        "        temp=array[j]\n",
        "        array[j]=array[i]\n",
        "        array[j]=temp\n",
        "      j=j+1\n",
        "    i=i+1\n",
        "  return array\n",
        "\n",
        "print(arrange(info_array))"
      ],
      "execution_count": null,
      "outputs": [
        {
          "output_type": "stream",
          "text": [
            "['1000dogrescue@gmail.com us ga693'\n",
            " '100plusabandoneddogs@gmail.com us fl1227'\n",
            " '10livescatrescue@gmail.com us nc1013' ...\n",
            " 'zoeshouserescue@gmail.com us pa835' 'zoianimalrescue@yahoo.com us ok183'\n",
            " 'zoianimalrescue@yahoo.com us tx697']\n"
          ],
          "name": "stdout"
        }
      ]
    },
    {
      "cell_type": "code",
      "metadata": {
        "colab": {
          "base_uri": "https://localhost:8080/"
        },
        "id": "GyNsi5eFVleu",
        "outputId": "7276e7d0-d59f-4520-ecf0-45e8cc9b7104"
      },
      "source": [
        "for i in range(0, len(info_array)):\n",
        "  for j in range(i+1,len(info_array)):\n",
        "    if(info_array[i]>info_array[j]):\n",
        "      info_array[i],info_array[j]=info_array[j],info_array[i]\n",
        "print(info_array)\n"
      ],
      "execution_count": null,
      "outputs": [
        {
          "output_type": "stream",
          "text": [
            "['1000dogrescue@gmail.com us ga693'\n",
            " '100plusabandoneddogs@gmail.com us fl1227'\n",
            " '10livescatrescue@gmail.com us nc1013' ...\n",
            " 'zoeshouserescue@gmail.com us pa835' 'zoianimalrescue@yahoo.com us ok183'\n",
            " 'zoianimalrescue@yahoo.com us tx697']\n"
          ],
          "name": "stdout"
        }
      ]
    },
    {
      "cell_type": "code",
      "metadata": {
        "colab": {
          "base_uri": "https://localhost:8080/"
        },
        "id": "9mah8ewUm-5S",
        "outputId": "e0ed1e05-0fce-459c-dc06-5eb7091b5bc5"
      },
      "source": [
        "index_list=[]\n",
        "for i in range(len(info)):\n",
        "    index_list.append(i)\n",
        "    index_list=index_list[0:500]\n",
        "print(index_list)\n"
      ],
      "execution_count": null,
      "outputs": [
        {
          "output_type": "stream",
          "text": [
            "[0, 1, 2, 3, 4, 5, 6, 7, 8, 9, 10, 11, 12, 13, 14, 15, 16, 17, 18, 19, 20, 21, 22, 23, 24, 25, 26, 27, 28, 29, 30, 31, 32, 33, 34, 35, 36, 37, 38, 39, 40, 41, 42, 43, 44, 45, 46, 47, 48, 49, 50, 51, 52, 53, 54, 55, 56, 57, 58, 59, 60, 61, 62, 63, 64, 65, 66, 67, 68, 69, 70, 71, 72, 73, 74, 75, 76, 77, 78, 79, 80, 81, 82, 83, 84, 85, 86, 87, 88, 89, 90, 91, 92, 93, 94, 95, 96, 97, 98, 99, 100, 101, 102, 103, 104, 105, 106, 107, 108, 109, 110, 111, 112, 113, 114, 115, 116, 117, 118, 119, 120, 121, 122, 123, 124, 125, 126, 127, 128, 129, 130, 131, 132, 133, 134, 135, 136, 137, 138, 139, 140, 141, 142, 143, 144, 145, 146, 147, 148, 149, 150, 151, 152, 153, 154, 155, 156, 157, 158, 159, 160, 161, 162, 163, 164, 165, 166, 167, 168, 169, 170, 171, 172, 173, 174, 175, 176, 177, 178, 179, 180, 181, 182, 183, 184, 185, 186, 187, 188, 189, 190, 191, 192, 193, 194, 195, 196, 197, 198, 199, 200, 201, 202, 203, 204, 205, 206, 207, 208, 209, 210, 211, 212, 213, 214, 215, 216, 217, 218, 219, 220, 221, 222, 223, 224, 225, 226, 227, 228, 229, 230, 231, 232, 233, 234, 235, 236, 237, 238, 239, 240, 241, 242, 243, 244, 245, 246, 247, 248, 249, 250, 251, 252, 253, 254, 255, 256, 257, 258, 259, 260, 261, 262, 263, 264, 265, 266, 267, 268, 269, 270, 271, 272, 273, 274, 275, 276, 277, 278, 279, 280, 281, 282, 283, 284, 285, 286, 287, 288, 289, 290, 291, 292, 293, 294, 295, 296, 297, 298, 299, 300, 301, 302, 303, 304, 305, 306, 307, 308, 309, 310, 311, 312, 313, 314, 315, 316, 317, 318, 319, 320, 321, 322, 323, 324, 325, 326, 327, 328, 329, 330, 331, 332, 333, 334, 335, 336, 337, 338, 339, 340, 341, 342, 343, 344, 345, 346, 347, 348, 349, 350, 351, 352, 353, 354, 355, 356, 357, 358, 359, 360, 361, 362, 363, 364, 365, 366, 367, 368, 369, 370, 371, 372, 373, 374, 375, 376, 377, 378, 379, 380, 381, 382, 383, 384, 385, 386, 387, 388, 389, 390, 391, 392, 393, 394, 395, 396, 397, 398, 399, 400, 401, 402, 403, 404, 405, 406, 407, 408, 409, 410, 411, 412, 413, 414, 415, 416, 417, 418, 419, 420, 421, 422, 423, 424, 425, 426, 427, 428, 429, 430, 431, 432, 433, 434, 435, 436, 437, 438, 439, 440, 441, 442, 443, 444, 445, 446, 447, 448, 449, 450, 451, 452, 453, 454, 455, 456, 457, 458, 459, 460, 461, 462, 463, 464, 465, 466, 467, 468, 469, 470, 471, 472, 473, 474, 475, 476, 477, 478, 479, 480, 481, 482, 483, 484, 485, 486, 487, 488, 489, 490, 491, 492, 493, 494, 495, 496, 497, 498, 499]\n"
          ],
          "name": "stdout"
        }
      ]
    },
    {
      "cell_type": "code",
      "metadata": {
        "colab": {
          "base_uri": "https://localhost:8080/"
        },
        "id": "utJOOOeLoS8B",
        "outputId": "b22d153b-2629-44aa-b310-05cf6db727b3"
      },
      "source": [
        "len_list=[]\n",
        "for item in info:\n",
        "    len_list.append(len(str(item)))\n",
        "    len_list=len_list[0:500]\n",
        "print(len_list)\n"
      ],
      "execution_count": null,
      "outputs": [
        {
          "output_type": "stream",
          "text": [
            "[31, 27, 35, 31, 32, 25, 35, 38, 33, 29, 28, 34, 30, 26, 29, 34, 25, 23, 27, 23, 39, 29, 26, 32, 34, 37, 26, 26, 28, 35, 28, 35, 23, 45, 26, 3, 24, 33, 39, 41, 22, 40, 35, 35, 22, 43, 37, 34, 32, 24, 31, 33, 40, 27, 43, 34, 28, 30, 48, 27, 37, 40, 32, 29, 30, 39, 25, 33, 25, 3, 40, 32, 28, 36, 35, 31, 30, 32, 30, 37, 36, 28, 32, 33, 25, 31, 36, 45, 35, 27, 33, 33, 33, 38, 28, 29, 30, 34, 41, 39, 26, 27, 27, 27, 31, 28, 36, 25, 30, 49, 32, 41, 30, 42, 27, 21, 28, 25, 3, 28, 27, 38, 32, 32, 30, 29, 34, 32, 28, 34, 34, 27, 28, 38, 40, 33, 34, 36, 32, 3, 34, 30, 23, 36, 32, 45, 29, 28, 29, 37, 38, 34, 34, 25, 32, 27, 37, 34, 29, 29, 30, 49, 39, 38, 40, 22, 27, 29, 27, 31, 41, 40, 28, 38, 27, 33, 34, 33, 36, 25, 31, 36, 40, 38, 32, 38, 33, 39, 25, 34, 33, 31, 33, 31, 31, 21, 25, 36, 27, 36, 41, 33, 3, 44, 28, 30, 33, 29, 29, 3, 33, 44, 25, 29, 28, 24, 25, 33, 33, 26, 32, 35, 36, 34, 42, 30, 43, 25, 30, 29, 38, 36, 32, 27, 31, 34, 37, 39, 32, 23, 30, 35, 33, 28, 36, 33, 31, 40, 26, 30, 30, 29, 33, 36, 29, 47, 33, 42, 32, 30, 27, 26, 28, 28, 46, 44, 30, 32, 39, 27, 31, 25, 45, 38, 35, 37, 28, 36, 32, 33, 35, 40, 29, 36, 35, 25, 25, 28, 34, 29, 26, 44, 36, 45, 30, 33, 39, 26, 27, 41, 28, 32, 42, 28, 27, 34, 35, 30, 31, 30, 35, 33, 26, 32, 41, 32, 27, 24, 34, 3, 29, 44, 29, 39, 37, 34, 24, 36, 34, 25, 34, 33, 37, 22, 33, 40, 40, 39, 24, 35, 29, 3, 37, 30, 33, 38, 35, 40, 34, 38, 25, 25, 28, 32, 38, 32, 37, 48, 3, 28, 30, 36, 31, 37, 3, 39, 32, 28, 27, 30, 32, 29, 42, 30, 41, 32, 30, 41, 27, 32, 38, 26, 39, 42, 33, 34, 32, 3, 28, 33, 27, 26, 27, 3, 30, 36, 36, 45, 30, 32, 23, 34, 35, 23, 30, 40, 26, 31, 46, 33, 38, 43, 36, 27, 41, 38, 37, 29, 28, 33, 40, 30, 28, 34, 33, 43, 24, 42, 27, 34, 30, 40, 35, 31, 34, 39, 26, 39, 30, 31, 33, 41, 37, 3, 33, 37, 32, 32, 31, 26, 31, 30, 30, 28, 28, 35, 29, 34, 3, 35, 33, 38, 31, 45, 36, 28, 35, 33, 33, 40, 33, 32, 26, 45, 48, 26, 34, 45, 36, 37, 39, 35, 36, 30, 37, 30, 32, 31, 34, 30, 34, 35, 40, 31, 30, 25, 35, 32, 31, 36]\n"
          ],
          "name": "stdout"
        }
      ]
    },
    {
      "cell_type": "code",
      "metadata": {
        "id": "06tF1PikTHRD",
        "colab": {
          "base_uri": "https://localhost:8080/",
          "height": 295
        },
        "outputId": "d21054c2-4523-459b-cfd6-95ebdf2a8378"
      },
      "source": [
        "import matplotlib.pyplot as plt\n",
        "\n",
        "plt.scatter(index_list,len_list, color='green')\n",
        "plt.title('Pet-finder Shelters')\n",
        "plt.xlabel('Strings index')\n",
        "plt.ylabel('Strings Length')\n",
        "plt.show()\n"
      ],
      "execution_count": null,
      "outputs": [
        {
          "output_type": "display_data",
          "data": {
            "image/png": "[encoded data removed]",
            "text/plain": [
              "<Figure size 432x288 with 1 Axes>"
            ]
          },
          "metadata": {
            "tags": [],
            "needs_background": "light"
          }
        }
      ]
    },
    {
      "cell_type": "code",
      "metadata": {
        "colab": {
          "base_uri": "https://localhost:8080/"
        },
        "id": "8-YfLuA_OhAM",
        "outputId": "172634f3-e2cc-4422-d4c6-27223c85401e"
      },
      "source": [
        "info1=info_array[10:20]\n",
        "def arrange(info1,size):\n",
        "  for i in range(size):\n",
        "    for j in range(i, size):\n",
        "        if (info1[i]>=info1[j]):\n",
        "          info1[i], info1[j]=info1[j],info1[i]\n",
        "print(info1)"
      ],
      "execution_count": null,
      "outputs": [
        {
          "output_type": "stream",
          "text": [
            "['1stavenue@green-hill.org us or90' '1yorkiesrescue@gmail.com us ca1495'\n",
            " '2chancekittys@gmail.com us ca2249' '2manydogstx@gmail.com us tx1582'\n",
            " '2ndchancepets@gmail.com us ny352'\n",
            " '2ndchancerescueinc@gmail.com us in629'\n",
            " '2ndchanceshelter2008@gmail.com us al278'\n",
            " '2ndchancesmalldogrescue@gmail.com us in232' '2ndhrr@gmail.com us il693'\n",
            " '2x2rescue@gmail.com us in597']\n"
          ],
          "name": "stdout"
        }
      ]
    },
    {
      "cell_type": "code",
      "metadata": {
        "colab": {
          "base_uri": "https://localhost:8080/"
        },
        "id": "0Vi1c3ECOg3c",
        "outputId": "3443f53b-5a7b-4646-d2ef-339c622b2050"
      },
      "source": [
        "info2=info_array[50:55]\n",
        "def arrange(info2,size):\n",
        "  for i in range(size):\n",
        "    for j in range(i, size):\n",
        "        if (info2[i]>=info2[j]):\n",
        "          info2[i], info2[j]=info2[j],info2[i]\n",
        "print(info2)"
      ],
      "execution_count": null,
      "outputs": [
        {
          "output_type": "stream",
          "text": [
            "['a82380@aol.com us fl43' 'aaa.anderson@gmail.com us mi748'\n",
            " 'aaaofovertoncounty@yahoo.com us tn453' 'aaas2808@gmail.com us al28'\n",
            " 'aabernathy@redoaktx.org us tx1744']\n"
          ],
          "name": "stdout"
        }
      ]
    },
    {
      "cell_type": "code",
      "metadata": {
        "colab": {
          "base_uri": "https://localhost:8080/"
        },
        "id": "iT-UajB_Ogud",
        "outputId": "462a6449-8ec7-4222-8490-7fee528c99da"
      },
      "source": [
        "info3=info_array[:3]\n",
        "def arrange(info3,size):\n",
        "  for i in range(size):\n",
        "    for j in range(i, size):\n",
        "        if (info3[i]>=info3[j]):\n",
        "          info3[i], info3[j]=info3[j],info3[i]\n",
        "print(info3)"
      ],
      "execution_count": null,
      "outputs": [
        {
          "output_type": "stream",
          "text": [
            "['1000dogrescue@gmail.com us ga693'\n",
            " '100plusabandoneddogs@gmail.com us fl1227'\n",
            " '10livescatrescue@gmail.com us nc1013']\n"
          ],
          "name": "stdout"
        }
      ]
    },
    {
      "cell_type": "code",
      "metadata": {
        "colab": {
          "base_uri": "https://localhost:8080/"
        },
        "id": "VFCf2SR96zDz",
        "outputId": "9d0e4a55-3c9d-4898-a385-76aea575b83f"
      },
      "source": [
        "info1=info_array[300:400]\n",
        "def arrange(info1,size):\n",
        "  for i in range(size):\n",
        "    for j in range(i, size):\n",
        "        if (info1[i]>=info1[j]):\n",
        "          info1[i], info1[j]=info1[j],info1[i]\n",
        "print(info1)"
      ],
      "execution_count": null,
      "outputs": [
        {
          "output_type": "stream",
          "text": [
            "['adopt@dogsunlimitedrescue.org us oh894'\n",
            " 'adopt@downtowndogrescue.org us ca824'\n",
            " 'adopt@eatoncountyhumanesociety.org us mi279'\n",
            " 'adopt@emptycagescollective.org us ny803' 'adopt@espnova.org us va606'\n",
            " 'adopt@esrrec.org us md438' 'adopt@faceanimalclinic.org us in200'\n",
            " 'adopt@feralfriends.org us tx381'\n",
            " 'adopt@foothillshumanesociety.org us nc129'\n",
            " 'adopt@foreverhomedogs.org us ia227' 'adopt@foreverkees.org us ca635'\n",
            " 'adopt@foreverlovedpets.org us az549'\n",
            " 'adopt@forgetmenotshelter.org us wa241' 'adopt@fosmas.org us ca593'\n",
            " 'adopt@foxvalleypets.org us wi72' 'adopt@fpscaninerescue.org us in617'\n",
            " 'adopt@freedomfarm.net us tn32' 'adopt@friendsofnoah-wi.org us wi379'\n",
            " 'adopt@furryfriendsofthefoothills.org us nc901'\n",
            " 'adopt@furryfriendsshelter.org ca on71' 'adopt@gatewaypets.com us mo286'\n",
            " 'adopt@germanshepherdcenter.org us ma447' 'adopt@glaas.org us wi19'\n",
            " 'adopt@glrescue.com us mo688' 'adopt@gpawisconsin.org us wi69'\n",
            " 'adopt@greyhoundfriends.com us nc647' 'adopt@gsrtulsa.com us ok87'\n",
            " 'adopt@halfwayhounds.org us nj613' 'adopt@happycatshaven.org us co391'\n",
            " 'adopt@happytailsdogrescueli.org us ny1302'\n",
            " 'adopt@harfordshelter.org us md61'\n",
            " 'adopt@haveaheartdogrescue.com us il389' 'adopt@hcalnj.org us nj35'\n",
            " 'adopt@heanokill.org us wi236'\n",
            " 'adopt@heartlandgreyhoundadoption.org us ia91'\n",
            " 'adopt@heartofgahs.org us ga215'\n",
            " 'adopt@heartsandbonesrescue.com us tx2215'\n",
            " 'adopt@hellobully.com us pa726' 'adopt@heschatt.org us tn25'\n",
            " 'adopt@hhhstopeka.org us ks47' 'adopt@hoabcr.org us mn432'\n",
            " 'adopt@homerescuedfw.org us tx2036' 'adopt@hoofwoofmeow.org us il761'\n",
            " 'adopt@hopeanimals.org us nc864' 'adopt@houstonpetsalive.org us tx1950'\n",
            " 'adopt@humane.pro us va393' 'adopt@humanerescuealliance.org us dc03'\n",
            " 'adopt@humanetomorrow.org us tx70' 'adopt@ilovefamilydog.org us ca1726'\n",
            " 'adopt@imaginepetrescue.org us ga927'\n",
            " 'adopt@imaginepetrescue.org us ny1279' 'adopt@indyclaw.org us in440'\n",
            " 'adopt@inthenameofzoey.org us tx1956' 'adopt@inthenest.net us in339'\n",
            " 'adopt@iswmp.org us ca2582' 'adopt@josephslegacyrescue.org us oh1065'\n",
            " 'adopt@justanimals.org us il22' 'adopt@justice-rescue.com us pa882'\n",
            " 'adopt@k-9lifesavers.org us dc19' 'adopt@k94urescue.com us fl156'\n",
            " 'adopt@kittiesnpitties.org us md421' 'adopt@kittycolony.com us pa540'\n",
            " 'adopt@lab-rescue.org us md98' 'adopt@lakehumane.org us oh76'\n",
            " 'adopt@lgarinc.org us ct552' 'adopt@littleguild.org us ct140'\n",
            " 'adopt@littleorphanangels.org us tx188'\n",
            " 'adopt@liveloveanimalrescue.org us ca2535'\n",
            " 'adopt@love-a-bull.org us tx1402' 'adopt@luckypawssite.org us ca1685'\n",
            " 'adopt@madacc.org us wi13' 'adopt@masrescue.com ca mb27'\n",
            " 'adopt@meridianrescue.org us id50' 'adopt@mhrindy.org us in517'\n",
            " 'adopt@milwaukeepetsalive.org us wi428'\n",
            " 'adopt@missionmiracle.org us tx2135' 'adopt@mlar.org us pa239'\n",
            " 'adopt@mnpitbull.com us mn287' 'adopt@mokangreyhounds.org us mo545'\n",
            " 'adopt@montyshome.org us nc643' 'adopt@mostlymutts.org us ga486'\n",
            " 'adopt@motleyzoo.org us wa433' 'adopt@msrnt.com us tx706'\n",
            " 'adopt@mushrescue.com us ga542' 'adopt@muttloverescue.org us va545'\n",
            " 'adopt@nebraskadachshundrescue.org us ne77'\n",
            " 'adopt@newmoonfarm.org us wa310' 'adopt@nkla.org us ca2165'\n",
            " 'adopt@nmdr.org us co262' 'adopt@nokill-louisville.com us ky423'\n",
            " 'adopt@norcalgsprescue.org us ca1131' 'adopt@ocpbr.org us ca1749'\n",
            " 'adopt@oldnorthcanine.com us nc976' 'adopt@operationpaw.com us fl1335'\n",
            " 'adopt@operationpetsalive.org us tx1531' 'adopt@ophrescue.org us va600'\n",
            " 'adopt@opinpets.org us ct111' 'adopt@orangeburgspca.org us sc159'\n",
            " 'adopt@orphankittens.org us ky398' 'adopt@parpets.org us mi324']\n"
          ],
          "name": "stdout"
        }
      ]
    },
    {
      "cell_type": "code",
      "metadata": {
        "id": "d3Sf1Oo0THNZ",
        "colab": {
          "base_uri": "https://localhost:8080/"
        },
        "outputId": "2a46b649-f83e-448d-c9ce-dcd9411a1fa7"
      },
      "source": [
        "info1=info_array[10000:10050]\n",
        "def arrange(info1,size):\n",
        "  for i in range(size):\n",
        "    for j in range(i, size):\n",
        "        if (info1[i]>=info1[j]):\n",
        "          info1[i], info1[j]=info1[j],info1[i]\n",
        "print(info1)"
      ],
      "execution_count": null,
      "outputs": [
        {
          "output_type": "stream",
          "text": [
            "['wildandtamefound@aol.com us nv172'\n",
            " 'wildcatfoundationla@yahoo.com us la140'\n",
            " 'wilddogonline@gmail.com us mi538' 'wildrescuetexas@gmail.com us tx168'\n",
            " 'wildthunderwars@gmail.com us ia242' 'wildwienerranch@live.com us oh342'\n",
            " 'williams_reporting@yahoo.com us mo653' 'willow6226@gmail.com us ny1364'\n",
            " 'willowcreeksanctuary@roadrunner.com us ky209'\n",
            " 'willowrunsanctuary@yahoo.com us pa917'\n",
            " 'willowschange@charter.net us nv104'\n",
            " 'willyskittyangelsinfo@gmail.com us ma398'\n",
            " 'wilma@wilmasorphans.com us nj888'\n",
            " 'wilson.animal.rescue@fuse.net us ky166'\n",
            " 'wilsoncountyanimalcontrol@yahoo.com us tn703'\n",
            " 'winddanceanimalrescue@gmail.com us ok449'\n",
            " 'windmillanimalrescue@yahoo.com us mn220'\n",
            " 'windsorpaints@aol.com us oh638' 'windybleu@verizon.com us ma514'\n",
            " 'windyridgerescue@gmail.com us sc481' 'wingnutz2@aol.com us il578'\n",
            " 'wingsforpaws@gmail.com us tx1920' 'wingsoflovekuwait@gmail.com us md455'\n",
            " 'winnemuccashelter@gmail.com us nv50'\n",
            " 'winnipeggiantsadoptions@gmail.com ca mb35' 'wiredox2@msn.com us az215'\n",
            " 'wiserescueapplications@gmail.com us nj854'\n",
            " 'wishfulthinkin66@yahoo.com us ny988'\n",
            " 'withlovefortheanimals@gmail.com us fl1478' 'wittle13@yahoo.com us ga105'\n",
            " 'wizard188wizard@yahoo.com us ca1480' 'wjvolunteers@yahoo.com us nj75'\n",
            " 'wkodit@comcast.net us ca874' 'wkyrescue@gmail.com us ky504'\n",
            " 'wmc@waldosmuttleycrew.org us in579' 'wmfc2001@sbcglobal.net us mi225'\n",
            " 'wmiller@redlandspolice.org us ca446' 'wmslake@spca.bc.ca ca bc242'\n",
            " 'woash@comcast.net us pa157' 'woawl01@aol.com us nj59'\n",
            " 'woburncats@gmail.com us ma343' 'wofarinc@gmail.com us ct525'\n",
            " 'wolfdance3@msn.com us oh374' 'wolfspiritrescue@gmail.com us va783'\n",
            " 'wonderbunnyrescue@gmail.com us il810'\n",
            " 'wondercatrescue@gmail.com us ca1021'\n",
            " 'wonderdogrescue@gmail.com us ca474'\n",
            " 'wonderpetsrescue@hotmail.com us wa447'\n",
            " 'woodcountyhumanesociety@gmail.com us oh73'\n",
            " 'woodstockanimalfoundation@gmail.com us ky38']\n"
          ],
          "name": "stdout"
        }
      ]
    },
    {
      "cell_type": "code",
      "metadata": {
        "id": "w47mMS7vTHKI"
      },
      "source": [
        ""
      ],
      "execution_count": null,
      "outputs": []
    },
    {
      "cell_type": "code",
      "metadata": {
        "id": "v0gcXl4UTHGv"
      },
      "source": [
        ""
      ],
      "execution_count": null,
      "outputs": []
    },
    {
      "cell_type": "code",
      "metadata": {
        "id": "oE2Kf9FdTHDl"
      },
      "source": [
        ""
      ],
      "execution_count": null,
      "outputs": []
    },
    {
      "cell_type": "code",
      "metadata": {
        "id": "sO-CzMRMTG_8"
      },
      "source": [
        ""
      ],
      "execution_count": null,
      "outputs": []
    },
    {
      "cell_type": "code",
      "metadata": {
        "id": "pTN7BCo1TG8E"
      },
      "source": [
        ""
      ],
      "execution_count": null,
      "outputs": []
    },
    {
      "cell_type": "code",
      "metadata": {
        "id": "OA4O2oxxEbJ7"
      },
      "source": [
        ""
      ],
      "execution_count": null,
      "outputs": []
    },
    {
      "cell_type": "code",
      "metadata": {
        "id": "6g5pe9KBhfgi"
      },
      "source": [
        ""
      ],
      "execution_count": null,
      "outputs": []
    },
    {
      "cell_type": "code",
      "metadata": {
        "id": "ZlYtBrHKhfcw"
      },
      "source": [
        ""
      ],
      "execution_count": null,
      "outputs": []
    },
    {
      "cell_type": "code",
      "metadata": {
        "id": "D-8IX2RWhfY2"
      },
      "source": [
        ""
      ],
      "execution_count": null,
      "outputs": []
    }
  ]
}